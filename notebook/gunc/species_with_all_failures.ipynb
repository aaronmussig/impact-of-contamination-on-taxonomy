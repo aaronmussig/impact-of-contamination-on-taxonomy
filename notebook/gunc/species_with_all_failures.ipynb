{
 "cells": [
  {
   "cell_type": "code",
   "execution_count": 1,
   "metadata": {
    "collapsed": true
   },
   "outputs": [],
   "source": [
    "import sys\n",
    "\n",
    "\n",
    "sys.path.append(\"/Users/aaron/phd/impact-of-contamination-on-taxonomy\")"
   ]
  },
  {
   "cell_type": "code",
   "execution_count": 2,
   "outputs": [],
   "source": [
    "from workflow.external.gtdb_metadata import GtdbMetadataR207\n",
    "from tqdm import tqdm\n",
    "\n",
    "from workflow.gunc_helper.aggregate_max_css_level_merged import AggregateMaxCssLevelMerged"
   ],
   "metadata": {
    "collapsed": false
   }
  },
  {
   "cell_type": "code",
   "execution_count": 19,
   "outputs": [
    {
     "data": {
      "text/plain": "                 n_genes_called  n_genes_mapped  n_contigs taxonomic_level  \\\ngid                                                                          \nGCA_000143435.1            2189            2110          4           genus   \nGCA_000153745.1            2202            2165          2          family   \nGCA_000155005.1            6879            6313         84           genus   \nGCA_000161815.1            4499            4335          8           genus   \nGCA_000166735.2            3414            3247        793           genus   \n\n                 proportion_genes_retained_in_major_clades  \\\ngid                                                          \nGCA_000143435.1                                       0.89   \nGCA_000153745.1                                       0.92   \nGCA_000155005.1                                       0.87   \nGCA_000161815.1                                       0.80   \nGCA_000166735.2                                       0.94   \n\n                 genes_retained_index  clade_separation_score  \\\ngid                                                             \nGCA_000143435.1                  0.86                    0.55   \nGCA_000153745.1                  0.90                    0.49   \nGCA_000155005.1                  0.79                    0.79   \nGCA_000161815.1                  0.77                    0.50   \nGCA_000166735.2                  0.90                    0.57   \n\n                 contamination_portion  n_effective_surplus_clades  \\\ngid                                                                  \nGCA_000143435.1                   0.03                        0.06   \nGCA_000153745.1                   0.06                        0.12   \nGCA_000155005.1                   0.10                        0.22   \nGCA_000161815.1                   0.19                        0.50   \nGCA_000166735.2                   0.02                        0.05   \n\n                 mean_hit_identity  reference_representation_score  pass.GUNC  \\\ngid                                                                             \nGCA_000143435.1               0.95                            0.82      False   \nGCA_000153745.1               0.67                            0.61      False   \nGCA_000155005.1               0.97                            0.77      False   \nGCA_000161815.1               0.95                            0.74      False   \nGCA_000166735.2               0.93                            0.83      False   \n\n                     source  \ngid                          \nGCA_000143435.1        gtdb  \nGCA_000153745.1  progenomes  \nGCA_000155005.1        gtdb  \nGCA_000161815.1  progenomes  \nGCA_000166735.2  progenomes  ",
      "text/html": "<div>\n<style scoped>\n    .dataframe tbody tr th:only-of-type {\n        vertical-align: middle;\n    }\n\n    .dataframe tbody tr th {\n        vertical-align: top;\n    }\n\n    .dataframe thead th {\n        text-align: right;\n    }\n</style>\n<table border=\"1\" class=\"dataframe\">\n  <thead>\n    <tr style=\"text-align: right;\">\n      <th></th>\n      <th>n_genes_called</th>\n      <th>n_genes_mapped</th>\n      <th>n_contigs</th>\n      <th>taxonomic_level</th>\n      <th>proportion_genes_retained_in_major_clades</th>\n      <th>genes_retained_index</th>\n      <th>clade_separation_score</th>\n      <th>contamination_portion</th>\n      <th>n_effective_surplus_clades</th>\n      <th>mean_hit_identity</th>\n      <th>reference_representation_score</th>\n      <th>pass.GUNC</th>\n      <th>source</th>\n    </tr>\n    <tr>\n      <th>gid</th>\n      <th></th>\n      <th></th>\n      <th></th>\n      <th></th>\n      <th></th>\n      <th></th>\n      <th></th>\n      <th></th>\n      <th></th>\n      <th></th>\n      <th></th>\n      <th></th>\n      <th></th>\n    </tr>\n  </thead>\n  <tbody>\n    <tr>\n      <th>GCA_000143435.1</th>\n      <td>2189</td>\n      <td>2110</td>\n      <td>4</td>\n      <td>genus</td>\n      <td>0.89</td>\n      <td>0.86</td>\n      <td>0.55</td>\n      <td>0.03</td>\n      <td>0.06</td>\n      <td>0.95</td>\n      <td>0.82</td>\n      <td>False</td>\n      <td>gtdb</td>\n    </tr>\n    <tr>\n      <th>GCA_000153745.1</th>\n      <td>2202</td>\n      <td>2165</td>\n      <td>2</td>\n      <td>family</td>\n      <td>0.92</td>\n      <td>0.90</td>\n      <td>0.49</td>\n      <td>0.06</td>\n      <td>0.12</td>\n      <td>0.67</td>\n      <td>0.61</td>\n      <td>False</td>\n      <td>progenomes</td>\n    </tr>\n    <tr>\n      <th>GCA_000155005.1</th>\n      <td>6879</td>\n      <td>6313</td>\n      <td>84</td>\n      <td>genus</td>\n      <td>0.87</td>\n      <td>0.79</td>\n      <td>0.79</td>\n      <td>0.10</td>\n      <td>0.22</td>\n      <td>0.97</td>\n      <td>0.77</td>\n      <td>False</td>\n      <td>gtdb</td>\n    </tr>\n    <tr>\n      <th>GCA_000161815.1</th>\n      <td>4499</td>\n      <td>4335</td>\n      <td>8</td>\n      <td>genus</td>\n      <td>0.80</td>\n      <td>0.77</td>\n      <td>0.50</td>\n      <td>0.19</td>\n      <td>0.50</td>\n      <td>0.95</td>\n      <td>0.74</td>\n      <td>False</td>\n      <td>progenomes</td>\n    </tr>\n    <tr>\n      <th>GCA_000166735.2</th>\n      <td>3414</td>\n      <td>3247</td>\n      <td>793</td>\n      <td>genus</td>\n      <td>0.94</td>\n      <td>0.90</td>\n      <td>0.57</td>\n      <td>0.02</td>\n      <td>0.05</td>\n      <td>0.93</td>\n      <td>0.83</td>\n      <td>False</td>\n      <td>progenomes</td>\n    </tr>\n  </tbody>\n</table>\n</div>"
     },
     "execution_count": 19,
     "metadata": {},
     "output_type": "execute_result"
    }
   ],
   "source": [
    "DF_CSS = AggregateMaxCssLevelMerged().output().read_cached()\n",
    "DF_CSS.head()"
   ],
   "metadata": {
    "collapsed": false
   }
  },
  {
   "cell_type": "code",
   "execution_count": 20,
   "outputs": [],
   "source": [
    "FAIL_GIDS = set(DF_CSS.index)"
   ],
   "metadata": {
    "collapsed": false
   }
  },
  {
   "cell_type": "code",
   "execution_count": 3,
   "outputs": [
    {
     "data": {
      "text/plain": "                 ambiguous_bases  checkm_completeness  checkm_contamination  \\\ngid                                                                           \nGCA_000006155.2             1916                93.12                   0.0   \nGCA_000007325.1                1                99.95                   0.0   \nGCA_000007385.1                0                99.82                   0.0   \nGCA_000008085.1                0                73.13                   0.0   \nGCA_000008885.1                0               100.00                   0.0   \n\n                 checkm_marker_count             checkm_marker_lineage  \\\ngid                                                                      \nGCA_000006155.2                 1171              g__Bacillus (UID902)   \nGCA_000007325.1                  149             k__Bacteria (UID2329)   \nGCA_000007385.1                  481  c__Gammaproteobacteria (UID4202)   \nGCA_000008085.1                  149                 k__Archaea (UID2)   \nGCA_000008885.1                  134             k__Bacteria (UID2495)   \n\n                 checkm_marker_set_count  checkm_strain_heterogeneity  \\\ngid                                                                     \nGCA_000006155.2                      324                          0.0   \nGCA_000007325.1                       89                          0.0   \nGCA_000007385.1                      276                          0.0   \nGCA_000008085.1                      107                          0.0   \nGCA_000008885.1                       80                          0.0   \n\n                 coding_bases  coding_density  contig_count  ...  \\\ngid                                                          ...   \nGCA_000006155.2       4305660       80.178992           426  ...   \nGCA_000007325.1       1973459       90.754610             1  ...   \nGCA_000007385.1       4190634       84.805944             1  ...   \nGCA_000008085.1        462902       94.299480             1  ...   \nGCA_000008885.1        617456       87.831079             2  ...   \n\n                 gtdb_type_species_of_genus  \\\ngid                                           \nGCA_000006155.2                           f   \nGCA_000007325.1                           t   \nGCA_000007385.1                           f   \nGCA_000008085.1                           t   \nGCA_000008885.1                           f   \n\n                                                     ncbi_taxonomy  \\\ngid                                                                  \nGCA_000006155.2  d__Bacteria;p__Firmicutes;c__Bacilli;o__Bacill...   \nGCA_000007325.1  d__Bacteria;p__Fusobacteria;c__Fusobacteriia;o...   \nGCA_000007385.1  d__Bacteria;p__Proteobacteria;c__Gammaproteoba...   \nGCA_000008085.1  d__Archaea;p__Nanoarchaeota;c__;o__Nanoarchaea...   \nGCA_000008885.1  d__Bacteria;p__Proteobacteria;c__Gammaproteoba...   \n\n                                          ncbi_taxonomy_unfiltered  \\\ngid                                                                  \nGCA_000006155.2  d__Bacteria;x__Terrabacteria group;p__Firmicut...   \nGCA_000007325.1  d__Bacteria;p__Fusobacteria;c__Fusobacteriia;o...   \nGCA_000007385.1  d__Bacteria;p__Proteobacteria;c__Gammaproteoba...   \nGCA_000008085.1  d__Archaea;x__DPANN group;p__Nanoarchaeota;o__...   \nGCA_000008885.1  d__Bacteria;p__Proteobacteria;c__Gammaproteoba...   \n\n                      domain             phylum                   class  \\\ngid                                                                       \nGCA_000006155.2  d__Bacteria      p__Firmicutes              c__Bacilli   \nGCA_000007325.1  d__Bacteria  p__Fusobacteriota        c__Fusobacteriia   \nGCA_000007385.1  d__Bacteria  p__Proteobacteria  c__Gammaproteobacteria   \nGCA_000008085.1   d__Archaea   p__Nanoarchaeota         c__Nanoarchaeia   \nGCA_000008885.1  d__Bacteria  p__Proteobacteria  c__Gammaproteobacteria   \n\n                                 order                   family  \\\ngid                                                               \nGCA_000006155.2          o__Bacillales         f__Bacillaceae_G   \nGCA_000007325.1     o__Fusobacteriales      f__Fusobacteriaceae   \nGCA_000007385.1     o__Xanthomonadales      f__Xanthomonadaceae   \nGCA_000008085.1      o__Nanoarchaeales       f__Nanoarchaeaceae   \nGCA_000008885.1  o__Enterobacterales_A  f__Enterobacteriaceae_A   \n\n                             genus                          species  \ngid                                                                  \nGCA_000006155.2      g__Bacillus_A          s__Bacillus_A anthracis  \nGCA_000007325.1   g__Fusobacterium       s__Fusobacterium nucleatum  \nGCA_000007385.1     g__Xanthomonas            s__Xanthomonas oryzae  \nGCA_000008085.1    g__Nanoarchaeum         s__Nanoarchaeum equitans  \nGCA_000008885.1  g__Wigglesworthia  s__Wigglesworthia glossinidia_A  \n\n[5 rows x 28 columns]",
      "text/html": "<div>\n<style scoped>\n    .dataframe tbody tr th:only-of-type {\n        vertical-align: middle;\n    }\n\n    .dataframe tbody tr th {\n        vertical-align: top;\n    }\n\n    .dataframe thead th {\n        text-align: right;\n    }\n</style>\n<table border=\"1\" class=\"dataframe\">\n  <thead>\n    <tr style=\"text-align: right;\">\n      <th></th>\n      <th>ambiguous_bases</th>\n      <th>checkm_completeness</th>\n      <th>checkm_contamination</th>\n      <th>checkm_marker_count</th>\n      <th>checkm_marker_lineage</th>\n      <th>checkm_marker_set_count</th>\n      <th>checkm_strain_heterogeneity</th>\n      <th>coding_bases</th>\n      <th>coding_density</th>\n      <th>contig_count</th>\n      <th>...</th>\n      <th>gtdb_type_species_of_genus</th>\n      <th>ncbi_taxonomy</th>\n      <th>ncbi_taxonomy_unfiltered</th>\n      <th>domain</th>\n      <th>phylum</th>\n      <th>class</th>\n      <th>order</th>\n      <th>family</th>\n      <th>genus</th>\n      <th>species</th>\n    </tr>\n    <tr>\n      <th>gid</th>\n      <th></th>\n      <th></th>\n      <th></th>\n      <th></th>\n      <th></th>\n      <th></th>\n      <th></th>\n      <th></th>\n      <th></th>\n      <th></th>\n      <th></th>\n      <th></th>\n      <th></th>\n      <th></th>\n      <th></th>\n      <th></th>\n      <th></th>\n      <th></th>\n      <th></th>\n      <th></th>\n      <th></th>\n    </tr>\n  </thead>\n  <tbody>\n    <tr>\n      <th>GCA_000006155.2</th>\n      <td>1916</td>\n      <td>93.12</td>\n      <td>0.0</td>\n      <td>1171</td>\n      <td>g__Bacillus (UID902)</td>\n      <td>324</td>\n      <td>0.0</td>\n      <td>4305660</td>\n      <td>80.178992</td>\n      <td>426</td>\n      <td>...</td>\n      <td>f</td>\n      <td>d__Bacteria;p__Firmicutes;c__Bacilli;o__Bacill...</td>\n      <td>d__Bacteria;x__Terrabacteria group;p__Firmicut...</td>\n      <td>d__Bacteria</td>\n      <td>p__Firmicutes</td>\n      <td>c__Bacilli</td>\n      <td>o__Bacillales</td>\n      <td>f__Bacillaceae_G</td>\n      <td>g__Bacillus_A</td>\n      <td>s__Bacillus_A anthracis</td>\n    </tr>\n    <tr>\n      <th>GCA_000007325.1</th>\n      <td>1</td>\n      <td>99.95</td>\n      <td>0.0</td>\n      <td>149</td>\n      <td>k__Bacteria (UID2329)</td>\n      <td>89</td>\n      <td>0.0</td>\n      <td>1973459</td>\n      <td>90.754610</td>\n      <td>1</td>\n      <td>...</td>\n      <td>t</td>\n      <td>d__Bacteria;p__Fusobacteria;c__Fusobacteriia;o...</td>\n      <td>d__Bacteria;p__Fusobacteria;c__Fusobacteriia;o...</td>\n      <td>d__Bacteria</td>\n      <td>p__Fusobacteriota</td>\n      <td>c__Fusobacteriia</td>\n      <td>o__Fusobacteriales</td>\n      <td>f__Fusobacteriaceae</td>\n      <td>g__Fusobacterium</td>\n      <td>s__Fusobacterium nucleatum</td>\n    </tr>\n    <tr>\n      <th>GCA_000007385.1</th>\n      <td>0</td>\n      <td>99.82</td>\n      <td>0.0</td>\n      <td>481</td>\n      <td>c__Gammaproteobacteria (UID4202)</td>\n      <td>276</td>\n      <td>0.0</td>\n      <td>4190634</td>\n      <td>84.805944</td>\n      <td>1</td>\n      <td>...</td>\n      <td>f</td>\n      <td>d__Bacteria;p__Proteobacteria;c__Gammaproteoba...</td>\n      <td>d__Bacteria;p__Proteobacteria;c__Gammaproteoba...</td>\n      <td>d__Bacteria</td>\n      <td>p__Proteobacteria</td>\n      <td>c__Gammaproteobacteria</td>\n      <td>o__Xanthomonadales</td>\n      <td>f__Xanthomonadaceae</td>\n      <td>g__Xanthomonas</td>\n      <td>s__Xanthomonas oryzae</td>\n    </tr>\n    <tr>\n      <th>GCA_000008085.1</th>\n      <td>0</td>\n      <td>73.13</td>\n      <td>0.0</td>\n      <td>149</td>\n      <td>k__Archaea (UID2)</td>\n      <td>107</td>\n      <td>0.0</td>\n      <td>462902</td>\n      <td>94.299480</td>\n      <td>1</td>\n      <td>...</td>\n      <td>t</td>\n      <td>d__Archaea;p__Nanoarchaeota;c__;o__Nanoarchaea...</td>\n      <td>d__Archaea;x__DPANN group;p__Nanoarchaeota;o__...</td>\n      <td>d__Archaea</td>\n      <td>p__Nanoarchaeota</td>\n      <td>c__Nanoarchaeia</td>\n      <td>o__Nanoarchaeales</td>\n      <td>f__Nanoarchaeaceae</td>\n      <td>g__Nanoarchaeum</td>\n      <td>s__Nanoarchaeum equitans</td>\n    </tr>\n    <tr>\n      <th>GCA_000008885.1</th>\n      <td>0</td>\n      <td>100.00</td>\n      <td>0.0</td>\n      <td>134</td>\n      <td>k__Bacteria (UID2495)</td>\n      <td>80</td>\n      <td>0.0</td>\n      <td>617456</td>\n      <td>87.831079</td>\n      <td>2</td>\n      <td>...</td>\n      <td>f</td>\n      <td>d__Bacteria;p__Proteobacteria;c__Gammaproteoba...</td>\n      <td>d__Bacteria;p__Proteobacteria;c__Gammaproteoba...</td>\n      <td>d__Bacteria</td>\n      <td>p__Proteobacteria</td>\n      <td>c__Gammaproteobacteria</td>\n      <td>o__Enterobacterales_A</td>\n      <td>f__Enterobacteriaceae_A</td>\n      <td>g__Wigglesworthia</td>\n      <td>s__Wigglesworthia glossinidia_A</td>\n    </tr>\n  </tbody>\n</table>\n<p>5 rows × 28 columns</p>\n</div>"
     },
     "execution_count": 3,
     "metadata": {},
     "output_type": "execute_result"
    }
   ],
   "source": [
    "DF_META = GtdbMetadataR207().output().read_cached()\n",
    "DF_META.head()"
   ],
   "metadata": {
    "collapsed": false
   }
  },
  {
   "cell_type": "code",
   "execution_count": 29,
   "outputs": [],
   "source": [
    "BAC_GIDS = set(DF_META[DF_META['domain'] == 'd__Bacteria'].index)\n",
    "ARC_GIDS = set(DF_META[DF_META['domain'] == 'd__Archaea'].index)"
   ],
   "metadata": {
    "collapsed": false
   }
  },
  {
   "cell_type": "code",
   "execution_count": 12,
   "outputs": [
    {
     "name": "stdout",
     "output_type": "stream",
     "text": [
      "[17/01/2023 13:32:18] - 9.7MiB = /srv/home/uqamussi/projects/gunc-chimeras/output/gunc_helper/gunc_gtdb_95_max_css_level.h5 -> /tmp/gunc-cache/srv/home/uqamussi/projects/gunc-chimeras/output/gunc_helper/gunc_gtdb_95_max_css_level.h5\n"
     ]
    },
    {
     "data": {
      "text/plain": "                 n_genes_called  n_genes_mapped  n_contigs taxonomic_level  \\\ngid                                                                          \nGCA_000006155.2            5745            5722          3         kingdom   \nGCA_000007325.1            2022            2021          1         kingdom   \nGCA_000007385.1            4831            4796          1         kingdom   \nGCA_000008085.1             583             583          1         kingdom   \nGCA_000008885.1             646             646          2         kingdom   \n\n                 proportion_genes_retained_in_major_clades  \\\ngid                                                          \nGCA_000006155.2                                        1.0   \nGCA_000007325.1                                        1.0   \nGCA_000007385.1                                        1.0   \nGCA_000008085.1                                        1.0   \nGCA_000008885.1                                        1.0   \n\n                 genes_retained_index  clade_separation_score  \\\ngid                                                             \nGCA_000006155.2                  1.00                     0.0   \nGCA_000007325.1                  1.00                     0.0   \nGCA_000007385.1                  0.99                     0.0   \nGCA_000008085.1                  1.00                     0.0   \nGCA_000008885.1                  1.00                     0.0   \n\n                 contamination_portion  n_effective_surplus_clades  \\\ngid                                                                  \nGCA_000006155.2                    0.0                         0.0   \nGCA_000007325.1                    0.0                         0.0   \nGCA_000007385.1                    0.0                         0.0   \nGCA_000008085.1                    0.0                         0.0   \nGCA_000008885.1                    0.0                         0.0   \n\n                 mean_hit_identity  reference_representation_score  pass.GUNC  \ngid                                                                            \nGCA_000006155.2               0.99                            0.99       True  \nGCA_000007325.1               0.99                            0.99       True  \nGCA_000007385.1               0.98                            0.97       True  \nGCA_000008085.1               0.99                            0.99       True  \nGCA_000008885.1               0.99                            0.99       True  ",
      "text/html": "<div>\n<style scoped>\n    .dataframe tbody tr th:only-of-type {\n        vertical-align: middle;\n    }\n\n    .dataframe tbody tr th {\n        vertical-align: top;\n    }\n\n    .dataframe thead th {\n        text-align: right;\n    }\n</style>\n<table border=\"1\" class=\"dataframe\">\n  <thead>\n    <tr style=\"text-align: right;\">\n      <th></th>\n      <th>n_genes_called</th>\n      <th>n_genes_mapped</th>\n      <th>n_contigs</th>\n      <th>taxonomic_level</th>\n      <th>proportion_genes_retained_in_major_clades</th>\n      <th>genes_retained_index</th>\n      <th>clade_separation_score</th>\n      <th>contamination_portion</th>\n      <th>n_effective_surplus_clades</th>\n      <th>mean_hit_identity</th>\n      <th>reference_representation_score</th>\n      <th>pass.GUNC</th>\n    </tr>\n    <tr>\n      <th>gid</th>\n      <th></th>\n      <th></th>\n      <th></th>\n      <th></th>\n      <th></th>\n      <th></th>\n      <th></th>\n      <th></th>\n      <th></th>\n      <th></th>\n      <th></th>\n      <th></th>\n    </tr>\n  </thead>\n  <tbody>\n    <tr>\n      <th>GCA_000006155.2</th>\n      <td>5745</td>\n      <td>5722</td>\n      <td>3</td>\n      <td>kingdom</td>\n      <td>1.0</td>\n      <td>1.00</td>\n      <td>0.0</td>\n      <td>0.0</td>\n      <td>0.0</td>\n      <td>0.99</td>\n      <td>0.99</td>\n      <td>True</td>\n    </tr>\n    <tr>\n      <th>GCA_000007325.1</th>\n      <td>2022</td>\n      <td>2021</td>\n      <td>1</td>\n      <td>kingdom</td>\n      <td>1.0</td>\n      <td>1.00</td>\n      <td>0.0</td>\n      <td>0.0</td>\n      <td>0.0</td>\n      <td>0.99</td>\n      <td>0.99</td>\n      <td>True</td>\n    </tr>\n    <tr>\n      <th>GCA_000007385.1</th>\n      <td>4831</td>\n      <td>4796</td>\n      <td>1</td>\n      <td>kingdom</td>\n      <td>1.0</td>\n      <td>0.99</td>\n      <td>0.0</td>\n      <td>0.0</td>\n      <td>0.0</td>\n      <td>0.98</td>\n      <td>0.97</td>\n      <td>True</td>\n    </tr>\n    <tr>\n      <th>GCA_000008085.1</th>\n      <td>583</td>\n      <td>583</td>\n      <td>1</td>\n      <td>kingdom</td>\n      <td>1.0</td>\n      <td>1.00</td>\n      <td>0.0</td>\n      <td>0.0</td>\n      <td>0.0</td>\n      <td>0.99</td>\n      <td>0.99</td>\n      <td>True</td>\n    </tr>\n    <tr>\n      <th>GCA_000008885.1</th>\n      <td>646</td>\n      <td>646</td>\n      <td>2</td>\n      <td>kingdom</td>\n      <td>1.0</td>\n      <td>1.00</td>\n      <td>0.0</td>\n      <td>0.0</td>\n      <td>0.0</td>\n      <td>0.99</td>\n      <td>0.99</td>\n      <td>True</td>\n    </tr>\n  </tbody>\n</table>\n</div>"
     },
     "execution_count": 12,
     "metadata": {},
     "output_type": "execute_result"
    }
   ],
   "source": [
    "from workflow.gunc_helper.aggregate_max_css_level_gunc import AggregateMaxCssLevelGtdbR95\n",
    "\n",
    "DF_R95 = AggregateMaxCssLevelGtdbR95().output().read_cached()\n",
    "DF_R95.head()"
   ],
   "metadata": {
    "collapsed": false
   }
  },
  {
   "cell_type": "code",
   "execution_count": 22,
   "outputs": [],
   "source": [
    "FAIL_GIDS_R95 = set(DF_R95[DF_R95['pass.GUNC'] == False].index)"
   ],
   "metadata": {
    "collapsed": false
   }
  },
  {
   "cell_type": "code",
   "execution_count": 13,
   "outputs": [
    {
     "name": "stdout",
     "output_type": "stream",
     "text": [
      "[17/01/2023 13:32:19] - 11.8MiB = /srv/home/uqamussi/projects/gunc-chimeras/output/gunc_helper/gunc_progenomes_max_css_level.h5 -> /tmp/gunc-cache/srv/home/uqamussi/projects/gunc-chimeras/output/gunc_helper/gunc_progenomes_max_css_level.h5\n"
     ]
    },
    {
     "data": {
      "text/plain": "                 n_genes_called  n_genes_mapped  n_contigs taxonomic_level  \\\ngid                                                                          \nGCA_000006155.2            5745            5627          3         kingdom   \nGCA_000007325.1            2022            2016          1         kingdom   \nGCA_000007385.1            4831            4724          1         kingdom   \nGCA_000008085.1             583             545          1         kingdom   \nGCA_000008885.1             646             643          2         kingdom   \n\n                 proportion_genes_retained_in_major_clades  \\\ngid                                                          \nGCA_000006155.2                                        1.0   \nGCA_000007325.1                                        1.0   \nGCA_000007385.1                                        1.0   \nGCA_000008085.1                                        1.0   \nGCA_000008885.1                                        1.0   \n\n                 genes_retained_index  clade_separation_score  \\\ngid                                                             \nGCA_000006155.2                  0.98                     0.0   \nGCA_000007325.1                  1.00                     0.0   \nGCA_000007385.1                  0.98                     0.0   \nGCA_000008085.1                  0.93                     0.0   \nGCA_000008885.1                  1.00                     0.0   \n\n                 contamination_portion  n_effective_surplus_clades  \\\ngid                                                                  \nGCA_000006155.2                    0.0                         0.0   \nGCA_000007325.1                    0.0                         0.0   \nGCA_000007385.1                    0.0                         0.0   \nGCA_000008085.1                    0.0                         0.0   \nGCA_000008885.1                    0.0                         0.0   \n\n                 mean_hit_identity  reference_representation_score  pass.GUNC  \ngid                                                                            \nGCA_000006155.2               0.97                            0.95       True  \nGCA_000007325.1               0.98                            0.98       True  \nGCA_000007385.1               0.98                            0.95       True  \nGCA_000008085.1               0.98                            0.92       True  \nGCA_000008885.1               0.97                            0.97       True  ",
      "text/html": "<div>\n<style scoped>\n    .dataframe tbody tr th:only-of-type {\n        vertical-align: middle;\n    }\n\n    .dataframe tbody tr th {\n        vertical-align: top;\n    }\n\n    .dataframe thead th {\n        text-align: right;\n    }\n</style>\n<table border=\"1\" class=\"dataframe\">\n  <thead>\n    <tr style=\"text-align: right;\">\n      <th></th>\n      <th>n_genes_called</th>\n      <th>n_genes_mapped</th>\n      <th>n_contigs</th>\n      <th>taxonomic_level</th>\n      <th>proportion_genes_retained_in_major_clades</th>\n      <th>genes_retained_index</th>\n      <th>clade_separation_score</th>\n      <th>contamination_portion</th>\n      <th>n_effective_surplus_clades</th>\n      <th>mean_hit_identity</th>\n      <th>reference_representation_score</th>\n      <th>pass.GUNC</th>\n    </tr>\n    <tr>\n      <th>gid</th>\n      <th></th>\n      <th></th>\n      <th></th>\n      <th></th>\n      <th></th>\n      <th></th>\n      <th></th>\n      <th></th>\n      <th></th>\n      <th></th>\n      <th></th>\n      <th></th>\n    </tr>\n  </thead>\n  <tbody>\n    <tr>\n      <th>GCA_000006155.2</th>\n      <td>5745</td>\n      <td>5627</td>\n      <td>3</td>\n      <td>kingdom</td>\n      <td>1.0</td>\n      <td>0.98</td>\n      <td>0.0</td>\n      <td>0.0</td>\n      <td>0.0</td>\n      <td>0.97</td>\n      <td>0.95</td>\n      <td>True</td>\n    </tr>\n    <tr>\n      <th>GCA_000007325.1</th>\n      <td>2022</td>\n      <td>2016</td>\n      <td>1</td>\n      <td>kingdom</td>\n      <td>1.0</td>\n      <td>1.00</td>\n      <td>0.0</td>\n      <td>0.0</td>\n      <td>0.0</td>\n      <td>0.98</td>\n      <td>0.98</td>\n      <td>True</td>\n    </tr>\n    <tr>\n      <th>GCA_000007385.1</th>\n      <td>4831</td>\n      <td>4724</td>\n      <td>1</td>\n      <td>kingdom</td>\n      <td>1.0</td>\n      <td>0.98</td>\n      <td>0.0</td>\n      <td>0.0</td>\n      <td>0.0</td>\n      <td>0.98</td>\n      <td>0.95</td>\n      <td>True</td>\n    </tr>\n    <tr>\n      <th>GCA_000008085.1</th>\n      <td>583</td>\n      <td>545</td>\n      <td>1</td>\n      <td>kingdom</td>\n      <td>1.0</td>\n      <td>0.93</td>\n      <td>0.0</td>\n      <td>0.0</td>\n      <td>0.0</td>\n      <td>0.98</td>\n      <td>0.92</td>\n      <td>True</td>\n    </tr>\n    <tr>\n      <th>GCA_000008885.1</th>\n      <td>646</td>\n      <td>643</td>\n      <td>2</td>\n      <td>kingdom</td>\n      <td>1.0</td>\n      <td>1.00</td>\n      <td>0.0</td>\n      <td>0.0</td>\n      <td>0.0</td>\n      <td>0.97</td>\n      <td>0.97</td>\n      <td>True</td>\n    </tr>\n  </tbody>\n</table>\n</div>"
     },
     "execution_count": 13,
     "metadata": {},
     "output_type": "execute_result"
    }
   ],
   "source": [
    "from workflow.gunc_helper.aggregate_max_css_level_progenomes import AggregateMaxCssLevelProGenomes\n",
    "from workflow.gunc_helper.aggregate_max_css_level_merged_pass import AggregateMaxCssLevelMergedAll\n",
    "\n",
    "DF_PRO = AggregateMaxCssLevelProGenomes().output().read_cached()\n",
    "DF_PRO.head()"
   ],
   "metadata": {
    "collapsed": false
   }
  },
  {
   "cell_type": "code",
   "execution_count": 23,
   "outputs": [],
   "source": [
    "FAIL_GIDS_PRO = set(DF_PRO[DF_PRO['pass.GUNC'] == False].index)"
   ],
   "metadata": {
    "collapsed": false
   }
  },
  {
   "cell_type": "code",
   "execution_count": 28,
   "outputs": [
    {
     "name": "stdout",
     "output_type": "stream",
     "text": [
      "18445\n",
      "6865\n",
      "10413\n"
     ]
    }
   ],
   "source": [
    "FAIL_GIDS_R95_ONLY = FAIL_GIDS_R95 - FAIL_GIDS_PRO\n",
    "print(len(FAIL_GIDS_R95_ONLY))\n",
    "\n",
    "FAIL_GIDS_PRO_ONLY = FAIL_GIDS_PRO - FAIL_GIDS_R95\n",
    "print(len(FAIL_GIDS_PRO_ONLY))\n",
    "\n",
    "FAIL_GIDS_BOTH = FAIL_GIDS - FAIL_GIDS_R95_ONLY - FAIL_GIDS_PRO_ONLY\n",
    "print(len(FAIL_GIDS_BOTH))"
   ],
   "metadata": {
    "collapsed": false
   }
  },
  {
   "cell_type": "code",
   "execution_count": 30,
   "outputs": [],
   "source": [
    "from collections import defaultdict, Counter\n",
    "\n",
    "\n",
    "def generate_sp_gids():\n",
    "    out = defaultdict(set)\n",
    "    for gid, row in DF_META.iterrows():\n",
    "        out[row['species']].add(gid)\n",
    "    return out\n",
    "\n",
    "D_SP_TO_GIDS = generate_sp_gids()"
   ],
   "metadata": {
    "collapsed": false
   }
  },
  {
   "cell_type": "code",
   "execution_count": 48,
   "outputs": [
    {
     "name": "stdout",
     "output_type": "stream",
     "text": [
      "Number of bacterial species where all fail: 3,701\n",
      "Number of archaeal species where all fail: 257\n",
      "Number of bac species where all were reported by both: 842\n",
      "Number of arc species where all were reported by both: 48\n",
      "Number of bac species where all were reported by both (singletons): 785\n",
      "Number of arc species where all were reported by both (singletons): 45\n"
     ]
    }
   ],
   "source": [
    "\n",
    "n_bac_all_fail = 0\n",
    "n_arc_all_fail = 0\n",
    "\n",
    "n_bac_both_all_fail = 0\n",
    "n_arc_both_all_fail = 0\n",
    "\n",
    "n_bac_both_all_fail_singletons = 0\n",
    "n_arc_both_all_fail_singletons = 0\n",
    "\n",
    "for sp, gids in D_SP_TO_GIDS.items():\n",
    "    fail_gids = gids.intersection(FAIL_GIDS)\n",
    "    if len(fail_gids) == len(gids):\n",
    "\n",
    "        is_bac = len(gids.intersection(BAC_GIDS)) > 0\n",
    "\n",
    "        if is_bac:\n",
    "            n_bac_all_fail += 1\n",
    "        else:\n",
    "            n_arc_all_fail += 1\n",
    "\n",
    "\n",
    "        n_fail_in_r95_only = gids.intersection(FAIL_GIDS_R95_ONLY)\n",
    "        n_fail_in_pro_only = gids.intersection(FAIL_GIDS_PRO_ONLY)\n",
    "        n_fail_in_both_only = gids.intersection(FAIL_GIDS_BOTH)\n",
    "\n",
    "        if len(n_fail_in_both_only) == len(gids):\n",
    "            if is_bac:\n",
    "                n_bac_both_all_fail += 1\n",
    "                if len(gids) == 1:\n",
    "                    n_bac_both_all_fail_singletons += 1\n",
    "            else:\n",
    "                n_arc_both_all_fail += 1\n",
    "                if len(gids) == 1:\n",
    "                    n_arc_both_all_fail_singletons += 1\n",
    "\n",
    "\n",
    "print(f'Number of bacterial species where all fail: {n_bac_all_fail:,}')\n",
    "print(f'Number of archaeal species where all fail: {n_arc_all_fail:,}')\n",
    "print(f'Number of bac species where all were reported by both: {n_bac_both_all_fail:,}')\n",
    "print(f'Number of arc species where all were reported by both: {n_arc_both_all_fail:,}')\n",
    "\n",
    "print(f'Number of bac species where all were reported by both (singletons): {n_bac_both_all_fail_singletons:,}')\n",
    "print(f'Number of arc species where all were reported by both (singletons): {n_arc_both_all_fail_singletons:,}')\n"
   ],
   "metadata": {
    "collapsed": false
   }
  }
 ],
 "metadata": {
  "kernelspec": {
   "display_name": "Python 3",
   "language": "python",
   "name": "python3"
  },
  "language_info": {
   "codemirror_mode": {
    "name": "ipython",
    "version": 2
   },
   "file_extension": ".py",
   "mimetype": "text/x-python",
   "name": "python",
   "nbconvert_exporter": "python",
   "pygments_lexer": "ipython2",
   "version": "2.7.6"
  }
 },
 "nbformat": 4,
 "nbformat_minor": 0
}
