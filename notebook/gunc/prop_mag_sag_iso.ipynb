{
 "cells": [
  {
   "cell_type": "code",
   "execution_count": 1,
   "metadata": {
    "collapsed": true,
    "pycharm": {
     "name": "#%%\n"
    }
   },
   "outputs": [],
   "source": [
    "import pandas as pd\n",
    "from collections import defaultdict\n",
    "\n",
    "from workflow.external.gtdb_metadata import GtdbMetadataR207\n",
    "from workflow.external.gtdb_metadata import GtdbMetadataR207Full\n",
    "from workflow.gunc.aggregate_max_css_level_gunc import AggregateMaxCssLevelGtdbR95\n",
    "\n",
    "import matplotlib.pyplot as plt\n",
    "import seaborn as sns\n",
    "from collections import Counter\n",
    "from workflow.gunc.aggregate_max_css_level_merged import AggregateMaxCssLevelMerged\n",
    "from workflow.gunc.aggregate_max_css_level_progenomes import AggregateMaxCssLevelProGenomes\n"
   ]
  },
  {
   "cell_type": "code",
   "execution_count": 2,
   "outputs": [],
   "source": [
    "def get_df():\n",
    "    df_pro = AggregateMaxCssLevelProGenomes().output().read_cached()\n",
    "    df_gtdb = AggregateMaxCssLevelGtdbR95().output().read_cached()\n",
    "    df_meta = GtdbMetadataR207Full().output().read_cached()\n",
    "\n",
    "    df_merged = df_pro.merge(df_gtdb, how='inner', left_index=True, right_index=True, suffixes=('_pro', '_gtdb'))\n",
    "    df_merged = df_merged.merge(df_meta, how='inner', left_index=True, right_index=True)\n",
    "    return df_merged\n",
    "\n",
    "DF = get_df()"
   ],
   "metadata": {
    "collapsed": false,
    "pycharm": {
     "name": "#%%\n"
    }
   }
  },
  {
   "cell_type": "code",
   "execution_count": 3,
   "outputs": [
    {
     "name": "stdout",
     "output_type": "stream",
     "text": [
      "(317542, 140)\n"
     ]
    },
    {
     "data": {
      "text/plain": "                 n_genes_called_pro  n_genes_mapped_pro  n_contigs_pro  \\\ngid                                                                      \nGCA_000006155.2                5745                5627              3   \nGCA_000007325.1                2022                2016              1   \nGCA_000007385.1                4831                4724              1   \nGCA_000008085.1                 583                 545              1   \nGCA_000008885.1                 646                 643              2   \n\n                taxonomic_level_pro  \\\ngid                                   \nGCA_000006155.2             kingdom   \nGCA_000007325.1             kingdom   \nGCA_000007385.1             kingdom   \nGCA_000008085.1             kingdom   \nGCA_000008885.1             kingdom   \n\n                 proportion_genes_retained_in_major_clades_pro  \\\ngid                                                              \nGCA_000006155.2                                            1.0   \nGCA_000007325.1                                            1.0   \nGCA_000007385.1                                            1.0   \nGCA_000008085.1                                            1.0   \nGCA_000008885.1                                            1.0   \n\n                 genes_retained_index_pro  clade_separation_score_pro  \\\ngid                                                                     \nGCA_000006155.2                      0.98                         0.0   \nGCA_000007325.1                      1.00                         0.0   \nGCA_000007385.1                      0.98                         0.0   \nGCA_000008085.1                      0.93                         0.0   \nGCA_000008885.1                      1.00                         0.0   \n\n                 contamination_portion_pro  n_effective_surplus_clades_pro  \\\ngid                                                                          \nGCA_000006155.2                        0.0                             0.0   \nGCA_000007325.1                        0.0                             0.0   \nGCA_000007385.1                        0.0                             0.0   \nGCA_000008085.1                        0.0                             0.0   \nGCA_000008885.1                        0.0                             0.0   \n\n                 mean_hit_identity_pro  ...  trna_aa_count  trna_count  \\\ngid                                     ...                              \nGCA_000006155.2                   0.97  ...             16          31   \nGCA_000007325.1                   0.98  ...             20          47   \nGCA_000007385.1                   0.98  ...             20          53   \nGCA_000008085.1                   0.98  ...             17          38   \nGCA_000008885.1                   0.97  ...             20          34   \n\n                 trna_selenocysteine_count       domain             phylum  \\\ngid                                                                          \nGCA_000006155.2                          0  d__Bacteria      p__Firmicutes   \nGCA_000007325.1                          0  d__Bacteria  p__Fusobacteriota   \nGCA_000007385.1                          0  d__Bacteria  p__Proteobacteria   \nGCA_000008085.1                          0   d__Archaea   p__Nanoarchaeota   \nGCA_000008885.1                          0  d__Bacteria  p__Proteobacteria   \n\n                                  class                  order  \\\ngid                                                              \nGCA_000006155.2              c__Bacilli          o__Bacillales   \nGCA_000007325.1        c__Fusobacteriia     o__Fusobacteriales   \nGCA_000007385.1  c__Gammaproteobacteria     o__Xanthomonadales   \nGCA_000008085.1         c__Nanoarchaeia      o__Nanoarchaeales   \nGCA_000008885.1  c__Gammaproteobacteria  o__Enterobacterales_A   \n\n                                  family              genus  \\\ngid                                                           \nGCA_000006155.2         f__Bacillaceae_G      g__Bacillus_A   \nGCA_000007325.1      f__Fusobacteriaceae   g__Fusobacterium   \nGCA_000007385.1      f__Xanthomonadaceae     g__Xanthomonas   \nGCA_000008085.1       f__Nanoarchaeaceae    g__Nanoarchaeum   \nGCA_000008885.1  f__Enterobacteriaceae_A  g__Wigglesworthia   \n\n                                         species  \ngid                                               \nGCA_000006155.2          s__Bacillus_A anthracis  \nGCA_000007325.1       s__Fusobacterium nucleatum  \nGCA_000007385.1            s__Xanthomonas oryzae  \nGCA_000008085.1         s__Nanoarchaeum equitans  \nGCA_000008885.1  s__Wigglesworthia glossinidia_A  \n\n[5 rows x 140 columns]",
      "text/html": "<div>\n<style scoped>\n    .dataframe tbody tr th:only-of-type {\n        vertical-align: middle;\n    }\n\n    .dataframe tbody tr th {\n        vertical-align: top;\n    }\n\n    .dataframe thead th {\n        text-align: right;\n    }\n</style>\n<table border=\"1\" class=\"dataframe\">\n  <thead>\n    <tr style=\"text-align: right;\">\n      <th></th>\n      <th>n_genes_called_pro</th>\n      <th>n_genes_mapped_pro</th>\n      <th>n_contigs_pro</th>\n      <th>taxonomic_level_pro</th>\n      <th>proportion_genes_retained_in_major_clades_pro</th>\n      <th>genes_retained_index_pro</th>\n      <th>clade_separation_score_pro</th>\n      <th>contamination_portion_pro</th>\n      <th>n_effective_surplus_clades_pro</th>\n      <th>mean_hit_identity_pro</th>\n      <th>...</th>\n      <th>trna_aa_count</th>\n      <th>trna_count</th>\n      <th>trna_selenocysteine_count</th>\n      <th>domain</th>\n      <th>phylum</th>\n      <th>class</th>\n      <th>order</th>\n      <th>family</th>\n      <th>genus</th>\n      <th>species</th>\n    </tr>\n    <tr>\n      <th>gid</th>\n      <th></th>\n      <th></th>\n      <th></th>\n      <th></th>\n      <th></th>\n      <th></th>\n      <th></th>\n      <th></th>\n      <th></th>\n      <th></th>\n      <th></th>\n      <th></th>\n      <th></th>\n      <th></th>\n      <th></th>\n      <th></th>\n      <th></th>\n      <th></th>\n      <th></th>\n      <th></th>\n      <th></th>\n    </tr>\n  </thead>\n  <tbody>\n    <tr>\n      <th>GCA_000006155.2</th>\n      <td>5745</td>\n      <td>5627</td>\n      <td>3</td>\n      <td>kingdom</td>\n      <td>1.0</td>\n      <td>0.98</td>\n      <td>0.0</td>\n      <td>0.0</td>\n      <td>0.0</td>\n      <td>0.97</td>\n      <td>...</td>\n      <td>16</td>\n      <td>31</td>\n      <td>0</td>\n      <td>d__Bacteria</td>\n      <td>p__Firmicutes</td>\n      <td>c__Bacilli</td>\n      <td>o__Bacillales</td>\n      <td>f__Bacillaceae_G</td>\n      <td>g__Bacillus_A</td>\n      <td>s__Bacillus_A anthracis</td>\n    </tr>\n    <tr>\n      <th>GCA_000007325.1</th>\n      <td>2022</td>\n      <td>2016</td>\n      <td>1</td>\n      <td>kingdom</td>\n      <td>1.0</td>\n      <td>1.00</td>\n      <td>0.0</td>\n      <td>0.0</td>\n      <td>0.0</td>\n      <td>0.98</td>\n      <td>...</td>\n      <td>20</td>\n      <td>47</td>\n      <td>0</td>\n      <td>d__Bacteria</td>\n      <td>p__Fusobacteriota</td>\n      <td>c__Fusobacteriia</td>\n      <td>o__Fusobacteriales</td>\n      <td>f__Fusobacteriaceae</td>\n      <td>g__Fusobacterium</td>\n      <td>s__Fusobacterium nucleatum</td>\n    </tr>\n    <tr>\n      <th>GCA_000007385.1</th>\n      <td>4831</td>\n      <td>4724</td>\n      <td>1</td>\n      <td>kingdom</td>\n      <td>1.0</td>\n      <td>0.98</td>\n      <td>0.0</td>\n      <td>0.0</td>\n      <td>0.0</td>\n      <td>0.98</td>\n      <td>...</td>\n      <td>20</td>\n      <td>53</td>\n      <td>0</td>\n      <td>d__Bacteria</td>\n      <td>p__Proteobacteria</td>\n      <td>c__Gammaproteobacteria</td>\n      <td>o__Xanthomonadales</td>\n      <td>f__Xanthomonadaceae</td>\n      <td>g__Xanthomonas</td>\n      <td>s__Xanthomonas oryzae</td>\n    </tr>\n    <tr>\n      <th>GCA_000008085.1</th>\n      <td>583</td>\n      <td>545</td>\n      <td>1</td>\n      <td>kingdom</td>\n      <td>1.0</td>\n      <td>0.93</td>\n      <td>0.0</td>\n      <td>0.0</td>\n      <td>0.0</td>\n      <td>0.98</td>\n      <td>...</td>\n      <td>17</td>\n      <td>38</td>\n      <td>0</td>\n      <td>d__Archaea</td>\n      <td>p__Nanoarchaeota</td>\n      <td>c__Nanoarchaeia</td>\n      <td>o__Nanoarchaeales</td>\n      <td>f__Nanoarchaeaceae</td>\n      <td>g__Nanoarchaeum</td>\n      <td>s__Nanoarchaeum equitans</td>\n    </tr>\n    <tr>\n      <th>GCA_000008885.1</th>\n      <td>646</td>\n      <td>643</td>\n      <td>2</td>\n      <td>kingdom</td>\n      <td>1.0</td>\n      <td>1.00</td>\n      <td>0.0</td>\n      <td>0.0</td>\n      <td>0.0</td>\n      <td>0.97</td>\n      <td>...</td>\n      <td>20</td>\n      <td>34</td>\n      <td>0</td>\n      <td>d__Bacteria</td>\n      <td>p__Proteobacteria</td>\n      <td>c__Gammaproteobacteria</td>\n      <td>o__Enterobacterales_A</td>\n      <td>f__Enterobacteriaceae_A</td>\n      <td>g__Wigglesworthia</td>\n      <td>s__Wigglesworthia glossinidia_A</td>\n    </tr>\n  </tbody>\n</table>\n<p>5 rows × 140 columns</p>\n</div>"
     },
     "execution_count": 3,
     "metadata": {},
     "output_type": "execute_result"
    }
   ],
   "source": [
    "print(DF.shape)\n",
    "DF.head()"
   ],
   "metadata": {
    "collapsed": false,
    "pycharm": {
     "name": "#%%\n"
    }
   }
  },
  {
   "cell_type": "code",
   "execution_count": 17,
   "outputs": [
    {
     "name": "stdout",
     "output_type": "stream",
     "text": [
      "35723\n",
      "{'Isolate': 238820, 'MAG': 77891, 'SAG': 831} 317542\n",
      "{'Isolate': 75.21, 'MAG': 24.53, 'SAG': 0.26}\n",
      "\n",
      "{'Isolate': 23825, 'MAG': 11828, 'SAG': 70} 35723\n",
      "{'Isolate': 66.7, 'MAG': 33.1, 'SAG': 0.2}\n",
      "\n",
      "{'Isolate': 11821, 'MAG': 5405, 'SAG': 52} 17278\n",
      "{'Isolate': 68.4, 'MAG': 31.3, 'SAG': 0.3}\n",
      "\n",
      "{'Isolate': 19049, 'MAG': 9773, 'SAG': 36} 28858\n",
      "{'Isolate': 66.0, 'MAG': 33.9, 'SAG': 0.1}\n",
      "\n"
     ]
    }
   ],
   "source": [
    "def pass_vs_fail_category():\n",
    "\n",
    "    # Set masks\n",
    "    mask_failed_pro = DF['pass.GUNC_pro'] == False\n",
    "    mask_failed_gtdb = DF['pass.GUNC_gtdb'] == False\n",
    "\n",
    "    mask_failed_all = mask_failed_pro | mask_failed_gtdb\n",
    "    mask_pass_all = ~mask_failed_all\n",
    "\n",
    "    df_failed_all = DF[mask_failed_all]\n",
    "\n",
    "    print(len(df_failed_all))\n",
    "\n",
    "    all_counts = Counter(DF['ncbi_genome_category'])\n",
    "    all_data = {\n",
    "        'Isolate': all_counts['none'] +  all_counts['derived from environmental sample'],\n",
    "        # 'ENV': all_counts['derived from environmental sample'],\n",
    "        'MAG': all_counts['derived from metagenome'],\n",
    "        'SAG': all_counts['derived from single cell'],\n",
    "    }\n",
    "\n",
    "    fail_all_counts = Counter(df_failed_all['ncbi_genome_category'])\n",
    "    fail_all_data = {\n",
    "        'Isolate': fail_all_counts['none'] + fail_all_counts['derived from environmental sample'],\n",
    "        # 'ENV': fail_counts['derived from environmental sample'],\n",
    "        'MAG': fail_all_counts['derived from metagenome'],\n",
    "        'SAG': fail_all_counts['derived from single cell'],\n",
    "    }\n",
    "\n",
    "    fail_pro_counts = Counter(DF[mask_failed_pro]['ncbi_genome_category'])\n",
    "    fail_pro_data = {\n",
    "        'Isolate': fail_pro_counts['none'] + fail_pro_counts['derived from environmental sample'],\n",
    "        # 'ENV': fail_counts['derived from environmental sample'],\n",
    "        'MAG': fail_pro_counts['derived from metagenome'],\n",
    "        'SAG': fail_pro_counts['derived from single cell'],\n",
    "    }\n",
    "\n",
    "    fail_gtdb_counts = Counter(DF[mask_failed_gtdb]['ncbi_genome_category'])\n",
    "    fail_gtdb_data = {\n",
    "        'Isolate': fail_gtdb_counts['none'] + fail_gtdb_counts['derived from environmental sample'],\n",
    "        # 'ENV': fail_counts['derived from environmental sample'],\n",
    "        'MAG': fail_gtdb_counts['derived from metagenome'],\n",
    "        'SAG': fail_gtdb_counts['derived from single cell'],\n",
    "    }\n",
    "\n",
    "    print(all_data, sum(all_data.values()))\n",
    "    print({k: round(100*(v/sum(all_data.values())), 1) for k, v in all_data.items()})\n",
    "    print()\n",
    "    print(fail_all_data, sum(fail_all_data.values()))\n",
    "    print({k: round(100*(v/sum(fail_all_data.values())), 1) for k, v in fail_all_data.items()})\n",
    "    print()\n",
    "    print(fail_pro_data, sum(fail_pro_data.values()))\n",
    "    print({k: round(100*(v/sum(fail_pro_data.values())), 1) for k, v in fail_pro_data.items()})\n",
    "    print()\n",
    "    print(fail_gtdb_data, sum(fail_gtdb_data.values()))\n",
    "    print({k: round(100*(v/sum(fail_gtdb_data.values())), 1) for k, v in fail_gtdb_data.items()})\n",
    "    print()\n",
    "\n",
    "\n",
    "    return\n",
    "\n",
    "pass_vs_fail_category()"
   ],
   "metadata": {
    "collapsed": false,
    "pycharm": {
     "name": "#%%\n"
    }
   }
  }
 ],
 "metadata": {
  "kernelspec": {
   "display_name": "Python 3",
   "language": "python",
   "name": "python3"
  },
  "language_info": {
   "codemirror_mode": {
    "name": "ipython",
    "version": 2
   },
   "file_extension": ".py",
   "mimetype": "text/x-python",
   "name": "python",
   "nbconvert_exporter": "python",
   "pygments_lexer": "ipython2",
   "version": "2.7.6"
  }
 },
 "nbformat": 4,
 "nbformat_minor": 0
}