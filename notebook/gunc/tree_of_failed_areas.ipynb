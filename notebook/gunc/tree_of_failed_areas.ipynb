{
 "cells": [
  {
   "cell_type": "code",
   "execution_count": 11,
   "metadata": {
    "collapsed": true,
    "pycharm": {
     "name": "#%%\n"
    }
   },
   "outputs": [],
   "source": [
    "import pandas as pd\n",
    "from collections import defaultdict\n",
    "\n",
    "from workflow.external.gtdb_metadata import GtdbMetadataR207\n",
    "from workflow.external.gtdb_metadata import GtdbMetadataR207Full\n",
    "from workflow.external.gtdb_tree import GtdbTreeArcR207, GtdbTreeBacR207\n",
    "from workflow.gunc.aggregate_max_css_level_gunc import AggregateMaxCssLevelGtdbR95\n",
    "\n",
    "import matplotlib.pyplot as plt\n",
    "import seaborn as sns\n",
    "from collections import Counter\n",
    "from workflow.gunc.aggregate_max_css_level_merged import AggregateMaxCssLevelMerged\n",
    "from workflow.gunc.aggregate_max_css_level_progenomes import AggregateMaxCssLevelProGenomes\n",
    "from ete3 import Tree\n",
    "from ete3 import Tree, faces, AttrFace, TreeStyle, NodeStyle, RectFace, TextFace"
   ]
  },
  {
   "cell_type": "code",
   "execution_count": 2,
   "outputs": [],
   "source": [
    "TREE_ARC = GtdbTreeArcR207().output().read()\n",
    "TREE_BAC = GtdbTreeBacR207().output().read()"
   ],
   "metadata": {
    "collapsed": false,
    "pycharm": {
     "name": "#%%\n"
    }
   }
  },
  {
   "cell_type": "code",
   "execution_count": 3,
   "outputs": [
    {
     "name": "stdout",
     "output_type": "stream",
     "text": [
      "(317542, 41)\n"
     ]
    },
    {
     "data": {
      "text/plain": "                 ambiguous_bases  checkm_completeness  checkm_contamination  \\\ngid                                                                           \nGCA_000006155.2             1916                93.12                   0.0   \nGCA_000007325.1                1                99.95                   0.0   \nGCA_000007385.1                0                99.82                   0.0   \nGCA_000008085.1                0                73.13                   0.0   \nGCA_000008885.1                0               100.00                   0.0   \n\n                 checkm_marker_count             checkm_marker_lineage  \\\ngid                                                                      \nGCA_000006155.2                 1171              g__Bacillus (UID902)   \nGCA_000007325.1                  149             k__Bacteria (UID2329)   \nGCA_000007385.1                  481  c__Gammaproteobacteria (UID4202)   \nGCA_000008085.1                  149                 k__Archaea (UID2)   \nGCA_000008885.1                  134             k__Bacteria (UID2495)   \n\n                 checkm_marker_set_count  checkm_strain_heterogeneity  \\\ngid                                                                     \nGCA_000006155.2                      324                          0.0   \nGCA_000007325.1                       89                          0.0   \nGCA_000007385.1                      276                          0.0   \nGCA_000008085.1                      107                          0.0   \nGCA_000008885.1                       80                          0.0   \n\n                 coding_bases  coding_density  contig_count  ...  \\\ngid                                                          ...   \nGCA_000006155.2       4305660       80.178992           426  ...   \nGCA_000007325.1       1973459       90.754610             1  ...   \nGCA_000007385.1       4190634       84.805944             1  ...   \nGCA_000008085.1        462902       94.299480             1  ...   \nGCA_000008885.1        617456       87.831079             2  ...   \n\n                 taxonomic_level  proportion_genes_retained_in_major_clades  \\\ngid                                                                           \nGCA_000006155.2              NaN                                        NaN   \nGCA_000007325.1              NaN                                        NaN   \nGCA_000007385.1              NaN                                        NaN   \nGCA_000008085.1              NaN                                        NaN   \nGCA_000008885.1              NaN                                        NaN   \n\n                 genes_retained_index clade_separation_score  \\\ngid                                                            \nGCA_000006155.2                   NaN                    NaN   \nGCA_000007325.1                   NaN                    NaN   \nGCA_000007385.1                   NaN                    NaN   \nGCA_000008085.1                   NaN                    NaN   \nGCA_000008885.1                   NaN                    NaN   \n\n                contamination_portion n_effective_surplus_clades  \\\ngid                                                                \nGCA_000006155.2                   NaN                        NaN   \nGCA_000007325.1                   NaN                        NaN   \nGCA_000007385.1                   NaN                        NaN   \nGCA_000008085.1                   NaN                        NaN   \nGCA_000008885.1                   NaN                        NaN   \n\n                mean_hit_identity reference_representation_score pass.GUNC  \\\ngid                                                                          \nGCA_000006155.2               NaN                            NaN       NaN   \nGCA_000007325.1               NaN                            NaN       NaN   \nGCA_000007385.1               NaN                            NaN       NaN   \nGCA_000008085.1               NaN                            NaN       NaN   \nGCA_000008885.1               NaN                            NaN       NaN   \n\n                source  \ngid                     \nGCA_000006155.2    NaN  \nGCA_000007325.1    NaN  \nGCA_000007385.1    NaN  \nGCA_000008085.1    NaN  \nGCA_000008885.1    NaN  \n\n[5 rows x 41 columns]",
      "text/html": "<div>\n<style scoped>\n    .dataframe tbody tr th:only-of-type {\n        vertical-align: middle;\n    }\n\n    .dataframe tbody tr th {\n        vertical-align: top;\n    }\n\n    .dataframe thead th {\n        text-align: right;\n    }\n</style>\n<table border=\"1\" class=\"dataframe\">\n  <thead>\n    <tr style=\"text-align: right;\">\n      <th></th>\n      <th>ambiguous_bases</th>\n      <th>checkm_completeness</th>\n      <th>checkm_contamination</th>\n      <th>checkm_marker_count</th>\n      <th>checkm_marker_lineage</th>\n      <th>checkm_marker_set_count</th>\n      <th>checkm_strain_heterogeneity</th>\n      <th>coding_bases</th>\n      <th>coding_density</th>\n      <th>contig_count</th>\n      <th>...</th>\n      <th>taxonomic_level</th>\n      <th>proportion_genes_retained_in_major_clades</th>\n      <th>genes_retained_index</th>\n      <th>clade_separation_score</th>\n      <th>contamination_portion</th>\n      <th>n_effective_surplus_clades</th>\n      <th>mean_hit_identity</th>\n      <th>reference_representation_score</th>\n      <th>pass.GUNC</th>\n      <th>source</th>\n    </tr>\n    <tr>\n      <th>gid</th>\n      <th></th>\n      <th></th>\n      <th></th>\n      <th></th>\n      <th></th>\n      <th></th>\n      <th></th>\n      <th></th>\n      <th></th>\n      <th></th>\n      <th></th>\n      <th></th>\n      <th></th>\n      <th></th>\n      <th></th>\n      <th></th>\n      <th></th>\n      <th></th>\n      <th></th>\n      <th></th>\n      <th></th>\n    </tr>\n  </thead>\n  <tbody>\n    <tr>\n      <th>GCA_000006155.2</th>\n      <td>1916</td>\n      <td>93.12</td>\n      <td>0.0</td>\n      <td>1171</td>\n      <td>g__Bacillus (UID902)</td>\n      <td>324</td>\n      <td>0.0</td>\n      <td>4305660</td>\n      <td>80.178992</td>\n      <td>426</td>\n      <td>...</td>\n      <td>NaN</td>\n      <td>NaN</td>\n      <td>NaN</td>\n      <td>NaN</td>\n      <td>NaN</td>\n      <td>NaN</td>\n      <td>NaN</td>\n      <td>NaN</td>\n      <td>NaN</td>\n      <td>NaN</td>\n    </tr>\n    <tr>\n      <th>GCA_000007325.1</th>\n      <td>1</td>\n      <td>99.95</td>\n      <td>0.0</td>\n      <td>149</td>\n      <td>k__Bacteria (UID2329)</td>\n      <td>89</td>\n      <td>0.0</td>\n      <td>1973459</td>\n      <td>90.754610</td>\n      <td>1</td>\n      <td>...</td>\n      <td>NaN</td>\n      <td>NaN</td>\n      <td>NaN</td>\n      <td>NaN</td>\n      <td>NaN</td>\n      <td>NaN</td>\n      <td>NaN</td>\n      <td>NaN</td>\n      <td>NaN</td>\n      <td>NaN</td>\n    </tr>\n    <tr>\n      <th>GCA_000007385.1</th>\n      <td>0</td>\n      <td>99.82</td>\n      <td>0.0</td>\n      <td>481</td>\n      <td>c__Gammaproteobacteria (UID4202)</td>\n      <td>276</td>\n      <td>0.0</td>\n      <td>4190634</td>\n      <td>84.805944</td>\n      <td>1</td>\n      <td>...</td>\n      <td>NaN</td>\n      <td>NaN</td>\n      <td>NaN</td>\n      <td>NaN</td>\n      <td>NaN</td>\n      <td>NaN</td>\n      <td>NaN</td>\n      <td>NaN</td>\n      <td>NaN</td>\n      <td>NaN</td>\n    </tr>\n    <tr>\n      <th>GCA_000008085.1</th>\n      <td>0</td>\n      <td>73.13</td>\n      <td>0.0</td>\n      <td>149</td>\n      <td>k__Archaea (UID2)</td>\n      <td>107</td>\n      <td>0.0</td>\n      <td>462902</td>\n      <td>94.299480</td>\n      <td>1</td>\n      <td>...</td>\n      <td>NaN</td>\n      <td>NaN</td>\n      <td>NaN</td>\n      <td>NaN</td>\n      <td>NaN</td>\n      <td>NaN</td>\n      <td>NaN</td>\n      <td>NaN</td>\n      <td>NaN</td>\n      <td>NaN</td>\n    </tr>\n    <tr>\n      <th>GCA_000008885.1</th>\n      <td>0</td>\n      <td>100.00</td>\n      <td>0.0</td>\n      <td>134</td>\n      <td>k__Bacteria (UID2495)</td>\n      <td>80</td>\n      <td>0.0</td>\n      <td>617456</td>\n      <td>87.831079</td>\n      <td>2</td>\n      <td>...</td>\n      <td>NaN</td>\n      <td>NaN</td>\n      <td>NaN</td>\n      <td>NaN</td>\n      <td>NaN</td>\n      <td>NaN</td>\n      <td>NaN</td>\n      <td>NaN</td>\n      <td>NaN</td>\n      <td>NaN</td>\n    </tr>\n  </tbody>\n</table>\n<p>5 rows × 41 columns</p>\n</div>"
     },
     "execution_count": 3,
     "metadata": {},
     "output_type": "execute_result"
    }
   ],
   "source": [
    "def get_df():\n",
    "    df_css = AggregateMaxCssLevelMerged().output().read_cached()\n",
    "    df_meta = GtdbMetadataR207().output().read_cached()\n",
    "    return df_meta.merge(df_css, left_index=True, right_index=True, how='left')\n",
    "DF = get_df()\n",
    "print(DF.shape)\n",
    "DF.head()"
   ],
   "metadata": {
    "collapsed": false,
    "pycharm": {
     "name": "#%%\n"
    }
   }
  },
  {
   "cell_type": "code",
   "execution_count": 19,
   "outputs": [
    {
     "name": "stdout",
     "output_type": "stream",
     "text": [
      "(6062, 41)\n"
     ]
    }
   ],
   "source": [
    "def gen_arc():\n",
    "\n",
    "    df_arc = DF[DF['domain'] == 'd__Archaea']\n",
    "    print(df_arc.shape)\n",
    "\n",
    "    t = Tree(TREE_ARC.as_string(schema='newick'), quoted_node_names=True, format=1)\n",
    "\n",
    "    w, h = 300, 30\n",
    "\n",
    "    for n in t.traverse():\n",
    "        if n.is_leaf():\n",
    "            n_df = DF.loc[n.name[3:]]\n",
    "            if n_df['pass.GUNC'] == False:\n",
    "                N = RectFace(w, h, fgcolor=None, bgcolor='red')\n",
    "                n.add_face(N, column=0, position=\"aligned\")\n",
    "            else:\n",
    "                N = RectFace(w, h, fgcolor=None, bgcolor='green')\n",
    "                n.add_face(N, column=0, position=\"aligned\")\n",
    "\n",
    "                # nstyle = NodeStyle()\n",
    "                # nstyle[\"fgcolor\"] = \"red\"\n",
    "                # nstyle[\"size\"] = 15\n",
    "                # n.set_style(nstyle)\n",
    "\n",
    "    ts = TreeStyle()\n",
    "    ts.mode = \"c\"\n",
    "    ts.show_leaf_name = False\n",
    "    t.show(tree_style=ts)\n",
    "\n",
    "\n",
    "    return\n",
    "\n",
    "gen_arc()"
   ],
   "metadata": {
    "collapsed": false,
    "pycharm": {
     "name": "#%%\n"
    }
   }
  }
 ],
 "metadata": {
  "kernelspec": {
   "display_name": "Python 3",
   "language": "python",
   "name": "python3"
  },
  "language_info": {
   "codemirror_mode": {
    "name": "ipython",
    "version": 2
   },
   "file_extension": ".py",
   "mimetype": "text/x-python",
   "name": "python",
   "nbconvert_exporter": "python",
   "pygments_lexer": "ipython2",
   "version": "2.7.6"
  }
 },
 "nbformat": 4,
 "nbformat_minor": 0
}