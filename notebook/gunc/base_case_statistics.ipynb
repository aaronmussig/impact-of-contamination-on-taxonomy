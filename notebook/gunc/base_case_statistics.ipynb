{
 "cells": [
  {
   "cell_type": "code",
   "execution_count": 1,
   "metadata": {
    "collapsed": true,
    "pycharm": {
     "name": "#%%\n"
    }
   },
   "outputs": [],
   "source": [
    "import pandas as pd\n",
    "from collections import defaultdict\n",
    "\n",
    "from workflow.external.gtdb_metadata import GtdbMetadataR207\n",
    "from workflow.external.gtdb_metadata import GtdbMetadataR207Full\n",
    "from workflow.gunc.aggregate_max_css_level_gunc import AggregateMaxCssLevelGtdbR95\n",
    "\n",
    "import matplotlib.pyplot as plt\n",
    "import seaborn as sns\n",
    "from collections import Counter\n",
    "from workflow.gunc.aggregate_max_css_level_merged import AggregateMaxCssLevelMerged\n",
    "from workflow.gunc.aggregate_max_css_level_progenomes import AggregateMaxCssLevelProGenomes\n"
   ]
  },
  {
   "cell_type": "code",
   "execution_count": 2,
   "outputs": [],
   "source": [
    "def get_df():\n",
    "    df_pro = AggregateMaxCssLevelProGenomes().output().read_cached()\n",
    "    df_gtdb = AggregateMaxCssLevelGtdbR95().output().read_cached()\n",
    "    df_meta = GtdbMetadataR207Full().output().read_cached()\n",
    "\n",
    "    df_merged = df_pro.merge(df_gtdb, how='inner', left_index=True, right_index=True, suffixes=('_pro', '_gtdb'))\n",
    "    df_merged = df_merged.merge(df_meta, how='inner', left_index=True, right_index=True)\n",
    "    return df_merged\n",
    "\n",
    "DF = get_df()"
   ],
   "metadata": {
    "collapsed": false,
    "pycharm": {
     "name": "#%%\n"
    }
   }
  },
  {
   "cell_type": "code",
   "execution_count": 3,
   "outputs": [
    {
     "name": "stdout",
     "output_type": "stream",
     "text": [
      "(317542, 140)\n"
     ]
    },
    {
     "data": {
      "text/plain": "                 n_genes_called_pro  n_genes_mapped_pro  n_contigs_pro  \\\ngid                                                                      \nGCA_000006155.2                5745                5627              3   \nGCA_000007325.1                2022                2016              1   \nGCA_000007385.1                4831                4724              1   \nGCA_000008085.1                 583                 545              1   \nGCA_000008885.1                 646                 643              2   \n\n                taxonomic_level_pro  \\\ngid                                   \nGCA_000006155.2             kingdom   \nGCA_000007325.1             kingdom   \nGCA_000007385.1             kingdom   \nGCA_000008085.1             kingdom   \nGCA_000008885.1             kingdom   \n\n                 proportion_genes_retained_in_major_clades_pro  \\\ngid                                                              \nGCA_000006155.2                                            1.0   \nGCA_000007325.1                                            1.0   \nGCA_000007385.1                                            1.0   \nGCA_000008085.1                                            1.0   \nGCA_000008885.1                                            1.0   \n\n                 genes_retained_index_pro  clade_separation_score_pro  \\\ngid                                                                     \nGCA_000006155.2                      0.98                         0.0   \nGCA_000007325.1                      1.00                         0.0   \nGCA_000007385.1                      0.98                         0.0   \nGCA_000008085.1                      0.93                         0.0   \nGCA_000008885.1                      1.00                         0.0   \n\n                 contamination_portion_pro  n_effective_surplus_clades_pro  \\\ngid                                                                          \nGCA_000006155.2                        0.0                             0.0   \nGCA_000007325.1                        0.0                             0.0   \nGCA_000007385.1                        0.0                             0.0   \nGCA_000008085.1                        0.0                             0.0   \nGCA_000008885.1                        0.0                             0.0   \n\n                 mean_hit_identity_pro  ...  trna_aa_count  trna_count  \\\ngid                                     ...                              \nGCA_000006155.2                   0.97  ...             16          31   \nGCA_000007325.1                   0.98  ...             20          47   \nGCA_000007385.1                   0.98  ...             20          53   \nGCA_000008085.1                   0.98  ...             17          38   \nGCA_000008885.1                   0.97  ...             20          34   \n\n                 trna_selenocysteine_count       domain             phylum  \\\ngid                                                                          \nGCA_000006155.2                          0  d__Bacteria      p__Firmicutes   \nGCA_000007325.1                          0  d__Bacteria  p__Fusobacteriota   \nGCA_000007385.1                          0  d__Bacteria  p__Proteobacteria   \nGCA_000008085.1                          0   d__Archaea   p__Nanoarchaeota   \nGCA_000008885.1                          0  d__Bacteria  p__Proteobacteria   \n\n                                  class                  order  \\\ngid                                                              \nGCA_000006155.2              c__Bacilli          o__Bacillales   \nGCA_000007325.1        c__Fusobacteriia     o__Fusobacteriales   \nGCA_000007385.1  c__Gammaproteobacteria     o__Xanthomonadales   \nGCA_000008085.1         c__Nanoarchaeia      o__Nanoarchaeales   \nGCA_000008885.1  c__Gammaproteobacteria  o__Enterobacterales_A   \n\n                                  family              genus  \\\ngid                                                           \nGCA_000006155.2         f__Bacillaceae_G      g__Bacillus_A   \nGCA_000007325.1      f__Fusobacteriaceae   g__Fusobacterium   \nGCA_000007385.1      f__Xanthomonadaceae     g__Xanthomonas   \nGCA_000008085.1       f__Nanoarchaeaceae    g__Nanoarchaeum   \nGCA_000008885.1  f__Enterobacteriaceae_A  g__Wigglesworthia   \n\n                                         species  \ngid                                               \nGCA_000006155.2          s__Bacillus_A anthracis  \nGCA_000007325.1       s__Fusobacterium nucleatum  \nGCA_000007385.1            s__Xanthomonas oryzae  \nGCA_000008085.1         s__Nanoarchaeum equitans  \nGCA_000008885.1  s__Wigglesworthia glossinidia_A  \n\n[5 rows x 140 columns]",
      "text/html": "<div>\n<style scoped>\n    .dataframe tbody tr th:only-of-type {\n        vertical-align: middle;\n    }\n\n    .dataframe tbody tr th {\n        vertical-align: top;\n    }\n\n    .dataframe thead th {\n        text-align: right;\n    }\n</style>\n<table border=\"1\" class=\"dataframe\">\n  <thead>\n    <tr style=\"text-align: right;\">\n      <th></th>\n      <th>n_genes_called_pro</th>\n      <th>n_genes_mapped_pro</th>\n      <th>n_contigs_pro</th>\n      <th>taxonomic_level_pro</th>\n      <th>proportion_genes_retained_in_major_clades_pro</th>\n      <th>genes_retained_index_pro</th>\n      <th>clade_separation_score_pro</th>\n      <th>contamination_portion_pro</th>\n      <th>n_effective_surplus_clades_pro</th>\n      <th>mean_hit_identity_pro</th>\n      <th>...</th>\n      <th>trna_aa_count</th>\n      <th>trna_count</th>\n      <th>trna_selenocysteine_count</th>\n      <th>domain</th>\n      <th>phylum</th>\n      <th>class</th>\n      <th>order</th>\n      <th>family</th>\n      <th>genus</th>\n      <th>species</th>\n    </tr>\n    <tr>\n      <th>gid</th>\n      <th></th>\n      <th></th>\n      <th></th>\n      <th></th>\n      <th></th>\n      <th></th>\n      <th></th>\n      <th></th>\n      <th></th>\n      <th></th>\n      <th></th>\n      <th></th>\n      <th></th>\n      <th></th>\n      <th></th>\n      <th></th>\n      <th></th>\n      <th></th>\n      <th></th>\n      <th></th>\n      <th></th>\n    </tr>\n  </thead>\n  <tbody>\n    <tr>\n      <th>GCA_000006155.2</th>\n      <td>5745</td>\n      <td>5627</td>\n      <td>3</td>\n      <td>kingdom</td>\n      <td>1.0</td>\n      <td>0.98</td>\n      <td>0.0</td>\n      <td>0.0</td>\n      <td>0.0</td>\n      <td>0.97</td>\n      <td>...</td>\n      <td>16</td>\n      <td>31</td>\n      <td>0</td>\n      <td>d__Bacteria</td>\n      <td>p__Firmicutes</td>\n      <td>c__Bacilli</td>\n      <td>o__Bacillales</td>\n      <td>f__Bacillaceae_G</td>\n      <td>g__Bacillus_A</td>\n      <td>s__Bacillus_A anthracis</td>\n    </tr>\n    <tr>\n      <th>GCA_000007325.1</th>\n      <td>2022</td>\n      <td>2016</td>\n      <td>1</td>\n      <td>kingdom</td>\n      <td>1.0</td>\n      <td>1.00</td>\n      <td>0.0</td>\n      <td>0.0</td>\n      <td>0.0</td>\n      <td>0.98</td>\n      <td>...</td>\n      <td>20</td>\n      <td>47</td>\n      <td>0</td>\n      <td>d__Bacteria</td>\n      <td>p__Fusobacteriota</td>\n      <td>c__Fusobacteriia</td>\n      <td>o__Fusobacteriales</td>\n      <td>f__Fusobacteriaceae</td>\n      <td>g__Fusobacterium</td>\n      <td>s__Fusobacterium nucleatum</td>\n    </tr>\n    <tr>\n      <th>GCA_000007385.1</th>\n      <td>4831</td>\n      <td>4724</td>\n      <td>1</td>\n      <td>kingdom</td>\n      <td>1.0</td>\n      <td>0.98</td>\n      <td>0.0</td>\n      <td>0.0</td>\n      <td>0.0</td>\n      <td>0.98</td>\n      <td>...</td>\n      <td>20</td>\n      <td>53</td>\n      <td>0</td>\n      <td>d__Bacteria</td>\n      <td>p__Proteobacteria</td>\n      <td>c__Gammaproteobacteria</td>\n      <td>o__Xanthomonadales</td>\n      <td>f__Xanthomonadaceae</td>\n      <td>g__Xanthomonas</td>\n      <td>s__Xanthomonas oryzae</td>\n    </tr>\n    <tr>\n      <th>GCA_000008085.1</th>\n      <td>583</td>\n      <td>545</td>\n      <td>1</td>\n      <td>kingdom</td>\n      <td>1.0</td>\n      <td>0.93</td>\n      <td>0.0</td>\n      <td>0.0</td>\n      <td>0.0</td>\n      <td>0.98</td>\n      <td>...</td>\n      <td>17</td>\n      <td>38</td>\n      <td>0</td>\n      <td>d__Archaea</td>\n      <td>p__Nanoarchaeota</td>\n      <td>c__Nanoarchaeia</td>\n      <td>o__Nanoarchaeales</td>\n      <td>f__Nanoarchaeaceae</td>\n      <td>g__Nanoarchaeum</td>\n      <td>s__Nanoarchaeum equitans</td>\n    </tr>\n    <tr>\n      <th>GCA_000008885.1</th>\n      <td>646</td>\n      <td>643</td>\n      <td>2</td>\n      <td>kingdom</td>\n      <td>1.0</td>\n      <td>1.00</td>\n      <td>0.0</td>\n      <td>0.0</td>\n      <td>0.0</td>\n      <td>0.97</td>\n      <td>...</td>\n      <td>20</td>\n      <td>34</td>\n      <td>0</td>\n      <td>d__Bacteria</td>\n      <td>p__Proteobacteria</td>\n      <td>c__Gammaproteobacteria</td>\n      <td>o__Enterobacterales_A</td>\n      <td>f__Enterobacteriaceae_A</td>\n      <td>g__Wigglesworthia</td>\n      <td>s__Wigglesworthia glossinidia_A</td>\n    </tr>\n  </tbody>\n</table>\n<p>5 rows × 140 columns</p>\n</div>"
     },
     "execution_count": 3,
     "metadata": {},
     "output_type": "execute_result"
    }
   ],
   "source": [
    "print(DF.shape)\n",
    "DF.head()"
   ],
   "metadata": {
    "collapsed": false,
    "pycharm": {
     "name": "#%%\n"
    }
   }
  },
  {
   "cell_type": "code",
   "execution_count": 4,
   "outputs": [
    {
     "name": "stdout",
     "output_type": "stream",
     "text": [
      "Found 65,703 species reps\n",
      "17,278 / 317,542 (5.44%) genomes failed GUNC (progenomes)\n",
      "28,858 / 317,542 (9.09%) genomes failed GUNC (GTDB R95)\n",
      "35,723 / 317,542 (11.25%) genomes failed GUNC (all)\n",
      "2,568 of the 17,278 GUNC failed genomes (14.86%) are species reps, i.e. 3.91% of the species reps failed GUNC (progenomes)\n",
      "3,348 of the 28,858 GUNC failed genomes (11.60%) are species reps, i.e. 5.10% of the species reps failed GUNC (GTDB R95)\n",
      "4,836 of the 35,723 GUNC failed genomes (13.54%) are species reps, i.e. 7.36% of the species reps failed GUNC (all)\n"
     ]
    }
   ],
   "source": [
    "def basic_stats():\n",
    "\n",
    "    # Set masks\n",
    "    mask_failed_pro = DF['pass.GUNC_pro'] == False\n",
    "    mask_failed_gtdb = DF['pass.GUNC_gtdb'] == False\n",
    "    mask_failed_all = mask_failed_pro | mask_failed_gtdb\n",
    "    mask_sp_reps = DF['gtdb_representative'] == 't'\n",
    "\n",
    "    print(f'Found {sum(mask_sp_reps):,} species reps')\n",
    "\n",
    "    # Set slices\n",
    "    df_failed_pro = DF[mask_failed_pro]\n",
    "    df_failed_gtdb = DF[mask_failed_gtdb]\n",
    "    df_failed_all = DF[mask_failed_all]\n",
    "    df_sp_reps = DF[mask_sp_reps]\n",
    "\n",
    "    # Basic numbers of how many failed\n",
    "    prop_fail_pro = len(df_failed_pro) / len(DF)\n",
    "    prop_fail_gtdb = len(df_failed_gtdb) / len(DF)\n",
    "    prop_fail_all = len(df_failed_all) / len(DF)\n",
    "    print(f'{len(df_failed_pro):,} / {len(DF):,} ({prop_fail_pro:.2%}) genomes failed GUNC (progenomes)')\n",
    "    print(f'{len(df_failed_gtdb):,} / {len(DF):,} ({prop_fail_gtdb:.2%}) genomes failed GUNC (GTDB R95)')\n",
    "    print(f'{len(df_failed_all):,} / {len(DF):,} ({prop_fail_all:.2%}) genomes failed GUNC (all)')\n",
    "\n",
    "    # How about species reps\n",
    "    df_failed_and_sp_rep_pro = DF[mask_failed_pro & mask_sp_reps]\n",
    "    df_failed_and_sp_rep_gtdb = DF[mask_failed_gtdb & mask_sp_reps]\n",
    "    df_failed_and_sp_rep_all = DF[mask_failed_all & mask_sp_reps]\n",
    "\n",
    "    print(f'{len(df_failed_and_sp_rep_pro):,} of the {len(df_failed_pro):,} GUNC failed genomes '\n",
    "          f'({len(df_failed_and_sp_rep_pro) / len(df_failed_pro):.2%}) are species reps, '\n",
    "          f'i.e. {len(df_failed_and_sp_rep_pro) / len(df_sp_reps):.2%} of the species reps failed GUNC (progenomes)')\n",
    "\n",
    "    print(f'{len(df_failed_and_sp_rep_gtdb):,} of the {len(df_failed_gtdb):,} GUNC failed genomes '\n",
    "          f'({len(df_failed_and_sp_rep_gtdb) / len(df_failed_gtdb):.2%}) are species reps, '\n",
    "          f'i.e. {len(df_failed_and_sp_rep_gtdb) / len(df_sp_reps):.2%} of the species reps failed GUNC (GTDB R95)')\n",
    "\n",
    "    print(f'{len(df_failed_and_sp_rep_all):,} of the {len(df_failed_all):,} GUNC failed genomes '\n",
    "          f'({len(df_failed_and_sp_rep_all) / len(df_failed_all):.2%}) are species reps, '\n",
    "          f'i.e. {len(df_failed_and_sp_rep_all) / len(df_sp_reps):.2%} of the species reps failed GUNC (all)')\n",
    "\n",
    "\n",
    "    return\n",
    "basic_stats()\n"
   ],
   "metadata": {
    "collapsed": false,
    "pycharm": {
     "name": "#%%\n"
    }
   }
  },
  {
   "cell_type": "code",
   "execution_count": 5,
   "outputs": [
    {
     "name": "stdout",
     "output_type": "stream",
     "text": [
      "Counter({'d__Bacteria': 4525, 'd__Archaea': 311})\n",
      "d__Bacteria;p__Bacteroidota;c__Bacteroidia;o__Bacteroidales;f__Bacteroidaceae;g__Prevotella (34)\n",
      "d__Bacteria;p__Actinobacteriota;c__Coriobacteriia;o__Coriobacteriales;f__Coriobacteriaceae;g__Collinsella (30)\n",
      "d__Bacteria;p__Bacteroidota;c__Bacteroidia;o__Bacteroidales;f__UBA932;g__Cryptobacteroides (29)\n",
      "d__Bacteria;p__Proteobacteria;c__Alphaproteobacteria;o__Pelagibacterales;f__Pelagibacteraceae;g__Pelagibacter (28)\n",
      "d__Bacteria;p__Actinobacteriota;c__Actinomycetia;o__Nanopelagicales;f__Nanopelagicaceae;g__Planktophila (27)\n",
      "d__Bacteria;p__Bacteroidota;c__Bacteroidia;o__Flavobacteriales;f__Flavobacteriaceae;g__Flavobacterium (24)\n",
      "d__Bacteria;p__Proteobacteria;c__Alphaproteobacteria;o__HIMB59;f__GCA-002718135;g__AG-337-I02 (19)\n",
      "d__Bacteria;p__Bacteroidota;c__Bacteroidia;o__Chitinophagales;f__Chitinophagaceae;g__Sediminibacterium (17)\n",
      "d__Bacteria;p__Proteobacteria;c__Alphaproteobacteria;o__Sphingomonadales;f__Sphingomonadaceae;g__Novosphingobium (16)\n",
      "d__Bacteria;p__Proteobacteria;c__Alphaproteobacteria;o__Sphingomonadales;f__Sphingomonadaceae;g__Sphingopyxis (16)\n",
      "d__Bacteria;p__Spirochaetota;c__Spirochaetia;o__Borreliales;f__Borreliaceae;g__Borreliella (15)\n",
      "d__Bacteria;p__Proteobacteria;c__Alphaproteobacteria;o__Sphingomonadales;f__Sphingomonadaceae;g__Sphingomonas (13)\n",
      "d__Bacteria;p__Proteobacteria;c__Alphaproteobacteria;o__Rs-D84;f__Rs-D84;g__Enterousia (13)\n",
      "d__Bacteria;p__Firmicutes_A;c__Clostridia;o__TANB77;f__CAG-508;g__CAG-269 (13)\n",
      "d__Bacteria;p__Firmicutes_A;c__Clostridia;o__Oscillospirales;f__Oscillospiraceae;g__Faecousia (13)\n",
      "d__Bacteria;p__Firmicutes_A;c__Clostridia;o__Lachnospirales;f__Lachnospiraceae;g__Blautia_A (13)\n",
      "d__Bacteria;p__Firmicutes_A;c__Clostridia;o__Oscillospirales;f__Acutalibacteraceae;g__UBA1213 (13)\n",
      "d__Bacteria;p__Bacteroidota;c__Bacteroidia;o__Bacteroidales;f__Bacteroidaceae;g__Alloprevotella (12)\n",
      "d__Bacteria;p__Proteobacteria;c__Gammaproteobacteria;o__Pseudomonadales;f__Litoricolaceae;g__HIMB30 (11)\n",
      "d__Bacteria;p__Spirochaetota;c__Spirochaetia;o__Treponematales;f__Treponemataceae;g__Treponema_D (11)\n",
      "d__Bacteria;p__Firmicutes_A;c__Clostridia;o__Peptostreptococcales;f__Anaerovoracaceae;g__Copromorpha (11)\n",
      "...\n"
     ]
    }
   ],
   "source": [
    "\n",
    "\n",
    "def sp_reps_that_failed():\n",
    "\n",
    "    # Set masks\n",
    "    mask_failed_pro = DF['pass.GUNC_pro'] == False\n",
    "    mask_failed_gtdb = DF['pass.GUNC_gtdb'] == False\n",
    "    mask_failed_all = mask_failed_pro | mask_failed_gtdb\n",
    "    mask_sp_reps = DF['gtdb_representative'] == 't'\n",
    "\n",
    "    # Set slices\n",
    "    df_failed_pro = DF[mask_failed_pro & mask_sp_reps]\n",
    "    df_failed_gtdb = DF[mask_failed_gtdb & mask_sp_reps]\n",
    "    df_failed_all = DF[mask_failed_all & mask_sp_reps]\n",
    "\n",
    "    d_domain = Counter(df_failed_all['domain'])\n",
    "    print(d_domain)\n",
    "\n",
    "    d_phylum = Counter(df_failed_all['gtdb_taxonomy'].apply(lambda x: ';'.join(x.split(';')[0:6])))\n",
    "\n",
    "    i = 0\n",
    "    for k, v in sorted(d_phylum.items(), key=lambda x: x[1], reverse=True):\n",
    "        if k.startswith('d__Bacteria'):\n",
    "            print(f'{k} ({v:,})')\n",
    "            i += 1\n",
    "\n",
    "        if i > 20:\n",
    "            print('...')\n",
    "            break\n",
    "\n",
    "\n",
    "\n",
    "    return\n",
    "\n",
    "sp_reps_that_failed()\n",
    "\n"
   ],
   "metadata": {
    "collapsed": false,
    "pycharm": {
     "name": "#%%\n"
    }
   }
  },
  {
   "cell_type": "code",
   "execution_count": 13,
   "outputs": [
    {
     "name": "stdout",
     "output_type": "stream",
     "text": [
      "35723\n"
     ]
    },
    {
     "data": {
      "text/plain": "<Figure size 720x576 with 1 Axes>",
      "image/png": "[encoded data removed]"
     },
     "metadata": {
      "needs_background": "light"
     },
     "output_type": "display_data"
    }
   ],
   "source": [
    "def pass_vs_fail_category():\n",
    "\n",
    "    # Set masks\n",
    "    mask_failed_pro = DF['pass.GUNC_pro'] == False\n",
    "    mask_failed_gtdb = DF['pass.GUNC_gtdb'] == False\n",
    "\n",
    "    mask_failed_all = mask_failed_pro | mask_failed_gtdb\n",
    "    mask_pass_all = ~mask_failed_all\n",
    "\n",
    "    df_failed_all = DF[mask_failed_all]\n",
    "    df_pass_all = DF[mask_pass_all]\n",
    "\n",
    "    print(len(df_failed_all))\n",
    "\n",
    "    all_counts = Counter(df_pass_all['ncbi_genome_category'])\n",
    "    all_data = {\n",
    "        'Isolate': all_counts['none'],\n",
    "        'ENV': all_counts['derived from environmental sample'],\n",
    "        'MAG': all_counts['derived from metagenome'],\n",
    "        'SAG': all_counts['derived from single cell'],\n",
    "    }\n",
    "\n",
    "    fail_counts = Counter(df_failed_all['ncbi_genome_category'])\n",
    "    fail_data = {\n",
    "        'Isolate': fail_counts['none'],\n",
    "        'ENV': fail_counts['derived from environmental sample'],\n",
    "        'MAG': fail_counts['derived from metagenome'],\n",
    "        'SAG': fail_counts['derived from single cell'],\n",
    "    }\n",
    "\n",
    "\n",
    "    all_data_norm = {k:  v / (v + fail_data[k]) * 100 for k, v in all_data.items()}\n",
    "    fail_data_norm = {k: v/ (v + all_data[k]) * 100 for k, v in fail_data.items()}\n",
    "\n",
    "    plt.rcParams.update({'font.size': 18})\n",
    "    fig, ax = plt.subplots( figsize=(10, 8))\n",
    "\n",
    "    # ax.set_ylabel('Count')\n",
    "    # ax.set_xlabel('NCBI Genome Category')\n",
    "    bars = ax.bar(all_data_norm.keys(), all_data_norm.values(), label='pass')\n",
    "    fail_bars = ax.bar(fail_data_norm.keys(), fail_data_norm.values(), label='fail')\n",
    "    plt.bar_label(bars, fmt='pass %g')\n",
    "    plt.bar_label(fail_bars, padding=20, fmt='fail %g')\n",
    "\n",
    "    ax.set_ylim(0, 100)\n",
    "\n",
    "    # plt.title('NCBI genome category for GUNC pass/fail genomes')\n",
    "\n",
    "\n",
    "    plt.rcParams.update({'font.size': 12})\n",
    "    plt.rcParams['svg.fonttype'] = 'none'\n",
    "    # plt.legend()\n",
    "    # plt.grid(True)\n",
    "    # plt.show()\n",
    "\n",
    "    plt.savefig('/tmp/category.svg')\n",
    "\n",
    "    return\n",
    "\n",
    "pass_vs_fail_category()"
   ],
   "metadata": {
    "collapsed": false,
    "pycharm": {
     "name": "#%%\n"
    }
   }
  },
  {
   "cell_type": "code",
   "execution_count": 7,
   "outputs": [
    {
     "name": "stdout",
     "output_type": "stream",
     "text": [
      "35723\n"
     ]
    },
    {
     "data": {
      "text/plain": "<Figure size 720x576 with 1 Axes>",
      "image/png": "[encoded data removed]"
     },
     "metadata": {
      "needs_background": "light"
     },
     "output_type": "display_data"
    }
   ],
   "source": [
    "def pass_vs_fail_category():\n",
    "\n",
    "    # Set masks\n",
    "    mask_failed_pro = DF['pass.GUNC_pro'] == False\n",
    "    mask_failed_gtdb = DF['pass.GUNC_gtdb'] == False\n",
    "\n",
    "    mask_failed_all = mask_failed_pro | mask_failed_gtdb\n",
    "    mask_pass_all = ~mask_failed_all\n",
    "\n",
    "    df_failed_all = DF[mask_failed_all]\n",
    "    df_pass_all = DF[mask_pass_all]\n",
    "\n",
    "    print(len(df_failed_all))\n",
    "\n",
    "    all_counts = Counter(df_pass_all['ncbi_genome_category'])\n",
    "    all_data = {\n",
    "        'Isolate': all_counts['none'],\n",
    "        'ENV': all_counts['derived from environmental sample'],\n",
    "        'MAG': all_counts['derived from metagenome'],\n",
    "        'SAG': all_counts['derived from single cell'],\n",
    "    }\n",
    "\n",
    "    fail_counts = Counter(df_failed_all['ncbi_genome_category'])\n",
    "    fail_data = {\n",
    "        'Isolate': fail_counts['none'],\n",
    "        'ENV': fail_counts['derived from environmental sample'],\n",
    "        'MAG': fail_counts['derived from metagenome'],\n",
    "        'SAG': fail_counts['derived from single cell'],\n",
    "    }\n",
    "\n",
    "\n",
    "    all_data_norm = {k:  v / (v + fail_data[k]) * 100 for k, v in all_data.items()}\n",
    "    fail_data_norm = {k: v/ (v + all_data[k]) * 100 for k, v in fail_data.items()}\n",
    "\n",
    "    plt.rcParams.update({'font.size': 18})\n",
    "    fig, ax = plt.subplots( figsize=(10, 8))\n",
    "\n",
    "    # ax.set_ylabel('Count')\n",
    "    # ax.set_xlabel('NCBI Genome Category')\n",
    "    bars = ax.bar(all_data.keys(), all_data.values(), label='pass')\n",
    "    fail_bars = ax.bar(fail_data.keys(), fail_data.values(), label='fail')\n",
    "    plt.bar_label(bars, fmt='pass %g')\n",
    "    plt.bar_label(fail_bars, padding=20, fmt='fail %g')\n",
    "\n",
    "    # plt.title('NCBI genome category for GUNC pass/fail genomes')\n",
    "\n",
    "\n",
    "    plt.rcParams.update({'font.size': 12})\n",
    "    # plt.legend()\n",
    "    # plt.grid(True)\n",
    "    # plt.show()\n",
    "\n",
    "    # plt.savefig('/tmp/category.svg')\n",
    "\n",
    "    return\n",
    "\n",
    "pass_vs_fail_category()"
   ],
   "metadata": {
    "collapsed": false,
    "pycharm": {
     "name": "#%%\n"
    }
   }
  },
  {
   "cell_type": "code",
   "execution_count": 8,
   "outputs": [
    {
     "ename": "KeyError",
     "evalue": "'pass.GUNC'",
     "output_type": "error",
     "traceback": [
      "\u001B[0;31m---------------------------------------------------------------------------\u001B[0m",
      "\u001B[0;31mKeyError\u001B[0m                                  Traceback (most recent call last)",
      "File \u001B[0;32m~/opt/miniconda3/envs/gunc-chimeras/lib/python3.8/site-packages/pandas/core/indexes/base.py:3361\u001B[0m, in \u001B[0;36mIndex.get_loc\u001B[0;34m(self, key, method, tolerance)\u001B[0m\n\u001B[1;32m   3360\u001B[0m \u001B[38;5;28;01mtry\u001B[39;00m:\n\u001B[0;32m-> 3361\u001B[0m     \u001B[38;5;28;01mreturn\u001B[39;00m \u001B[38;5;28;43mself\u001B[39;49m\u001B[38;5;241;43m.\u001B[39;49m\u001B[43m_engine\u001B[49m\u001B[38;5;241;43m.\u001B[39;49m\u001B[43mget_loc\u001B[49m\u001B[43m(\u001B[49m\u001B[43mcasted_key\u001B[49m\u001B[43m)\u001B[49m\n\u001B[1;32m   3362\u001B[0m \u001B[38;5;28;01mexcept\u001B[39;00m \u001B[38;5;167;01mKeyError\u001B[39;00m \u001B[38;5;28;01mas\u001B[39;00m err:\n",
      "File \u001B[0;32m~/opt/miniconda3/envs/gunc-chimeras/lib/python3.8/site-packages/pandas/_libs/index.pyx:76\u001B[0m, in \u001B[0;36mpandas._libs.index.IndexEngine.get_loc\u001B[0;34m()\u001B[0m\n",
      "File \u001B[0;32m~/opt/miniconda3/envs/gunc-chimeras/lib/python3.8/site-packages/pandas/_libs/index.pyx:108\u001B[0m, in \u001B[0;36mpandas._libs.index.IndexEngine.get_loc\u001B[0;34m()\u001B[0m\n",
      "File \u001B[0;32mpandas/_libs/hashtable_class_helper.pxi:5198\u001B[0m, in \u001B[0;36mpandas._libs.hashtable.PyObjectHashTable.get_item\u001B[0;34m()\u001B[0m\n",
      "File \u001B[0;32mpandas/_libs/hashtable_class_helper.pxi:5206\u001B[0m, in \u001B[0;36mpandas._libs.hashtable.PyObjectHashTable.get_item\u001B[0;34m()\u001B[0m\n",
      "\u001B[0;31mKeyError\u001B[0m: 'pass.GUNC'",
      "\nThe above exception was the direct cause of the following exception:\n",
      "\u001B[0;31mKeyError\u001B[0m                                  Traceback (most recent call last)",
      "Input \u001B[0;32mIn [8]\u001B[0m, in \u001B[0;36m<cell line: 43>\u001B[0;34m()\u001B[0m\n\u001B[1;32m     39\u001B[0m     \u001B[38;5;28mprint\u001B[39m(\u001B[38;5;124m'\u001B[39m\u001B[38;5;124mfail\u001B[39m\u001B[38;5;124m'\u001B[39m, fail_data)\n\u001B[1;32m     41\u001B[0m     \u001B[38;5;28;01mreturn\u001B[39;00m\n\u001B[0;32m---> 43\u001B[0m \u001B[43mncbi_assembly_level\u001B[49m\u001B[43m(\u001B[49m\u001B[43m)\u001B[49m\n",
      "Input \u001B[0;32mIn [8]\u001B[0m, in \u001B[0;36mncbi_assembly_level\u001B[0;34m()\u001B[0m\n\u001B[1;32m      1\u001B[0m \u001B[38;5;28;01mdef\u001B[39;00m \u001B[38;5;21mncbi_assembly_level\u001B[39m():\n\u001B[0;32m----> 2\u001B[0m     df_fail \u001B[38;5;241m=\u001B[39m DF[\u001B[43mDF\u001B[49m\u001B[43m[\u001B[49m\u001B[38;5;124;43m'\u001B[39;49m\u001B[38;5;124;43mpass.GUNC\u001B[39;49m\u001B[38;5;124;43m'\u001B[39;49m\u001B[43m]\u001B[49m \u001B[38;5;241m==\u001B[39m \u001B[38;5;28;01mFalse\u001B[39;00m]\n\u001B[1;32m      3\u001B[0m     df_pass \u001B[38;5;241m=\u001B[39m DF[DF[\u001B[38;5;124m'\u001B[39m\u001B[38;5;124mpass.GUNC\u001B[39m\u001B[38;5;124m'\u001B[39m] \u001B[38;5;241m==\u001B[39m \u001B[38;5;28;01mTrue\u001B[39;00m]\n\u001B[1;32m      5\u001B[0m     all_counts \u001B[38;5;241m=\u001B[39m Counter(df_pass[\u001B[38;5;124m'\u001B[39m\u001B[38;5;124mncbi_assembly_level\u001B[39m\u001B[38;5;124m'\u001B[39m])\n",
      "File \u001B[0;32m~/opt/miniconda3/envs/gunc-chimeras/lib/python3.8/site-packages/pandas/core/frame.py:3455\u001B[0m, in \u001B[0;36mDataFrame.__getitem__\u001B[0;34m(self, key)\u001B[0m\n\u001B[1;32m   3453\u001B[0m \u001B[38;5;28;01mif\u001B[39;00m \u001B[38;5;28mself\u001B[39m\u001B[38;5;241m.\u001B[39mcolumns\u001B[38;5;241m.\u001B[39mnlevels \u001B[38;5;241m>\u001B[39m \u001B[38;5;241m1\u001B[39m:\n\u001B[1;32m   3454\u001B[0m     \u001B[38;5;28;01mreturn\u001B[39;00m \u001B[38;5;28mself\u001B[39m\u001B[38;5;241m.\u001B[39m_getitem_multilevel(key)\n\u001B[0;32m-> 3455\u001B[0m indexer \u001B[38;5;241m=\u001B[39m \u001B[38;5;28;43mself\u001B[39;49m\u001B[38;5;241;43m.\u001B[39;49m\u001B[43mcolumns\u001B[49m\u001B[38;5;241;43m.\u001B[39;49m\u001B[43mget_loc\u001B[49m\u001B[43m(\u001B[49m\u001B[43mkey\u001B[49m\u001B[43m)\u001B[49m\n\u001B[1;32m   3456\u001B[0m \u001B[38;5;28;01mif\u001B[39;00m is_integer(indexer):\n\u001B[1;32m   3457\u001B[0m     indexer \u001B[38;5;241m=\u001B[39m [indexer]\n",
      "File \u001B[0;32m~/opt/miniconda3/envs/gunc-chimeras/lib/python3.8/site-packages/pandas/core/indexes/base.py:3363\u001B[0m, in \u001B[0;36mIndex.get_loc\u001B[0;34m(self, key, method, tolerance)\u001B[0m\n\u001B[1;32m   3361\u001B[0m         \u001B[38;5;28;01mreturn\u001B[39;00m \u001B[38;5;28mself\u001B[39m\u001B[38;5;241m.\u001B[39m_engine\u001B[38;5;241m.\u001B[39mget_loc(casted_key)\n\u001B[1;32m   3362\u001B[0m     \u001B[38;5;28;01mexcept\u001B[39;00m \u001B[38;5;167;01mKeyError\u001B[39;00m \u001B[38;5;28;01mas\u001B[39;00m err:\n\u001B[0;32m-> 3363\u001B[0m         \u001B[38;5;28;01mraise\u001B[39;00m \u001B[38;5;167;01mKeyError\u001B[39;00m(key) \u001B[38;5;28;01mfrom\u001B[39;00m \u001B[38;5;21;01merr\u001B[39;00m\n\u001B[1;32m   3365\u001B[0m \u001B[38;5;28;01mif\u001B[39;00m is_scalar(key) \u001B[38;5;129;01mand\u001B[39;00m isna(key) \u001B[38;5;129;01mand\u001B[39;00m \u001B[38;5;129;01mnot\u001B[39;00m \u001B[38;5;28mself\u001B[39m\u001B[38;5;241m.\u001B[39mhasnans:\n\u001B[1;32m   3366\u001B[0m     \u001B[38;5;28;01mraise\u001B[39;00m \u001B[38;5;167;01mKeyError\u001B[39;00m(key)\n",
      "\u001B[0;31mKeyError\u001B[0m: 'pass.GUNC'"
     ]
    }
   ],
   "source": [
    "def ncbi_assembly_level():\n",
    "    df_fail = DF[DF['pass.GUNC'] == False]\n",
    "    df_pass = DF[DF['pass.GUNC'] == True]\n",
    "\n",
    "    all_counts = Counter(df_pass['ncbi_assembly_level'])\n",
    "    print(all_counts)\n",
    "    all_data = {\n",
    "        'Contig': all_counts['Contig'],\n",
    "        'Scaffold': all_counts['Scaffold'],\n",
    "        'Chromosome': all_counts['Chromosome'],\n",
    "        'Complete Genome': all_counts['Complete Genome'],\n",
    "        'none': all_counts['none'],\n",
    "    }\n",
    "\n",
    "    fail_counts = Counter(df_fail['ncbi_assembly_level'])\n",
    "    fail_data = {\n",
    "        'Contig': fail_counts['Contig'],\n",
    "        'Scaffold': fail_counts['Scaffold'],\n",
    "        'Chromosome': fail_counts['Chromosome'],\n",
    "        'Complete Genome': fail_counts['Complete Genome'],\n",
    "        'none': fail_counts['none'],\n",
    "    }\n",
    "    fig, ax = plt.subplots( figsize=(10, 8))\n",
    "\n",
    "    ax.set_ylabel('Count')\n",
    "    ax.set_xlabel('NCBI Genome Category')\n",
    "    bars = ax.bar(all_data.keys(), all_data.values(), label='pass')\n",
    "    fail_bars = ax.bar(fail_data.keys(), fail_data.values(), label='fail')\n",
    "    plt.bar_label(bars, fmt='pass %g')\n",
    "    plt.bar_label(fail_bars, padding=25, fmt='fail %g')\n",
    "\n",
    "    plt.title('NCBI assembly level for GUNC pass/fail genomes')\n",
    "\n",
    "\n",
    "    plt.legend()\n",
    "    plt.show()\n",
    "\n",
    "    print('pass', all_data)\n",
    "    print('fail', fail_data)\n",
    "\n",
    "    return\n",
    "\n",
    "ncbi_assembly_level()"
   ],
   "metadata": {
    "collapsed": false,
    "pycharm": {
     "name": "#%%\n"
    }
   }
  },
  {
   "cell_type": "code",
   "execution_count": null,
   "outputs": [],
   "source": [
    "def fail_tax_level():\n",
    "    df_fail = DF[DF['pass.GUNC'] == False]\n",
    "\n",
    "    fig, ax = plt.subplots(figsize=(10, 7))\n",
    "    plt.title('Taxonomic level at which genomes failed GUNC')\n",
    "\n",
    "    df_counts = Counter(df_fail['taxonomic_level'])\n",
    "    data = {\n",
    "        'Genus': df_counts['genus'],\n",
    "        'Family': df_counts['family'],\n",
    "        'Order': df_counts['order'],\n",
    "        'Class': df_counts['class'],\n",
    "        'Phylum': df_counts['phylum'],\n",
    "        'Domain': df_counts['kingdom'],\n",
    "    }\n",
    "\n",
    "    ax.set_ylabel('Count')\n",
    "    ax.set_xlabel('Taxonomic level')\n",
    "    bars = ax.bar(data.keys(), data.values())\n",
    "    plt.bar_label(bars)\n",
    "\n",
    "    plt.show()\n",
    "    return\n",
    "\n",
    "fail_tax_level()"
   ],
   "metadata": {
    "collapsed": false,
    "pycharm": {
     "name": "#%%\n"
    }
   }
  },
  {
   "cell_type": "code",
   "execution_count": null,
   "outputs": [],
   "source": [
    "def histogram_of_css_scores():\n",
    "\n",
    "    mask_fail = DF['pass.GUNC'] == False\n",
    "\n",
    "    df_fail = DF[mask_fail]\n",
    "\n",
    "    fig, ax = plt.subplots(figsize=(10, 7))\n",
    "    plt.title('Distribution of maximum CSS for failed genomes')\n",
    "\n",
    "    sns.histplot(df_fail, x='clade_separation_score', ax=ax)\n",
    "\n",
    "    ax.set_ylabel('Count')\n",
    "    ax.set_xlabel('Maximum clade separation score (CSS)')\n",
    "\n",
    "    plt.show()\n",
    "\n",
    "    return\n",
    "histogram_of_css_scores()"
   ],
   "metadata": {
    "collapsed": false,
    "pycharm": {
     "name": "#%%\n"
    }
   }
  }
 ],
 "metadata": {
  "kernelspec": {
   "display_name": "Python 3",
   "language": "python",
   "name": "python3"
  },
  "language_info": {
   "codemirror_mode": {
    "name": "ipython",
    "version": 2
   },
   "file_extension": ".py",
   "mimetype": "text/x-python",
   "name": "python",
   "nbconvert_exporter": "python",
   "pygments_lexer": "ipython2",
   "version": "2.7.6"
  }
 },
 "nbformat": 4,
 "nbformat_minor": 0
}