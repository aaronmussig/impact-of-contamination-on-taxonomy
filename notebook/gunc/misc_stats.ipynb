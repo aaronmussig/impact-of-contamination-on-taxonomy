{
 "cells": [
  {
   "cell_type": "code",
   "execution_count": 1,
   "metadata": {
    "collapsed": true
   },
   "outputs": [],
   "source": [
    "import sys\n",
    "\n",
    "\n",
    "sys.path.append(\"/Users/aaron/phd/impact-of-contamination-on-taxonomy\")"
   ]
  },
  {
   "cell_type": "code",
   "execution_count": 9,
   "outputs": [],
   "source": [
    "from workflow.external.gtdb_metadata import GtdbMetadataR207\n",
    "from tqdm import tqdm\n",
    "from collections import defaultdict\n",
    "\n",
    "from matplotlib.ticker import ScalarFormatter, NullFormatter\n",
    "import pandas as pd\n",
    "import matplotlib.pyplot as plt\n",
    "from workflow.gunc_helper.aggregate_max_css_level_merged import AggregateMaxCssLevelMerged"
   ],
   "metadata": {
    "collapsed": false
   }
  },
  {
   "cell_type": "code",
   "execution_count": 3,
   "outputs": [
    {
     "name": "stdout",
     "output_type": "stream",
     "text": [
      "[12/02/2023 10:14:09] - 40.6MiB = /srv/home/uqamussi/projects/gunc-chimeras/output/external/gtdb_r207_metadata.h5 -> /tmp/gunc-cache/srv/home/uqamussi/projects/gunc-chimeras/output/external/gtdb_r207_metadata.h5\n"
     ]
    },
    {
     "data": {
      "text/plain": "                 ambiguous_bases  checkm_completeness  checkm_contamination  \\\ngid                                                                           \nGCA_000006155.2             1916                93.12                   0.0   \nGCA_000007325.1                1                99.95                   0.0   \nGCA_000007385.1                0                99.82                   0.0   \nGCA_000008085.1                0                73.13                   0.0   \nGCA_000008885.1                0               100.00                   0.0   \n\n                 checkm_marker_count             checkm_marker_lineage  \\\ngid                                                                      \nGCA_000006155.2                 1171              g__Bacillus (UID902)   \nGCA_000007325.1                  149             k__Bacteria (UID2329)   \nGCA_000007385.1                  481  c__Gammaproteobacteria (UID4202)   \nGCA_000008085.1                  149                 k__Archaea (UID2)   \nGCA_000008885.1                  134             k__Bacteria (UID2495)   \n\n                 checkm_marker_set_count  checkm_strain_heterogeneity  \\\ngid                                                                     \nGCA_000006155.2                      324                          0.0   \nGCA_000007325.1                       89                          0.0   \nGCA_000007385.1                      276                          0.0   \nGCA_000008085.1                      107                          0.0   \nGCA_000008885.1                       80                          0.0   \n\n                 coding_bases  coding_density  contig_count  ...  \\\ngid                                                          ...   \nGCA_000006155.2       4305660       80.178992           426  ...   \nGCA_000007325.1       1973459       90.754610             1  ...   \nGCA_000007385.1       4190634       84.805944             1  ...   \nGCA_000008085.1        462902       94.299480             1  ...   \nGCA_000008885.1        617456       87.831079             2  ...   \n\n                 gtdb_type_species_of_genus  \\\ngid                                           \nGCA_000006155.2                           f   \nGCA_000007325.1                           t   \nGCA_000007385.1                           f   \nGCA_000008085.1                           t   \nGCA_000008885.1                           f   \n\n                                                     ncbi_taxonomy  \\\ngid                                                                  \nGCA_000006155.2  d__Bacteria;p__Firmicutes;c__Bacilli;o__Bacill...   \nGCA_000007325.1  d__Bacteria;p__Fusobacteria;c__Fusobacteriia;o...   \nGCA_000007385.1  d__Bacteria;p__Proteobacteria;c__Gammaproteoba...   \nGCA_000008085.1  d__Archaea;p__Nanoarchaeota;c__;o__Nanoarchaea...   \nGCA_000008885.1  d__Bacteria;p__Proteobacteria;c__Gammaproteoba...   \n\n                                          ncbi_taxonomy_unfiltered  \\\ngid                                                                  \nGCA_000006155.2  d__Bacteria;x__Terrabacteria group;p__Firmicut...   \nGCA_000007325.1  d__Bacteria;p__Fusobacteria;c__Fusobacteriia;o...   \nGCA_000007385.1  d__Bacteria;p__Proteobacteria;c__Gammaproteoba...   \nGCA_000008085.1  d__Archaea;x__DPANN group;p__Nanoarchaeota;o__...   \nGCA_000008885.1  d__Bacteria;p__Proteobacteria;c__Gammaproteoba...   \n\n                      domain             phylum                   class  \\\ngid                                                                       \nGCA_000006155.2  d__Bacteria      p__Firmicutes              c__Bacilli   \nGCA_000007325.1  d__Bacteria  p__Fusobacteriota        c__Fusobacteriia   \nGCA_000007385.1  d__Bacteria  p__Proteobacteria  c__Gammaproteobacteria   \nGCA_000008085.1   d__Archaea   p__Nanoarchaeota         c__Nanoarchaeia   \nGCA_000008885.1  d__Bacteria  p__Proteobacteria  c__Gammaproteobacteria   \n\n                                 order                   family  \\\ngid                                                               \nGCA_000006155.2          o__Bacillales         f__Bacillaceae_G   \nGCA_000007325.1     o__Fusobacteriales      f__Fusobacteriaceae   \nGCA_000007385.1     o__Xanthomonadales      f__Xanthomonadaceae   \nGCA_000008085.1      o__Nanoarchaeales       f__Nanoarchaeaceae   \nGCA_000008885.1  o__Enterobacterales_A  f__Enterobacteriaceae_A   \n\n                             genus                          species  \ngid                                                                  \nGCA_000006155.2      g__Bacillus_A          s__Bacillus_A anthracis  \nGCA_000007325.1   g__Fusobacterium       s__Fusobacterium nucleatum  \nGCA_000007385.1     g__Xanthomonas            s__Xanthomonas oryzae  \nGCA_000008085.1    g__Nanoarchaeum         s__Nanoarchaeum equitans  \nGCA_000008885.1  g__Wigglesworthia  s__Wigglesworthia glossinidia_A  \n\n[5 rows x 28 columns]",
      "text/html": "<div>\n<style scoped>\n    .dataframe tbody tr th:only-of-type {\n        vertical-align: middle;\n    }\n\n    .dataframe tbody tr th {\n        vertical-align: top;\n    }\n\n    .dataframe thead th {\n        text-align: right;\n    }\n</style>\n<table border=\"1\" class=\"dataframe\">\n  <thead>\n    <tr style=\"text-align: right;\">\n      <th></th>\n      <th>ambiguous_bases</th>\n      <th>checkm_completeness</th>\n      <th>checkm_contamination</th>\n      <th>checkm_marker_count</th>\n      <th>checkm_marker_lineage</th>\n      <th>checkm_marker_set_count</th>\n      <th>checkm_strain_heterogeneity</th>\n      <th>coding_bases</th>\n      <th>coding_density</th>\n      <th>contig_count</th>\n      <th>...</th>\n      <th>gtdb_type_species_of_genus</th>\n      <th>ncbi_taxonomy</th>\n      <th>ncbi_taxonomy_unfiltered</th>\n      <th>domain</th>\n      <th>phylum</th>\n      <th>class</th>\n      <th>order</th>\n      <th>family</th>\n      <th>genus</th>\n      <th>species</th>\n    </tr>\n    <tr>\n      <th>gid</th>\n      <th></th>\n      <th></th>\n      <th></th>\n      <th></th>\n      <th></th>\n      <th></th>\n      <th></th>\n      <th></th>\n      <th></th>\n      <th></th>\n      <th></th>\n      <th></th>\n      <th></th>\n      <th></th>\n      <th></th>\n      <th></th>\n      <th></th>\n      <th></th>\n      <th></th>\n      <th></th>\n      <th></th>\n    </tr>\n  </thead>\n  <tbody>\n    <tr>\n      <th>GCA_000006155.2</th>\n      <td>1916</td>\n      <td>93.12</td>\n      <td>0.0</td>\n      <td>1171</td>\n      <td>g__Bacillus (UID902)</td>\n      <td>324</td>\n      <td>0.0</td>\n      <td>4305660</td>\n      <td>80.178992</td>\n      <td>426</td>\n      <td>...</td>\n      <td>f</td>\n      <td>d__Bacteria;p__Firmicutes;c__Bacilli;o__Bacill...</td>\n      <td>d__Bacteria;x__Terrabacteria group;p__Firmicut...</td>\n      <td>d__Bacteria</td>\n      <td>p__Firmicutes</td>\n      <td>c__Bacilli</td>\n      <td>o__Bacillales</td>\n      <td>f__Bacillaceae_G</td>\n      <td>g__Bacillus_A</td>\n      <td>s__Bacillus_A anthracis</td>\n    </tr>\n    <tr>\n      <th>GCA_000007325.1</th>\n      <td>1</td>\n      <td>99.95</td>\n      <td>0.0</td>\n      <td>149</td>\n      <td>k__Bacteria (UID2329)</td>\n      <td>89</td>\n      <td>0.0</td>\n      <td>1973459</td>\n      <td>90.754610</td>\n      <td>1</td>\n      <td>...</td>\n      <td>t</td>\n      <td>d__Bacteria;p__Fusobacteria;c__Fusobacteriia;o...</td>\n      <td>d__Bacteria;p__Fusobacteria;c__Fusobacteriia;o...</td>\n      <td>d__Bacteria</td>\n      <td>p__Fusobacteriota</td>\n      <td>c__Fusobacteriia</td>\n      <td>o__Fusobacteriales</td>\n      <td>f__Fusobacteriaceae</td>\n      <td>g__Fusobacterium</td>\n      <td>s__Fusobacterium nucleatum</td>\n    </tr>\n    <tr>\n      <th>GCA_000007385.1</th>\n      <td>0</td>\n      <td>99.82</td>\n      <td>0.0</td>\n      <td>481</td>\n      <td>c__Gammaproteobacteria (UID4202)</td>\n      <td>276</td>\n      <td>0.0</td>\n      <td>4190634</td>\n      <td>84.805944</td>\n      <td>1</td>\n      <td>...</td>\n      <td>f</td>\n      <td>d__Bacteria;p__Proteobacteria;c__Gammaproteoba...</td>\n      <td>d__Bacteria;p__Proteobacteria;c__Gammaproteoba...</td>\n      <td>d__Bacteria</td>\n      <td>p__Proteobacteria</td>\n      <td>c__Gammaproteobacteria</td>\n      <td>o__Xanthomonadales</td>\n      <td>f__Xanthomonadaceae</td>\n      <td>g__Xanthomonas</td>\n      <td>s__Xanthomonas oryzae</td>\n    </tr>\n    <tr>\n      <th>GCA_000008085.1</th>\n      <td>0</td>\n      <td>73.13</td>\n      <td>0.0</td>\n      <td>149</td>\n      <td>k__Archaea (UID2)</td>\n      <td>107</td>\n      <td>0.0</td>\n      <td>462902</td>\n      <td>94.299480</td>\n      <td>1</td>\n      <td>...</td>\n      <td>t</td>\n      <td>d__Archaea;p__Nanoarchaeota;c__;o__Nanoarchaea...</td>\n      <td>d__Archaea;x__DPANN group;p__Nanoarchaeota;o__...</td>\n      <td>d__Archaea</td>\n      <td>p__Nanoarchaeota</td>\n      <td>c__Nanoarchaeia</td>\n      <td>o__Nanoarchaeales</td>\n      <td>f__Nanoarchaeaceae</td>\n      <td>g__Nanoarchaeum</td>\n      <td>s__Nanoarchaeum equitans</td>\n    </tr>\n    <tr>\n      <th>GCA_000008885.1</th>\n      <td>0</td>\n      <td>100.00</td>\n      <td>0.0</td>\n      <td>134</td>\n      <td>k__Bacteria (UID2495)</td>\n      <td>80</td>\n      <td>0.0</td>\n      <td>617456</td>\n      <td>87.831079</td>\n      <td>2</td>\n      <td>...</td>\n      <td>f</td>\n      <td>d__Bacteria;p__Proteobacteria;c__Gammaproteoba...</td>\n      <td>d__Bacteria;p__Proteobacteria;c__Gammaproteoba...</td>\n      <td>d__Bacteria</td>\n      <td>p__Proteobacteria</td>\n      <td>c__Gammaproteobacteria</td>\n      <td>o__Enterobacterales_A</td>\n      <td>f__Enterobacteriaceae_A</td>\n      <td>g__Wigglesworthia</td>\n      <td>s__Wigglesworthia glossinidia_A</td>\n    </tr>\n  </tbody>\n</table>\n<p>5 rows × 28 columns</p>\n</div>"
     },
     "execution_count": 3,
     "metadata": {},
     "output_type": "execute_result"
    }
   ],
   "source": [
    "DF_META = GtdbMetadataR207().output().read_cached()\n",
    "DF_META.head()"
   ],
   "metadata": {
    "collapsed": false
   }
  },
  {
   "cell_type": "code",
   "execution_count": 71,
   "outputs": [
    {
     "data": {
      "text/plain": "                 ambiguous_bases  checkm_completeness  checkm_contamination  \\\ngid                                                                           \nGCA_000006155.2             1916                93.12                   0.0   \nGCA_000007325.1                1                99.95                   0.0   \nGCA_000007385.1                0                99.82                   0.0   \nGCA_000008085.1                0                73.13                   0.0   \nGCA_000008885.1                0               100.00                   0.0   \n\n                 checkm_marker_count             checkm_marker_lineage  \\\ngid                                                                      \nGCA_000006155.2                 1171              g__Bacillus (UID902)   \nGCA_000007325.1                  149             k__Bacteria (UID2329)   \nGCA_000007385.1                  481  c__Gammaproteobacteria (UID4202)   \nGCA_000008085.1                  149                 k__Archaea (UID2)   \nGCA_000008885.1                  134             k__Bacteria (UID2495)   \n\n                 checkm_marker_set_count  checkm_strain_heterogeneity  \\\ngid                                                                     \nGCA_000006155.2                      324                          0.0   \nGCA_000007325.1                       89                          0.0   \nGCA_000007385.1                      276                          0.0   \nGCA_000008085.1                      107                          0.0   \nGCA_000008885.1                       80                          0.0   \n\n                 coding_bases  coding_density  contig_count  ...  \\\ngid                                                          ...   \nGCA_000006155.2       4305660       80.178992           426  ...   \nGCA_000007325.1       1973459       90.754610             1  ...   \nGCA_000007385.1       4190634       84.805944             1  ...   \nGCA_000008085.1        462902       94.299480             1  ...   \nGCA_000008885.1        617456       87.831079             2  ...   \n\n                 trna_aa_count  trna_count  trna_selenocysteine_count  \\\ngid                                                                     \nGCA_000006155.2             16          31                          0   \nGCA_000007325.1             20          47                          0   \nGCA_000007385.1             20          53                          0   \nGCA_000008085.1             17          38                          0   \nGCA_000008885.1             20          34                          0   \n\n                      domain             phylum                   class  \\\ngid                                                                       \nGCA_000006155.2  d__Bacteria      p__Firmicutes              c__Bacilli   \nGCA_000007325.1  d__Bacteria  p__Fusobacteriota        c__Fusobacteriia   \nGCA_000007385.1  d__Bacteria  p__Proteobacteria  c__Gammaproteobacteria   \nGCA_000008085.1   d__Archaea   p__Nanoarchaeota         c__Nanoarchaeia   \nGCA_000008885.1  d__Bacteria  p__Proteobacteria  c__Gammaproteobacteria   \n\n                                 order                   family  \\\ngid                                                               \nGCA_000006155.2          o__Bacillales         f__Bacillaceae_G   \nGCA_000007325.1     o__Fusobacteriales      f__Fusobacteriaceae   \nGCA_000007385.1     o__Xanthomonadales      f__Xanthomonadaceae   \nGCA_000008085.1      o__Nanoarchaeales       f__Nanoarchaeaceae   \nGCA_000008885.1  o__Enterobacterales_A  f__Enterobacteriaceae_A   \n\n                             genus                          species  \ngid                                                                  \nGCA_000006155.2      g__Bacillus_A          s__Bacillus_A anthracis  \nGCA_000007325.1   g__Fusobacterium       s__Fusobacterium nucleatum  \nGCA_000007385.1     g__Xanthomonas            s__Xanthomonas oryzae  \nGCA_000008085.1    g__Nanoarchaeum         s__Nanoarchaeum equitans  \nGCA_000008885.1  g__Wigglesworthia  s__Wigglesworthia glossinidia_A  \n\n[5 rows x 116 columns]",
      "text/html": "<div>\n<style scoped>\n    .dataframe tbody tr th:only-of-type {\n        vertical-align: middle;\n    }\n\n    .dataframe tbody tr th {\n        vertical-align: top;\n    }\n\n    .dataframe thead th {\n        text-align: right;\n    }\n</style>\n<table border=\"1\" class=\"dataframe\">\n  <thead>\n    <tr style=\"text-align: right;\">\n      <th></th>\n      <th>ambiguous_bases</th>\n      <th>checkm_completeness</th>\n      <th>checkm_contamination</th>\n      <th>checkm_marker_count</th>\n      <th>checkm_marker_lineage</th>\n      <th>checkm_marker_set_count</th>\n      <th>checkm_strain_heterogeneity</th>\n      <th>coding_bases</th>\n      <th>coding_density</th>\n      <th>contig_count</th>\n      <th>...</th>\n      <th>trna_aa_count</th>\n      <th>trna_count</th>\n      <th>trna_selenocysteine_count</th>\n      <th>domain</th>\n      <th>phylum</th>\n      <th>class</th>\n      <th>order</th>\n      <th>family</th>\n      <th>genus</th>\n      <th>species</th>\n    </tr>\n    <tr>\n      <th>gid</th>\n      <th></th>\n      <th></th>\n      <th></th>\n      <th></th>\n      <th></th>\n      <th></th>\n      <th></th>\n      <th></th>\n      <th></th>\n      <th></th>\n      <th></th>\n      <th></th>\n      <th></th>\n      <th></th>\n      <th></th>\n      <th></th>\n      <th></th>\n      <th></th>\n      <th></th>\n      <th></th>\n      <th></th>\n    </tr>\n  </thead>\n  <tbody>\n    <tr>\n      <th>GCA_000006155.2</th>\n      <td>1916</td>\n      <td>93.12</td>\n      <td>0.0</td>\n      <td>1171</td>\n      <td>g__Bacillus (UID902)</td>\n      <td>324</td>\n      <td>0.0</td>\n      <td>4305660</td>\n      <td>80.178992</td>\n      <td>426</td>\n      <td>...</td>\n      <td>16</td>\n      <td>31</td>\n      <td>0</td>\n      <td>d__Bacteria</td>\n      <td>p__Firmicutes</td>\n      <td>c__Bacilli</td>\n      <td>o__Bacillales</td>\n      <td>f__Bacillaceae_G</td>\n      <td>g__Bacillus_A</td>\n      <td>s__Bacillus_A anthracis</td>\n    </tr>\n    <tr>\n      <th>GCA_000007325.1</th>\n      <td>1</td>\n      <td>99.95</td>\n      <td>0.0</td>\n      <td>149</td>\n      <td>k__Bacteria (UID2329)</td>\n      <td>89</td>\n      <td>0.0</td>\n      <td>1973459</td>\n      <td>90.754610</td>\n      <td>1</td>\n      <td>...</td>\n      <td>20</td>\n      <td>47</td>\n      <td>0</td>\n      <td>d__Bacteria</td>\n      <td>p__Fusobacteriota</td>\n      <td>c__Fusobacteriia</td>\n      <td>o__Fusobacteriales</td>\n      <td>f__Fusobacteriaceae</td>\n      <td>g__Fusobacterium</td>\n      <td>s__Fusobacterium nucleatum</td>\n    </tr>\n    <tr>\n      <th>GCA_000007385.1</th>\n      <td>0</td>\n      <td>99.82</td>\n      <td>0.0</td>\n      <td>481</td>\n      <td>c__Gammaproteobacteria (UID4202)</td>\n      <td>276</td>\n      <td>0.0</td>\n      <td>4190634</td>\n      <td>84.805944</td>\n      <td>1</td>\n      <td>...</td>\n      <td>20</td>\n      <td>53</td>\n      <td>0</td>\n      <td>d__Bacteria</td>\n      <td>p__Proteobacteria</td>\n      <td>c__Gammaproteobacteria</td>\n      <td>o__Xanthomonadales</td>\n      <td>f__Xanthomonadaceae</td>\n      <td>g__Xanthomonas</td>\n      <td>s__Xanthomonas oryzae</td>\n    </tr>\n    <tr>\n      <th>GCA_000008085.1</th>\n      <td>0</td>\n      <td>73.13</td>\n      <td>0.0</td>\n      <td>149</td>\n      <td>k__Archaea (UID2)</td>\n      <td>107</td>\n      <td>0.0</td>\n      <td>462902</td>\n      <td>94.299480</td>\n      <td>1</td>\n      <td>...</td>\n      <td>17</td>\n      <td>38</td>\n      <td>0</td>\n      <td>d__Archaea</td>\n      <td>p__Nanoarchaeota</td>\n      <td>c__Nanoarchaeia</td>\n      <td>o__Nanoarchaeales</td>\n      <td>f__Nanoarchaeaceae</td>\n      <td>g__Nanoarchaeum</td>\n      <td>s__Nanoarchaeum equitans</td>\n    </tr>\n    <tr>\n      <th>GCA_000008885.1</th>\n      <td>0</td>\n      <td>100.00</td>\n      <td>0.0</td>\n      <td>134</td>\n      <td>k__Bacteria (UID2495)</td>\n      <td>80</td>\n      <td>0.0</td>\n      <td>617456</td>\n      <td>87.831079</td>\n      <td>2</td>\n      <td>...</td>\n      <td>20</td>\n      <td>34</td>\n      <td>0</td>\n      <td>d__Bacteria</td>\n      <td>p__Proteobacteria</td>\n      <td>c__Gammaproteobacteria</td>\n      <td>o__Enterobacterales_A</td>\n      <td>f__Enterobacteriaceae_A</td>\n      <td>g__Wigglesworthia</td>\n      <td>s__Wigglesworthia glossinidia_A</td>\n    </tr>\n  </tbody>\n</table>\n<p>5 rows × 116 columns</p>\n</div>"
     },
     "execution_count": 71,
     "metadata": {},
     "output_type": "execute_result"
    }
   ],
   "source": [
    "from workflow.external.gtdb_metadata import GtdbMetadataR207Full\n",
    "\n",
    "DF_META_FULL = GtdbMetadataR207Full().output().read_cached()\n",
    "DF_META_FULL.head()"
   ],
   "metadata": {
    "collapsed": false
   }
  },
  {
   "cell_type": "code",
   "execution_count": 14,
   "outputs": [],
   "source": [
    "D_GID_TO_TAX = DF_META['gtdb_taxonomy'].to_dict()"
   ],
   "metadata": {
    "collapsed": false
   }
  },
  {
   "cell_type": "code",
   "execution_count": 43,
   "outputs": [],
   "source": [
    "def get_rank_to_gids():\n",
    "    out = defaultdict(set)\n",
    "    for gid, tax in D_GID_TO_TAX.items():\n",
    "        for rank in tax.split(';'):\n",
    "            out[rank].add(gid)\n",
    "    return out\n",
    "\n",
    "D_RANK_TO_GIDS = get_rank_to_gids()"
   ],
   "metadata": {
    "collapsed": false
   }
  },
  {
   "cell_type": "code",
   "execution_count": 4,
   "outputs": [
    {
     "name": "stdout",
     "output_type": "stream",
     "text": [
      "[12/02/2023 10:16:33] - 1.9MiB = /srv/home/uqamussi/projects/gunc-chimeras/output/gunc_helper/gunc_merged_max_css_level.h5 -> /tmp/gunc-cache/srv/home/uqamussi/projects/gunc-chimeras/output/gunc_helper/gunc_merged_max_css_level.h5\n"
     ]
    },
    {
     "data": {
      "text/plain": "                 n_genes_called  n_genes_mapped  n_contigs taxonomic_level  \\\ngid                                                                          \nGCA_000143435.1            2189            2110          4           genus   \nGCA_000153745.1            2202            2165          2          family   \nGCA_000155005.1            6879            6313         84           genus   \nGCA_000161815.1            4499            4335          8           genus   \nGCA_000166735.2            3414            3247        793           genus   \n\n                 proportion_genes_retained_in_major_clades  \\\ngid                                                          \nGCA_000143435.1                                       0.89   \nGCA_000153745.1                                       0.92   \nGCA_000155005.1                                       0.87   \nGCA_000161815.1                                       0.80   \nGCA_000166735.2                                       0.94   \n\n                 genes_retained_index  clade_separation_score  \\\ngid                                                             \nGCA_000143435.1                  0.86                    0.55   \nGCA_000153745.1                  0.90                    0.49   \nGCA_000155005.1                  0.79                    0.79   \nGCA_000161815.1                  0.77                    0.50   \nGCA_000166735.2                  0.90                    0.57   \n\n                 contamination_portion  n_effective_surplus_clades  \\\ngid                                                                  \nGCA_000143435.1                   0.03                        0.06   \nGCA_000153745.1                   0.06                        0.12   \nGCA_000155005.1                   0.10                        0.22   \nGCA_000161815.1                   0.19                        0.50   \nGCA_000166735.2                   0.02                        0.05   \n\n                 mean_hit_identity  reference_representation_score  pass.GUNC  \\\ngid                                                                             \nGCA_000143435.1               0.95                            0.82      False   \nGCA_000153745.1               0.67                            0.61      False   \nGCA_000155005.1               0.97                            0.77      False   \nGCA_000161815.1               0.95                            0.74      False   \nGCA_000166735.2               0.93                            0.83      False   \n\n                     source  \ngid                          \nGCA_000143435.1        gtdb  \nGCA_000153745.1  progenomes  \nGCA_000155005.1        gtdb  \nGCA_000161815.1  progenomes  \nGCA_000166735.2  progenomes  ",
      "text/html": "<div>\n<style scoped>\n    .dataframe tbody tr th:only-of-type {\n        vertical-align: middle;\n    }\n\n    .dataframe tbody tr th {\n        vertical-align: top;\n    }\n\n    .dataframe thead th {\n        text-align: right;\n    }\n</style>\n<table border=\"1\" class=\"dataframe\">\n  <thead>\n    <tr style=\"text-align: right;\">\n      <th></th>\n      <th>n_genes_called</th>\n      <th>n_genes_mapped</th>\n      <th>n_contigs</th>\n      <th>taxonomic_level</th>\n      <th>proportion_genes_retained_in_major_clades</th>\n      <th>genes_retained_index</th>\n      <th>clade_separation_score</th>\n      <th>contamination_portion</th>\n      <th>n_effective_surplus_clades</th>\n      <th>mean_hit_identity</th>\n      <th>reference_representation_score</th>\n      <th>pass.GUNC</th>\n      <th>source</th>\n    </tr>\n    <tr>\n      <th>gid</th>\n      <th></th>\n      <th></th>\n      <th></th>\n      <th></th>\n      <th></th>\n      <th></th>\n      <th></th>\n      <th></th>\n      <th></th>\n      <th></th>\n      <th></th>\n      <th></th>\n      <th></th>\n    </tr>\n  </thead>\n  <tbody>\n    <tr>\n      <th>GCA_000143435.1</th>\n      <td>2189</td>\n      <td>2110</td>\n      <td>4</td>\n      <td>genus</td>\n      <td>0.89</td>\n      <td>0.86</td>\n      <td>0.55</td>\n      <td>0.03</td>\n      <td>0.06</td>\n      <td>0.95</td>\n      <td>0.82</td>\n      <td>False</td>\n      <td>gtdb</td>\n    </tr>\n    <tr>\n      <th>GCA_000153745.1</th>\n      <td>2202</td>\n      <td>2165</td>\n      <td>2</td>\n      <td>family</td>\n      <td>0.92</td>\n      <td>0.90</td>\n      <td>0.49</td>\n      <td>0.06</td>\n      <td>0.12</td>\n      <td>0.67</td>\n      <td>0.61</td>\n      <td>False</td>\n      <td>progenomes</td>\n    </tr>\n    <tr>\n      <th>GCA_000155005.1</th>\n      <td>6879</td>\n      <td>6313</td>\n      <td>84</td>\n      <td>genus</td>\n      <td>0.87</td>\n      <td>0.79</td>\n      <td>0.79</td>\n      <td>0.10</td>\n      <td>0.22</td>\n      <td>0.97</td>\n      <td>0.77</td>\n      <td>False</td>\n      <td>gtdb</td>\n    </tr>\n    <tr>\n      <th>GCA_000161815.1</th>\n      <td>4499</td>\n      <td>4335</td>\n      <td>8</td>\n      <td>genus</td>\n      <td>0.80</td>\n      <td>0.77</td>\n      <td>0.50</td>\n      <td>0.19</td>\n      <td>0.50</td>\n      <td>0.95</td>\n      <td>0.74</td>\n      <td>False</td>\n      <td>progenomes</td>\n    </tr>\n    <tr>\n      <th>GCA_000166735.2</th>\n      <td>3414</td>\n      <td>3247</td>\n      <td>793</td>\n      <td>genus</td>\n      <td>0.94</td>\n      <td>0.90</td>\n      <td>0.57</td>\n      <td>0.02</td>\n      <td>0.05</td>\n      <td>0.93</td>\n      <td>0.83</td>\n      <td>False</td>\n      <td>progenomes</td>\n    </tr>\n  </tbody>\n</table>\n</div>"
     },
     "execution_count": 4,
     "metadata": {},
     "output_type": "execute_result"
    }
   ],
   "source": [
    "DF_CSS = AggregateMaxCssLevelMerged().output().read_cached()\n",
    "DF_CSS.head()"
   ],
   "metadata": {
    "collapsed": false
   }
  },
  {
   "cell_type": "code",
   "execution_count": 8,
   "outputs": [
    {
     "name": "stdout",
     "output_type": "stream",
     "text": [
      "BAC_GIDS: 311,480\n",
      "FAIL_GIDS: 35,723\n",
      "FAIL_BAC_GIDS: 34,846\n"
     ]
    }
   ],
   "source": [
    "BAC_GIDS = frozenset(DF_META[DF_META['domain'] == 'd__Bacteria'].index)\n",
    "print(f'BAC_GIDS: {len(BAC_GIDS):,}')\n",
    "\n",
    "FAIL_GIDS = frozenset(DF_CSS.index)\n",
    "print(f'FAIL_GIDS: {len(FAIL_GIDS):,}')\n",
    "\n",
    "FAIL_BAC_GIDS = frozenset(BAC_GIDS.intersection(FAIL_GIDS))\n",
    "print(f'FAIL_BAC_GIDS: {len(FAIL_BAC_GIDS):,}')"
   ],
   "metadata": {
    "collapsed": false
   }
  },
  {
   "cell_type": "code",
   "execution_count": 13,
   "outputs": [
    {
     "name": "stdout",
     "output_type": "stream",
     "text": [
      "S_SPECIES_ALL_FAIL: 3,701\n",
      "S_GIDS_IN_SP_ALL_FAIL: 4,431\n"
     ]
    }
   ],
   "source": [
    "def get_species_where_all_fail():\n",
    "    out = set()\n",
    "    out_gids = set()\n",
    "\n",
    "    d_species_to_gids = defaultdict(set)\n",
    "\n",
    "    for row in DF_META.itertuples():\n",
    "        if row.domain == 'd__Bacteria':\n",
    "            d_species_to_gids[row.species].add(row.Index)\n",
    "\n",
    "    for species, gids in d_species_to_gids.items():\n",
    "        if gids.issubset(FAIL_GIDS):\n",
    "            out.add(species)\n",
    "            for gid in gids:\n",
    "                out_gids.add(gid)\n",
    "\n",
    "    return frozenset(out), frozenset(out_gids)\n",
    "\n",
    "S_SPECIES_ALL_FAIL, S_GIDS_IN_SP_ALL_FAIL = get_species_where_all_fail()\n",
    "print(f'S_SPECIES_ALL_FAIL: {len(S_SPECIES_ALL_FAIL):,}')\n",
    "print(f'S_GIDS_IN_SP_ALL_FAIL: {len(S_GIDS_IN_SP_ALL_FAIL):,}')"
   ],
   "metadata": {
    "collapsed": false
   }
  },
  {
   "cell_type": "code",
   "execution_count": 15,
   "outputs": [],
   "source": [
    "def calculate_breakdown_of_failed_by_rank(gids):\n",
    "    out = defaultdict(set)\n",
    "    for gid in gids:\n",
    "        tax = D_GID_TO_TAX[gid]\n",
    "        for rank in tax.split(';'):\n",
    "            out[rank[0]].add(rank)\n",
    "    return out"
   ],
   "metadata": {
    "collapsed": false
   }
  },
  {
   "cell_type": "code",
   "execution_count": 20,
   "outputs": [
    {
     "name": "stdout",
     "output_type": "stream",
     "text": [
      "DF_FAIL_BAC_BREAKDOWN: 101\n"
     ]
    }
   ],
   "source": [
    "DF_FAIL_BAC_BREAKDOWN = calculate_breakdown_of_failed_by_rank(FAIL_BAC_GIDS)\n",
    "print(f'DF_FAIL_BAC_BREAKDOWN: {len(DF_FAIL_BAC_BREAKDOWN[\"p\"]):,}')"
   ],
   "metadata": {
    "collapsed": false
   }
  },
  {
   "cell_type": "code",
   "execution_count": 19,
   "outputs": [
    {
     "name": "stdout",
     "output_type": "stream",
     "text": [
      "DF_FAIL_BAC_BREAKDOWN_SP_FAIL: 80\n"
     ]
    }
   ],
   "source": [
    "DF_FAIL_BAC_BREAKDOWN_SP_FAIL = calculate_breakdown_of_failed_by_rank(S_GIDS_IN_SP_ALL_FAIL)\n",
    "print(f'DF_FAIL_BAC_BREAKDOWN_SP_FAIL: {len(DF_FAIL_BAC_BREAKDOWN_SP_FAIL[\"p\"]):,}')"
   ],
   "metadata": {
    "collapsed": false
   }
  },
  {
   "cell_type": "code",
   "execution_count": 38,
   "outputs": [],
   "source": [
    "from workflow.util.taxonomy import calculate_taxonomic_novelty\n",
    "\n",
    "D_GID_TO_TAX_NOVELTY, _ = calculate_taxonomic_novelty(D_GID_TO_TAX)"
   ],
   "metadata": {
    "collapsed": false
   }
  },
  {
   "cell_type": "code",
   "execution_count": 75,
   "outputs": [
    {
     "name": "stderr",
     "output_type": "stream",
     "text": [
      " 47%|████▋     | 90/192 [00:01<00:01, 88.65it/s]"
     ]
    },
    {
     "name": "stdout",
     "output_type": "stream",
     "text": [
      "s__Anaerococcus vaginalis_C\n"
     ]
    },
    {
     "name": "stderr",
     "output_type": "stream",
     "text": [
      "100%|██████████| 192/192 [00:02<00:00, 88.53it/s]"
     ]
    },
    {
     "name": "stdout",
     "output_type": "stream",
     "text": [
      "s__Anaerococcus vaginalis_C\n",
      "Counter({'derived from metagenome': 42, 'none': 15, 'derived from environmental sample': 6})\n"
     ]
    },
    {
     "name": "stderr",
     "output_type": "stream",
     "text": [
      "\n"
     ]
    }
   ],
   "source": [
    "from collections import Counter\n",
    "\n",
    "\n",
    "def calculate_considering_novelty():\n",
    "    out = defaultdict(set)\n",
    "\n",
    "\n",
    "\n",
    "    # i) gtdb_is_sp_rep = no + ani_congruent = no (45 genomes)\n",
    "    # ii) gtdb_is_sp_rep = no + ani_congruent = inconclusive (27 genomes)\n",
    "    # iii) gtdb_is_sp_rep = yes + ani_congruent = no (120 genomes)\n",
    "    gids_to_use = {'GCA_011523095.1', 'GCA_002291775.1', 'GCF_002835625.1', 'GCA_013213925.1', 'GCF_003495765.1', 'GCF_017151305.1', 'GCA_003487585.1', 'GCF_001812365.1', 'GCF_001815585.1', 'GCA_002703565.1', 'GCA_902619155.1', 'GCA_902539685.1', 'GCF_002035805.1', 'GCA_902568005.1', 'GCA_016939315.1', 'GCA_905214255.1', 'GCF_009494015.1', 'GCA_902363945.1', 'GCF_003462845.1', 'GCF_009493905.1', 'GCA_905214135.1', 'GCA_902573475.1', 'GCA_018370815.1', 'GCF_014284905.1', 'GCF_016806405.1', 'GCF_016806285.1', 'GCA_905208535.1', 'GCF_008269775.1', 'GCF_902845755.1', 'GCA_905215365.1', 'GCA_900756095.1', 'GCA_900548685.1', 'GCF_018499505.1', 'GCA_905193315.1', 'GCF_000964075.1', 'GCF_015667745.1', 'GCF_002913635.1', 'GCA_905212495.1', 'GCF_002912425.1', 'GCF_009649595.1', 'GCA_900549575.1', 'GCA_007096555.1', 'GCA_900760075.1', 'GCA_902388545.1', 'GCA_018383955.1', 'GCA_018239885.1', 'GCA_017394825.1', 'GCA_903931905.1', 'GCA_002728285.1', 'GCA_900765645.1', 'GCA_001695755.1', 'GCA_017515185.1', 'GCA_905200745.1', 'GCA_016707075.1', 'GCA_902528895.1', 'GCA_011523145.1', 'GCA_900761055.1', 'GCF_002929465.1', 'GCA_905214645.1', 'GCA_902593295.1', 'GCA_001509115.1', 'GCA_018056875.1', 'GCA_008668795.1', 'GCA_008668585.1', 'GCF_000698005.1', 'GCA_900765305.1', 'GCA_018363345.1', 'GCA_017465765.1', 'GCA_009493725.1', 'GCA_900759525.1', 'GCA_903846615.1', 'GCA_002731855.1', 'GCA_002712565.1', 'GCA_003519645.1', 'GCA_900759445.1', 'GCA_007713455.1', 'GCF_003935375.1', 'GCA_900751995.1', 'GCF_014764705.1', 'GCF_011045835.1', 'GCF_002989035.1', 'GCF_000935215.1', 'GCF_000146185.1', 'GCA_018363915.1', 'GCF_003064105.1', 'GCA_002720285.1', 'GCA_000761495.1', 'GCF_003052605.1', 'GCF_000421645.1', 'GCA_003520315.1', 'GCA_905214525.1', 'GCA_905215385.1', 'GCF_001544135.1', 'GCF_002216875.1', 'GCA_902542505.1', 'GCA_900757205.1', 'GCF_000438455.1', 'GCF_000181875.2', 'GCA_900552295.1', 'GCA_902617465.1', 'GCA_014871545.1', 'GCA_900555225.1', 'GCA_018375265.1', 'GCF_001553955.1', 'GCA_900548495.1', 'GCA_900754275.1', 'GCA_900761085.1', 'GCA_002690085.1', 'GCA_900555155.1', 'GCA_900757715.1', 'GCA_900757265.1', 'GCF_002156525.1', 'GCA_018067325.1', 'GCA_002703065.1', 'GCA_003987695.1', 'GCF_000188175.1', 'GCA_014647715.1', 'GCA_905213265.1', 'GCA_017470815.1', 'GCA_014871605.1', 'GCA_018240785.1', 'GCA_902615045.1', 'GCA_905478895.1', 'GCF_002192695.1', 'GCA_900755005.1', 'GCA_002279705.1', 'GCA_902546615.1', 'GCA_900761035.1', 'GCF_907163115.1', 'GCA_016302095.1', 'GCA_900754385.1', 'GCF_003697915.1', 'GCA_905197385.1', 'GCA_900552345.1', 'GCA_900551635.1', 'GCF_001720585.1', 'GCA_015232335.1', 'GCA_905214105.1', 'GCF_009469595.1', 'GCF_001975705.1', 'GCA_002683515.1', 'GCA_002728075.1', 'GCA_009391605.1', 'GCF_001571065.1', 'GCA_017857425.1', 'GCA_015264885.1', 'GCA_900752275.1', 'GCA_900555355.1', 'GCF_001713415.1', 'GCA_018365895.1', 'GCF_016860525.1', 'GCA_003535775.1', 'GCF_014205895.1', 'GCF_000761245.1', 'GCA_004124465.1', 'GCA_018372555.1', 'GCA_003233295.1', 'GCF_001552295.1', 'GCA_009936885.1', 'GCA_017525015.1', 'GCA_900557255.1', 'GCF_017311415.1', 'GCA_016777265.1', 'GCA_902560025.1', 'GCA_001543395.1', 'GCA_900752345.1', 'GCF_001870785.1', 'GCF_000008685.2', 'GCF_007559425.1', 'GCA_012964215.1', 'GCF_001945665.1', 'GCF_016899775.1', 'GCA_018371055.1', 'GCF_014205885.1', 'GCF_005144475.1', 'GCA_012961165.1', 'GCF_000222305.1', 'GCA_903920215.1', 'GCA_018894445.1', 'GCA_905216205.1', 'GCA_011620145.1', 'GCF_000170955.2', 'GCA_900756605.1', 'GCF_003284925.1', 'GCA_016882185.1', 'GCF_014201775.1', 'GCA_017940955.1', 'GCA_009392775.1', 'GCA_013372875.1', 'GCA_016777745.1', 'GCA_018433265.1', 'GCA_905215145.1'}\n",
    "\n",
    "    # gids_to_use = S_GIDS_IN_SP_ALL_FAIL\n",
    "\n",
    "    sources = list()\n",
    "\n",
    "    for gid in tqdm(gids_to_use):\n",
    "        tax = D_GID_TO_TAX[gid]\n",
    "\n",
    "        for rank in tax.split(';'):\n",
    "            gids_in_rank = D_RANK_TO_GIDS[rank]\n",
    "\n",
    "            # if rank.startswith('s__SZUA'):\n",
    "            #     print('')\n",
    "            # S_GIDS_IN_SP_ALL_FAIL\n",
    "\n",
    "            if gids_in_rank.intersection(FAIL_GIDS).intersection(gids_to_use) == gids_in_rank:\n",
    "                out[rank[0]].add(rank)\n",
    "\n",
    "                gid_src = DF_META_FULL.loc[gid]['ncbi_genome_category']\n",
    "                sources.append(gid_src)\n",
    "                if len(gids_in_rank) > 1:\n",
    "                    print(rank)\n",
    "\n",
    "    print(Counter(sources))\n",
    "\n",
    "    return out\n",
    "\n",
    "D_RANK_TO_UNQ_SP_REP_ALL_FAIL = calculate_considering_novelty()"
   ],
   "metadata": {
    "collapsed": false
   }
  },
  {
   "cell_type": "code",
   "execution_count": 70,
   "outputs": [
    {
     "name": "stdout",
     "output_type": "stream",
     "text": [
      "Bacteria: domain (expected=1)\n",
      "Count where all lower ranks contain only failed: 0 (0.00%)\n",
      "\n",
      "--------------------\n",
      "Bacteria: phylum (expected=169)\n",
      "Count where all lower ranks contain only failed: 0 (0.00%)\n",
      "\n",
      "--------------------\n",
      "Bacteria: class (expected=428)\n",
      "Count where all lower ranks contain only failed: 0 (0.00%)\n",
      "\n",
      "--------------------\n",
      "Bacteria: order (expected=1,460)\n",
      "Count where all lower ranks contain only failed: 0 (0.00%)\n",
      "\n",
      "--------------------\n",
      "Bacteria: family (expected=3,650)\n",
      "Count where all lower ranks contain only failed: 0 (0.00%)\n",
      "\n",
      "--------------------\n",
      "Bacteria: genus (expected=15,342)\n",
      "Count where all lower ranks contain only failed: 0 (0.00%)\n",
      "\n",
      "--------------------\n",
      "Bacteria: species (expected=62,291)\n",
      "Count where all lower ranks contain only failed: 62 (0.10%)\n",
      "s__Allobacillus sp007559425, s__Anaerococcus vaginalis_C, s__Anaerovibrio sp016302095, s__Avimonas sp003519645, s__Bact-08 sp003520315, s__Borreliella bissettiae, s__Borreliella californiensis, s__Borreliella finlandensis, s__Borreliella lanei, s__Borreliella yangtzensis, s__Cetobacterium_A sp905216205, s__Chlorobium sp903920215, s__Clostridium sp018372555, s__Collinsella sp014871545, s__Collinsella sp014871605, s__Collinsella sp900548495, s__Collinsella sp900552295, s__Collinsella sp900552345, s__Collinsella sp900555225, s__Collinsella sp900752275, s__Collinsella sp900752345, s__Collinsella sp900757265, s__Collinsella sp900761035, s__Collinsella sp900761085, s__Collinsella sp905197385, s__Collinsella sp905214105, s__Collinsella sp905214525, s__Coprovivens sp017525015, s__Exiguobacterium_A sp001870785, s__Finegoldia magna_I, s__Fonsibacter sp016882185, s__GCA-002694895 sp009391605, s__Kangiella sp013372875, s__Klebsiella sp900759445, s__MED-G11 sp902560025, s__MED-G14 sp002703065, s__Macondimonas sp011620145, s__Micropelagos sp002683515, s__Mycobacterium algericum_A, s__Pelagibacter sp902615045, s__Prevotella sp900557255, s__Pseudomonas_A sp007713455, s__Pseudomonas_E indoloxydans, s__Rhodobacter capsulatus_C, s__SZUA-22 sp003233295, s__Salipiger abyssi, s__Salipiger abyssi_A, s__Synechococcus_E sp016777265, s__TMED96 sp002728075, s__Thauera sp009469595, s__Thauera sp018240785, s__UA16 sp905478895, s__UBA11600 sp002720285, s__UBA2125 sp004124465, s__UBA2813 sp017470815, s__UBA3537 sp002690085, s__UBA5951 sp009936885, s__UBA822 sp002712565, s__UBA8229 sp003535775, s__UBA9414 sp018365895, s__UMGS872 sp905215145, s__WMHbin7 sp015232335\n",
      "--------------------\n"
     ]
    }
   ],
   "source": [
    "df_meta_bac = DF_META[DF_META['domain'] == 'd__Bacteria']\n",
    "\n",
    "for rank in ('domain', 'phylum', 'class', 'order', 'family', 'genus', 'species'):\n",
    "    n_sp_fail = len(DF_FAIL_BAC_BREAKDOWN_SP_FAIL[rank[0]])\n",
    "    n_fail = len(DF_FAIL_BAC_BREAKDOWN[rank[0]])\n",
    "    n_rep_all_fail = len(D_RANK_TO_UNQ_SP_REP_ALL_FAIL[rank[0]])\n",
    "    n_expected = len(df_meta_bac[rank].unique())\n",
    "    print(f'Bacteria: {rank} (expected={n_expected:,})')\n",
    "    # print(f'Species where at least one genome failed: {n_fail:,} ({n_fail/n_expected:.2%})')\n",
    "    # print(f'Species where all genomes failed {n_sp_fail:,} ({n_sp_fail/n_expected:.2%})')\n",
    "    print(f'Count where all lower ranks contain only failed: {n_rep_all_fail:,} ({n_rep_all_fail/n_expected:.2%})')\n",
    "    print(', '.join(sorted(D_RANK_TO_UNQ_SP_REP_ALL_FAIL[rank[0]])))\n",
    "    print('-' * 20)\n"
   ],
   "metadata": {
    "collapsed": false
   }
  },
  {
   "cell_type": "code",
   "execution_count": 50,
   "outputs": [
    {
     "name": "stdout",
     "output_type": "stream",
     "text": [
      "{'c__DTXE01'}\n"
     ]
    }
   ],
   "source": [
    "print(D_RANK_TO_UNQ_SP_REP_ALL_FAIL['c'])"
   ],
   "metadata": {
    "collapsed": false
   }
  }
 ],
 "metadata": {
  "kernelspec": {
   "display_name": "Python 3",
   "language": "python",
   "name": "python3"
  },
  "language_info": {
   "codemirror_mode": {
    "name": "ipython",
    "version": 2
   },
   "file_extension": ".py",
   "mimetype": "text/x-python",
   "name": "python",
   "nbconvert_exporter": "python",
   "pygments_lexer": "ipython2",
   "version": "2.7.6"
  }
 },
 "nbformat": 4,
 "nbformat_minor": 0
}
