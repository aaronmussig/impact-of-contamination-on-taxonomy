{
 "cells": [
  {
   "cell_type": "code",
   "execution_count": 1,
   "metadata": {
    "collapsed": true
   },
   "outputs": [],
   "source": [
    "from workflow.external.gtdb_metadata import GtdbMetadataR95\n",
    "from workflow.gunc.get_taxonomy_from_gunc_contig_assignment import GetTaxonomyFromGuncContigAssignment\n"
   ]
  },
  {
   "cell_type": "code",
   "execution_count": 2,
   "outputs": [
    {
     "data": {
      "text/plain": "                         db                                           taxonomy\ngid                                                                           \nGCA_000143435.1        gtdb  d__Bacteria;p__Firmicutes;c__Bacilli;o__Lactob...\nGCA_000153745.1  progenomes  2 Bacteria;1224 Proteobacteria;28211 Alphaprot...\nGCA_000155005.1        gtdb  d__Bacteria;p__Proteobacteria;c__Gammaproteoba...\nGCA_000161815.1  progenomes  2 Bacteria;1224 Proteobacteria;28211 Alphaprot...\nGCA_000166735.2  progenomes  2 Bacteria;1239 Firmicutes;91061 Bacilli;18682...",
      "text/html": "<div>\n<style scoped>\n    .dataframe tbody tr th:only-of-type {\n        vertical-align: middle;\n    }\n\n    .dataframe tbody tr th {\n        vertical-align: top;\n    }\n\n    .dataframe thead th {\n        text-align: right;\n    }\n</style>\n<table border=\"1\" class=\"dataframe\">\n  <thead>\n    <tr style=\"text-align: right;\">\n      <th></th>\n      <th>db</th>\n      <th>taxonomy</th>\n    </tr>\n    <tr>\n      <th>gid</th>\n      <th></th>\n      <th></th>\n    </tr>\n  </thead>\n  <tbody>\n    <tr>\n      <th>GCA_000143435.1</th>\n      <td>gtdb</td>\n      <td>d__Bacteria;p__Firmicutes;c__Bacilli;o__Lactob...</td>\n    </tr>\n    <tr>\n      <th>GCA_000153745.1</th>\n      <td>progenomes</td>\n      <td>2 Bacteria;1224 Proteobacteria;28211 Alphaprot...</td>\n    </tr>\n    <tr>\n      <th>GCA_000155005.1</th>\n      <td>gtdb</td>\n      <td>d__Bacteria;p__Proteobacteria;c__Gammaproteoba...</td>\n    </tr>\n    <tr>\n      <th>GCA_000161815.1</th>\n      <td>progenomes</td>\n      <td>2 Bacteria;1224 Proteobacteria;28211 Alphaprot...</td>\n    </tr>\n    <tr>\n      <th>GCA_000166735.2</th>\n      <td>progenomes</td>\n      <td>2 Bacteria;1239 Firmicutes;91061 Bacilli;18682...</td>\n    </tr>\n  </tbody>\n</table>\n</div>"
     },
     "execution_count": 2,
     "metadata": {},
     "output_type": "execute_result"
    }
   ],
   "source": [
    "DF_TAX = GetTaxonomyFromGuncContigAssignment().output().read_cached()\n",
    "DF_TAX.head()"
   ],
   "metadata": {
    "collapsed": false
   }
  },
  {
   "cell_type": "code",
   "execution_count": 26,
   "outputs": [
    {
     "data": {
      "text/plain": "                 ambiguous_bases  checkm_completeness  checkm_contamination  \\\ngid                                                                           \nGCA_000006155.2             1916                93.12                   0.0   \nGCA_000007325.1                1                99.95                   0.0   \nGCA_000007385.1                0                99.82                   0.0   \nGCA_000008085.1                0                73.13                   0.0   \nGCA_000008885.1                0               100.00                   0.0   \n\n                 checkm_marker_count             checkm_marker_lineage  \\\ngid                                                                      \nGCA_000006155.2                 1171              g__Bacillus (UID902)   \nGCA_000007325.1                  149             k__Bacteria (UID2329)   \nGCA_000007385.1                  481  c__Gammaproteobacteria (UID4202)   \nGCA_000008085.1                  149                 k__Archaea (UID2)   \nGCA_000008885.1                  134             k__Bacteria (UID2495)   \n\n                 checkm_marker_set_count  checkm_strain_heterogeneity  \\\ngid                                                                     \nGCA_000006155.2                      324                          0.0   \nGCA_000007325.1                       89                          0.0   \nGCA_000007385.1                      276                          0.0   \nGCA_000008085.1                      107                          0.0   \nGCA_000008885.1                       80                          0.0   \n\n                 coding_bases  coding_density  contig_count  ...  \\\ngid                                                          ...   \nGCA_000006155.2       4305660       80.178992           426  ...   \nGCA_000007325.1       1973459       90.754610             1  ...   \nGCA_000007385.1       4190634       84.805944             1  ...   \nGCA_000008085.1        462902       94.299480             1  ...   \nGCA_000008885.1        617456       87.831079             2  ...   \n\n                 gtdb_type_species_of_genus  \\\ngid                                           \nGCA_000006155.2                           f   \nGCA_000007325.1                           t   \nGCA_000007385.1                           f   \nGCA_000008085.1                           t   \nGCA_000008885.1                           f   \n\n                                                     ncbi_taxonomy  \\\ngid                                                                  \nGCA_000006155.2  d__Bacteria;p__Firmicutes;c__Bacilli;o__Bacill...   \nGCA_000007325.1  d__Bacteria;p__Fusobacteria;c__Fusobacteriia;o...   \nGCA_000007385.1  d__Bacteria;p__Proteobacteria;c__Gammaproteoba...   \nGCA_000008085.1  d__Archaea;p__Nanoarchaeota;c__;o__Nanoarchaea...   \nGCA_000008885.1  d__Bacteria;p__Proteobacteria;c__Gammaproteoba...   \n\n                                          ncbi_taxonomy_unfiltered  \\\ngid                                                                  \nGCA_000006155.2  d__Bacteria;x__Terrabacteria group;p__Firmicut...   \nGCA_000007325.1  d__Bacteria;p__Fusobacteria;c__Fusobacteriia;o...   \nGCA_000007385.1  d__Bacteria;p__Proteobacteria;c__Gammaproteoba...   \nGCA_000008085.1  d__Archaea;x__DPANN group;p__Nanoarchaeota;o__...   \nGCA_000008885.1  d__Bacteria;p__Proteobacteria;c__Gammaproteoba...   \n\n                      domain             phylum                   class  \\\ngid                                                                       \nGCA_000006155.2  d__Bacteria      p__Firmicutes              c__Bacilli   \nGCA_000007325.1  d__Bacteria  p__Fusobacteriota        c__Fusobacteriia   \nGCA_000007385.1  d__Bacteria  p__Proteobacteria  c__Gammaproteobacteria   \nGCA_000008085.1   d__Archaea   p__Nanoarchaeota         c__Nanoarchaeia   \nGCA_000008885.1  d__Bacteria  p__Proteobacteria  c__Gammaproteobacteria   \n\n                                 order                   family  \\\ngid                                                               \nGCA_000006155.2          o__Bacillales         f__Bacillaceae_G   \nGCA_000007325.1     o__Fusobacteriales      f__Fusobacteriaceae   \nGCA_000007385.1     o__Xanthomonadales      f__Xanthomonadaceae   \nGCA_000008085.1      o__Nanoarchaeales       f__Nanoarchaeaceae   \nGCA_000008885.1  o__Enterobacterales_A  f__Enterobacteriaceae_A   \n\n                             genus                          species  \ngid                                                                  \nGCA_000006155.2      g__Bacillus_A          s__Bacillus_A anthracis  \nGCA_000007325.1   g__Fusobacterium       s__Fusobacterium nucleatum  \nGCA_000007385.1     g__Xanthomonas            s__Xanthomonas oryzae  \nGCA_000008085.1    g__Nanoarchaeum         s__Nanoarchaeum equitans  \nGCA_000008885.1  g__Wigglesworthia  s__Wigglesworthia glossinidia_A  \n\n[5 rows x 28 columns]",
      "text/html": "<div>\n<style scoped>\n    .dataframe tbody tr th:only-of-type {\n        vertical-align: middle;\n    }\n\n    .dataframe tbody tr th {\n        vertical-align: top;\n    }\n\n    .dataframe thead th {\n        text-align: right;\n    }\n</style>\n<table border=\"1\" class=\"dataframe\">\n  <thead>\n    <tr style=\"text-align: right;\">\n      <th></th>\n      <th>ambiguous_bases</th>\n      <th>checkm_completeness</th>\n      <th>checkm_contamination</th>\n      <th>checkm_marker_count</th>\n      <th>checkm_marker_lineage</th>\n      <th>checkm_marker_set_count</th>\n      <th>checkm_strain_heterogeneity</th>\n      <th>coding_bases</th>\n      <th>coding_density</th>\n      <th>contig_count</th>\n      <th>...</th>\n      <th>gtdb_type_species_of_genus</th>\n      <th>ncbi_taxonomy</th>\n      <th>ncbi_taxonomy_unfiltered</th>\n      <th>domain</th>\n      <th>phylum</th>\n      <th>class</th>\n      <th>order</th>\n      <th>family</th>\n      <th>genus</th>\n      <th>species</th>\n    </tr>\n    <tr>\n      <th>gid</th>\n      <th></th>\n      <th></th>\n      <th></th>\n      <th></th>\n      <th></th>\n      <th></th>\n      <th></th>\n      <th></th>\n      <th></th>\n      <th></th>\n      <th></th>\n      <th></th>\n      <th></th>\n      <th></th>\n      <th></th>\n      <th></th>\n      <th></th>\n      <th></th>\n      <th></th>\n      <th></th>\n      <th></th>\n    </tr>\n  </thead>\n  <tbody>\n    <tr>\n      <th>GCA_000006155.2</th>\n      <td>1916</td>\n      <td>93.12</td>\n      <td>0.0</td>\n      <td>1171</td>\n      <td>g__Bacillus (UID902)</td>\n      <td>324</td>\n      <td>0.0</td>\n      <td>4305660</td>\n      <td>80.178992</td>\n      <td>426</td>\n      <td>...</td>\n      <td>f</td>\n      <td>d__Bacteria;p__Firmicutes;c__Bacilli;o__Bacill...</td>\n      <td>d__Bacteria;x__Terrabacteria group;p__Firmicut...</td>\n      <td>d__Bacteria</td>\n      <td>p__Firmicutes</td>\n      <td>c__Bacilli</td>\n      <td>o__Bacillales</td>\n      <td>f__Bacillaceae_G</td>\n      <td>g__Bacillus_A</td>\n      <td>s__Bacillus_A anthracis</td>\n    </tr>\n    <tr>\n      <th>GCA_000007325.1</th>\n      <td>1</td>\n      <td>99.95</td>\n      <td>0.0</td>\n      <td>149</td>\n      <td>k__Bacteria (UID2329)</td>\n      <td>89</td>\n      <td>0.0</td>\n      <td>1973459</td>\n      <td>90.754610</td>\n      <td>1</td>\n      <td>...</td>\n      <td>t</td>\n      <td>d__Bacteria;p__Fusobacteria;c__Fusobacteriia;o...</td>\n      <td>d__Bacteria;p__Fusobacteria;c__Fusobacteriia;o...</td>\n      <td>d__Bacteria</td>\n      <td>p__Fusobacteriota</td>\n      <td>c__Fusobacteriia</td>\n      <td>o__Fusobacteriales</td>\n      <td>f__Fusobacteriaceae</td>\n      <td>g__Fusobacterium</td>\n      <td>s__Fusobacterium nucleatum</td>\n    </tr>\n    <tr>\n      <th>GCA_000007385.1</th>\n      <td>0</td>\n      <td>99.82</td>\n      <td>0.0</td>\n      <td>481</td>\n      <td>c__Gammaproteobacteria (UID4202)</td>\n      <td>276</td>\n      <td>0.0</td>\n      <td>4190634</td>\n      <td>84.805944</td>\n      <td>1</td>\n      <td>...</td>\n      <td>f</td>\n      <td>d__Bacteria;p__Proteobacteria;c__Gammaproteoba...</td>\n      <td>d__Bacteria;p__Proteobacteria;c__Gammaproteoba...</td>\n      <td>d__Bacteria</td>\n      <td>p__Proteobacteria</td>\n      <td>c__Gammaproteobacteria</td>\n      <td>o__Xanthomonadales</td>\n      <td>f__Xanthomonadaceae</td>\n      <td>g__Xanthomonas</td>\n      <td>s__Xanthomonas oryzae</td>\n    </tr>\n    <tr>\n      <th>GCA_000008085.1</th>\n      <td>0</td>\n      <td>73.13</td>\n      <td>0.0</td>\n      <td>149</td>\n      <td>k__Archaea (UID2)</td>\n      <td>107</td>\n      <td>0.0</td>\n      <td>462902</td>\n      <td>94.299480</td>\n      <td>1</td>\n      <td>...</td>\n      <td>t</td>\n      <td>d__Archaea;p__Nanoarchaeota;c__;o__Nanoarchaea...</td>\n      <td>d__Archaea;x__DPANN group;p__Nanoarchaeota;o__...</td>\n      <td>d__Archaea</td>\n      <td>p__Nanoarchaeota</td>\n      <td>c__Nanoarchaeia</td>\n      <td>o__Nanoarchaeales</td>\n      <td>f__Nanoarchaeaceae</td>\n      <td>g__Nanoarchaeum</td>\n      <td>s__Nanoarchaeum equitans</td>\n    </tr>\n    <tr>\n      <th>GCA_000008885.1</th>\n      <td>0</td>\n      <td>100.00</td>\n      <td>0.0</td>\n      <td>134</td>\n      <td>k__Bacteria (UID2495)</td>\n      <td>80</td>\n      <td>0.0</td>\n      <td>617456</td>\n      <td>87.831079</td>\n      <td>2</td>\n      <td>...</td>\n      <td>f</td>\n      <td>d__Bacteria;p__Proteobacteria;c__Gammaproteoba...</td>\n      <td>d__Bacteria;p__Proteobacteria;c__Gammaproteoba...</td>\n      <td>d__Bacteria</td>\n      <td>p__Proteobacteria</td>\n      <td>c__Gammaproteobacteria</td>\n      <td>o__Enterobacterales_A</td>\n      <td>f__Enterobacteriaceae_A</td>\n      <td>g__Wigglesworthia</td>\n      <td>s__Wigglesworthia glossinidia_A</td>\n    </tr>\n  </tbody>\n</table>\n<p>5 rows × 28 columns</p>\n</div>"
     },
     "execution_count": 26,
     "metadata": {},
     "output_type": "execute_result"
    }
   ],
   "source": [
    "from workflow.external.gtdb_metadata import GtdbMetadataR207\n",
    "\n",
    "DF_R207_TAX = GtdbMetadataR207().output().read_cached()\n",
    "DF_R207_TAX.head()"
   ],
   "metadata": {
    "collapsed": false
   }
  },
  {
   "cell_type": "code",
   "execution_count": 27,
   "outputs": [],
   "source": [
    "from magna.util.accession import canonical_gid\n",
    "\n",
    "D_R207_CANONICAL_TO_TAX = dict()\n",
    "for gid, row in DF_R207_TAX.iterrows():\n",
    "    D_R207_CANONICAL_TO_TAX[canonical_gid(gid)] = row['gtdb_taxonomy']"
   ],
   "metadata": {
    "collapsed": false
   }
  },
  {
   "cell_type": "code",
   "execution_count": 14,
   "outputs": [
    {
     "data": {
      "text/plain": "                 ambiguous_bases  checkm_completeness  checkm_contamination  \\\ngid                                                                           \nGCA_000006155.2             1916                93.12                  0.00   \nGCA_000007185.1                0                96.74                  1.60   \nGCA_000007345.1                0                99.84                  0.03   \nGCA_000007385.1                0                99.82                  0.00   \nGCA_000008085.1                0                73.13                  0.00   \n\n                 checkm_marker_count             checkm_marker_lineage  \\\ngid                                                                      \nGCA_000006155.2                 1171              g__Bacillus (UID902)   \nGCA_000007185.1                  188           p__Euryarchaeota (UID3)   \nGCA_000007345.1                  228          p__Euryarchaeota (UID49)   \nGCA_000007385.1                  481  c__Gammaproteobacteria (UID4202)   \nGCA_000008085.1                  149                 k__Archaea (UID2)   \n\n                 checkm_marker_set_count  checkm_strain_heterogeneity  \\\ngid                                                                     \nGCA_000006155.2                      324                          0.0   \nGCA_000007185.1                      125                          0.0   \nGCA_000007345.1                      153                          0.0   \nGCA_000007385.1                      276                          0.0   \nGCA_000008085.1                      107                          0.0   \n\n                 coding_bases  coding_density  contig_count  ...  \\\ngid                                                          ...   \nGCA_000006155.2       4305660       80.178992           426  ...   \nGCA_000007185.1       1532051       90.388143             1  ...   \nGCA_000007345.1       4325608       75.208450             1  ...   \nGCA_000007385.1       4190634       84.805944             1  ...   \nGCA_000008085.1        462902       94.299480             1  ...   \n\n                                                     ncbi_taxonomy  \\\ngid                                                                  \nGCA_000006155.2  d__Bacteria;p__Firmicutes;c__Bacilli;o__Bacill...   \nGCA_000007185.1  d__Archaea;p__Euryarchaeota;c__Methanopyri;o__...   \nGCA_000007345.1  d__Archaea;p__Euryarchaeota;c__Methanomicrobia...   \nGCA_000007385.1  d__Bacteria;p__Proteobacteria;c__Gammaproteoba...   \nGCA_000008085.1  d__Archaea;p__Nanoarchaeota;c__;o__Nanoarchaea...   \n\n                                          ncbi_taxonomy_unfiltered  \\\ngid                                                                  \nGCA_000006155.2  d__Bacteria;x__Terrabacteria group;p__Firmicut...   \nGCA_000007185.1  d__Archaea;p__Euryarchaeota;c__Methanopyri;o__...   \nGCA_000007345.1  d__Archaea;p__Euryarchaeota;x__Stenosarchaea g...   \nGCA_000007385.1  d__Bacteria;p__Proteobacteria;c__Gammaproteoba...   \nGCA_000008085.1  d__Archaea;x__DPANN group;p__Nanoarchaeota;o__...   \n\n                      domain                phylum                   class  \\\ngid                                                                          \nGCA_000006155.2  d__Bacteria         p__Firmicutes              c__Bacilli   \nGCA_000007185.1   d__Archaea  p__Methanobacteriota          c__Methanopyri   \nGCA_000007345.1   d__Archaea     p__Halobacteriota      c__Methanosarcinia   \nGCA_000007385.1  d__Bacteria     p__Proteobacteria  c__Gammaproteobacteria   \nGCA_000008085.1   d__Archaea      p__Nanoarchaeota         c__Nanoarchaeia   \n\n                                order                 family  \\\ngid                                                            \nGCA_000006155.2         o__Bacillales       f__Bacillaceae_G   \nGCA_000007185.1     o__Methanopyrales     f__Methanopyraceae   \nGCA_000007345.1  o__Methanosarcinales  f__Methanosarcinaceae   \nGCA_000007385.1    o__Xanthomonadales    f__Xanthomonadaceae   \nGCA_000008085.1     o__Nanoarchaeales     f__Nanoarchaeaceae   \n\n                             genus                        species   canonical  \ngid                                                                            \nGCA_000006155.2      g__Bacillus_A        s__Bacillus_A anthracis  G000006155  \nGCA_000007185.1    g__Methanopyrus       s__Methanopyrus kandleri  G000007185  \nGCA_000007345.1  g__Methanosarcina  s__Methanosarcina acetivorans  G000007345  \nGCA_000007385.1     g__Xanthomonas          s__Xanthomonas oryzae  G000007385  \nGCA_000008085.1    g__Nanoarchaeum       s__Nanoarchaeum equitans  G000008085  \n\n[5 rows x 29 columns]",
      "text/html": "<div>\n<style scoped>\n    .dataframe tbody tr th:only-of-type {\n        vertical-align: middle;\n    }\n\n    .dataframe tbody tr th {\n        vertical-align: top;\n    }\n\n    .dataframe thead th {\n        text-align: right;\n    }\n</style>\n<table border=\"1\" class=\"dataframe\">\n  <thead>\n    <tr style=\"text-align: right;\">\n      <th></th>\n      <th>ambiguous_bases</th>\n      <th>checkm_completeness</th>\n      <th>checkm_contamination</th>\n      <th>checkm_marker_count</th>\n      <th>checkm_marker_lineage</th>\n      <th>checkm_marker_set_count</th>\n      <th>checkm_strain_heterogeneity</th>\n      <th>coding_bases</th>\n      <th>coding_density</th>\n      <th>contig_count</th>\n      <th>...</th>\n      <th>ncbi_taxonomy</th>\n      <th>ncbi_taxonomy_unfiltered</th>\n      <th>domain</th>\n      <th>phylum</th>\n      <th>class</th>\n      <th>order</th>\n      <th>family</th>\n      <th>genus</th>\n      <th>species</th>\n      <th>canonical</th>\n    </tr>\n    <tr>\n      <th>gid</th>\n      <th></th>\n      <th></th>\n      <th></th>\n      <th></th>\n      <th></th>\n      <th></th>\n      <th></th>\n      <th></th>\n      <th></th>\n      <th></th>\n      <th></th>\n      <th></th>\n      <th></th>\n      <th></th>\n      <th></th>\n      <th></th>\n      <th></th>\n      <th></th>\n      <th></th>\n      <th></th>\n      <th></th>\n    </tr>\n  </thead>\n  <tbody>\n    <tr>\n      <th>GCA_000006155.2</th>\n      <td>1916</td>\n      <td>93.12</td>\n      <td>0.00</td>\n      <td>1171</td>\n      <td>g__Bacillus (UID902)</td>\n      <td>324</td>\n      <td>0.0</td>\n      <td>4305660</td>\n      <td>80.178992</td>\n      <td>426</td>\n      <td>...</td>\n      <td>d__Bacteria;p__Firmicutes;c__Bacilli;o__Bacill...</td>\n      <td>d__Bacteria;x__Terrabacteria group;p__Firmicut...</td>\n      <td>d__Bacteria</td>\n      <td>p__Firmicutes</td>\n      <td>c__Bacilli</td>\n      <td>o__Bacillales</td>\n      <td>f__Bacillaceae_G</td>\n      <td>g__Bacillus_A</td>\n      <td>s__Bacillus_A anthracis</td>\n      <td>G000006155</td>\n    </tr>\n    <tr>\n      <th>GCA_000007185.1</th>\n      <td>0</td>\n      <td>96.74</td>\n      <td>1.60</td>\n      <td>188</td>\n      <td>p__Euryarchaeota (UID3)</td>\n      <td>125</td>\n      <td>0.0</td>\n      <td>1532051</td>\n      <td>90.388143</td>\n      <td>1</td>\n      <td>...</td>\n      <td>d__Archaea;p__Euryarchaeota;c__Methanopyri;o__...</td>\n      <td>d__Archaea;p__Euryarchaeota;c__Methanopyri;o__...</td>\n      <td>d__Archaea</td>\n      <td>p__Methanobacteriota</td>\n      <td>c__Methanopyri</td>\n      <td>o__Methanopyrales</td>\n      <td>f__Methanopyraceae</td>\n      <td>g__Methanopyrus</td>\n      <td>s__Methanopyrus kandleri</td>\n      <td>G000007185</td>\n    </tr>\n    <tr>\n      <th>GCA_000007345.1</th>\n      <td>0</td>\n      <td>99.84</td>\n      <td>0.03</td>\n      <td>228</td>\n      <td>p__Euryarchaeota (UID49)</td>\n      <td>153</td>\n      <td>0.0</td>\n      <td>4325608</td>\n      <td>75.208450</td>\n      <td>1</td>\n      <td>...</td>\n      <td>d__Archaea;p__Euryarchaeota;c__Methanomicrobia...</td>\n      <td>d__Archaea;p__Euryarchaeota;x__Stenosarchaea g...</td>\n      <td>d__Archaea</td>\n      <td>p__Halobacteriota</td>\n      <td>c__Methanosarcinia</td>\n      <td>o__Methanosarcinales</td>\n      <td>f__Methanosarcinaceae</td>\n      <td>g__Methanosarcina</td>\n      <td>s__Methanosarcina acetivorans</td>\n      <td>G000007345</td>\n    </tr>\n    <tr>\n      <th>GCA_000007385.1</th>\n      <td>0</td>\n      <td>99.82</td>\n      <td>0.00</td>\n      <td>481</td>\n      <td>c__Gammaproteobacteria (UID4202)</td>\n      <td>276</td>\n      <td>0.0</td>\n      <td>4190634</td>\n      <td>84.805944</td>\n      <td>1</td>\n      <td>...</td>\n      <td>d__Bacteria;p__Proteobacteria;c__Gammaproteoba...</td>\n      <td>d__Bacteria;p__Proteobacteria;c__Gammaproteoba...</td>\n      <td>d__Bacteria</td>\n      <td>p__Proteobacteria</td>\n      <td>c__Gammaproteobacteria</td>\n      <td>o__Xanthomonadales</td>\n      <td>f__Xanthomonadaceae</td>\n      <td>g__Xanthomonas</td>\n      <td>s__Xanthomonas oryzae</td>\n      <td>G000007385</td>\n    </tr>\n    <tr>\n      <th>GCA_000008085.1</th>\n      <td>0</td>\n      <td>73.13</td>\n      <td>0.00</td>\n      <td>149</td>\n      <td>k__Archaea (UID2)</td>\n      <td>107</td>\n      <td>0.0</td>\n      <td>462902</td>\n      <td>94.299480</td>\n      <td>1</td>\n      <td>...</td>\n      <td>d__Archaea;p__Nanoarchaeota;c__;o__Nanoarchaea...</td>\n      <td>d__Archaea;x__DPANN group;p__Nanoarchaeota;o__...</td>\n      <td>d__Archaea</td>\n      <td>p__Nanoarchaeota</td>\n      <td>c__Nanoarchaeia</td>\n      <td>o__Nanoarchaeales</td>\n      <td>f__Nanoarchaeaceae</td>\n      <td>g__Nanoarchaeum</td>\n      <td>s__Nanoarchaeum equitans</td>\n      <td>G000008085</td>\n    </tr>\n  </tbody>\n</table>\n<p>5 rows × 29 columns</p>\n</div>"
     },
     "execution_count": 14,
     "metadata": {},
     "output_type": "execute_result"
    }
   ],
   "source": [
    "\n",
    "\n",
    "DF_R95_TAX = GtdbMetadataR95().output().read_cached()\n",
    "DF_R95_TAX.head()"
   ],
   "metadata": {
    "collapsed": false
   }
  },
  {
   "cell_type": "code",
   "execution_count": 21,
   "outputs": [],
   "source": [
    "D_R95_CANONICAL_TO_TAX = dict()\n",
    "for gid, row in DF_R95_TAX.iterrows():\n",
    "    D_R95_CANONICAL_TO_TAX[canonical_gid(gid)] = row['gtdb_taxonomy']"
   ],
   "metadata": {
    "collapsed": false
   }
  },
  {
   "cell_type": "code",
   "execution_count": 30,
   "outputs": [
    {
     "name": "stdout",
     "output_type": "stream",
     "text": [
      "ProGenomes (GCA_002686215.1\n",
      "True:d__Archaea;p__Nanoarchaeota;c__Nanoarchaeia;o__UBA10117;f__ARS21;g__ARS21;s__ARS21 sp002686215\n",
      "Test:2 Bacteria\n",
      "GTDB (GCA_002729355.1)\n",
      "True: d__Archaea;p__Thermoplasmatota;c__Poseidoniia;o__Poseidoniales;f__Thalassarchaeaceae;g__MGIIb-N1;s__MGIIb-N1 sp002504845\n",
      "Test: d__Bacteria\n",
      "GTDB (GCF_004803555.2)\n",
      "True: d__Bacteria;p__Proteobacteria;c__Gammaproteobacteria;o__Pseudomonadales;f__Moraxellaceae;g__Acinetobacter;s__Acinetobacter venetianus\n",
      "Test: d__Bacteria;p__Proteobacteria;c__Gammaproteobacteria;o__Enterobacterales;f__Enterobacteriaceae;g__Enterobacter\n",
      "Missing: 16422\n"
     ]
    }
   ],
   "source": [
    "from tqdm import tqdm\n",
    "n_missing = 0\n",
    "for gid, row in DF_TAX.iterrows():\n",
    "        # true_tax = DF_R95_TAX.loc[gid, 'gtdb_taxonomy']\n",
    "    try:\n",
    "        true_tax = D_R95_CANONICAL_TO_TAX[canonical_gid(gid)]\n",
    "        is_95 = True\n",
    "    except KeyError:\n",
    "        n_missing += 1\n",
    "        true_tax = D_R207_CANONICAL_TO_TAX[canonical_gid(gid)]\n",
    "        is_r95 = False\n",
    "        continue\n",
    "\n",
    "    test_tax = row['taxonomy']\n",
    "\n",
    "    if row['db'] == 'gtdb':\n",
    "        if not true_tax.startswith(test_tax):\n",
    "            print(f'GTDB ({gid})\\nTrue: {true_tax}\\nTest: {test_tax}')\n",
    "    elif row['db'] == 'progenomes':\n",
    "        if test_tax.startswith('2 Bacteria'):\n",
    "            expected_domain = 'd__Bacteria'\n",
    "        else:\n",
    "            expected_domain = 'd__Archaea'\n",
    "        if not true_tax.startswith(expected_domain):\n",
    "            print(f'ProGenomes ({gid}\\nTrue:{true_tax}\\nTest:{test_tax}')\n",
    "    else:\n",
    "        raise ValueError('!')\n",
    "\n",
    "print(f'Missing: {n_missing}')"
   ],
   "metadata": {
    "collapsed": false
   }
  }
 ],
 "metadata": {
  "kernelspec": {
   "display_name": "Python 3",
   "language": "python",
   "name": "python3"
  },
  "language_info": {
   "codemirror_mode": {
    "name": "ipython",
    "version": 2
   },
   "file_extension": ".py",
   "mimetype": "text/x-python",
   "name": "python",
   "nbconvert_exporter": "python",
   "pygments_lexer": "ipython2",
   "version": "2.7.6"
  }
 },
 "nbformat": 4,
 "nbformat_minor": 0
}
