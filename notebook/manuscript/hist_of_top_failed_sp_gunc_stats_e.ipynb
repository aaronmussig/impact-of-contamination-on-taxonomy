{
 "cells": [
  {
   "cell_type": "code",
   "execution_count": 1,
   "metadata": {
    "collapsed": true,
    "ExecuteTime": {
     "end_time": "2023-07-17T03:51:07.758875Z",
     "start_time": "2023-07-17T03:51:07.755700Z"
    }
   },
   "outputs": [],
   "source": [
    "import sys\n",
    "\n",
    "\n",
    "sys.path.append(\"/Users/aaron/phd/impact-of-contamination-on-taxonomy\")"
   ]
  },
  {
   "cell_type": "code",
   "execution_count": 2,
   "outputs": [
    {
     "name": "stdout",
     "output_type": "stream",
     "text": [
      "DEBUG = True (Aarons-MacBook-Pro.local)\n"
     ]
    }
   ],
   "source": [
    "from workflow.external.gtdb_metadata import GtdbMetadataR207Full\n",
    "from tqdm import tqdm\n",
    "from matplotlib.ticker import ScalarFormatter, NullFormatter\n",
    "import seaborn as sns\n",
    "\n",
    "\n",
    "import matplotlib.pyplot as plt\n",
    "from workflow.gunc_helper.aggregate_max_css_level_merged import AggregateMaxCssLevelMerged"
   ],
   "metadata": {
    "collapsed": false,
    "ExecuteTime": {
     "end_time": "2023-07-17T03:51:08.339534Z",
     "start_time": "2023-07-17T03:51:07.760273Z"
    }
   }
  },
  {
   "cell_type": "code",
   "execution_count": 3,
   "outputs": [
    {
     "data": {
      "text/plain": "                 ambiguous_bases  checkm_completeness  checkm_contamination  \\\ngid                                                                           \nGCA_000006155.2             1916                93.12                   0.0   \nGCA_000007325.1                1                99.95                   0.0   \nGCA_000007385.1                0                99.82                   0.0   \nGCA_000008085.1                0                73.13                   0.0   \nGCA_000008885.1                0               100.00                   0.0   \n\n                 checkm_marker_count             checkm_marker_lineage  \\\ngid                                                                      \nGCA_000006155.2                 1171              g__Bacillus (UID902)   \nGCA_000007325.1                  149             k__Bacteria (UID2329)   \nGCA_000007385.1                  481  c__Gammaproteobacteria (UID4202)   \nGCA_000008085.1                  149                 k__Archaea (UID2)   \nGCA_000008885.1                  134             k__Bacteria (UID2495)   \n\n                 checkm_marker_set_count  checkm_strain_heterogeneity  \\\ngid                                                                     \nGCA_000006155.2                      324                          0.0   \nGCA_000007325.1                       89                          0.0   \nGCA_000007385.1                      276                          0.0   \nGCA_000008085.1                      107                          0.0   \nGCA_000008885.1                       80                          0.0   \n\n                 coding_bases  coding_density  contig_count  ...  \\\ngid                                                          ...   \nGCA_000006155.2       4305660       80.178992           426  ...   \nGCA_000007325.1       1973459       90.754610             1  ...   \nGCA_000007385.1       4190634       84.805944             1  ...   \nGCA_000008085.1        462902       94.299480             1  ...   \nGCA_000008885.1        617456       87.831079             2  ...   \n\n                 trna_aa_count  trna_count  trna_selenocysteine_count  \\\ngid                                                                     \nGCA_000006155.2             16          31                          0   \nGCA_000007325.1             20          47                          0   \nGCA_000007385.1             20          53                          0   \nGCA_000008085.1             17          38                          0   \nGCA_000008885.1             20          34                          0   \n\n                      domain             phylum                   class  \\\ngid                                                                       \nGCA_000006155.2  d__Bacteria      p__Firmicutes              c__Bacilli   \nGCA_000007325.1  d__Bacteria  p__Fusobacteriota        c__Fusobacteriia   \nGCA_000007385.1  d__Bacteria  p__Proteobacteria  c__Gammaproteobacteria   \nGCA_000008085.1   d__Archaea   p__Nanoarchaeota         c__Nanoarchaeia   \nGCA_000008885.1  d__Bacteria  p__Proteobacteria  c__Gammaproteobacteria   \n\n                                 order                   family  \\\ngid                                                               \nGCA_000006155.2          o__Bacillales         f__Bacillaceae_G   \nGCA_000007325.1     o__Fusobacteriales      f__Fusobacteriaceae   \nGCA_000007385.1     o__Xanthomonadales      f__Xanthomonadaceae   \nGCA_000008085.1      o__Nanoarchaeales       f__Nanoarchaeaceae   \nGCA_000008885.1  o__Enterobacterales_A  f__Enterobacteriaceae_A   \n\n                             genus                          species  \ngid                                                                  \nGCA_000006155.2      g__Bacillus_A          s__Bacillus_A anthracis  \nGCA_000007325.1   g__Fusobacterium       s__Fusobacterium nucleatum  \nGCA_000007385.1     g__Xanthomonas            s__Xanthomonas oryzae  \nGCA_000008085.1    g__Nanoarchaeum         s__Nanoarchaeum equitans  \nGCA_000008885.1  g__Wigglesworthia  s__Wigglesworthia glossinidia_A  \n\n[5 rows x 116 columns]",
      "text/html": "<div>\n<style scoped>\n    .dataframe tbody tr th:only-of-type {\n        vertical-align: middle;\n    }\n\n    .dataframe tbody tr th {\n        vertical-align: top;\n    }\n\n    .dataframe thead th {\n        text-align: right;\n    }\n</style>\n<table border=\"1\" class=\"dataframe\">\n  <thead>\n    <tr style=\"text-align: right;\">\n      <th></th>\n      <th>ambiguous_bases</th>\n      <th>checkm_completeness</th>\n      <th>checkm_contamination</th>\n      <th>checkm_marker_count</th>\n      <th>checkm_marker_lineage</th>\n      <th>checkm_marker_set_count</th>\n      <th>checkm_strain_heterogeneity</th>\n      <th>coding_bases</th>\n      <th>coding_density</th>\n      <th>contig_count</th>\n      <th>...</th>\n      <th>trna_aa_count</th>\n      <th>trna_count</th>\n      <th>trna_selenocysteine_count</th>\n      <th>domain</th>\n      <th>phylum</th>\n      <th>class</th>\n      <th>order</th>\n      <th>family</th>\n      <th>genus</th>\n      <th>species</th>\n    </tr>\n    <tr>\n      <th>gid</th>\n      <th></th>\n      <th></th>\n      <th></th>\n      <th></th>\n      <th></th>\n      <th></th>\n      <th></th>\n      <th></th>\n      <th></th>\n      <th></th>\n      <th></th>\n      <th></th>\n      <th></th>\n      <th></th>\n      <th></th>\n      <th></th>\n      <th></th>\n      <th></th>\n      <th></th>\n      <th></th>\n      <th></th>\n    </tr>\n  </thead>\n  <tbody>\n    <tr>\n      <th>GCA_000006155.2</th>\n      <td>1916</td>\n      <td>93.12</td>\n      <td>0.0</td>\n      <td>1171</td>\n      <td>g__Bacillus (UID902)</td>\n      <td>324</td>\n      <td>0.0</td>\n      <td>4305660</td>\n      <td>80.178992</td>\n      <td>426</td>\n      <td>...</td>\n      <td>16</td>\n      <td>31</td>\n      <td>0</td>\n      <td>d__Bacteria</td>\n      <td>p__Firmicutes</td>\n      <td>c__Bacilli</td>\n      <td>o__Bacillales</td>\n      <td>f__Bacillaceae_G</td>\n      <td>g__Bacillus_A</td>\n      <td>s__Bacillus_A anthracis</td>\n    </tr>\n    <tr>\n      <th>GCA_000007325.1</th>\n      <td>1</td>\n      <td>99.95</td>\n      <td>0.0</td>\n      <td>149</td>\n      <td>k__Bacteria (UID2329)</td>\n      <td>89</td>\n      <td>0.0</td>\n      <td>1973459</td>\n      <td>90.754610</td>\n      <td>1</td>\n      <td>...</td>\n      <td>20</td>\n      <td>47</td>\n      <td>0</td>\n      <td>d__Bacteria</td>\n      <td>p__Fusobacteriota</td>\n      <td>c__Fusobacteriia</td>\n      <td>o__Fusobacteriales</td>\n      <td>f__Fusobacteriaceae</td>\n      <td>g__Fusobacterium</td>\n      <td>s__Fusobacterium nucleatum</td>\n    </tr>\n    <tr>\n      <th>GCA_000007385.1</th>\n      <td>0</td>\n      <td>99.82</td>\n      <td>0.0</td>\n      <td>481</td>\n      <td>c__Gammaproteobacteria (UID4202)</td>\n      <td>276</td>\n      <td>0.0</td>\n      <td>4190634</td>\n      <td>84.805944</td>\n      <td>1</td>\n      <td>...</td>\n      <td>20</td>\n      <td>53</td>\n      <td>0</td>\n      <td>d__Bacteria</td>\n      <td>p__Proteobacteria</td>\n      <td>c__Gammaproteobacteria</td>\n      <td>o__Xanthomonadales</td>\n      <td>f__Xanthomonadaceae</td>\n      <td>g__Xanthomonas</td>\n      <td>s__Xanthomonas oryzae</td>\n    </tr>\n    <tr>\n      <th>GCA_000008085.1</th>\n      <td>0</td>\n      <td>73.13</td>\n      <td>0.0</td>\n      <td>149</td>\n      <td>k__Archaea (UID2)</td>\n      <td>107</td>\n      <td>0.0</td>\n      <td>462902</td>\n      <td>94.299480</td>\n      <td>1</td>\n      <td>...</td>\n      <td>17</td>\n      <td>38</td>\n      <td>0</td>\n      <td>d__Archaea</td>\n      <td>p__Nanoarchaeota</td>\n      <td>c__Nanoarchaeia</td>\n      <td>o__Nanoarchaeales</td>\n      <td>f__Nanoarchaeaceae</td>\n      <td>g__Nanoarchaeum</td>\n      <td>s__Nanoarchaeum equitans</td>\n    </tr>\n    <tr>\n      <th>GCA_000008885.1</th>\n      <td>0</td>\n      <td>100.00</td>\n      <td>0.0</td>\n      <td>134</td>\n      <td>k__Bacteria (UID2495)</td>\n      <td>80</td>\n      <td>0.0</td>\n      <td>617456</td>\n      <td>87.831079</td>\n      <td>2</td>\n      <td>...</td>\n      <td>20</td>\n      <td>34</td>\n      <td>0</td>\n      <td>d__Bacteria</td>\n      <td>p__Proteobacteria</td>\n      <td>c__Gammaproteobacteria</td>\n      <td>o__Enterobacterales_A</td>\n      <td>f__Enterobacteriaceae_A</td>\n      <td>g__Wigglesworthia</td>\n      <td>s__Wigglesworthia glossinidia_A</td>\n    </tr>\n  </tbody>\n</table>\n<p>5 rows × 116 columns</p>\n</div>"
     },
     "execution_count": 3,
     "metadata": {},
     "output_type": "execute_result"
    }
   ],
   "source": [
    "DF_META = GtdbMetadataR207Full().output().read_cached()\n",
    "DF_META.head()"
   ],
   "metadata": {
    "collapsed": false,
    "ExecuteTime": {
     "end_time": "2023-07-17T03:52:05.966613Z",
     "start_time": "2023-07-17T03:51:08.340870Z"
    }
   }
  },
  {
   "cell_type": "code",
   "execution_count": 4,
   "outputs": [
    {
     "data": {
      "text/plain": "                 n_genes_called  n_genes_mapped  n_contigs taxonomic_level  \\\ngid                                                                          \nGCA_000143435.1            2189            2110          4           genus   \nGCA_000153745.1            2202            2165          2          family   \nGCA_000155005.1            6879            6313         84           genus   \nGCA_000161815.1            4499            4335          8           genus   \nGCA_000166735.2            3414            3247        793           genus   \n\n                 proportion_genes_retained_in_major_clades  \\\ngid                                                          \nGCA_000143435.1                                       0.89   \nGCA_000153745.1                                       0.92   \nGCA_000155005.1                                       0.87   \nGCA_000161815.1                                       0.80   \nGCA_000166735.2                                       0.94   \n\n                 genes_retained_index  clade_separation_score  \\\ngid                                                             \nGCA_000143435.1                  0.86                    0.55   \nGCA_000153745.1                  0.90                    0.49   \nGCA_000155005.1                  0.79                    0.79   \nGCA_000161815.1                  0.77                    0.50   \nGCA_000166735.2                  0.90                    0.57   \n\n                 contamination_portion  n_effective_surplus_clades  \\\ngid                                                                  \nGCA_000143435.1                   0.03                        0.06   \nGCA_000153745.1                   0.06                        0.12   \nGCA_000155005.1                   0.10                        0.22   \nGCA_000161815.1                   0.19                        0.50   \nGCA_000166735.2                   0.02                        0.05   \n\n                 mean_hit_identity  reference_representation_score  pass.GUNC  \\\ngid                                                                             \nGCA_000143435.1               0.95                            0.82      False   \nGCA_000153745.1               0.67                            0.61      False   \nGCA_000155005.1               0.97                            0.77      False   \nGCA_000161815.1               0.95                            0.74      False   \nGCA_000166735.2               0.93                            0.83      False   \n\n                     source  \ngid                          \nGCA_000143435.1        gtdb  \nGCA_000153745.1  progenomes  \nGCA_000155005.1        gtdb  \nGCA_000161815.1  progenomes  \nGCA_000166735.2  progenomes  ",
      "text/html": "<div>\n<style scoped>\n    .dataframe tbody tr th:only-of-type {\n        vertical-align: middle;\n    }\n\n    .dataframe tbody tr th {\n        vertical-align: top;\n    }\n\n    .dataframe thead th {\n        text-align: right;\n    }\n</style>\n<table border=\"1\" class=\"dataframe\">\n  <thead>\n    <tr style=\"text-align: right;\">\n      <th></th>\n      <th>n_genes_called</th>\n      <th>n_genes_mapped</th>\n      <th>n_contigs</th>\n      <th>taxonomic_level</th>\n      <th>proportion_genes_retained_in_major_clades</th>\n      <th>genes_retained_index</th>\n      <th>clade_separation_score</th>\n      <th>contamination_portion</th>\n      <th>n_effective_surplus_clades</th>\n      <th>mean_hit_identity</th>\n      <th>reference_representation_score</th>\n      <th>pass.GUNC</th>\n      <th>source</th>\n    </tr>\n    <tr>\n      <th>gid</th>\n      <th></th>\n      <th></th>\n      <th></th>\n      <th></th>\n      <th></th>\n      <th></th>\n      <th></th>\n      <th></th>\n      <th></th>\n      <th></th>\n      <th></th>\n      <th></th>\n      <th></th>\n    </tr>\n  </thead>\n  <tbody>\n    <tr>\n      <th>GCA_000143435.1</th>\n      <td>2189</td>\n      <td>2110</td>\n      <td>4</td>\n      <td>genus</td>\n      <td>0.89</td>\n      <td>0.86</td>\n      <td>0.55</td>\n      <td>0.03</td>\n      <td>0.06</td>\n      <td>0.95</td>\n      <td>0.82</td>\n      <td>False</td>\n      <td>gtdb</td>\n    </tr>\n    <tr>\n      <th>GCA_000153745.1</th>\n      <td>2202</td>\n      <td>2165</td>\n      <td>2</td>\n      <td>family</td>\n      <td>0.92</td>\n      <td>0.90</td>\n      <td>0.49</td>\n      <td>0.06</td>\n      <td>0.12</td>\n      <td>0.67</td>\n      <td>0.61</td>\n      <td>False</td>\n      <td>progenomes</td>\n    </tr>\n    <tr>\n      <th>GCA_000155005.1</th>\n      <td>6879</td>\n      <td>6313</td>\n      <td>84</td>\n      <td>genus</td>\n      <td>0.87</td>\n      <td>0.79</td>\n      <td>0.79</td>\n      <td>0.10</td>\n      <td>0.22</td>\n      <td>0.97</td>\n      <td>0.77</td>\n      <td>False</td>\n      <td>gtdb</td>\n    </tr>\n    <tr>\n      <th>GCA_000161815.1</th>\n      <td>4499</td>\n      <td>4335</td>\n      <td>8</td>\n      <td>genus</td>\n      <td>0.80</td>\n      <td>0.77</td>\n      <td>0.50</td>\n      <td>0.19</td>\n      <td>0.50</td>\n      <td>0.95</td>\n      <td>0.74</td>\n      <td>False</td>\n      <td>progenomes</td>\n    </tr>\n    <tr>\n      <th>GCA_000166735.2</th>\n      <td>3414</td>\n      <td>3247</td>\n      <td>793</td>\n      <td>genus</td>\n      <td>0.94</td>\n      <td>0.90</td>\n      <td>0.57</td>\n      <td>0.02</td>\n      <td>0.05</td>\n      <td>0.93</td>\n      <td>0.83</td>\n      <td>False</td>\n      <td>progenomes</td>\n    </tr>\n  </tbody>\n</table>\n</div>"
     },
     "execution_count": 4,
     "metadata": {},
     "output_type": "execute_result"
    }
   ],
   "source": [
    "DF_CSS = AggregateMaxCssLevelMerged().output().read_cached()\n",
    "DF_CSS.head()"
   ],
   "metadata": {
    "collapsed": false,
    "ExecuteTime": {
     "end_time": "2023-07-17T03:52:06.314278Z",
     "start_time": "2023-07-17T03:52:05.976175Z"
    }
   }
  },
  {
   "cell_type": "code",
   "execution_count": 5,
   "outputs": [],
   "source": [
    "FAIL_GIDS = set(DF_CSS.index)"
   ],
   "metadata": {
    "collapsed": false,
    "ExecuteTime": {
     "end_time": "2023-07-17T03:52:06.316310Z",
     "start_time": "2023-07-17T03:52:06.103144Z"
    }
   }
  },
  {
   "cell_type": "code",
   "execution_count": 6,
   "outputs": [],
   "source": [
    "from collections import defaultdict, Counter\n",
    "\n",
    "def generate_sp_gids():\n",
    "    out = defaultdict(set)\n",
    "    for gid, row in DF_META.iterrows():\n",
    "        out[row['species']].add(gid)\n",
    "    return out\n",
    "\n",
    "D_SP_TO_GIDS = generate_sp_gids()"
   ],
   "metadata": {
    "collapsed": false,
    "ExecuteTime": {
     "end_time": "2023-07-17T03:52:23.336281Z",
     "start_time": "2023-07-17T03:52:06.103615Z"
    }
   }
  },
  {
   "cell_type": "code",
   "execution_count": 7,
   "outputs": [
    {
     "data": {
      "text/plain": "                           species  n_gids     set\n0          s__Bacillus_A anthracis       1  subset\n1       s__Fusobacterium nucleatum       0    none\n2            s__Xanthomonas oryzae       5  subset\n3         s__Nanoarchaeum equitans       0    none\n4  s__Wigglesworthia glossinidia_A       0    none",
      "text/html": "<div>\n<style scoped>\n    .dataframe tbody tr th:only-of-type {\n        vertical-align: middle;\n    }\n\n    .dataframe tbody tr th {\n        vertical-align: top;\n    }\n\n    .dataframe thead th {\n        text-align: right;\n    }\n</style>\n<table border=\"1\" class=\"dataframe\">\n  <thead>\n    <tr style=\"text-align: right;\">\n      <th></th>\n      <th>species</th>\n      <th>n_gids</th>\n      <th>set</th>\n    </tr>\n  </thead>\n  <tbody>\n    <tr>\n      <th>0</th>\n      <td>s__Bacillus_A anthracis</td>\n      <td>1</td>\n      <td>subset</td>\n    </tr>\n    <tr>\n      <th>1</th>\n      <td>s__Fusobacterium nucleatum</td>\n      <td>0</td>\n      <td>none</td>\n    </tr>\n    <tr>\n      <th>2</th>\n      <td>s__Xanthomonas oryzae</td>\n      <td>5</td>\n      <td>subset</td>\n    </tr>\n    <tr>\n      <th>3</th>\n      <td>s__Nanoarchaeum equitans</td>\n      <td>0</td>\n      <td>none</td>\n    </tr>\n    <tr>\n      <th>4</th>\n      <td>s__Wigglesworthia glossinidia_A</td>\n      <td>0</td>\n      <td>none</td>\n    </tr>\n  </tbody>\n</table>\n</div>"
     },
     "execution_count": 7,
     "metadata": {},
     "output_type": "execute_result"
    }
   ],
   "source": [
    "import pandas as pd\n",
    "\n",
    "\n",
    "def generate_n_sp_with_all_failed():\n",
    "    out = list()\n",
    "    for sp, gids in D_SP_TO_GIDS.items():\n",
    "        n_fail = len(gids.intersection(FAIL_GIDS))\n",
    "        if n_fail == len(gids):\n",
    "            out.append({\n",
    "                'species': sp,\n",
    "                'n_gids': n_fail,\n",
    "                'set': 'all_fail'\n",
    "            })\n",
    "        elif n_fail > 0:\n",
    "            out.append({\n",
    "                'species': sp,\n",
    "                'n_gids': n_fail,\n",
    "                'set': 'subset'\n",
    "            })\n",
    "        else:\n",
    "            out.append({\n",
    "                'species': sp,\n",
    "                'n_gids': 0,\n",
    "                'set': 'none'\n",
    "            })\n",
    "\n",
    "\n",
    "    return pd.DataFrame(out)\n",
    "\n",
    "DF_SP_FAILED = generate_n_sp_with_all_failed()\n",
    "DF_SP_FAILED.head()"
   ],
   "metadata": {
    "collapsed": false,
    "ExecuteTime": {
     "end_time": "2023-07-17T03:52:23.462725Z",
     "start_time": "2023-07-17T03:52:23.353990Z"
    }
   }
  },
  {
   "cell_type": "code",
   "execution_count": 8,
   "outputs": [
    {
     "data": {
      "text/plain": "                           species  n_gids  n_fail  pct_fail\n0          s__Bacillus_A anthracis     417       1  0.239808\n1       s__Fusobacterium nucleatum      13       0  0.000000\n2            s__Xanthomonas oryzae     364       5  1.373626\n3         s__Nanoarchaeum equitans       1       0  0.000000\n4  s__Wigglesworthia glossinidia_A       1       0  0.000000",
      "text/html": "<div>\n<style scoped>\n    .dataframe tbody tr th:only-of-type {\n        vertical-align: middle;\n    }\n\n    .dataframe tbody tr th {\n        vertical-align: top;\n    }\n\n    .dataframe thead th {\n        text-align: right;\n    }\n</style>\n<table border=\"1\" class=\"dataframe\">\n  <thead>\n    <tr style=\"text-align: right;\">\n      <th></th>\n      <th>species</th>\n      <th>n_gids</th>\n      <th>n_fail</th>\n      <th>pct_fail</th>\n    </tr>\n  </thead>\n  <tbody>\n    <tr>\n      <th>0</th>\n      <td>s__Bacillus_A anthracis</td>\n      <td>417</td>\n      <td>1</td>\n      <td>0.239808</td>\n    </tr>\n    <tr>\n      <th>1</th>\n      <td>s__Fusobacterium nucleatum</td>\n      <td>13</td>\n      <td>0</td>\n      <td>0.000000</td>\n    </tr>\n    <tr>\n      <th>2</th>\n      <td>s__Xanthomonas oryzae</td>\n      <td>364</td>\n      <td>5</td>\n      <td>1.373626</td>\n    </tr>\n    <tr>\n      <th>3</th>\n      <td>s__Nanoarchaeum equitans</td>\n      <td>1</td>\n      <td>0</td>\n      <td>0.000000</td>\n    </tr>\n    <tr>\n      <th>4</th>\n      <td>s__Wigglesworthia glossinidia_A</td>\n      <td>1</td>\n      <td>0</td>\n      <td>0.000000</td>\n    </tr>\n  </tbody>\n</table>\n</div>"
     },
     "execution_count": 8,
     "metadata": {},
     "output_type": "execute_result"
    }
   ],
   "source": [
    "def generate_df_with_counts():\n",
    "    out = list()\n",
    "    for sp, gids in D_SP_TO_GIDS.items():\n",
    "        n_fail = len(gids.intersection(FAIL_GIDS))\n",
    "        out.append({\n",
    "            'species': sp,\n",
    "            'n_gids': len(gids),\n",
    "            'n_fail': n_fail,\n",
    "            'pct_fail': n_fail / len(gids) * 100\n",
    "        })\n",
    "    return pd.DataFrame(out)\n",
    "\n",
    "DF_SP_COUNTS = generate_df_with_counts()\n",
    "DF_SP_COUNTS.head()"
   ],
   "metadata": {
    "collapsed": false,
    "ExecuteTime": {
     "end_time": "2023-07-17T03:52:23.608176Z",
     "start_time": "2023-07-17T03:52:23.486261Z"
    }
   }
  },
  {
   "cell_type": "code",
   "execution_count": 9,
   "outputs": [
    {
     "data": {
      "text/plain": "   bin       count\n0  0.0  100.000000\n1  0.1   15.201741\n2  0.2   15.198697\n3  0.3   15.191087\n4  0.4   15.186521",
      "text/html": "<div>\n<style scoped>\n    .dataframe tbody tr th:only-of-type {\n        vertical-align: middle;\n    }\n\n    .dataframe tbody tr th {\n        vertical-align: top;\n    }\n\n    .dataframe thead th {\n        text-align: right;\n    }\n</style>\n<table border=\"1\" class=\"dataframe\">\n  <thead>\n    <tr style=\"text-align: right;\">\n      <th></th>\n      <th>bin</th>\n      <th>count</th>\n    </tr>\n  </thead>\n  <tbody>\n    <tr>\n      <th>0</th>\n      <td>0.0</td>\n      <td>100.000000</td>\n    </tr>\n    <tr>\n      <th>1</th>\n      <td>0.1</td>\n      <td>15.201741</td>\n    </tr>\n    <tr>\n      <th>2</th>\n      <td>0.2</td>\n      <td>15.198697</td>\n    </tr>\n    <tr>\n      <th>3</th>\n      <td>0.3</td>\n      <td>15.191087</td>\n    </tr>\n    <tr>\n      <th>4</th>\n      <td>0.4</td>\n      <td>15.186521</td>\n    </tr>\n  </tbody>\n</table>\n</div>"
     },
     "execution_count": 9,
     "metadata": {},
     "output_type": "execute_result"
    }
   ],
   "source": [
    "def calc_cumulative_values():\n",
    "\n",
    "    n_species = len(DF_SP_COUNTS)\n",
    "    rows = list()\n",
    "    for i in range(0, 1001):\n",
    "        current_bin = i / 10\n",
    "        subset = DF_SP_COUNTS[DF_SP_COUNTS['pct_fail'] >= current_bin]\n",
    "        rows.append({\n",
    "            'bin': current_bin,\n",
    "            'count': len(subset) / n_species * 100\n",
    "        })\n",
    "    return pd.DataFrame(rows)\n",
    "\n",
    "DF_CUMULAIVE_VALS = calc_cumulative_values()\n",
    "DF_CUMULAIVE_VALS.head()"
   ],
   "metadata": {
    "collapsed": false,
    "ExecuteTime": {
     "end_time": "2023-07-17T03:52:24.430793Z",
     "start_time": "2023-07-17T03:52:23.603655Z"
    }
   }
  },
  {
   "cell_type": "code",
   "execution_count": 10,
   "outputs": [
    {
     "data": {
      "text/plain": "                           species  n_gids  n_fail  pct_fail\n0          s__Bacillus_A anthracis     417       1  0.239808\n1       s__Fusobacterium nucleatum      13       0  0.000000\n2            s__Xanthomonas oryzae     364       5  1.373626\n3         s__Nanoarchaeum equitans       1       0  0.000000\n4  s__Wigglesworthia glossinidia_A       1       0  0.000000",
      "text/html": "<div>\n<style scoped>\n    .dataframe tbody tr th:only-of-type {\n        vertical-align: middle;\n    }\n\n    .dataframe tbody tr th {\n        vertical-align: top;\n    }\n\n    .dataframe thead th {\n        text-align: right;\n    }\n</style>\n<table border=\"1\" class=\"dataframe\">\n  <thead>\n    <tr style=\"text-align: right;\">\n      <th></th>\n      <th>species</th>\n      <th>n_gids</th>\n      <th>n_fail</th>\n      <th>pct_fail</th>\n    </tr>\n  </thead>\n  <tbody>\n    <tr>\n      <th>0</th>\n      <td>s__Bacillus_A anthracis</td>\n      <td>417</td>\n      <td>1</td>\n      <td>0.239808</td>\n    </tr>\n    <tr>\n      <th>1</th>\n      <td>s__Fusobacterium nucleatum</td>\n      <td>13</td>\n      <td>0</td>\n      <td>0.000000</td>\n    </tr>\n    <tr>\n      <th>2</th>\n      <td>s__Xanthomonas oryzae</td>\n      <td>364</td>\n      <td>5</td>\n      <td>1.373626</td>\n    </tr>\n    <tr>\n      <th>3</th>\n      <td>s__Nanoarchaeum equitans</td>\n      <td>1</td>\n      <td>0</td>\n      <td>0.000000</td>\n    </tr>\n    <tr>\n      <th>4</th>\n      <td>s__Wigglesworthia glossinidia_A</td>\n      <td>1</td>\n      <td>0</td>\n      <td>0.000000</td>\n    </tr>\n  </tbody>\n</table>\n</div>"
     },
     "execution_count": 10,
     "metadata": {},
     "output_type": "execute_result"
    }
   ],
   "source": [
    "DF_SP_COUNTS.head()"
   ],
   "metadata": {
    "collapsed": false,
    "ExecuteTime": {
     "end_time": "2023-07-17T03:52:24.439390Z",
     "start_time": "2023-07-17T03:52:24.430208Z"
    }
   }
  },
  {
   "cell_type": "code",
   "execution_count": 11,
   "outputs": [],
   "source": [
    "def generate_gid_to_iso_source():\n",
    "    out = dict()\n",
    "    for gid, row in DF_META.iterrows():\n",
    "        iso_source = row['ncbi_genome_category']\n",
    "        if iso_source == 'derived from metagenome':\n",
    "            out[gid] = 'MAG'\n",
    "        elif iso_source == 'derived from single cell':\n",
    "            out[gid] = 'SAG'\n",
    "        else:\n",
    "            out[gid] = 'Isolate'\n",
    "    return out\n",
    "D_GID_TO_ISO = generate_gid_to_iso_source()"
   ],
   "metadata": {
    "collapsed": false,
    "ExecuteTime": {
     "end_time": "2023-07-17T03:52:40.637764Z",
     "start_time": "2023-07-17T03:52:24.441765Z"
    }
   }
  },
  {
   "cell_type": "code",
   "execution_count": 12,
   "outputs": [
    {
     "data": {
      "text/plain": "                          species  n_gids_in_sp  n_fail_in_sp  pct_fail_in_sp  \\\n32            s__Escherichia coli         26859          3721       13.853829   \n148      s__Staphylococcus aureus         13059            62        0.474768   \n147        s__Salmonella enterica         12285          2365       19.251119   \n219      s__Klebsiella pneumoniae         11294          3201       28.342483   \n124   s__Streptococcus pneumoniae          8452            72        0.851869   \n..                            ...           ...           ...             ...   \n230        s__Mycobacterium avium           206            28       13.592233   \n268       s__Enterococcus_B hirae           203             5        2.463054   \n165      s__Moraxella catarrhalis           200             8        4.000000   \n723    s__Akkermansia muciniphila           200            12        6.000000   \n402  s__Enterobacter roggenkampii           197            70       35.532995   \n\n      source  \n32     Mixed  \n148    Mixed  \n147  Isolate  \n219    Mixed  \n124  Isolate  \n..       ...  \n230  Isolate  \n268    Mixed  \n165  Isolate  \n723    Mixed  \n402    Mixed  \n\n[100 rows x 5 columns]",
      "text/html": "<div>\n<style scoped>\n    .dataframe tbody tr th:only-of-type {\n        vertical-align: middle;\n    }\n\n    .dataframe tbody tr th {\n        vertical-align: top;\n    }\n\n    .dataframe thead th {\n        text-align: right;\n    }\n</style>\n<table border=\"1\" class=\"dataframe\">\n  <thead>\n    <tr style=\"text-align: right;\">\n      <th></th>\n      <th>species</th>\n      <th>n_gids_in_sp</th>\n      <th>n_fail_in_sp</th>\n      <th>pct_fail_in_sp</th>\n      <th>source</th>\n    </tr>\n  </thead>\n  <tbody>\n    <tr>\n      <th>32</th>\n      <td>s__Escherichia coli</td>\n      <td>26859</td>\n      <td>3721</td>\n      <td>13.853829</td>\n      <td>Mixed</td>\n    </tr>\n    <tr>\n      <th>148</th>\n      <td>s__Staphylococcus aureus</td>\n      <td>13059</td>\n      <td>62</td>\n      <td>0.474768</td>\n      <td>Mixed</td>\n    </tr>\n    <tr>\n      <th>147</th>\n      <td>s__Salmonella enterica</td>\n      <td>12285</td>\n      <td>2365</td>\n      <td>19.251119</td>\n      <td>Isolate</td>\n    </tr>\n    <tr>\n      <th>219</th>\n      <td>s__Klebsiella pneumoniae</td>\n      <td>11294</td>\n      <td>3201</td>\n      <td>28.342483</td>\n      <td>Mixed</td>\n    </tr>\n    <tr>\n      <th>124</th>\n      <td>s__Streptococcus pneumoniae</td>\n      <td>8452</td>\n      <td>72</td>\n      <td>0.851869</td>\n      <td>Isolate</td>\n    </tr>\n    <tr>\n      <th>...</th>\n      <td>...</td>\n      <td>...</td>\n      <td>...</td>\n      <td>...</td>\n      <td>...</td>\n    </tr>\n    <tr>\n      <th>230</th>\n      <td>s__Mycobacterium avium</td>\n      <td>206</td>\n      <td>28</td>\n      <td>13.592233</td>\n      <td>Isolate</td>\n    </tr>\n    <tr>\n      <th>268</th>\n      <td>s__Enterococcus_B hirae</td>\n      <td>203</td>\n      <td>5</td>\n      <td>2.463054</td>\n      <td>Mixed</td>\n    </tr>\n    <tr>\n      <th>165</th>\n      <td>s__Moraxella catarrhalis</td>\n      <td>200</td>\n      <td>8</td>\n      <td>4.000000</td>\n      <td>Isolate</td>\n    </tr>\n    <tr>\n      <th>723</th>\n      <td>s__Akkermansia muciniphila</td>\n      <td>200</td>\n      <td>12</td>\n      <td>6.000000</td>\n      <td>Mixed</td>\n    </tr>\n    <tr>\n      <th>402</th>\n      <td>s__Enterobacter roggenkampii</td>\n      <td>197</td>\n      <td>70</td>\n      <td>35.532995</td>\n      <td>Mixed</td>\n    </tr>\n  </tbody>\n</table>\n<p>100 rows × 5 columns</p>\n</div>"
     },
     "execution_count": 12,
     "metadata": {},
     "output_type": "execute_result"
    }
   ],
   "source": [
    "def generate_df_with_iso_counts():\n",
    "    out = list()\n",
    "    for sp, gids in D_SP_TO_GIDS.items():\n",
    "        n_fail_total = len(gids.intersection(FAIL_GIDS))\n",
    "\n",
    "        d_source_to_gids = defaultdict(set)\n",
    "        for gid in gids:\n",
    "            iso_source = D_GID_TO_ISO[gid]\n",
    "            d_source_to_gids[iso_source].add(gid)\n",
    "\n",
    "        cur_row = {\n",
    "               'species': sp,\n",
    "               'n_gids_in_sp': len(gids),\n",
    "               'n_fail_in_sp': n_fail_total,\n",
    "                'pct_fail_in_sp': n_fail_total / len(gids) * 100\n",
    "        }\n",
    "\n",
    "        if len(d_source_to_gids) == 1:\n",
    "            cur_row['source'] = list(d_source_to_gids.keys())[0]\n",
    "        else:\n",
    "            cur_row['source'] = 'Mixed'\n",
    "        out.append(cur_row)\n",
    "\n",
    "\n",
    "    df = pd.DataFrame(out)\n",
    "    df = df.sort_values(by=['n_gids_in_sp', 'source'], ascending=[False, True])\n",
    "    return df\n",
    "\n",
    "DF_SP_COUNTS_ISO = generate_df_with_iso_counts()\n",
    "DF_SP_COUNTS_ISO.head(100)"
   ],
   "metadata": {
    "collapsed": false,
    "ExecuteTime": {
     "end_time": "2023-07-17T03:52:40.962402Z",
     "start_time": "2023-07-17T03:52:40.657061Z"
    }
   }
  },
  {
   "cell_type": "code",
   "execution_count": 13,
   "outputs": [
    {
     "name": "stdout",
     "output_type": "stream",
     "text": [
      "7\n",
      "51806    s__Erythrobacter donghaensis_B\n",
      "59150      s__Lactonifactor sp009677585\n",
      "32921         s__Pontimonas sp017852615\n",
      "Name: species, dtype: object\n",
      "--------------------\n",
      "8\n",
      "18228      s__Erwinia_B gerundensis\n",
      "51616    s__Halobacterium hubeiense\n",
      "53931     s__Gluconobacter kondonii\n",
      "Name: species, dtype: object\n",
      "--------------------\n",
      "9\n",
      "49906    s__Acetobacter tropicalis\n",
      "12062    s__Trichormus sp000009705\n",
      "Name: species, dtype: object\n",
      "--------------------\n",
      "10\n",
      "Series([], Name: species, dtype: object)\n",
      "--------------------\n",
      "11\n",
      "Series([], Name: species, dtype: object)\n",
      "--------------------\n",
      "12\n",
      "17071    s__Nitrosotenuis sp010028495\n",
      "21078        s__Pannonibacter indicus\n",
      "Name: species, dtype: object\n",
      "--------------------\n",
      "13\n",
      "Series([], Name: species, dtype: object)\n",
      "--------------------\n",
      "14\n",
      "46684    s__Borreliella valaisiana\n",
      "Name: species, dtype: object\n",
      "--------------------\n",
      "15\n",
      "35382    s__HTCC2207 sp018654575\n",
      "Name: species, dtype: object\n",
      "--------------------\n",
      "16\n",
      "62787    s__Sulfitobacter mediterraneus_A\n",
      "Name: species, dtype: object\n",
      "--------------------\n",
      "17\n",
      "63530    s__Fusobacterium_A sp018205345\n",
      "21272            s__MED-G11 sp014239615\n",
      "Name: species, dtype: object\n",
      "--------------------\n"
     ]
    }
   ],
   "source": [
    "\n",
    "def get_genomes_in_counts():\n",
    "    for i in range(7, 18):\n",
    "        gids = DF_SP_COUNTS_ISO[(DF_SP_COUNTS_ISO['n_gids_in_sp'] ==i) & (DF_SP_COUNTS_ISO['n_gids_in_sp'] == DF_SP_COUNTS_ISO['n_fail_in_sp'])]\n",
    "        print(i)\n",
    "        print(gids.species)\n",
    "        print('-' * 20)\n",
    "    return\n",
    "\n",
    "get_genomes_in_counts()\n"
   ],
   "metadata": {
    "collapsed": false,
    "ExecuteTime": {
     "end_time": "2023-07-17T03:52:40.979605Z",
     "start_time": "2023-07-17T03:52:40.963129Z"
    }
   }
  },
  {
   "cell_type": "code",
   "execution_count": 16,
   "outputs": [
    {
     "name": "stdout",
     "output_type": "stream",
     "text": [
      "defaultdict(<function make_plot.<locals>.<listcomp>.<lambda> at 0x7fa15062fe50>, {1: 25})\n"
     ]
    },
    {
     "data": {
      "text/plain": "<Figure size 600x600 with 1 Axes>",
      "image/png": "[encoded data removed]"
     },
     "metadata": {},
     "output_type": "display_data"
    }
   ],
   "source": [
    "\n",
    "import numpy as np\n",
    "\n",
    "def make_plot(from_idx, ylim_max):\n",
    "    df_subset = DF_SP_COUNTS_ISO[DF_SP_COUNTS_ISO['n_gids_in_sp'] == DF_SP_COUNTS_ISO['n_fail_in_sp']]\n",
    "\n",
    "    x_iso = list()\n",
    "    x_mag = list()\n",
    "    x_sag = list()\n",
    "    x_mix = list()\n",
    "\n",
    "    max_x = int(df_subset['n_gids_in_sp'].max())\n",
    "\n",
    "    d_iso, d_mag, d_sag, d_mix = [defaultdict(lambda: 0) for _ in range(4)]\n",
    "    for row in df_subset.itertuples():\n",
    "        if row.source == 'Isolate':\n",
    "            d_iso[row.n_gids_in_sp] += 1\n",
    "        elif row.source == 'MAG':\n",
    "            d_mag[row.n_gids_in_sp] += 1\n",
    "        elif row.source == 'SAG':\n",
    "            d_sag[row.n_gids_in_sp] += 1\n",
    "        elif row.source == 'Mixed':\n",
    "            d_mix[row.n_gids_in_sp] += 1\n",
    "        else:\n",
    "            raise Exception('Unknown source')\n",
    "\n",
    "    print(d_sag)\n",
    "\n",
    "    x_ticks = list(range(1, max_x+1))\n",
    "    for i in range(1, max_x + 1):\n",
    "        x_iso.append(d_iso[i])\n",
    "        x_mag.append(d_mag[i])\n",
    "        x_sag.append(d_sag[i])\n",
    "        x_mix.append(d_mix[i])\n",
    "\n",
    "    x_iso = np.array(x_iso)\n",
    "    x_mag = np.array(x_mag)\n",
    "    x_sag = np.array(x_sag)\n",
    "    x_mix = np.array(x_mix)\n",
    "\n",
    "    x_ticks = x_ticks[from_idx:]\n",
    "    x_iso = x_iso[from_idx:]\n",
    "    x_mag = x_mag[from_idx:]\n",
    "    x_sag = x_sag[from_idx:]\n",
    "    x_mix = x_mix[from_idx:]\n",
    "\n",
    "    plt.rcParams['svg.fonttype'] = 'none'\n",
    "\n",
    "    plt.rcParams.update({'font.size': 12})\n",
    "\n",
    "\n",
    "    fig, ax = plt.subplots(figsize=(6, 6))\n",
    "\n",
    "    width = 0.9\n",
    "\n",
    "    plt.bar(x_ticks, x_iso, width, color='r', label='Isolate')\n",
    "    plt.bar(x_ticks, x_mag, width, color='g', bottom=x_iso, label='MAG')\n",
    "    plt.bar(x_ticks, x_sag, width, color='b', bottom=x_iso+x_mag, label='SAG')\n",
    "    plt.bar(x_ticks, x_mix, width, color='y', bottom=x_iso+x_mag+x_sag, label='Mixed')\n",
    "\n",
    "    plt.xticks(x_ticks)\n",
    "\n",
    "    ax.set_ylabel('Species count')\n",
    "    ax.set_xlabel('Number of genomes in species')\n",
    "    plt.title(f'Count of genomes in species where all genomes fail')\n",
    "    plt.legend()\n",
    "    ax.set_ylim((0, ylim_max))\n",
    "    plt.tight_layout()\n",
    "\n",
    "\n",
    "    plt.savefig('/tmp/gunc_stats_e.svg')\n",
    "\n",
    "\n",
    "    return\n",
    "\n",
    "\n",
    "make_plot(from_idx=0, ylim_max=3600)\n",
    "# make_plot(from_idx=2, ylim_max=70)\n",
    "\n",
    "\"\"\"\n",
    "\n",
    "\n",
    "Erythrobacter donghaensis_B, Lactonifactor sp009677585, Pontimonas sp017852615\n",
    "\n",
    "Erwinia_B gerundensis, Halobacterium hubeiense, Gluconobacter kondonii\n",
    "\n",
    "Acetobacter tropicalis, Trichormus sp000009705\n",
    "\n",
    "Nitrosotenuis sp010028495, Pannonibacter indicus\n",
    "\n",
    "Borreliella valaisiana\n",
    "\n",
    "HTCC2207 sp018654575\n",
    "\n",
    "Sulfitobacter mediterraneus_A\n",
    "\n",
    "Fusobacterium_A sp018205345, MED-G11 sp014239615\n",
    "\n",
    "\n",
    "\"\"\"\n"
   ],
   "metadata": {
    "collapsed": false,
    "ExecuteTime": {
     "end_time": "2023-07-17T03:53:24.489240Z",
     "start_time": "2023-07-17T03:53:23.748133Z"
    }
   }
  },
  {
   "cell_type": "code",
   "execution_count": 15,
   "outputs": [
    {
     "ename": "KeyError",
     "evalue": "'n_gids_in_iso'",
     "output_type": "error",
     "traceback": [
      "\u001B[0;31m---------------------------------------------------------------------------\u001B[0m",
      "\u001B[0;31mKeyError\u001B[0m                                  Traceback (most recent call last)",
      "File \u001B[0;32m~/mambaforge/envs/gunc-chimeras/lib/python3.8/site-packages/pandas/core/indexes/base.py:3652\u001B[0m, in \u001B[0;36mIndex.get_loc\u001B[0;34m(self, key)\u001B[0m\n\u001B[1;32m   3651\u001B[0m \u001B[38;5;28;01mtry\u001B[39;00m:\n\u001B[0;32m-> 3652\u001B[0m     \u001B[38;5;28;01mreturn\u001B[39;00m \u001B[38;5;28;43mself\u001B[39;49m\u001B[38;5;241;43m.\u001B[39;49m\u001B[43m_engine\u001B[49m\u001B[38;5;241;43m.\u001B[39;49m\u001B[43mget_loc\u001B[49m\u001B[43m(\u001B[49m\u001B[43mcasted_key\u001B[49m\u001B[43m)\u001B[49m\n\u001B[1;32m   3653\u001B[0m \u001B[38;5;28;01mexcept\u001B[39;00m \u001B[38;5;167;01mKeyError\u001B[39;00m \u001B[38;5;28;01mas\u001B[39;00m err:\n",
      "File \u001B[0;32m~/mambaforge/envs/gunc-chimeras/lib/python3.8/site-packages/pandas/_libs/index.pyx:147\u001B[0m, in \u001B[0;36mpandas._libs.index.IndexEngine.get_loc\u001B[0;34m()\u001B[0m\n",
      "File \u001B[0;32m~/mambaforge/envs/gunc-chimeras/lib/python3.8/site-packages/pandas/_libs/index.pyx:176\u001B[0m, in \u001B[0;36mpandas._libs.index.IndexEngine.get_loc\u001B[0;34m()\u001B[0m\n",
      "File \u001B[0;32mpandas/_libs/hashtable_class_helper.pxi:7080\u001B[0m, in \u001B[0;36mpandas._libs.hashtable.PyObjectHashTable.get_item\u001B[0;34m()\u001B[0m\n",
      "File \u001B[0;32mpandas/_libs/hashtable_class_helper.pxi:7088\u001B[0m, in \u001B[0;36mpandas._libs.hashtable.PyObjectHashTable.get_item\u001B[0;34m()\u001B[0m\n",
      "\u001B[0;31mKeyError\u001B[0m: 'n_gids_in_iso'",
      "\nThe above exception was the direct cause of the following exception:\n",
      "\u001B[0;31mKeyError\u001B[0m                                  Traceback (most recent call last)",
      "Cell \u001B[0;32mIn[15], line 84\u001B[0m\n\u001B[1;32m     78\u001B[0m     plt\u001B[38;5;241m.\u001B[39msavefig(\u001B[38;5;124m'\u001B[39m\u001B[38;5;124m/tmp/gunc_stats_e.svg\u001B[39m\u001B[38;5;124m'\u001B[39m)\n\u001B[1;32m     81\u001B[0m     \u001B[38;5;28;01mreturn\u001B[39;00m\n\u001B[0;32m---> 84\u001B[0m \u001B[43mmake_plot\u001B[49m\u001B[43m(\u001B[49m\u001B[43m)\u001B[49m\n",
      "Cell \u001B[0;32mIn[15], line 10\u001B[0m, in \u001B[0;36mmake_plot\u001B[0;34m()\u001B[0m\n\u001B[1;32m      7\u001B[0m x_mag \u001B[38;5;241m=\u001B[39m \u001B[38;5;28mlist\u001B[39m()\n\u001B[1;32m      8\u001B[0m x_sag \u001B[38;5;241m=\u001B[39m \u001B[38;5;28mlist\u001B[39m()\n\u001B[0;32m---> 10\u001B[0m max_x \u001B[38;5;241m=\u001B[39m \u001B[38;5;28mint\u001B[39m(\u001B[43mdf_subset\u001B[49m\u001B[43m[\u001B[49m\u001B[38;5;124;43m'\u001B[39;49m\u001B[38;5;124;43mn_gids_in_iso\u001B[39;49m\u001B[38;5;124;43m'\u001B[39;49m\u001B[43m]\u001B[49m\u001B[38;5;241m.\u001B[39mmax())\n\u001B[1;32m     12\u001B[0m d_iso, d_mag, d_sag \u001B[38;5;241m=\u001B[39m [defaultdict(\u001B[38;5;28;01mlambda\u001B[39;00m: \u001B[38;5;241m0\u001B[39m) \u001B[38;5;28;01mfor\u001B[39;00m _ \u001B[38;5;129;01min\u001B[39;00m \u001B[38;5;28mrange\u001B[39m(\u001B[38;5;241m3\u001B[39m)]\n\u001B[1;32m     13\u001B[0m \u001B[38;5;28;01mfor\u001B[39;00m row \u001B[38;5;129;01min\u001B[39;00m df_subset\u001B[38;5;241m.\u001B[39mitertuples():\n",
      "File \u001B[0;32m~/mambaforge/envs/gunc-chimeras/lib/python3.8/site-packages/pandas/core/frame.py:3761\u001B[0m, in \u001B[0;36mDataFrame.__getitem__\u001B[0;34m(self, key)\u001B[0m\n\u001B[1;32m   3759\u001B[0m \u001B[38;5;28;01mif\u001B[39;00m \u001B[38;5;28mself\u001B[39m\u001B[38;5;241m.\u001B[39mcolumns\u001B[38;5;241m.\u001B[39mnlevels \u001B[38;5;241m>\u001B[39m \u001B[38;5;241m1\u001B[39m:\n\u001B[1;32m   3760\u001B[0m     \u001B[38;5;28;01mreturn\u001B[39;00m \u001B[38;5;28mself\u001B[39m\u001B[38;5;241m.\u001B[39m_getitem_multilevel(key)\n\u001B[0;32m-> 3761\u001B[0m indexer \u001B[38;5;241m=\u001B[39m \u001B[38;5;28;43mself\u001B[39;49m\u001B[38;5;241;43m.\u001B[39;49m\u001B[43mcolumns\u001B[49m\u001B[38;5;241;43m.\u001B[39;49m\u001B[43mget_loc\u001B[49m\u001B[43m(\u001B[49m\u001B[43mkey\u001B[49m\u001B[43m)\u001B[49m\n\u001B[1;32m   3762\u001B[0m \u001B[38;5;28;01mif\u001B[39;00m is_integer(indexer):\n\u001B[1;32m   3763\u001B[0m     indexer \u001B[38;5;241m=\u001B[39m [indexer]\n",
      "File \u001B[0;32m~/mambaforge/envs/gunc-chimeras/lib/python3.8/site-packages/pandas/core/indexes/base.py:3654\u001B[0m, in \u001B[0;36mIndex.get_loc\u001B[0;34m(self, key)\u001B[0m\n\u001B[1;32m   3652\u001B[0m     \u001B[38;5;28;01mreturn\u001B[39;00m \u001B[38;5;28mself\u001B[39m\u001B[38;5;241m.\u001B[39m_engine\u001B[38;5;241m.\u001B[39mget_loc(casted_key)\n\u001B[1;32m   3653\u001B[0m \u001B[38;5;28;01mexcept\u001B[39;00m \u001B[38;5;167;01mKeyError\u001B[39;00m \u001B[38;5;28;01mas\u001B[39;00m err:\n\u001B[0;32m-> 3654\u001B[0m     \u001B[38;5;28;01mraise\u001B[39;00m \u001B[38;5;167;01mKeyError\u001B[39;00m(key) \u001B[38;5;28;01mfrom\u001B[39;00m \u001B[38;5;21;01merr\u001B[39;00m\n\u001B[1;32m   3655\u001B[0m \u001B[38;5;28;01mexcept\u001B[39;00m \u001B[38;5;167;01mTypeError\u001B[39;00m:\n\u001B[1;32m   3656\u001B[0m     \u001B[38;5;66;03m# If we have a listlike key, _check_indexing_error will raise\u001B[39;00m\n\u001B[1;32m   3657\u001B[0m     \u001B[38;5;66;03m#  InvalidIndexError. Otherwise we fall through and re-raise\u001B[39;00m\n\u001B[1;32m   3658\u001B[0m     \u001B[38;5;66;03m#  the TypeError.\u001B[39;00m\n\u001B[1;32m   3659\u001B[0m     \u001B[38;5;28mself\u001B[39m\u001B[38;5;241m.\u001B[39m_check_indexing_error(key)\n",
      "\u001B[0;31mKeyError\u001B[0m: 'n_gids_in_iso'"
     ]
    }
   ],
   "source": [
    "\n",
    "import numpy as np\n",
    "\n",
    "def make_plot():\n",
    "    df_subset = DF_SP_COUNTS_ISO[DF_SP_COUNTS_ISO['n_gids_in_sp'] == DF_SP_COUNTS_ISO['n_fail_in_sp']]\n",
    "\n",
    "    x_iso = list()\n",
    "    x_mag = list()\n",
    "    x_sag = list()\n",
    "\n",
    "    max_x = int(df_subset['n_gids_in_iso'].max())\n",
    "\n",
    "    d_iso, d_mag, d_sag = [defaultdict(lambda: 0) for _ in range(3)]\n",
    "    for row in df_subset.itertuples():\n",
    "        if row.source == 'Isolate':\n",
    "            d_iso[row.n_gids_in_iso] += 1\n",
    "        elif row.source == 'MAG':\n",
    "            d_mag[row.n_gids_in_iso] += 1\n",
    "        elif row.source == 'SAG':\n",
    "            d_sag[row.n_gids_in_iso] += 1\n",
    "        else:\n",
    "            raise Exception('Unknown source')\n",
    "\n",
    "    x_ticks = list(range(1, max_x+1))\n",
    "    for i in range(1, max_x + 1):\n",
    "        x_iso.append(d_iso[i])\n",
    "        x_mag.append(d_mag[i])\n",
    "        x_sag.append(d_sag[i])\n",
    "\n",
    "    x_iso = np.array(x_iso)\n",
    "    x_mag = np.array(x_mag)\n",
    "    x_sag = np.array(x_sag)\n",
    "\n",
    "\n",
    "    plt.rcParams['svg.fonttype'] = 'none'\n",
    "\n",
    "    plt.rcParams.update({'font.size': 8})\n",
    "\n",
    "\n",
    "    fig, (ax, ax2) = plt.subplots(2, 1, sharex=True, figsize=(6, 6))\n",
    "\n",
    "    width = 0.9\n",
    "\n",
    "    for cur_ax in (ax, ax2):\n",
    "\n",
    "        cur_ax.bar(x_ticks, x_iso, width, color='r', label='Isolate')\n",
    "        cur_ax.bar(x_ticks, x_sag, width, color='b', bottom=x_iso, label='SAG')\n",
    "        cur_ax.bar(x_ticks, x_mag, width, color='g', bottom=x_iso+x_sag, label='MAG')\n",
    "\n",
    "    plt.xticks(x_ticks)\n",
    "\n",
    "    # zoom-in / limit the view to different portions of the data\n",
    "    ax.set_ylim(1000, 4000)  # outliers only\n",
    "    ax2.set_ylim(0, 500)  # most of the data\n",
    "\n",
    "    # hide the spines between ax and ax2\n",
    "    ax.spines['bottom'].set_visible(False)\n",
    "    ax2.spines['top'].set_visible(False)\n",
    "    ax.xaxis.tick_top()\n",
    "    ax.tick_params(labeltop=False)  # don't put tick labels at the top\n",
    "    ax2.xaxis.tick_bottom()\n",
    "\n",
    "    d = .015  # how big to make the diagonal lines in axes coordinates\n",
    "    # arguments to pass to plot, just so we don't keep repeating them\n",
    "    kwargs = dict(transform=ax.transAxes, color='k', clip_on=False)\n",
    "    ax.plot((-d, +d), (-d, +d), **kwargs)        # top-left diagonal\n",
    "    ax.plot((1 - d, 1 + d), (-d, +d), **kwargs)  # top-right diagonal\n",
    "\n",
    "    kwargs.update(transform=ax2.transAxes)  # switch to the bottom axes\n",
    "    ax2.plot((-d, +d), (1 - d, 1 + d), **kwargs)  # bottom-left diagonal\n",
    "    ax2.plot((1 - d, 1 + d), (1 - d, 1 + d), **kwargs)  # bottom-right diago\n",
    "    # ax.set_ylabel('Number of failed genomes in species')\n",
    "    # plt.title(f'Species with the largest number of failed genomes totalling {PCT_TARGET}% of all failed genomes')\n",
    "    plt.legend()\n",
    "    # ax.set_ylim((0, 4000))\n",
    "    plt.tight_layout()\n",
    "\n",
    "\n",
    "    plt.savefig('/tmp/gunc_stats_e.svg')\n",
    "\n",
    "\n",
    "    return\n",
    "\n",
    "\n",
    "make_plot()\n"
   ],
   "metadata": {
    "collapsed": false,
    "ExecuteTime": {
     "end_time": "2023-07-17T03:52:43.480281Z",
     "start_time": "2023-07-17T03:52:41.710625Z"
    }
   }
  }
 ],
 "metadata": {
  "kernelspec": {
   "display_name": "Python 3",
   "language": "python",
   "name": "python3"
  },
  "language_info": {
   "codemirror_mode": {
    "name": "ipython",
    "version": 2
   },
   "file_extension": ".py",
   "mimetype": "text/x-python",
   "name": "python",
   "nbconvert_exporter": "python",
   "pygments_lexer": "ipython2",
   "version": "2.7.6"
  }
 },
 "nbformat": 4,
 "nbformat_minor": 0
}
