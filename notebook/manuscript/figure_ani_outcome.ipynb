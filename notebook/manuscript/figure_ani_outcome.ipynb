{
 "cells": [
  {
   "cell_type": "code",
   "execution_count": 1,
   "metadata": {
    "collapsed": true,
    "ExecuteTime": {
     "end_time": "2023-06-17T05:07:29.712542Z",
     "start_time": "2023-06-17T05:07:29.710031Z"
    }
   },
   "outputs": [],
   "source": [
    "import sys\n",
    "\n",
    "import numpy as np\n",
    "\n",
    "sys.path.append(\"/Users/aaron/phd/impact-of-contamination-on-taxonomy\")"
   ]
  },
  {
   "cell_type": "code",
   "execution_count": 2,
   "outputs": [
    {
     "name": "stdout",
     "output_type": "stream",
     "text": [
      "DEBUG = True (uqamussi.vpn.uq.edu.au)\n"
     ]
    }
   ],
   "source": [
    "from workflow.external.gtdb_metadata import GtdbMetadataR207\n",
    "from workflow.gunc_helper.aggregate_max_css_level_merged import AggregateMaxCssLevelMerged\n",
    "import pandas as pd\n",
    "from collections import defaultdict\n",
    "from workflow.fastani_contig_split.b_run_fastani import FastAniContigSplitRunFastAni\n",
    "from workflow.fastani_contig_split.d_report_results import FastAniContigSplitReportResultsFastAni\n",
    "from workflow.fastani_contig_split.d_report_results_relaxed import FastAniContigSplitReportResultsFastAniRelaxed\n",
    "from tqdm import tqdm\n",
    "import numpy as np"
   ],
   "metadata": {
    "collapsed": false,
    "ExecuteTime": {
     "end_time": "2023-06-17T05:07:30.387615Z",
     "start_time": "2023-06-17T05:07:29.717053Z"
    }
   }
  },
  {
   "cell_type": "code",
   "execution_count": 10,
   "outputs": [
    {
     "data": {
      "text/plain": "               gid                                       expected_tax  \\\n0  GCA_000143435.1  d__Bacteria;p__Firmicutes;c__Bacilli;o__Lactob...   \n1  GCA_000153745.1  d__Bacteria;p__Proteobacteria;c__Alphaproteoba...   \n2  GCA_000155005.1  d__Bacteria;p__Proteobacteria;c__Gammaproteoba...   \n3  GCA_000161815.1  d__Bacteria;p__Proteobacteria;c__Alphaproteoba...   \n4  GCA_000166735.2  d__Bacteria;p__Firmicutes;c__Bacilli;o__Lactob...   \n\n                                            keep_tax  \\\n0  d__Bacteria;p__Firmicutes;c__Bacilli;o__Lactob...   \n1  d__Bacteria;p__Proteobacteria;c__Alphaproteoba...   \n2  d__Bacteria;p__Proteobacteria;c__Gammaproteoba...   \n3  d__Bacteria;p__Proteobacteria;c__Alphaproteoba...   \n4  d__Bacteria;p__Firmicutes;c__Bacilli;o__Lactob...   \n\n                                            disc_tax keep_rank_agree  \\\n0  d__Bacteria;p__Firmicutes;c__Bacilli;o__Lactob...               s   \n1  d__Bacteria;p__Proteobacteria;c__Alphaproteoba...               g   \n2                                                NaN               s   \n3  d__Bacteria;p__Proteobacteria;c__Alphaproteoba...               s   \n4  d__Bacteria;p__Firmicutes;c__Bacilli;o__Lactob...               g   \n\n  disc_rank_agree      keep_sp_rep      disc_sp_rep  keep_ani  disc_ani  \\\n0               s  GCF_001435955.1  GCF_001435955.1   97.3962   97.3042   \n1               g  GCA_900197625.1  GCA_900197625.1   84.4333   83.7779   \n2             NaN  GCF_003697165.2              NaN   96.5879    0.0000   \n3               s  GCF_001681715.1  GCF_001681715.1   97.1446   96.9094   \n4               g  GCF_000166715.1  GCF_000166715.1   93.9347   93.6488   \n\n   keep_af  disc_af keep_type disc_type  keep_same_as_207  disc_same_as_207  \\\n0   0.8174   0.7677    sp_rep    sp_rep              True              True   \n1   0.7565   0.6990    sp_rep    sp_rep             False             False   \n2   0.7680   0.0000    sp_rep     no_af              True             False   \n3   0.9309   0.8098    sp_rep    sp_rep              True              True   \n4   0.9567   0.6866    sp_rep    sp_rep             False             False   \n\n   keep_same_as_disc  \n0               True  \n1               True  \n2              False  \n3               True  \n4               True  ",
      "text/html": "<div>\n<style scoped>\n    .dataframe tbody tr th:only-of-type {\n        vertical-align: middle;\n    }\n\n    .dataframe tbody tr th {\n        vertical-align: top;\n    }\n\n    .dataframe thead th {\n        text-align: right;\n    }\n</style>\n<table border=\"1\" class=\"dataframe\">\n  <thead>\n    <tr style=\"text-align: right;\">\n      <th></th>\n      <th>gid</th>\n      <th>expected_tax</th>\n      <th>keep_tax</th>\n      <th>disc_tax</th>\n      <th>keep_rank_agree</th>\n      <th>disc_rank_agree</th>\n      <th>keep_sp_rep</th>\n      <th>disc_sp_rep</th>\n      <th>keep_ani</th>\n      <th>disc_ani</th>\n      <th>keep_af</th>\n      <th>disc_af</th>\n      <th>keep_type</th>\n      <th>disc_type</th>\n      <th>keep_same_as_207</th>\n      <th>disc_same_as_207</th>\n      <th>keep_same_as_disc</th>\n    </tr>\n  </thead>\n  <tbody>\n    <tr>\n      <th>0</th>\n      <td>GCA_000143435.1</td>\n      <td>d__Bacteria;p__Firmicutes;c__Bacilli;o__Lactob...</td>\n      <td>d__Bacteria;p__Firmicutes;c__Bacilli;o__Lactob...</td>\n      <td>d__Bacteria;p__Firmicutes;c__Bacilli;o__Lactob...</td>\n      <td>s</td>\n      <td>s</td>\n      <td>GCF_001435955.1</td>\n      <td>GCF_001435955.1</td>\n      <td>97.3962</td>\n      <td>97.3042</td>\n      <td>0.8174</td>\n      <td>0.7677</td>\n      <td>sp_rep</td>\n      <td>sp_rep</td>\n      <td>True</td>\n      <td>True</td>\n      <td>True</td>\n    </tr>\n    <tr>\n      <th>1</th>\n      <td>GCA_000153745.1</td>\n      <td>d__Bacteria;p__Proteobacteria;c__Alphaproteoba...</td>\n      <td>d__Bacteria;p__Proteobacteria;c__Alphaproteoba...</td>\n      <td>d__Bacteria;p__Proteobacteria;c__Alphaproteoba...</td>\n      <td>g</td>\n      <td>g</td>\n      <td>GCA_900197625.1</td>\n      <td>GCA_900197625.1</td>\n      <td>84.4333</td>\n      <td>83.7779</td>\n      <td>0.7565</td>\n      <td>0.6990</td>\n      <td>sp_rep</td>\n      <td>sp_rep</td>\n      <td>False</td>\n      <td>False</td>\n      <td>True</td>\n    </tr>\n    <tr>\n      <th>2</th>\n      <td>GCA_000155005.1</td>\n      <td>d__Bacteria;p__Proteobacteria;c__Gammaproteoba...</td>\n      <td>d__Bacteria;p__Proteobacteria;c__Gammaproteoba...</td>\n      <td>NaN</td>\n      <td>s</td>\n      <td>NaN</td>\n      <td>GCF_003697165.2</td>\n      <td>NaN</td>\n      <td>96.5879</td>\n      <td>0.0000</td>\n      <td>0.7680</td>\n      <td>0.0000</td>\n      <td>sp_rep</td>\n      <td>no_af</td>\n      <td>True</td>\n      <td>False</td>\n      <td>False</td>\n    </tr>\n    <tr>\n      <th>3</th>\n      <td>GCA_000161815.1</td>\n      <td>d__Bacteria;p__Proteobacteria;c__Alphaproteoba...</td>\n      <td>d__Bacteria;p__Proteobacteria;c__Alphaproteoba...</td>\n      <td>d__Bacteria;p__Proteobacteria;c__Alphaproteoba...</td>\n      <td>s</td>\n      <td>s</td>\n      <td>GCF_001681715.1</td>\n      <td>GCF_001681715.1</td>\n      <td>97.1446</td>\n      <td>96.9094</td>\n      <td>0.9309</td>\n      <td>0.8098</td>\n      <td>sp_rep</td>\n      <td>sp_rep</td>\n      <td>True</td>\n      <td>True</td>\n      <td>True</td>\n    </tr>\n    <tr>\n      <th>4</th>\n      <td>GCA_000166735.2</td>\n      <td>d__Bacteria;p__Firmicutes;c__Bacilli;o__Lactob...</td>\n      <td>d__Bacteria;p__Firmicutes;c__Bacilli;o__Lactob...</td>\n      <td>d__Bacteria;p__Firmicutes;c__Bacilli;o__Lactob...</td>\n      <td>g</td>\n      <td>g</td>\n      <td>GCF_000166715.1</td>\n      <td>GCF_000166715.1</td>\n      <td>93.9347</td>\n      <td>93.6488</td>\n      <td>0.9567</td>\n      <td>0.6866</td>\n      <td>sp_rep</td>\n      <td>sp_rep</td>\n      <td>False</td>\n      <td>False</td>\n      <td>True</td>\n    </tr>\n  </tbody>\n</table>\n</div>"
     },
     "execution_count": 10,
     "metadata": {},
     "output_type": "execute_result"
    }
   ],
   "source": [
    "DF_ANI_RELAXED = FastAniContigSplitReportResultsFastAniRelaxed().output().maybe_read_cached()\n",
    "DF_ANI_RELAXED.head()"
   ],
   "metadata": {
    "collapsed": false,
    "ExecuteTime": {
     "end_time": "2023-06-17T05:24:20.764262Z",
     "start_time": "2023-06-17T05:24:20.604664Z"
    }
   }
  },
  {
   "cell_type": "code",
   "execution_count": 3,
   "outputs": [
    {
     "name": "stdout",
     "output_type": "stream",
     "text": [
      "[17/06/2023 15:07:30] - 320.9MiB = /srv/home/uqamussi/projects/gunc-chimeras/output/fastani_contig_split/ani_k16_s5000__p50.h5 -> /tmp/gunc-cache/srv/home/uqamussi/projects/gunc-chimeras/output/fastani_contig_split/ani_k16_s5000__p50.h5\n"
     ]
    },
    {
     "data": {
      "text/plain": "               query              ref      ani        af  ani_qvr  ani_rvq  \\\n0    GCA_000143435.1  GCF_001435955.1  97.3962  0.817416  97.3962  97.1850   \n1    GCA_000143435.1  GCF_000615845.1  79.4643  0.241573  79.4487  79.4643   \n2  GCA_000143435.1_C  GCF_001435955.1  97.3042  0.767705  97.3042  97.1129   \n3  GCA_000143435.1_C  GCF_000615845.1  79.5371  0.240793  79.5245  79.5371   \n4    GCA_000153745.1  GCA_000153745.1  99.9945  0.997382  99.9945  99.9906   \n\n     af_qvr    af_rvq  \n0  0.817416  0.456693  \n1  0.241573  0.168605  \n2  0.767705  0.429921  \n3  0.240793  0.168605  \n4  0.997382  0.500000  ",
      "text/html": "<div>\n<style scoped>\n    .dataframe tbody tr th:only-of-type {\n        vertical-align: middle;\n    }\n\n    .dataframe tbody tr th {\n        vertical-align: top;\n    }\n\n    .dataframe thead th {\n        text-align: right;\n    }\n</style>\n<table border=\"1\" class=\"dataframe\">\n  <thead>\n    <tr style=\"text-align: right;\">\n      <th></th>\n      <th>query</th>\n      <th>ref</th>\n      <th>ani</th>\n      <th>af</th>\n      <th>ani_qvr</th>\n      <th>ani_rvq</th>\n      <th>af_qvr</th>\n      <th>af_rvq</th>\n    </tr>\n  </thead>\n  <tbody>\n    <tr>\n      <th>0</th>\n      <td>GCA_000143435.1</td>\n      <td>GCF_001435955.1</td>\n      <td>97.3962</td>\n      <td>0.817416</td>\n      <td>97.3962</td>\n      <td>97.1850</td>\n      <td>0.817416</td>\n      <td>0.456693</td>\n    </tr>\n    <tr>\n      <th>1</th>\n      <td>GCA_000143435.1</td>\n      <td>GCF_000615845.1</td>\n      <td>79.4643</td>\n      <td>0.241573</td>\n      <td>79.4487</td>\n      <td>79.4643</td>\n      <td>0.241573</td>\n      <td>0.168605</td>\n    </tr>\n    <tr>\n      <th>2</th>\n      <td>GCA_000143435.1_C</td>\n      <td>GCF_001435955.1</td>\n      <td>97.3042</td>\n      <td>0.767705</td>\n      <td>97.3042</td>\n      <td>97.1129</td>\n      <td>0.767705</td>\n      <td>0.429921</td>\n    </tr>\n    <tr>\n      <th>3</th>\n      <td>GCA_000143435.1_C</td>\n      <td>GCF_000615845.1</td>\n      <td>79.5371</td>\n      <td>0.240793</td>\n      <td>79.5245</td>\n      <td>79.5371</td>\n      <td>0.240793</td>\n      <td>0.168605</td>\n    </tr>\n    <tr>\n      <th>4</th>\n      <td>GCA_000153745.1</td>\n      <td>GCA_000153745.1</td>\n      <td>99.9945</td>\n      <td>0.997382</td>\n      <td>99.9945</td>\n      <td>99.9906</td>\n      <td>0.997382</td>\n      <td>0.500000</td>\n    </tr>\n  </tbody>\n</table>\n</div>"
     },
     "execution_count": 3,
     "metadata": {},
     "output_type": "execute_result"
    }
   ],
   "source": [
    "\n",
    "DF_ANI_RAW = FastAniContigSplitRunFastAni().output().maybe_read_cached()\n",
    "DF_ANI_RAW.head()"
   ],
   "metadata": {
    "collapsed": false,
    "ExecuteTime": {
     "end_time": "2023-06-17T05:24:14.454878Z",
     "start_time": "2023-06-17T05:07:30.388638Z"
    }
   }
  },
  {
   "cell_type": "code",
   "execution_count": 4,
   "outputs": [
    {
     "data": {
      "text/plain": "                 ambiguous_bases  checkm_completeness  checkm_contamination  \\\ngid                                                                           \nGCA_000006155.2             1916                93.12                   0.0   \nGCA_000007325.1                1                99.95                   0.0   \nGCA_000007385.1                0                99.82                   0.0   \nGCA_000008085.1                0                73.13                   0.0   \nGCA_000008885.1                0               100.00                   0.0   \n\n                 checkm_marker_count             checkm_marker_lineage  \\\ngid                                                                      \nGCA_000006155.2                 1171              g__Bacillus (UID902)   \nGCA_000007325.1                  149             k__Bacteria (UID2329)   \nGCA_000007385.1                  481  c__Gammaproteobacteria (UID4202)   \nGCA_000008085.1                  149                 k__Archaea (UID2)   \nGCA_000008885.1                  134             k__Bacteria (UID2495)   \n\n                 checkm_marker_set_count  checkm_strain_heterogeneity  \\\ngid                                                                     \nGCA_000006155.2                      324                          0.0   \nGCA_000007325.1                       89                          0.0   \nGCA_000007385.1                      276                          0.0   \nGCA_000008085.1                      107                          0.0   \nGCA_000008885.1                       80                          0.0   \n\n                 coding_bases  coding_density  contig_count  ...  \\\ngid                                                          ...   \nGCA_000006155.2       4305660       80.178992           426  ...   \nGCA_000007325.1       1973459       90.754610             1  ...   \nGCA_000007385.1       4190634       84.805944             1  ...   \nGCA_000008085.1        462902       94.299480             1  ...   \nGCA_000008885.1        617456       87.831079             2  ...   \n\n                 gtdb_type_species_of_genus  \\\ngid                                           \nGCA_000006155.2                           f   \nGCA_000007325.1                           t   \nGCA_000007385.1                           f   \nGCA_000008085.1                           t   \nGCA_000008885.1                           f   \n\n                                                     ncbi_taxonomy  \\\ngid                                                                  \nGCA_000006155.2  d__Bacteria;p__Firmicutes;c__Bacilli;o__Bacill...   \nGCA_000007325.1  d__Bacteria;p__Fusobacteria;c__Fusobacteriia;o...   \nGCA_000007385.1  d__Bacteria;p__Proteobacteria;c__Gammaproteoba...   \nGCA_000008085.1  d__Archaea;p__Nanoarchaeota;c__;o__Nanoarchaea...   \nGCA_000008885.1  d__Bacteria;p__Proteobacteria;c__Gammaproteoba...   \n\n                                          ncbi_taxonomy_unfiltered  \\\ngid                                                                  \nGCA_000006155.2  d__Bacteria;x__Terrabacteria group;p__Firmicut...   \nGCA_000007325.1  d__Bacteria;p__Fusobacteria;c__Fusobacteriia;o...   \nGCA_000007385.1  d__Bacteria;p__Proteobacteria;c__Gammaproteoba...   \nGCA_000008085.1  d__Archaea;x__DPANN group;p__Nanoarchaeota;o__...   \nGCA_000008885.1  d__Bacteria;p__Proteobacteria;c__Gammaproteoba...   \n\n                      domain             phylum                   class  \\\ngid                                                                       \nGCA_000006155.2  d__Bacteria      p__Firmicutes              c__Bacilli   \nGCA_000007325.1  d__Bacteria  p__Fusobacteriota        c__Fusobacteriia   \nGCA_000007385.1  d__Bacteria  p__Proteobacteria  c__Gammaproteobacteria   \nGCA_000008085.1   d__Archaea   p__Nanoarchaeota         c__Nanoarchaeia   \nGCA_000008885.1  d__Bacteria  p__Proteobacteria  c__Gammaproteobacteria   \n\n                                 order                   family  \\\ngid                                                               \nGCA_000006155.2          o__Bacillales         f__Bacillaceae_G   \nGCA_000007325.1     o__Fusobacteriales      f__Fusobacteriaceae   \nGCA_000007385.1     o__Xanthomonadales      f__Xanthomonadaceae   \nGCA_000008085.1      o__Nanoarchaeales       f__Nanoarchaeaceae   \nGCA_000008885.1  o__Enterobacterales_A  f__Enterobacteriaceae_A   \n\n                             genus                          species  \ngid                                                                  \nGCA_000006155.2      g__Bacillus_A          s__Bacillus_A anthracis  \nGCA_000007325.1   g__Fusobacterium       s__Fusobacterium nucleatum  \nGCA_000007385.1     g__Xanthomonas            s__Xanthomonas oryzae  \nGCA_000008085.1    g__Nanoarchaeum         s__Nanoarchaeum equitans  \nGCA_000008885.1  g__Wigglesworthia  s__Wigglesworthia glossinidia_A  \n\n[5 rows x 28 columns]",
      "text/html": "<div>\n<style scoped>\n    .dataframe tbody tr th:only-of-type {\n        vertical-align: middle;\n    }\n\n    .dataframe tbody tr th {\n        vertical-align: top;\n    }\n\n    .dataframe thead th {\n        text-align: right;\n    }\n</style>\n<table border=\"1\" class=\"dataframe\">\n  <thead>\n    <tr style=\"text-align: right;\">\n      <th></th>\n      <th>ambiguous_bases</th>\n      <th>checkm_completeness</th>\n      <th>checkm_contamination</th>\n      <th>checkm_marker_count</th>\n      <th>checkm_marker_lineage</th>\n      <th>checkm_marker_set_count</th>\n      <th>checkm_strain_heterogeneity</th>\n      <th>coding_bases</th>\n      <th>coding_density</th>\n      <th>contig_count</th>\n      <th>...</th>\n      <th>gtdb_type_species_of_genus</th>\n      <th>ncbi_taxonomy</th>\n      <th>ncbi_taxonomy_unfiltered</th>\n      <th>domain</th>\n      <th>phylum</th>\n      <th>class</th>\n      <th>order</th>\n      <th>family</th>\n      <th>genus</th>\n      <th>species</th>\n    </tr>\n    <tr>\n      <th>gid</th>\n      <th></th>\n      <th></th>\n      <th></th>\n      <th></th>\n      <th></th>\n      <th></th>\n      <th></th>\n      <th></th>\n      <th></th>\n      <th></th>\n      <th></th>\n      <th></th>\n      <th></th>\n      <th></th>\n      <th></th>\n      <th></th>\n      <th></th>\n      <th></th>\n      <th></th>\n      <th></th>\n      <th></th>\n    </tr>\n  </thead>\n  <tbody>\n    <tr>\n      <th>GCA_000006155.2</th>\n      <td>1916</td>\n      <td>93.12</td>\n      <td>0.0</td>\n      <td>1171</td>\n      <td>g__Bacillus (UID902)</td>\n      <td>324</td>\n      <td>0.0</td>\n      <td>4305660</td>\n      <td>80.178992</td>\n      <td>426</td>\n      <td>...</td>\n      <td>f</td>\n      <td>d__Bacteria;p__Firmicutes;c__Bacilli;o__Bacill...</td>\n      <td>d__Bacteria;x__Terrabacteria group;p__Firmicut...</td>\n      <td>d__Bacteria</td>\n      <td>p__Firmicutes</td>\n      <td>c__Bacilli</td>\n      <td>o__Bacillales</td>\n      <td>f__Bacillaceae_G</td>\n      <td>g__Bacillus_A</td>\n      <td>s__Bacillus_A anthracis</td>\n    </tr>\n    <tr>\n      <th>GCA_000007325.1</th>\n      <td>1</td>\n      <td>99.95</td>\n      <td>0.0</td>\n      <td>149</td>\n      <td>k__Bacteria (UID2329)</td>\n      <td>89</td>\n      <td>0.0</td>\n      <td>1973459</td>\n      <td>90.754610</td>\n      <td>1</td>\n      <td>...</td>\n      <td>t</td>\n      <td>d__Bacteria;p__Fusobacteria;c__Fusobacteriia;o...</td>\n      <td>d__Bacteria;p__Fusobacteria;c__Fusobacteriia;o...</td>\n      <td>d__Bacteria</td>\n      <td>p__Fusobacteriota</td>\n      <td>c__Fusobacteriia</td>\n      <td>o__Fusobacteriales</td>\n      <td>f__Fusobacteriaceae</td>\n      <td>g__Fusobacterium</td>\n      <td>s__Fusobacterium nucleatum</td>\n    </tr>\n    <tr>\n      <th>GCA_000007385.1</th>\n      <td>0</td>\n      <td>99.82</td>\n      <td>0.0</td>\n      <td>481</td>\n      <td>c__Gammaproteobacteria (UID4202)</td>\n      <td>276</td>\n      <td>0.0</td>\n      <td>4190634</td>\n      <td>84.805944</td>\n      <td>1</td>\n      <td>...</td>\n      <td>f</td>\n      <td>d__Bacteria;p__Proteobacteria;c__Gammaproteoba...</td>\n      <td>d__Bacteria;p__Proteobacteria;c__Gammaproteoba...</td>\n      <td>d__Bacteria</td>\n      <td>p__Proteobacteria</td>\n      <td>c__Gammaproteobacteria</td>\n      <td>o__Xanthomonadales</td>\n      <td>f__Xanthomonadaceae</td>\n      <td>g__Xanthomonas</td>\n      <td>s__Xanthomonas oryzae</td>\n    </tr>\n    <tr>\n      <th>GCA_000008085.1</th>\n      <td>0</td>\n      <td>73.13</td>\n      <td>0.0</td>\n      <td>149</td>\n      <td>k__Archaea (UID2)</td>\n      <td>107</td>\n      <td>0.0</td>\n      <td>462902</td>\n      <td>94.299480</td>\n      <td>1</td>\n      <td>...</td>\n      <td>t</td>\n      <td>d__Archaea;p__Nanoarchaeota;c__;o__Nanoarchaea...</td>\n      <td>d__Archaea;x__DPANN group;p__Nanoarchaeota;o__...</td>\n      <td>d__Archaea</td>\n      <td>p__Nanoarchaeota</td>\n      <td>c__Nanoarchaeia</td>\n      <td>o__Nanoarchaeales</td>\n      <td>f__Nanoarchaeaceae</td>\n      <td>g__Nanoarchaeum</td>\n      <td>s__Nanoarchaeum equitans</td>\n    </tr>\n    <tr>\n      <th>GCA_000008885.1</th>\n      <td>0</td>\n      <td>100.00</td>\n      <td>0.0</td>\n      <td>134</td>\n      <td>k__Bacteria (UID2495)</td>\n      <td>80</td>\n      <td>0.0</td>\n      <td>617456</td>\n      <td>87.831079</td>\n      <td>2</td>\n      <td>...</td>\n      <td>f</td>\n      <td>d__Bacteria;p__Proteobacteria;c__Gammaproteoba...</td>\n      <td>d__Bacteria;p__Proteobacteria;c__Gammaproteoba...</td>\n      <td>d__Bacteria</td>\n      <td>p__Proteobacteria</td>\n      <td>c__Gammaproteobacteria</td>\n      <td>o__Enterobacterales_A</td>\n      <td>f__Enterobacteriaceae_A</td>\n      <td>g__Wigglesworthia</td>\n      <td>s__Wigglesworthia glossinidia_A</td>\n    </tr>\n  </tbody>\n</table>\n<p>5 rows × 28 columns</p>\n</div>"
     },
     "execution_count": 4,
     "metadata": {},
     "output_type": "execute_result"
    }
   ],
   "source": [
    "DF_META = GtdbMetadataR207().output().read_cached()\n",
    "DF_META.head()"
   ],
   "metadata": {
    "collapsed": false,
    "ExecuteTime": {
     "end_time": "2023-06-17T05:24:19.960714Z",
     "start_time": "2023-06-17T05:24:14.455099Z"
    }
   }
  },
  {
   "cell_type": "code",
   "execution_count": 5,
   "outputs": [
    {
     "data": {
      "text/plain": "                 n_genes_called  n_genes_mapped  n_contigs taxonomic_level  \\\ngid                                                                          \nGCA_000143435.1            2189            2110          4           genus   \nGCA_000153745.1            2202            2165          2          family   \nGCA_000155005.1            6879            6313         84           genus   \nGCA_000161815.1            4499            4335          8           genus   \nGCA_000166735.2            3414            3247        793           genus   \n\n                 proportion_genes_retained_in_major_clades  \\\ngid                                                          \nGCA_000143435.1                                       0.89   \nGCA_000153745.1                                       0.92   \nGCA_000155005.1                                       0.87   \nGCA_000161815.1                                       0.80   \nGCA_000166735.2                                       0.94   \n\n                 genes_retained_index  clade_separation_score  \\\ngid                                                             \nGCA_000143435.1                  0.86                    0.55   \nGCA_000153745.1                  0.90                    0.49   \nGCA_000155005.1                  0.79                    0.79   \nGCA_000161815.1                  0.77                    0.50   \nGCA_000166735.2                  0.90                    0.57   \n\n                 contamination_portion  n_effective_surplus_clades  \\\ngid                                                                  \nGCA_000143435.1                   0.03                        0.06   \nGCA_000153745.1                   0.06                        0.12   \nGCA_000155005.1                   0.10                        0.22   \nGCA_000161815.1                   0.19                        0.50   \nGCA_000166735.2                   0.02                        0.05   \n\n                 mean_hit_identity  reference_representation_score  pass.GUNC  \\\ngid                                                                             \nGCA_000143435.1               0.95                            0.82      False   \nGCA_000153745.1               0.67                            0.61      False   \nGCA_000155005.1               0.97                            0.77      False   \nGCA_000161815.1               0.95                            0.74      False   \nGCA_000166735.2               0.93                            0.83      False   \n\n                     source  \ngid                          \nGCA_000143435.1        gtdb  \nGCA_000153745.1  progenomes  \nGCA_000155005.1        gtdb  \nGCA_000161815.1  progenomes  \nGCA_000166735.2  progenomes  ",
      "text/html": "<div>\n<style scoped>\n    .dataframe tbody tr th:only-of-type {\n        vertical-align: middle;\n    }\n\n    .dataframe tbody tr th {\n        vertical-align: top;\n    }\n\n    .dataframe thead th {\n        text-align: right;\n    }\n</style>\n<table border=\"1\" class=\"dataframe\">\n  <thead>\n    <tr style=\"text-align: right;\">\n      <th></th>\n      <th>n_genes_called</th>\n      <th>n_genes_mapped</th>\n      <th>n_contigs</th>\n      <th>taxonomic_level</th>\n      <th>proportion_genes_retained_in_major_clades</th>\n      <th>genes_retained_index</th>\n      <th>clade_separation_score</th>\n      <th>contamination_portion</th>\n      <th>n_effective_surplus_clades</th>\n      <th>mean_hit_identity</th>\n      <th>reference_representation_score</th>\n      <th>pass.GUNC</th>\n      <th>source</th>\n    </tr>\n    <tr>\n      <th>gid</th>\n      <th></th>\n      <th></th>\n      <th></th>\n      <th></th>\n      <th></th>\n      <th></th>\n      <th></th>\n      <th></th>\n      <th></th>\n      <th></th>\n      <th></th>\n      <th></th>\n      <th></th>\n    </tr>\n  </thead>\n  <tbody>\n    <tr>\n      <th>GCA_000143435.1</th>\n      <td>2189</td>\n      <td>2110</td>\n      <td>4</td>\n      <td>genus</td>\n      <td>0.89</td>\n      <td>0.86</td>\n      <td>0.55</td>\n      <td>0.03</td>\n      <td>0.06</td>\n      <td>0.95</td>\n      <td>0.82</td>\n      <td>False</td>\n      <td>gtdb</td>\n    </tr>\n    <tr>\n      <th>GCA_000153745.1</th>\n      <td>2202</td>\n      <td>2165</td>\n      <td>2</td>\n      <td>family</td>\n      <td>0.92</td>\n      <td>0.90</td>\n      <td>0.49</td>\n      <td>0.06</td>\n      <td>0.12</td>\n      <td>0.67</td>\n      <td>0.61</td>\n      <td>False</td>\n      <td>progenomes</td>\n    </tr>\n    <tr>\n      <th>GCA_000155005.1</th>\n      <td>6879</td>\n      <td>6313</td>\n      <td>84</td>\n      <td>genus</td>\n      <td>0.87</td>\n      <td>0.79</td>\n      <td>0.79</td>\n      <td>0.10</td>\n      <td>0.22</td>\n      <td>0.97</td>\n      <td>0.77</td>\n      <td>False</td>\n      <td>gtdb</td>\n    </tr>\n    <tr>\n      <th>GCA_000161815.1</th>\n      <td>4499</td>\n      <td>4335</td>\n      <td>8</td>\n      <td>genus</td>\n      <td>0.80</td>\n      <td>0.77</td>\n      <td>0.50</td>\n      <td>0.19</td>\n      <td>0.50</td>\n      <td>0.95</td>\n      <td>0.74</td>\n      <td>False</td>\n      <td>progenomes</td>\n    </tr>\n    <tr>\n      <th>GCA_000166735.2</th>\n      <td>3414</td>\n      <td>3247</td>\n      <td>793</td>\n      <td>genus</td>\n      <td>0.94</td>\n      <td>0.90</td>\n      <td>0.57</td>\n      <td>0.02</td>\n      <td>0.05</td>\n      <td>0.93</td>\n      <td>0.83</td>\n      <td>False</td>\n      <td>progenomes</td>\n    </tr>\n  </tbody>\n</table>\n</div>"
     },
     "execution_count": 5,
     "metadata": {},
     "output_type": "execute_result"
    }
   ],
   "source": [
    "DF_CSS = AggregateMaxCssLevelMerged().output().read_cached()\n",
    "DF_CSS.head()"
   ],
   "metadata": {
    "collapsed": false,
    "ExecuteTime": {
     "end_time": "2023-06-17T05:24:20.355094Z",
     "start_time": "2023-06-17T05:24:19.959558Z"
    }
   }
  },
  {
   "cell_type": "code",
   "execution_count": 6,
   "outputs": [
    {
     "name": "stdout",
     "output_type": "stream",
     "text": [
      "['GCF_009768635.1', 'GCF_900504865.1', 'GCA_001780345.1', 'GCF_015704295.1', 'GCF_000580495.1', 'GCF_001886035.1', 'GCF_000740485.1', 'GCF_000583855.1', 'GCF_002098515.1', 'GCF_016810635.1']\n",
      "249189\n"
     ]
    }
   ],
   "source": [
    "BAC_NON_SP_REPS = set(DF_META[(DF_META['gtdb_representative'] == 'f') & (DF_META['domain'] == 'd__Bacteria')].index)\n",
    "print(list(BAC_NON_SP_REPS)[0:10])\n",
    "print(len(BAC_NON_SP_REPS))"
   ],
   "metadata": {
    "collapsed": false,
    "ExecuteTime": {
     "end_time": "2023-06-17T05:24:20.554978Z",
     "start_time": "2023-06-17T05:24:20.316669Z"
    }
   }
  },
  {
   "cell_type": "code",
   "execution_count": 7,
   "outputs": [
    {
     "name": "stdout",
     "output_type": "stream",
     "text": [
      "35723\n"
     ]
    }
   ],
   "source": [
    "FAIL_GIDS = set(DF_CSS.index)\n",
    "print(len(FAIL_GIDS))"
   ],
   "metadata": {
    "collapsed": false,
    "ExecuteTime": {
     "end_time": "2023-06-17T05:24:20.555377Z",
     "start_time": "2023-06-17T05:24:20.554839Z"
    }
   }
  },
  {
   "cell_type": "code",
   "execution_count": 8,
   "outputs": [
    {
     "name": "stdout",
     "output_type": "stream",
     "text": [
      "30321\n"
     ]
    }
   ],
   "source": [
    "FAIL_NON_BAC_SP_REPS = FAIL_GIDS.intersection(BAC_NON_SP_REPS)\n",
    "print(len(FAIL_NON_BAC_SP_REPS))"
   ],
   "metadata": {
    "collapsed": false,
    "ExecuteTime": {
     "end_time": "2023-06-17T05:24:20.566533Z",
     "start_time": "2023-06-17T05:24:20.561774Z"
    }
   }
  },
  {
   "cell_type": "code",
   "execution_count": 9,
   "outputs": [
    {
     "name": "stdout",
     "output_type": "stream",
     "text": [
      "45\n",
      "27 None\n",
      "30249\n"
     ]
    }
   ],
   "source": [
    "ANI_NEW_SP = {'GCA_001509115.1', 'GCA_001695755.1', 'GCA_002728285.1', 'GCA_002731855.1', 'GCA_008668585.1', 'GCA_008668795.1', 'GCA_009493725.1', 'GCA_011523145.1', 'GCA_016707075.1', 'GCA_017394825.1', 'GCA_017465765.1', 'GCA_017515185.1', 'GCA_018056875.1', 'GCA_018239885.1', 'GCA_018363345.1', 'GCA_900759525.1', 'GCA_900761055.1', 'GCA_900765305.1', 'GCA_900765645.1', 'GCA_902528895.1', 'GCA_902593295.1', 'GCA_903846615.1', 'GCA_903931905.1', 'GCA_905200745.1', 'GCA_905214645.1', 'GCF_000698005.1', 'GCF_002929465.1'}\n",
    "\n",
    "ANI_NEW_CLST = {'GCA_002291775.1', 'GCA_002703565.1', 'GCA_003487585.1', 'GCA_007096555.1', 'GCA_011523095.1', 'GCA_013213925.1', 'GCA_016939315.1', 'GCA_018370815.1', 'GCA_018383955.1', 'GCA_900548685.1', 'GCA_900549575.1', 'GCA_900756095.1', 'GCA_900760075.1', 'GCA_902363945.1', 'GCA_902388545.1', 'GCA_902539685.1', 'GCA_902568005.1', 'GCA_902573475.1', 'GCA_902619155.1', 'GCA_905193315.1', 'GCA_905208535.1', 'GCA_905212495.1', 'GCA_905214135.1', 'GCA_905214255.1', 'GCA_905215365.1', 'GCF_000964075.1', 'GCF_001812365.1', 'GCF_001815585.1', 'GCF_002035805.1', 'GCF_002835625.1', 'GCF_002912425.1', 'GCF_002913635.1', 'GCF_003462845.1', 'GCF_003495765.1', 'GCF_008269775.1', 'GCF_009493905.1', 'GCF_009494015.1', 'GCF_009649595.1', 'GCF_014284905.1', 'GCF_015667745.1', 'GCF_016806285.1', 'GCF_016806405.1', 'GCF_017151305.1', 'GCF_018499505.1', 'GCF_902845755.1'}\n",
    "\n",
    "print(len(ANI_NEW_SP), print(len(ANI_NEW_CLST)))\n",
    "ALL_DIFF = ANI_NEW_SP.union(ANI_NEW_CLST)\n",
    "\n",
    "ANI_NO_CHANGE = FAIL_NON_BAC_SP_REPS - ALL_DIFF\n",
    "print(len(ANI_NO_CHANGE))"
   ],
   "metadata": {
    "collapsed": false,
    "ExecuteTime": {
     "end_time": "2023-06-17T05:24:20.607207Z",
     "start_time": "2023-06-17T05:24:20.565496Z"
    }
   }
  },
  {
   "cell_type": "code",
   "execution_count": null,
   "outputs": [],
   "source": [
    "## Calculate the average radius of the species clusters\n",
    "\n"
   ],
   "metadata": {
    "collapsed": false
   }
  },
  {
   "cell_type": "code",
   "execution_count": 10,
   "outputs": [
    {
     "name": "stderr",
     "output_type": "stream",
     "text": [
      "100%|██████████| 7744454/7744454 [00:18<00:00, 407876.29it/s]\n"
     ]
    }
   ],
   "source": [
    "def get_gid_to_ani_raw_res():\n",
    "    out = defaultdict(list)\n",
    "    for row in tqdm(DF_ANI_RAW.itertuples(), total=len(DF_ANI_RAW)):\n",
    "        out[row.query].append(row)\n",
    "    return out\n",
    "D_GID_TO_ANI_RAW_RES = get_gid_to_ani_raw_res()"
   ],
   "metadata": {
    "collapsed": false,
    "ExecuteTime": {
     "end_time": "2023-06-13T01:57:00.198547Z",
     "start_time": "2023-06-13T01:56:41.156812Z"
    }
   }
  },
  {
   "cell_type": "code",
   "execution_count": 11,
   "outputs": [],
   "source": [
    "D_GID_TO_TAX = DF_META['gtdb_taxonomy'].to_dict()"
   ],
   "metadata": {
    "collapsed": false,
    "ExecuteTime": {
     "end_time": "2023-06-13T01:57:00.496250Z",
     "start_time": "2023-06-13T01:57:00.246136Z"
    }
   }
  },
  {
   "cell_type": "code",
   "execution_count": 12,
   "outputs": [],
   "source": [
    "\n",
    "\n",
    "def get_for_set(input_set, af_limit, genus_only):\n",
    "    out = list()\n",
    "    for gid in tqdm(input_set):\n",
    "        df_rows = D_GID_TO_ANI_RAW_RES[gid]\n",
    "        gid_tax = D_GID_TO_TAX[gid]\n",
    "        gid_genus = gid_tax.split(';')[5].split('__')[1]\n",
    "        for row in df_rows:\n",
    "            ref_tax = D_GID_TO_TAX[row.ref]\n",
    "            ref_genus = ref_tax.split(';')[5].split('__')[1]\n",
    "\n",
    "            if genus_only and gid_genus != ref_genus:\n",
    "                continue\n",
    "            if row.af < af_limit:\n",
    "                continue\n",
    "            out.append(row.ani)\n",
    "    return out\n",
    "\n"
   ],
   "metadata": {
    "collapsed": false,
    "ExecuteTime": {
     "end_time": "2023-06-13T01:57:00.501474Z",
     "start_time": "2023-06-13T01:57:00.499483Z"
    }
   }
  },
  {
   "cell_type": "code",
   "execution_count": 13,
   "outputs": [
    {
     "name": "stderr",
     "output_type": "stream",
     "text": [
      "100%|██████████| 27/27 [00:00<00:00, 4527.13it/s]\n",
      "100%|██████████| 45/45 [00:00<00:00, 7232.39it/s]\n",
      "100%|██████████| 30249/30249 [00:02<00:00, 10115.18it/s]"
     ]
    },
    {
     "name": "stdout",
     "output_type": "stream",
     "text": [
      "1420 5611 447551\n"
     ]
    },
    {
     "name": "stderr",
     "output_type": "stream",
     "text": [
      "\n"
     ]
    }
   ],
   "source": [
    "af_limit = 0.5\n",
    "genus_only = True\n",
    "\n",
    "new_sp = get_for_set(ANI_NEW_SP, af_limit, genus_only)\n",
    "new_clst = get_for_set(ANI_NEW_CLST, af_limit, genus_only)\n",
    "no_change = get_for_set(ANI_NO_CHANGE, af_limit, genus_only)\n",
    "\n",
    "print(len(new_sp), len(new_clst), len(no_change))"
   ],
   "metadata": {
    "collapsed": false,
    "ExecuteTime": {
     "end_time": "2023-06-13T01:57:03.517411Z",
     "start_time": "2023-06-13T01:57:00.501755Z"
    }
   }
  },
  {
   "cell_type": "code",
   "execution_count": 14,
   "outputs": [
    {
     "name": "stdout",
     "output_type": "stream",
     "text": [
      "New Species: 91.42 +/- 4.13\n",
      "New Clusters: 93.15 +/- 2.30\n",
      "No Change: 87.41 +/- 5.35\n"
     ]
    }
   ],
   "source": [
    "\n",
    "new_sp_mean = np.mean(new_sp)\n",
    "new_sp_stdev = np.std(new_sp)\n",
    "\n",
    "new_clst_mean = np.mean(new_clst)\n",
    "new_clst_stdev = np.std(new_clst)\n",
    "\n",
    "no_change_mean = np.mean(no_change)\n",
    "no_change_stdev = np.std(no_change)\n",
    "\n",
    "print(f'New Species: {new_sp_mean:.2f} +/- {new_sp_stdev:.2f}')\n",
    "print(f'New Clusters: {new_clst_mean:.2f} +/- {new_clst_stdev:.2f}')\n",
    "print(f'No Change: {no_change_mean:.2f} +/- {no_change_stdev:.2f}')"
   ],
   "metadata": {
    "collapsed": false,
    "ExecuteTime": {
     "end_time": "2023-06-13T01:57:03.641716Z",
     "start_time": "2023-06-13T01:57:03.515365Z"
    }
   }
  },
  {
   "cell_type": "code",
   "execution_count": 16,
   "outputs": [],
   "source": [
    "def get_genus_to_sp():\n",
    "    out = defaultdict(set)\n",
    "    for row in DF_META.itertuples():\n",
    "        out[row.genus].add(row.species)\n",
    "    return out\n",
    "\n",
    "D_GENUS_TO_SPECIES = get_genus_to_sp()"
   ],
   "metadata": {
    "collapsed": false,
    "ExecuteTime": {
     "end_time": "2023-06-13T01:58:32.919758Z",
     "start_time": "2023-06-13T01:58:31.938213Z"
    }
   }
  },
  {
   "cell_type": "code",
   "execution_count": 21,
   "outputs": [
    {
     "name": "stdout",
     "output_type": "stream",
     "text": [
      "g__0-14-0-80-42-15, g__0-14-3-00-41-53, g__01-FULL-54-110, g__1-14-0-10-37-14, g__1-14-0-20-42-23, g__12-FULL-43-12b, g__2-01-FULL-33-17, g__2-01-FULL-39-24, g__2-01-FULL-40-39, g__2-01-FULL-40-42, g__2-01-FULL-41-22, g__2-01-FULL-42-15, g__2-01-FULL-42-20, g__2-01-FULL-44-21, g__2-01-FULL-45-10, g__2-02-FULL-38-15, g__2-02-FULL-43-11, g__2-02-FULL-43-16, g__2-02-FULL-45-18, g__2-02-FULL-46-19, g__2-02-FULL-47-50, g__2-02-FULL-48-11, g__2-02-FULL-49-12, g__2-02-FULL-50-16-A, g__2-02-FULL-53-10, g__2-02-FULL-55-14, g__2-12-FULL-39-13, g__2-12-FULL-41-16, g__2-12-FULL-41-17, g__2-12-FULL-57-11, g__21-14-all-37-9, g__40CM-2-70-7, g__40CM-3-62-11, g__40CM-4-69-5, g__43-108, g__4484-219, g__4484-232, g__64-32, g__65-79, g__AB-629-J13, g__AF33-28, g__AG-426-M11, g__AG25, g__AV133, g__Acholeplasma_C, g__Acidithiobacillus_A, g__Acidomonas, g__Alterinioella, g__Amedibacillus, g__Aminicenans, g__Aquicultor_A, g__Arenibacterium, g__B14-G1, g__B23-G16, g__B26-G2, g__B32-G15, g__B5-G15, g__B9-G15, g__BB30, g__BJGV01, g__BM002, g__BMS3Bbin05, g__BMS3Bbin08, g__Bog-564, g__Brucella, g__CAADGG01, g__CAADGM01, g__CABIZH01, g__CABJAA01, g__CADAUA01, g__CAG-288, g__CAG-557, g__CAG-914, g__CAIJOT01, g__CAIJPD01, g__CAIJYI01, g__CAIKAW01, g__CAIKHN01, g__CAIKKG01, g__CAILDB01, g__CAINCQ01, g__CAINFV01, g__CAIOSF01, g__CAIOTO01, g__CAIPBJ01, g__CAIPSZ01, g__CAIQPS01, g__CAIRNR01, g__CAISYW01, g__CAITZA01, g__CAIUCS01, g__CAIUEQ01, g__CAIULA01, g__CAIVBF01, g__CAIVVT01, g__CAIWHF01, g__CAIYTD01, g__CAIZQW01, g__CAJARJ01, g__CAJBEU01, g__CAJGDV01, g__CG1-02-37-114, g__CG1-02-37-13, g__CG1-02-37-22, g__CG1-02-40-25, g__CG1-02-41-26, g__CG1-02-43-210, g__CG1-02-49-23, g__CG1-02-64-396, g__CG2-30-33-13, g__CG2-30-33-31, g__CG2-30-36-11, g__CG2-30-36-16, g__CG2-30-36-38, g__CG2-30-39-44, g__CG2-30-49-12, g__CG2-30-53-67, g__CG2-30-59-28, g__CG2-30-60-27, g__CG2-30-70-394, g__CS4-C045, g__Caldibacillus, g__Carboxydocella, g__Caviibacter, g__Cereibacter, g__Cetia, g__Citrobacter_B, g__Clostridium_A, g__Coprobacillus, g__Criibacterium, g__Croceibacter, g__DTRM01, g__DTSX01, g__DTU014, g__DTU025, g__DTU027, g__DTU084, g__DUOJ01, g__Defluviitoga, g__Desulfobacca_B, g__Desulfurobacterium, g__Diaphorobacter, g__Dolosigranulum, g__Dorea, g__Dorea_B, g__Eggerthia, g__Eremiobacter, g__Erwinia_B, g__Eubacterium_S, g__F0428, g__Faecalitalea, g__Faecenecus, g__Fen-1087, g__Fen-1254, g__Fen-1260, g__Fermentibacter, g__Filifactor, g__Fimihabitans, g__Frackibacter, g__Fukatsuia, g__GCA-002717915, g__GCA-002721295, g__GCA-002727615, g__GCA-002748415, g__GCA-002779355, g__GCA-002780085, g__GCA-002780795, g__GCA-002782285, g__GCA-002784865, g__GCA-002785045, g__GCA-002787375, g__GCA-00278855, g__GCA-002790615, g__GCA-002790695, g__GCA-002791395, g__GCA-002793575, g__GCA-016699895, g__GCA-2689925, g__GCA-2693335, g__GCA-2699365, g__GCA-2701925, g__GCA-2708265, g__GCA-2712665, g__GCA-2715505, g__GCA-2716065, g__GCA-2717485, g__GCA-2718815, g__GCA-2719775, g__GCA-2742935, g__GCA-2753275, g__GCA-2794595, g__GCA-2863045, g__GCA001735715, g__GWA1-42-19, g__GWA1-48-11, g__GWA1-52-35, g__GWA2-37-10, g__GWA2-38-27, g__GWA2-42-14, g__GWA2-43-13, g__GWA2-44-10, g__GWA2-44-9, g__GWA2-47-10, g__GWA2-47-10b, g__GWB1-36-5, g__GWB1-41-6, g__GWB1-42-6, g__GWB1-45-9, g__GWB1-50-10, g__GWC1-37-12b, g__GWC1-40-35, g__GWC1-42-9, g__GWC1-49-16, g__GWC2-33-13, g__GWC2-36-17, g__GWC2-37-8, g__GWC2-42-11, g__GWC2-65-14, g__GWE2-31-10, g__GWF2-33-10, g__GWF2-39-127, g__GWF2-43-52, g__GWF2-57-35, g__Gemmiger_A, g__Gibbsiella, g__Gp1-AA142, g__Gp6-AA38, g__Gudongella, g__Gulbenkiania, g__H1, g__HDB-SIOI813, g__HO2-39-17, g__HO2-45-13, g__HRBIN37, g__Hakubanella, g__Hepatobacter, g__Histophilus, g__Hydrocarboniclastica, g__Hydrogeniiclostridium, g__Ileibacterium, g__JAALKI01, g__JABGPL01, g__JABGRK01, g__JABHCC01, g__JABHGM01, g__JABHHG01, g__JABHMO01, g__JABIEQ01, g__JABIPD01, g__JABJNO01, g__JACNFI01, g__JACNLN01, g__JACPAW01, g__JACXVD01, g__JACXWA01, g__JADDRA01, g__JADGBG01, g__JAENYK01, g__JAFALY01, g__JAFANK01, g__JAFGUZ01, g__JAFGVC01, g__JAFGVL01, g__JAFGXF01, g__JAGFWP01, g__JAGNGI01, g__JAGOEZ01, g__JAGOWQ01, g__JAGOYM01, g__JAGPMH01, g__JAHIEL01, g__JAHILH01, g__JAHIOW01, g__JAHIPS01, g__JAHIVO01, g__JAHIYV01, g__JAHJAM01, g__JAHJAY01, g__JAHJBY01, g__JAHJBZ01, g__JAHJFT01, g__JAHJHC01, g__JAHJHG01, g__JAHJHM01, g__JAHJRJ01, g__JAHJRN01, g__Kandleria, g__Kozakia, g__LDYB01, g__LPB0142, g__Leptonema, g__Litorilinea, g__Litorivita, g__Longicatena, g__M3, g__M30B28, g__MEBICO9517, g__MGDU01, g__MVCY01, g__MWDD01, g__MWEV01, g__MWFE01, g__MarineAlpha5-Bin12, g__MarineAlpha5-Bin7, g__MarineAlpha9-Bin2, g__Miniimonas, g__Mycetocola_B, g__N074bin48, g__N075bin58, g__NPL-UPA2, g__NSJ-61, g__NZNC01, g__Neobittarella, g__Nyctobacter, g__O2-02-FULL-42-17, g__O2-02-FULL-42-9, g__O2-12-FULL-44-13, g__O2-12-FULL-45-9, g__PB-SRB1, g__PLOWO2-12-39-15, g__PNMQ01, g__PNNF01, g__PWEK01, g__PXBB01, g__Pacificitalea, g__Palsa-506, g__Palsa-601, g__Palsibacter, g__Paracandidimonas, g__Paralactobacillus, g__Phocea, g__Plesiomonas, g__Pluralibacter, g__Pusillimonas_D, g__QFOP01, g__QS-4-48-99, g__QS-5-72-10, g__REAB01, g__RFPI01, g__RFTN01, g__RGIG4847, g__RHBSTW-00994, g__RQOF01, g__RSA9, g__RUG013, g__RUG039, g__RUG100, g__RUG11623, g__RUG147, g__RUG844, g__RXOA01, g__RZYF01, g__Rhizobium_B, g__Rhodospirillum, g__Romboutsia_C, g__S012-90, g__S143-107, g__S144-51, g__S5-K13, g__SCRT01, g__SDRK01, g__SFDB01, g__SFEB01, g__SFRY01, g__SKLX01, g__SKQS01, g__SKRM01, g__SKWO01, g__SKYF01, g__SLAU01, g__SLCJ01, g__SLDG01, g__SLHA01, g__SLJK01, g__SLKC01, g__SLKG01, g__SLMP01, g__SLNM01, g__SLOV01, g__SLPH01, g__SLSJ01, g__SLSP01, g__SLSQ01, g__SLSR01, g__SM1-40, g__SM1-46, g__SOIY01, g__SV3-B141, g__SV3-B162, g__SW4, g__SXIP01, g__SYKL01, g__SZUA-472, g__Scalindua_A, g__Schwartzia, g__Scybalosoma, g__Sphaerobacter, g__Spiro-02, g__Syntrophothermus, g__T1SED10-28, g__T3SED10-260, g__T3Sed10-66, g__TMED131, g__TMED211, g__TMED69, g__Thalassobacter, g__Thermacetogenium, g__Thermasporomyces, g__Thermobispora, g__Thermobrachium, g__UBA10009, g__UBA10025, g__UBA1006, g__UBA10102, g__UBA10105, g__UBA10108, g__UBA10110, g__UBA10138, g__UBA10166, g__UBA10185, g__UBA10190, g__UBA10199, g__UBA10365, g__UBA1127, g__UBA11612, g__UBA11795, g__UBA11883, g__UBA12049, g__UBA12091, g__UBA12108, g__UBA12393, g__UBA12403, g__UBA12405, g__UBA12409, g__UBA12411, g__UBA12578, g__UBA1362, g__UBA1431, g__UBA1532, g__UBA1539, g__UBA1551, g__UBA1558, g__UBA1559, g__UBA1562, g__UBA1563, g__UBA1567, g__UBA1994, g__UBA2143, g__UBA2160, g__UBA2162, g__UBA2193, g__UBA2207, g__UBA2247, g__UBA2252, g__UBA2255, g__UBA228, g__UBA2638, g__UBA2679, g__UBA2798, g__UBA2966, g__UBA2985, g__UBA2990, g__UBA2994, g__UBA3002, g__UBA3072, g__UBA3088, g__UBA3206, g__UBA3442, g__UBA3567, g__UBA3569, g__UBA3575, g__UBA3903, g__UBA3906, g__UBA3920, g__UBA3924, g__UBA3933, g__UBA3939, g__UBA4054, g__UBA4064, g__UBA4066, g__UBA4312, g__UBA4572, g__UBA4588, g__UBA4735, g__UBA4738, g__UBA4811, g__UBA4839, g__UBA4851, g__UBA4882, g__UBA5169, g__UBA5239, g__UBA5388, g__UBA5409, g__UBA5448, g__UBA5508, g__UBA5680, g__UBA5745, g__UBA5861, g__UBA5962, g__UBA6503, g__UBA652, g__UBA6532, g__UBA6539, g__UBA6594, g__UBA6623, g__UBA6626, g__UBA6901, g__UBA6927, g__UBA6929, g__UBA6934, g__UBA6935, g__UBA7388, g__UBA7694, g__UBA7888, g__UBA7971, g__UBA816, g__UBA823, g__UBA826, g__UBA8296, g__UBA8416, g__UBA8558, g__UBA9042, g__UBA9455, g__UBA9619, g__UBA9629, g__UBA9637, g__UBA9645, g__UBA9722, g__UBA9983, g__UM-FILTER-34-12, g__UM-FILTER-39-15, g__UM-FILTER-39-64, g__UM-FILTER-40-11, g__UM-FILTER-40-16, g__UM-FILTER-41-14, g__UM-FILTER-44-12, g__UMGS1572, g__UMGS1851, g__UMGS2037, g__UMGS692, g__UMGS915, g__UMGS929, g__UTPRO1, g__UWMA-0041, g__VBDY01, g__VBGR01, g__VMDI01, g__VMTK01, g__VXPW01, g__W5053, g__WCHB1-27, g__WJKZ01, g__WLWN01, g__WM-3-3, g__WO2-42-50, g__WO2-47-17b, g__WO2-54-10, g__WO2-FULL-40-11, g__WVWV01, g__WVZY01, g__XYA2-FULL-43-15, g__XYB1-FULL-42-16, g__XYB2-FULL-49-35, g__XYB2-FULL-50-12, g__XYC2-FULL-37-10, g__XYD1-FULL-55-31, g__YD0425bin50, g__Yokenella, g__Zgenome-0002\n",
      "569\n"
     ]
    }
   ],
   "source": [
    "# How many are the sole representative species of the genus?\n",
    "\n",
    "def calc_sole_rep():\n",
    "    out = set()\n",
    "    for gid in ANI_NO_CHANGE:\n",
    "        tax = D_GID_TO_TAX[gid]\n",
    "        genus = tax.split(';')[5]\n",
    "        species_in_genus = D_GENUS_TO_SPECIES[genus]\n",
    "        if len(species_in_genus) == 1:\n",
    "            out.add(genus)\n",
    "    print(\", \".join(sorted(out)))\n",
    "    print(len(out))\n",
    "    return\n",
    "\n",
    "# print(len(ALL_DIFF))\n",
    "calc_sole_rep()"
   ],
   "metadata": {
    "collapsed": false,
    "ExecuteTime": {
     "end_time": "2023-06-13T02:02:48.998891Z",
     "start_time": "2023-06-13T02:02:48.930382Z"
    }
   }
  },
  {
   "cell_type": "code",
   "execution_count": 22,
   "outputs": [
    {
     "name": "stderr",
     "output_type": "stream",
     "text": [
      "100%|██████████| 30249/30249 [00:00<00:00, 612675.72it/s]\n"
     ]
    }
   ],
   "source": [
    "import seaborn as sns\n",
    "sns.histplot(new_sp)"
   ],
   "metadata": {
    "collapsed": false,
    "ExecuteTime": {
     "end_time": "2023-06-12T23:49:32.959182Z",
     "start_time": "2023-06-12T23:49:32.901759Z"
    }
   }
  },
  {
   "cell_type": "code",
   "execution_count": 34,
   "outputs": [],
   "source": [
    "sns.histplot(no_change)"
   ],
   "metadata": {
    "collapsed": false,
    "ExecuteTime": {
     "end_time": "2023-06-13T00:22:26.943992Z",
     "start_time": "2023-06-13T00:22:26.942135Z"
    }
   }
  },
  {
   "cell_type": "code",
   "execution_count": 46,
   "outputs": [
    {
     "data": {
      "text/plain": "<Figure size 1500x600 with 3 Axes>",
      "image/png": "[encoded data removed]"
     },
     "metadata": {},
     "output_type": "display_data"
    }
   ],
   "source": [
    "sns.histplot(new_clst)"
   ],
   "metadata": {
    "collapsed": false,
    "ExecuteTime": {
     "end_time": "2023-06-13T00:47:32.127534Z",
     "start_time": "2023-06-13T00:47:30.500600Z"
    }
   }
  },
  {
   "cell_type": "code",
   "execution_count": 36,
   "outputs": [
    {
     "data": {
      "text/plain": "<Figure size 800x600 with 1 Axes>",
      "image/png": "[encoded data removed]"
     },
     "metadata": {},
     "output_type": "display_data"
    }
   ],
   "source": [],
   "metadata": {
    "collapsed": false,
    "ExecuteTime": {
     "end_time": "2023-06-13T00:22:27.994349Z",
     "start_time": "2023-06-13T00:22:27.289662Z"
    }
   }
  },
  {
   "cell_type": "code",
   "execution_count": 38,
   "outputs": [
    {
     "data": {
      "text/plain": "<Figure size 800x600 with 1 Axes>",
      "image/png": "[encoded data removed]"
     },
     "metadata": {},
     "output_type": "display_data"
    }
   ],
   "source": [
    "calc_sole_rep()"
   ],
   "metadata": {
    "collapsed": false,
    "ExecuteTime": {
     "end_time": "2023-06-13T00:41:43.115106Z",
     "start_time": "2023-06-13T00:41:42.768873Z"
    }
   }
  }
 ],
 "metadata": {
  "kernelspec": {
   "display_name": "Python 3",
   "language": "python",
   "name": "python3"
  },
  "language_info": {
   "codemirror_mode": {
    "name": "ipython",
    "version": 2
   },
   "file_extension": ".py",
   "mimetype": "text/x-python",
   "name": "python",
   "nbconvert_exporter": "python",
   "pygments_lexer": "ipython2",
   "version": "2.7.6"
  }
 },
 "nbformat": 4,
 "nbformat_minor": 0
}
