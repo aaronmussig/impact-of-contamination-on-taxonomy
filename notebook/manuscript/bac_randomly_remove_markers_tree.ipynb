{
 "cells": [
  {
   "cell_type": "code",
   "execution_count": 1,
   "metadata": {
    "collapsed": true,
    "ExecuteTime": {
     "end_time": "2023-06-17T04:24:27.772837Z",
     "start_time": "2023-06-17T04:24:27.769566Z"
    }
   },
   "outputs": [],
   "source": [
    "import sys\n",
    "\n",
    "\n",
    "sys.path.append(\"/Users/aaron/phd/impact-of-contamination-on-taxonomy\")"
   ]
  },
  {
   "cell_type": "code",
   "execution_count": 2,
   "outputs": [
    {
     "name": "stdout",
     "output_type": "stream",
     "text": [
      "DEBUG = True (uqamussi.vpn.uq.edu.au)\n"
     ]
    }
   ],
   "source": [
    "import pandas as pd\n",
    "from workflow.fasttree_randomly_remove_markers.e_analyse_decorated import FastTreeRandomlyRemoveMarkersAnalyseDecorated\n"
   ],
   "metadata": {
    "collapsed": false,
    "ExecuteTime": {
     "end_time": "2023-06-17T04:24:29.847797Z",
     "start_time": "2023-06-17T04:24:27.776004Z"
    }
   }
  },
  {
   "cell_type": "code",
   "execution_count": 3,
   "outputs": [
    {
     "name": "stdout",
     "output_type": "stream",
     "text": [
      "[17/06/2023 14:24:29] - 1.2MiB = /srv/home/uqamussi/projects/gunc-chimeras/output/fasttree_randomly_remove_markers/pct_50/replicate_0/fasttree_decorated_analysed.tsv -> /tmp/gunc-cache/srv/home/uqamussi/projects/gunc-chimeras/output/fasttree_randomly_remove_markers/pct_50/replicate_0/fasttree_decorated_analysed.tsv\n",
      "[17/06/2023 14:24:33] - 1.2MiB = /srv/home/uqamussi/projects/gunc-chimeras/output/fasttree_randomly_remove_markers/pct_50/replicate_1/fasttree_decorated_analysed.tsv -> /tmp/gunc-cache/srv/home/uqamussi/projects/gunc-chimeras/output/fasttree_randomly_remove_markers/pct_50/replicate_1/fasttree_decorated_analysed.tsv\n",
      "[17/06/2023 14:24:37] - 1.2MiB = /srv/home/uqamussi/projects/gunc-chimeras/output/fasttree_randomly_remove_markers/pct_50/replicate_2/fasttree_decorated_analysed.tsv -> /tmp/gunc-cache/srv/home/uqamussi/projects/gunc-chimeras/output/fasttree_randomly_remove_markers/pct_50/replicate_2/fasttree_decorated_analysed.tsv\n",
      "[17/06/2023 14:24:40] - 1.2MiB = /srv/home/uqamussi/projects/gunc-chimeras/output/fasttree_randomly_remove_markers/pct_50/replicate_3/fasttree_decorated_analysed.tsv -> /tmp/gunc-cache/srv/home/uqamussi/projects/gunc-chimeras/output/fasttree_randomly_remove_markers/pct_50/replicate_3/fasttree_decorated_analysed.tsv\n",
      "[17/06/2023 14:24:44] - 1.2MiB = /srv/home/uqamussi/projects/gunc-chimeras/output/fasttree_randomly_remove_markers/pct_50/replicate_4/fasttree_decorated_analysed.tsv -> /tmp/gunc-cache/srv/home/uqamussi/projects/gunc-chimeras/output/fasttree_randomly_remove_markers/pct_50/replicate_4/fasttree_decorated_analysed.tsv\n",
      "[17/06/2023 14:24:48] - 1.2MiB = /srv/home/uqamussi/projects/gunc-chimeras/output/fasttree_randomly_remove_markers/pct_50/replicate_5/fasttree_decorated_analysed.tsv -> /tmp/gunc-cache/srv/home/uqamussi/projects/gunc-chimeras/output/fasttree_randomly_remove_markers/pct_50/replicate_5/fasttree_decorated_analysed.tsv\n",
      "[17/06/2023 14:24:51] - 1.2MiB = /srv/home/uqamussi/projects/gunc-chimeras/output/fasttree_randomly_remove_markers/pct_50/replicate_6/fasttree_decorated_analysed.tsv -> /tmp/gunc-cache/srv/home/uqamussi/projects/gunc-chimeras/output/fasttree_randomly_remove_markers/pct_50/replicate_6/fasttree_decorated_analysed.tsv\n",
      "[17/06/2023 14:24:55] - 1.2MiB = /srv/home/uqamussi/projects/gunc-chimeras/output/fasttree_randomly_remove_markers/pct_50/replicate_7/fasttree_decorated_analysed.tsv -> /tmp/gunc-cache/srv/home/uqamussi/projects/gunc-chimeras/output/fasttree_randomly_remove_markers/pct_50/replicate_7/fasttree_decorated_analysed.tsv\n",
      "[17/06/2023 14:24:58] - 1.2MiB = /srv/home/uqamussi/projects/gunc-chimeras/output/fasttree_randomly_remove_markers/pct_50/replicate_8/fasttree_decorated_analysed.tsv -> /tmp/gunc-cache/srv/home/uqamussi/projects/gunc-chimeras/output/fasttree_randomly_remove_markers/pct_50/replicate_8/fasttree_decorated_analysed.tsv\n",
      "[17/06/2023 14:25:02] - 1.2MiB = /srv/home/uqamussi/projects/gunc-chimeras/output/fasttree_randomly_remove_markers/pct_50/replicate_9/fasttree_decorated_analysed.tsv -> /tmp/gunc-cache/srv/home/uqamussi/projects/gunc-chimeras/output/fasttree_randomly_remove_markers/pct_50/replicate_9/fasttree_decorated_analysed.tsv\n"
     ]
    },
    {
     "data": {
      "text/plain": "                    gid                                           test_tax  \\\n0  TEST_GCA_000091165.1  d__Bacteria;p__Methylomirabilota;c__Methylomir...   \n1  TEST_GCA_000155875.1  d__Bacteria;p__Firmicutes_A;c__Clostridia;o__L...   \n2  TEST_GCA_000158135.1  d__Bacteria;p__Proteobacteria;c__Alphaproteoba...   \n3  TEST_GCA_000299095.1  d__Bacteria;p__Proteobacteria;c__Alphaproteoba...   \n4  TEST_GCA_000309945.1  d__Bacteria;p__Cyanobacteria;c__Cyanobacteriia...   \n\n                                            true_tax highest_disagree_rank  \\\n0  d__Bacteria;p__Methylomirabilota;c__Methylomir...                    na   \n1  d__Bacteria;p__Firmicutes_A;c__Clostridia;o__L...                    na   \n2  d__Bacteria;p__Proteobacteria;c__Alphaproteoba...                    na   \n3  d__Bacteria;p__Proteobacteria;c__Alphaproteoba...                    na   \n4  d__Bacteria;p__Cyanobacteria;c__Cyanobacteriia...                    na   \n\n  disagree_type  agree  replicate_id  \n0            na   True             0  \n1            na   True             0  \n2            na   True             0  \n3            na   True             0  \n4            na   True             0  ",
      "text/html": "<div>\n<style scoped>\n    .dataframe tbody tr th:only-of-type {\n        vertical-align: middle;\n    }\n\n    .dataframe tbody tr th {\n        vertical-align: top;\n    }\n\n    .dataframe thead th {\n        text-align: right;\n    }\n</style>\n<table border=\"1\" class=\"dataframe\">\n  <thead>\n    <tr style=\"text-align: right;\">\n      <th></th>\n      <th>gid</th>\n      <th>test_tax</th>\n      <th>true_tax</th>\n      <th>highest_disagree_rank</th>\n      <th>disagree_type</th>\n      <th>agree</th>\n      <th>replicate_id</th>\n    </tr>\n  </thead>\n  <tbody>\n    <tr>\n      <th>0</th>\n      <td>TEST_GCA_000091165.1</td>\n      <td>d__Bacteria;p__Methylomirabilota;c__Methylomir...</td>\n      <td>d__Bacteria;p__Methylomirabilota;c__Methylomir...</td>\n      <td>na</td>\n      <td>na</td>\n      <td>True</td>\n      <td>0</td>\n    </tr>\n    <tr>\n      <th>1</th>\n      <td>TEST_GCA_000155875.1</td>\n      <td>d__Bacteria;p__Firmicutes_A;c__Clostridia;o__L...</td>\n      <td>d__Bacteria;p__Firmicutes_A;c__Clostridia;o__L...</td>\n      <td>na</td>\n      <td>na</td>\n      <td>True</td>\n      <td>0</td>\n    </tr>\n    <tr>\n      <th>2</th>\n      <td>TEST_GCA_000158135.1</td>\n      <td>d__Bacteria;p__Proteobacteria;c__Alphaproteoba...</td>\n      <td>d__Bacteria;p__Proteobacteria;c__Alphaproteoba...</td>\n      <td>na</td>\n      <td>na</td>\n      <td>True</td>\n      <td>0</td>\n    </tr>\n    <tr>\n      <th>3</th>\n      <td>TEST_GCA_000299095.1</td>\n      <td>d__Bacteria;p__Proteobacteria;c__Alphaproteoba...</td>\n      <td>d__Bacteria;p__Proteobacteria;c__Alphaproteoba...</td>\n      <td>na</td>\n      <td>na</td>\n      <td>True</td>\n      <td>0</td>\n    </tr>\n    <tr>\n      <th>4</th>\n      <td>TEST_GCA_000309945.1</td>\n      <td>d__Bacteria;p__Cyanobacteria;c__Cyanobacteriia...</td>\n      <td>d__Bacteria;p__Cyanobacteria;c__Cyanobacteriia...</td>\n      <td>na</td>\n      <td>na</td>\n      <td>True</td>\n      <td>0</td>\n    </tr>\n  </tbody>\n</table>\n</div>"
     },
     "execution_count": 3,
     "metadata": {},
     "output_type": "execute_result"
    }
   ],
   "source": [
    "def load_dfs():\n",
    "    out = list()\n",
    "    for i in range(10):\n",
    "        df = FastTreeRandomlyRemoveMarkersAnalyseDecorated(target_pct=50, replicate_id=i).output().maybe_read_cached()\n",
    "        df['replicate_id'] = i\n",
    "        out.append(df)\n",
    "    return pd.concat(out)\n",
    "\n",
    "DF_RESULTS = load_dfs()\n",
    "DF_RESULTS.head()"
   ],
   "metadata": {
    "collapsed": false,
    "ExecuteTime": {
     "end_time": "2023-06-17T04:25:07.108904Z",
     "start_time": "2023-06-17T04:24:29.848404Z"
    }
   }
  },
  {
   "cell_type": "code",
   "execution_count": 13,
   "outputs": [
    {
     "name": "stdout",
     "output_type": "stream",
     "text": [
      "18\n",
      "23\n",
      "24\n",
      "77\n",
      "33\n",
      "19\n",
      "24\n",
      "34\n",
      "109\n",
      "11\n",
      "0.82\n",
      "0.65\n"
     ]
    }
   ],
   "source": [
    "vals = list()\n",
    "for i in range(10):\n",
    "    df = DF_RESULTS[DF_RESULTS['replicate_id'] == i]\n",
    "    df_fail = df[df['agree'] == False]\n",
    "    n_fail = len(df_fail)\n",
    "    n_bac = 4525\n",
    "    pct_fail = n_fail / n_bac * 100\n",
    "    print(n_fail)\n",
    "    vals.append(pct_fail)\n",
    "\n",
    "import numpy as np\n",
    "print(round(np.mean(vals), 2))\n",
    "print(round(np.std(vals), 2))\n",
    "\n"
   ],
   "metadata": {
    "collapsed": false,
    "ExecuteTime": {
     "end_time": "2023-06-17T04:33:10.717007Z",
     "start_time": "2023-06-17T04:33:10.693416Z"
    }
   }
  }
 ],
 "metadata": {
  "kernelspec": {
   "display_name": "Python 3",
   "language": "python",
   "name": "python3"
  },
  "language_info": {
   "codemirror_mode": {
    "name": "ipython",
    "version": 2
   },
   "file_extension": ".py",
   "mimetype": "text/x-python",
   "name": "python",
   "nbconvert_exporter": "python",
   "pygments_lexer": "ipython2",
   "version": "2.7.6"
  }
 },
 "nbformat": 4,
 "nbformat_minor": 0
}
