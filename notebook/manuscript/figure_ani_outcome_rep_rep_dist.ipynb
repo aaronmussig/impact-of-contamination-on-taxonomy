{
 "cells": [
  {
   "cell_type": "code",
   "execution_count": 1,
   "metadata": {
    "collapsed": true,
    "ExecuteTime": {
     "end_time": "2023-06-18T22:59:32.053667Z",
     "start_time": "2023-06-18T22:59:32.049980Z"
    }
   },
   "outputs": [],
   "source": [
    "import sys\n",
    "\n",
    "sys.path.append(\"/Users/aaron/phd/impact-of-contamination-on-taxonomy\")"
   ]
  },
  {
   "cell_type": "code",
   "execution_count": 12,
   "outputs": [],
   "source": [
    "from workflow.v2_fastani_rep_to_closest_rep.a_create_jobs import V2FastAniRepToClosestRepCreateJobs\n",
    "from workflow.external.gtdb_metadata import GtdbMetadataR207\n",
    "from workflow.gunc_helper.aggregate_max_css_level_merged import AggregateMaxCssLevelMerged\n",
    "from tqdm import tqdm\n",
    "\n"
   ],
   "metadata": {
    "collapsed": false,
    "ExecuteTime": {
     "end_time": "2023-06-18T23:05:28.058995Z",
     "start_time": "2023-06-18T23:05:28.054394Z"
    }
   }
  },
  {
   "cell_type": "code",
   "execution_count": 3,
   "outputs": [
    {
     "name": "stdout",
     "output_type": "stream",
     "text": [
      "[19/06/2023 08:59:36] - 97.4MiB = /srv/home/uqamussi/projects/gunc-chimeras/output/v2_fastani_rep_to_closest_rep/create_jobs_results.h5 -> /tmp/gunc-cache/srv/home/uqamussi/projects/gunc-chimeras/output/v2_fastani_rep_to_closest_rep/create_jobs_results.h5\n"
     ]
    },
    {
     "data": {
      "text/plain": "             query              ref       ani        af\n0  GCA_000007325.1  GCF_000163935.1   84.9972  0.705801\n1  GCA_000007325.1  GCA_018457305.1   78.8787  0.500000\n2  GCA_000007325.1  GCF_000160475.1   85.4970  0.720994\n3  GCA_000007325.1  GCA_000007325.1  100.0000  0.998619\n4  GCA_000007325.1  GCF_000158275.2   91.0779  0.820442",
      "text/html": "<div>\n<style scoped>\n    .dataframe tbody tr th:only-of-type {\n        vertical-align: middle;\n    }\n\n    .dataframe tbody tr th {\n        vertical-align: top;\n    }\n\n    .dataframe thead th {\n        text-align: right;\n    }\n</style>\n<table border=\"1\" class=\"dataframe\">\n  <thead>\n    <tr style=\"text-align: right;\">\n      <th></th>\n      <th>query</th>\n      <th>ref</th>\n      <th>ani</th>\n      <th>af</th>\n    </tr>\n  </thead>\n  <tbody>\n    <tr>\n      <th>0</th>\n      <td>GCA_000007325.1</td>\n      <td>GCF_000163935.1</td>\n      <td>84.9972</td>\n      <td>0.705801</td>\n    </tr>\n    <tr>\n      <th>1</th>\n      <td>GCA_000007325.1</td>\n      <td>GCA_018457305.1</td>\n      <td>78.8787</td>\n      <td>0.500000</td>\n    </tr>\n    <tr>\n      <th>2</th>\n      <td>GCA_000007325.1</td>\n      <td>GCF_000160475.1</td>\n      <td>85.4970</td>\n      <td>0.720994</td>\n    </tr>\n    <tr>\n      <th>3</th>\n      <td>GCA_000007325.1</td>\n      <td>GCA_000007325.1</td>\n      <td>100.0000</td>\n      <td>0.998619</td>\n    </tr>\n    <tr>\n      <th>4</th>\n      <td>GCA_000007325.1</td>\n      <td>GCF_000158275.2</td>\n      <td>91.0779</td>\n      <td>0.820442</td>\n    </tr>\n  </tbody>\n</table>\n</div>"
     },
     "execution_count": 3,
     "metadata": {},
     "output_type": "execute_result"
    }
   ],
   "source": [
    "DF_REP_REP = V2FastAniRepToClosestRepCreateJobs().output().maybe_read_cached()\n",
    "DF_REP_REP.head()"
   ],
   "metadata": {
    "collapsed": false,
    "ExecuteTime": {
     "end_time": "2023-06-18T23:00:26.239323Z",
     "start_time": "2023-06-18T22:59:36.601906Z"
    }
   }
  },
  {
   "cell_type": "code",
   "execution_count": 50,
   "outputs": [
    {
     "name": "stderr",
     "output_type": "stream",
     "text": [
      "100%|██████████| 8354456/8354456 [00:08<00:00, 1027892.82it/s]\n"
     ]
    }
   ],
   "source": [
    "def get_closest_rep():\n",
    "    out = dict()\n",
    "    for row in tqdm(DF_REP_REP.itertuples(), total=len(DF_REP_REP)):\n",
    "        if row.af < 0.5 or row.query == row.ref:\n",
    "            continue\n",
    "\n",
    "        if row.query in out:\n",
    "            if row.ani > out[row.query][1]:\n",
    "                out[row.query] = (row.ref, row.ani)\n",
    "        else:\n",
    "            out[row.query] = (row.ref, row.ani, row.af)\n",
    "\n",
    "        if row.ref in out:\n",
    "            if row.ani > out[row.ref][1]:\n",
    "                out[row.ref] = (row.query, row.ani)\n",
    "        else:\n",
    "            out[row.ref] = (row.query, row.ani)\n",
    "    return out\n",
    "\n",
    "D_REP_TO_CLOSEST = get_closest_rep()"
   ],
   "metadata": {
    "collapsed": false,
    "ExecuteTime": {
     "end_time": "2023-06-18T23:24:11.770316Z",
     "start_time": "2023-06-18T23:24:03.628678Z"
    }
   }
  },
  {
   "cell_type": "code",
   "execution_count": 5,
   "outputs": [
    {
     "data": {
      "text/plain": "                 ambiguous_bases  checkm_completeness  checkm_contamination  \\\ngid                                                                           \nGCA_000006155.2             1916                93.12                   0.0   \nGCA_000007325.1                1                99.95                   0.0   \nGCA_000007385.1                0                99.82                   0.0   \nGCA_000008085.1                0                73.13                   0.0   \nGCA_000008885.1                0               100.00                   0.0   \n\n                 checkm_marker_count             checkm_marker_lineage  \\\ngid                                                                      \nGCA_000006155.2                 1171              g__Bacillus (UID902)   \nGCA_000007325.1                  149             k__Bacteria (UID2329)   \nGCA_000007385.1                  481  c__Gammaproteobacteria (UID4202)   \nGCA_000008085.1                  149                 k__Archaea (UID2)   \nGCA_000008885.1                  134             k__Bacteria (UID2495)   \n\n                 checkm_marker_set_count  checkm_strain_heterogeneity  \\\ngid                                                                     \nGCA_000006155.2                      324                          0.0   \nGCA_000007325.1                       89                          0.0   \nGCA_000007385.1                      276                          0.0   \nGCA_000008085.1                      107                          0.0   \nGCA_000008885.1                       80                          0.0   \n\n                 coding_bases  coding_density  contig_count  ...  \\\ngid                                                          ...   \nGCA_000006155.2       4305660       80.178992           426  ...   \nGCA_000007325.1       1973459       90.754610             1  ...   \nGCA_000007385.1       4190634       84.805944             1  ...   \nGCA_000008085.1        462902       94.299480             1  ...   \nGCA_000008885.1        617456       87.831079             2  ...   \n\n                 gtdb_type_species_of_genus  \\\ngid                                           \nGCA_000006155.2                           f   \nGCA_000007325.1                           t   \nGCA_000007385.1                           f   \nGCA_000008085.1                           t   \nGCA_000008885.1                           f   \n\n                                                     ncbi_taxonomy  \\\ngid                                                                  \nGCA_000006155.2  d__Bacteria;p__Firmicutes;c__Bacilli;o__Bacill...   \nGCA_000007325.1  d__Bacteria;p__Fusobacteria;c__Fusobacteriia;o...   \nGCA_000007385.1  d__Bacteria;p__Proteobacteria;c__Gammaproteoba...   \nGCA_000008085.1  d__Archaea;p__Nanoarchaeota;c__;o__Nanoarchaea...   \nGCA_000008885.1  d__Bacteria;p__Proteobacteria;c__Gammaproteoba...   \n\n                                          ncbi_taxonomy_unfiltered  \\\ngid                                                                  \nGCA_000006155.2  d__Bacteria;x__Terrabacteria group;p__Firmicut...   \nGCA_000007325.1  d__Bacteria;p__Fusobacteria;c__Fusobacteriia;o...   \nGCA_000007385.1  d__Bacteria;p__Proteobacteria;c__Gammaproteoba...   \nGCA_000008085.1  d__Archaea;x__DPANN group;p__Nanoarchaeota;o__...   \nGCA_000008885.1  d__Bacteria;p__Proteobacteria;c__Gammaproteoba...   \n\n                      domain             phylum                   class  \\\ngid                                                                       \nGCA_000006155.2  d__Bacteria      p__Firmicutes              c__Bacilli   \nGCA_000007325.1  d__Bacteria  p__Fusobacteriota        c__Fusobacteriia   \nGCA_000007385.1  d__Bacteria  p__Proteobacteria  c__Gammaproteobacteria   \nGCA_000008085.1   d__Archaea   p__Nanoarchaeota         c__Nanoarchaeia   \nGCA_000008885.1  d__Bacteria  p__Proteobacteria  c__Gammaproteobacteria   \n\n                                 order                   family  \\\ngid                                                               \nGCA_000006155.2          o__Bacillales         f__Bacillaceae_G   \nGCA_000007325.1     o__Fusobacteriales      f__Fusobacteriaceae   \nGCA_000007385.1     o__Xanthomonadales      f__Xanthomonadaceae   \nGCA_000008085.1      o__Nanoarchaeales       f__Nanoarchaeaceae   \nGCA_000008885.1  o__Enterobacterales_A  f__Enterobacteriaceae_A   \n\n                             genus                          species  \ngid                                                                  \nGCA_000006155.2      g__Bacillus_A          s__Bacillus_A anthracis  \nGCA_000007325.1   g__Fusobacterium       s__Fusobacterium nucleatum  \nGCA_000007385.1     g__Xanthomonas            s__Xanthomonas oryzae  \nGCA_000008085.1    g__Nanoarchaeum         s__Nanoarchaeum equitans  \nGCA_000008885.1  g__Wigglesworthia  s__Wigglesworthia glossinidia_A  \n\n[5 rows x 28 columns]",
      "text/html": "<div>\n<style scoped>\n    .dataframe tbody tr th:only-of-type {\n        vertical-align: middle;\n    }\n\n    .dataframe tbody tr th {\n        vertical-align: top;\n    }\n\n    .dataframe thead th {\n        text-align: right;\n    }\n</style>\n<table border=\"1\" class=\"dataframe\">\n  <thead>\n    <tr style=\"text-align: right;\">\n      <th></th>\n      <th>ambiguous_bases</th>\n      <th>checkm_completeness</th>\n      <th>checkm_contamination</th>\n      <th>checkm_marker_count</th>\n      <th>checkm_marker_lineage</th>\n      <th>checkm_marker_set_count</th>\n      <th>checkm_strain_heterogeneity</th>\n      <th>coding_bases</th>\n      <th>coding_density</th>\n      <th>contig_count</th>\n      <th>...</th>\n      <th>gtdb_type_species_of_genus</th>\n      <th>ncbi_taxonomy</th>\n      <th>ncbi_taxonomy_unfiltered</th>\n      <th>domain</th>\n      <th>phylum</th>\n      <th>class</th>\n      <th>order</th>\n      <th>family</th>\n      <th>genus</th>\n      <th>species</th>\n    </tr>\n    <tr>\n      <th>gid</th>\n      <th></th>\n      <th></th>\n      <th></th>\n      <th></th>\n      <th></th>\n      <th></th>\n      <th></th>\n      <th></th>\n      <th></th>\n      <th></th>\n      <th></th>\n      <th></th>\n      <th></th>\n      <th></th>\n      <th></th>\n      <th></th>\n      <th></th>\n      <th></th>\n      <th></th>\n      <th></th>\n      <th></th>\n    </tr>\n  </thead>\n  <tbody>\n    <tr>\n      <th>GCA_000006155.2</th>\n      <td>1916</td>\n      <td>93.12</td>\n      <td>0.0</td>\n      <td>1171</td>\n      <td>g__Bacillus (UID902)</td>\n      <td>324</td>\n      <td>0.0</td>\n      <td>4305660</td>\n      <td>80.178992</td>\n      <td>426</td>\n      <td>...</td>\n      <td>f</td>\n      <td>d__Bacteria;p__Firmicutes;c__Bacilli;o__Bacill...</td>\n      <td>d__Bacteria;x__Terrabacteria group;p__Firmicut...</td>\n      <td>d__Bacteria</td>\n      <td>p__Firmicutes</td>\n      <td>c__Bacilli</td>\n      <td>o__Bacillales</td>\n      <td>f__Bacillaceae_G</td>\n      <td>g__Bacillus_A</td>\n      <td>s__Bacillus_A anthracis</td>\n    </tr>\n    <tr>\n      <th>GCA_000007325.1</th>\n      <td>1</td>\n      <td>99.95</td>\n      <td>0.0</td>\n      <td>149</td>\n      <td>k__Bacteria (UID2329)</td>\n      <td>89</td>\n      <td>0.0</td>\n      <td>1973459</td>\n      <td>90.754610</td>\n      <td>1</td>\n      <td>...</td>\n      <td>t</td>\n      <td>d__Bacteria;p__Fusobacteria;c__Fusobacteriia;o...</td>\n      <td>d__Bacteria;p__Fusobacteria;c__Fusobacteriia;o...</td>\n      <td>d__Bacteria</td>\n      <td>p__Fusobacteriota</td>\n      <td>c__Fusobacteriia</td>\n      <td>o__Fusobacteriales</td>\n      <td>f__Fusobacteriaceae</td>\n      <td>g__Fusobacterium</td>\n      <td>s__Fusobacterium nucleatum</td>\n    </tr>\n    <tr>\n      <th>GCA_000007385.1</th>\n      <td>0</td>\n      <td>99.82</td>\n      <td>0.0</td>\n      <td>481</td>\n      <td>c__Gammaproteobacteria (UID4202)</td>\n      <td>276</td>\n      <td>0.0</td>\n      <td>4190634</td>\n      <td>84.805944</td>\n      <td>1</td>\n      <td>...</td>\n      <td>f</td>\n      <td>d__Bacteria;p__Proteobacteria;c__Gammaproteoba...</td>\n      <td>d__Bacteria;p__Proteobacteria;c__Gammaproteoba...</td>\n      <td>d__Bacteria</td>\n      <td>p__Proteobacteria</td>\n      <td>c__Gammaproteobacteria</td>\n      <td>o__Xanthomonadales</td>\n      <td>f__Xanthomonadaceae</td>\n      <td>g__Xanthomonas</td>\n      <td>s__Xanthomonas oryzae</td>\n    </tr>\n    <tr>\n      <th>GCA_000008085.1</th>\n      <td>0</td>\n      <td>73.13</td>\n      <td>0.0</td>\n      <td>149</td>\n      <td>k__Archaea (UID2)</td>\n      <td>107</td>\n      <td>0.0</td>\n      <td>462902</td>\n      <td>94.299480</td>\n      <td>1</td>\n      <td>...</td>\n      <td>t</td>\n      <td>d__Archaea;p__Nanoarchaeota;c__;o__Nanoarchaea...</td>\n      <td>d__Archaea;x__DPANN group;p__Nanoarchaeota;o__...</td>\n      <td>d__Archaea</td>\n      <td>p__Nanoarchaeota</td>\n      <td>c__Nanoarchaeia</td>\n      <td>o__Nanoarchaeales</td>\n      <td>f__Nanoarchaeaceae</td>\n      <td>g__Nanoarchaeum</td>\n      <td>s__Nanoarchaeum equitans</td>\n    </tr>\n    <tr>\n      <th>GCA_000008885.1</th>\n      <td>0</td>\n      <td>100.00</td>\n      <td>0.0</td>\n      <td>134</td>\n      <td>k__Bacteria (UID2495)</td>\n      <td>80</td>\n      <td>0.0</td>\n      <td>617456</td>\n      <td>87.831079</td>\n      <td>2</td>\n      <td>...</td>\n      <td>f</td>\n      <td>d__Bacteria;p__Proteobacteria;c__Gammaproteoba...</td>\n      <td>d__Bacteria;p__Proteobacteria;c__Gammaproteoba...</td>\n      <td>d__Bacteria</td>\n      <td>p__Proteobacteria</td>\n      <td>c__Gammaproteobacteria</td>\n      <td>o__Enterobacterales_A</td>\n      <td>f__Enterobacteriaceae_A</td>\n      <td>g__Wigglesworthia</td>\n      <td>s__Wigglesworthia glossinidia_A</td>\n    </tr>\n  </tbody>\n</table>\n<p>5 rows × 28 columns</p>\n</div>"
     },
     "execution_count": 5,
     "metadata": {},
     "output_type": "execute_result"
    }
   ],
   "source": [
    "\n",
    "DF_META = GtdbMetadataR207().output().read_cached()\n",
    "DF_META.head()"
   ],
   "metadata": {
    "collapsed": false,
    "ExecuteTime": {
     "end_time": "2023-06-18T23:01:11.466346Z",
     "start_time": "2023-06-18T23:01:05.875435Z"
    }
   }
  },
  {
   "cell_type": "code",
   "execution_count": 20,
   "outputs": [],
   "source": [
    "D_GID_TO_REP = DF_META['gtdb_genome_representative'].to_dict()"
   ],
   "metadata": {
    "collapsed": false,
    "ExecuteTime": {
     "end_time": "2023-06-18T23:11:36.809813Z",
     "start_time": "2023-06-18T23:11:36.579025Z"
    }
   }
  },
  {
   "cell_type": "code",
   "execution_count": 6,
   "outputs": [
    {
     "data": {
      "text/plain": "                 n_genes_called  n_genes_mapped  n_contigs taxonomic_level  \\\ngid                                                                          \nGCA_000143435.1            2189            2110          4           genus   \nGCA_000153745.1            2202            2165          2          family   \nGCA_000155005.1            6879            6313         84           genus   \nGCA_000161815.1            4499            4335          8           genus   \nGCA_000166735.2            3414            3247        793           genus   \n\n                 proportion_genes_retained_in_major_clades  \\\ngid                                                          \nGCA_000143435.1                                       0.89   \nGCA_000153745.1                                       0.92   \nGCA_000155005.1                                       0.87   \nGCA_000161815.1                                       0.80   \nGCA_000166735.2                                       0.94   \n\n                 genes_retained_index  clade_separation_score  \\\ngid                                                             \nGCA_000143435.1                  0.86                    0.55   \nGCA_000153745.1                  0.90                    0.49   \nGCA_000155005.1                  0.79                    0.79   \nGCA_000161815.1                  0.77                    0.50   \nGCA_000166735.2                  0.90                    0.57   \n\n                 contamination_portion  n_effective_surplus_clades  \\\ngid                                                                  \nGCA_000143435.1                   0.03                        0.06   \nGCA_000153745.1                   0.06                        0.12   \nGCA_000155005.1                   0.10                        0.22   \nGCA_000161815.1                   0.19                        0.50   \nGCA_000166735.2                   0.02                        0.05   \n\n                 mean_hit_identity  reference_representation_score  pass.GUNC  \\\ngid                                                                             \nGCA_000143435.1               0.95                            0.82      False   \nGCA_000153745.1               0.67                            0.61      False   \nGCA_000155005.1               0.97                            0.77      False   \nGCA_000161815.1               0.95                            0.74      False   \nGCA_000166735.2               0.93                            0.83      False   \n\n                     source  \ngid                          \nGCA_000143435.1        gtdb  \nGCA_000153745.1  progenomes  \nGCA_000155005.1        gtdb  \nGCA_000161815.1  progenomes  \nGCA_000166735.2  progenomes  ",
      "text/html": "<div>\n<style scoped>\n    .dataframe tbody tr th:only-of-type {\n        vertical-align: middle;\n    }\n\n    .dataframe tbody tr th {\n        vertical-align: top;\n    }\n\n    .dataframe thead th {\n        text-align: right;\n    }\n</style>\n<table border=\"1\" class=\"dataframe\">\n  <thead>\n    <tr style=\"text-align: right;\">\n      <th></th>\n      <th>n_genes_called</th>\n      <th>n_genes_mapped</th>\n      <th>n_contigs</th>\n      <th>taxonomic_level</th>\n      <th>proportion_genes_retained_in_major_clades</th>\n      <th>genes_retained_index</th>\n      <th>clade_separation_score</th>\n      <th>contamination_portion</th>\n      <th>n_effective_surplus_clades</th>\n      <th>mean_hit_identity</th>\n      <th>reference_representation_score</th>\n      <th>pass.GUNC</th>\n      <th>source</th>\n    </tr>\n    <tr>\n      <th>gid</th>\n      <th></th>\n      <th></th>\n      <th></th>\n      <th></th>\n      <th></th>\n      <th></th>\n      <th></th>\n      <th></th>\n      <th></th>\n      <th></th>\n      <th></th>\n      <th></th>\n      <th></th>\n    </tr>\n  </thead>\n  <tbody>\n    <tr>\n      <th>GCA_000143435.1</th>\n      <td>2189</td>\n      <td>2110</td>\n      <td>4</td>\n      <td>genus</td>\n      <td>0.89</td>\n      <td>0.86</td>\n      <td>0.55</td>\n      <td>0.03</td>\n      <td>0.06</td>\n      <td>0.95</td>\n      <td>0.82</td>\n      <td>False</td>\n      <td>gtdb</td>\n    </tr>\n    <tr>\n      <th>GCA_000153745.1</th>\n      <td>2202</td>\n      <td>2165</td>\n      <td>2</td>\n      <td>family</td>\n      <td>0.92</td>\n      <td>0.90</td>\n      <td>0.49</td>\n      <td>0.06</td>\n      <td>0.12</td>\n      <td>0.67</td>\n      <td>0.61</td>\n      <td>False</td>\n      <td>progenomes</td>\n    </tr>\n    <tr>\n      <th>GCA_000155005.1</th>\n      <td>6879</td>\n      <td>6313</td>\n      <td>84</td>\n      <td>genus</td>\n      <td>0.87</td>\n      <td>0.79</td>\n      <td>0.79</td>\n      <td>0.10</td>\n      <td>0.22</td>\n      <td>0.97</td>\n      <td>0.77</td>\n      <td>False</td>\n      <td>gtdb</td>\n    </tr>\n    <tr>\n      <th>GCA_000161815.1</th>\n      <td>4499</td>\n      <td>4335</td>\n      <td>8</td>\n      <td>genus</td>\n      <td>0.80</td>\n      <td>0.77</td>\n      <td>0.50</td>\n      <td>0.19</td>\n      <td>0.50</td>\n      <td>0.95</td>\n      <td>0.74</td>\n      <td>False</td>\n      <td>progenomes</td>\n    </tr>\n    <tr>\n      <th>GCA_000166735.2</th>\n      <td>3414</td>\n      <td>3247</td>\n      <td>793</td>\n      <td>genus</td>\n      <td>0.94</td>\n      <td>0.90</td>\n      <td>0.57</td>\n      <td>0.02</td>\n      <td>0.05</td>\n      <td>0.93</td>\n      <td>0.83</td>\n      <td>False</td>\n      <td>progenomes</td>\n    </tr>\n  </tbody>\n</table>\n</div>"
     },
     "execution_count": 6,
     "metadata": {},
     "output_type": "execute_result"
    }
   ],
   "source": [
    "\n",
    "DF_CSS = AggregateMaxCssLevelMerged().output().read_cached()\n",
    "DF_CSS.head()"
   ],
   "metadata": {
    "collapsed": false,
    "ExecuteTime": {
     "end_time": "2023-06-18T23:01:11.638483Z",
     "start_time": "2023-06-18T23:01:11.467998Z"
    }
   }
  },
  {
   "cell_type": "code",
   "execution_count": 8,
   "outputs": [
    {
     "name": "stdout",
     "output_type": "stream",
     "text": [
      "['GCF_002984425.1', 'GCF_012928085.1', 'GCF_011063325.1', 'GCA_002390645.1', 'GCF_001726645.1', 'GCF_002976665.1', 'GCF_009390565.1', 'GCF_011007235.1', 'GCF_900039105.1', 'GCA_012521235.1']\n",
      "249189\n"
     ]
    }
   ],
   "source": [
    "BAC_NON_SP_REPS = set(DF_META[(DF_META['gtdb_representative'] == 'f') & (DF_META['domain'] == 'd__Bacteria')].index)\n",
    "print(list(BAC_NON_SP_REPS)[0:10])\n",
    "print(len(BAC_NON_SP_REPS))"
   ],
   "metadata": {
    "collapsed": false,
    "ExecuteTime": {
     "end_time": "2023-06-18T23:01:36.598918Z",
     "start_time": "2023-06-18T23:01:36.418042Z"
    }
   }
  },
  {
   "cell_type": "code",
   "execution_count": 9,
   "outputs": [
    {
     "name": "stdout",
     "output_type": "stream",
     "text": [
      "35723\n"
     ]
    }
   ],
   "source": [
    "FAIL_GIDS = set(DF_CSS.index)\n",
    "print(len(FAIL_GIDS))"
   ],
   "metadata": {
    "collapsed": false,
    "ExecuteTime": {
     "end_time": "2023-06-18T23:01:37.846141Z",
     "start_time": "2023-06-18T23:01:37.839534Z"
    }
   }
  },
  {
   "cell_type": "code",
   "execution_count": 10,
   "outputs": [
    {
     "name": "stdout",
     "output_type": "stream",
     "text": [
      "30321\n"
     ]
    }
   ],
   "source": [
    "FAIL_NON_BAC_SP_REPS = FAIL_GIDS.intersection(BAC_NON_SP_REPS)\n",
    "print(len(FAIL_NON_BAC_SP_REPS))"
   ],
   "metadata": {
    "collapsed": false,
    "ExecuteTime": {
     "end_time": "2023-06-18T23:01:39.109715Z",
     "start_time": "2023-06-18T23:01:39.104930Z"
    }
   }
  },
  {
   "cell_type": "code",
   "execution_count": 11,
   "outputs": [
    {
     "name": "stdout",
     "output_type": "stream",
     "text": [
      "45\n",
      "27 None\n",
      "30249\n"
     ]
    }
   ],
   "source": [
    "ANI_NEW_SP = {'GCA_001509115.1', 'GCA_001695755.1', 'GCA_002728285.1', 'GCA_002731855.1', 'GCA_008668585.1', 'GCA_008668795.1', 'GCA_009493725.1', 'GCA_011523145.1', 'GCA_016707075.1', 'GCA_017394825.1', 'GCA_017465765.1', 'GCA_017515185.1', 'GCA_018056875.1', 'GCA_018239885.1', 'GCA_018363345.1', 'GCA_900759525.1', 'GCA_900761055.1', 'GCA_900765305.1', 'GCA_900765645.1', 'GCA_902528895.1', 'GCA_902593295.1', 'GCA_903846615.1', 'GCA_903931905.1', 'GCA_905200745.1', 'GCA_905214645.1', 'GCF_000698005.1', 'GCF_002929465.1'}\n",
    "\n",
    "ANI_NEW_CLST = {'GCA_002291775.1', 'GCA_002703565.1', 'GCA_003487585.1', 'GCA_007096555.1', 'GCA_011523095.1', 'GCA_013213925.1', 'GCA_016939315.1', 'GCA_018370815.1', 'GCA_018383955.1', 'GCA_900548685.1', 'GCA_900549575.1', 'GCA_900756095.1', 'GCA_900760075.1', 'GCA_902363945.1', 'GCA_902388545.1', 'GCA_902539685.1', 'GCA_902568005.1', 'GCA_902573475.1', 'GCA_902619155.1', 'GCA_905193315.1', 'GCA_905208535.1', 'GCA_905212495.1', 'GCA_905214135.1', 'GCA_905214255.1', 'GCA_905215365.1', 'GCF_000964075.1', 'GCF_001812365.1', 'GCF_001815585.1', 'GCF_002035805.1', 'GCF_002835625.1', 'GCF_002912425.1', 'GCF_002913635.1', 'GCF_003462845.1', 'GCF_003495765.1', 'GCF_008269775.1', 'GCF_009493905.1', 'GCF_009494015.1', 'GCF_009649595.1', 'GCF_014284905.1', 'GCF_015667745.1', 'GCF_016806285.1', 'GCF_016806405.1', 'GCF_017151305.1', 'GCF_018499505.1', 'GCF_902845755.1'}\n",
    "\n",
    "print(len(ANI_NEW_SP), print(len(ANI_NEW_CLST)))\n",
    "ALL_DIFF = ANI_NEW_SP.union(ANI_NEW_CLST)\n",
    "\n",
    "ANI_NO_CHANGE = FAIL_NON_BAC_SP_REPS - ALL_DIFF\n",
    "print(len(ANI_NO_CHANGE))"
   ],
   "metadata": {
    "collapsed": false,
    "ExecuteTime": {
     "end_time": "2023-06-18T23:01:40.443234Z",
     "start_time": "2023-06-18T23:01:40.439856Z"
    }
   }
  },
  {
   "cell_type": "code",
   "execution_count": 51,
   "outputs": [],
   "source": [
    "# Find the average distance between the existing rep, and the new rep\n",
    "\n",
    "def calculate_for_genome_set(genomes):\n",
    "    out = list()\n",
    "    for genome in genomes:\n",
    "        cur_rep = D_GID_TO_REP[genome][3:]\n",
    "        if cur_rep not in D_REP_TO_CLOSEST:\n",
    "            # out.append(0.0)\n",
    "            pass\n",
    "        else:\n",
    "            cur_rep_ani = D_REP_TO_CLOSEST[cur_rep][1]\n",
    "            out.append(cur_rep_ani)\n",
    "    return out\n",
    "\n",
    "LST_NO_CHANGE = calculate_for_genome_set(ANI_NO_CHANGE)\n",
    "LST_NEW_SP = calculate_for_genome_set(ANI_NEW_SP)\n",
    "LST_NEW_CLST = calculate_for_genome_set(ANI_NEW_CLST)"
   ],
   "metadata": {
    "collapsed": false,
    "ExecuteTime": {
     "end_time": "2023-06-18T23:24:11.817271Z",
     "start_time": "2023-06-18T23:24:11.794745Z"
    }
   }
  },
  {
   "cell_type": "code",
   "execution_count": 56,
   "outputs": [
    {
     "name": "stdout",
     "output_type": "stream",
     "text": [
      "No change (26,830): u=7.60 +/- 4.02\n",
      "New species cluster (20): u=9.15 +/- 5.14\n",
      "changed species (43): u=4.81 +/- 0.77\n"
     ]
    }
   ],
   "source": [
    "import numpy as np\n",
    "\n",
    "print(f'No change ({len(LST_NO_CHANGE):,}): u={100-np.mean(LST_NO_CHANGE):.2f} +/- {np.std(LST_NO_CHANGE):.2f}')\n",
    "print(f'New species cluster ({len(LST_NEW_SP):,}): u={100-np.mean(LST_NEW_SP):.2f} +/- {np.std(LST_NEW_SP):.2f}')\n",
    "print(f'changed species ({len(LST_NEW_CLST):,}): u={100-np.mean(LST_NEW_CLST):.2f} +/- {np.std(LST_NEW_CLST):.2f}')"
   ],
   "metadata": {
    "collapsed": false,
    "ExecuteTime": {
     "end_time": "2023-06-18T23:40:21.896432Z",
     "start_time": "2023-06-18T23:40:21.881230Z"
    }
   }
  },
  {
   "cell_type": "markdown",
   "source": [],
   "metadata": {
    "collapsed": false
   }
  },
  {
   "cell_type": "code",
   "execution_count": 54,
   "outputs": [
    {
     "data": {
      "text/plain": "<Axes: ylabel='Count'>"
     },
     "execution_count": 54,
     "metadata": {},
     "output_type": "execute_result"
    },
    {
     "data": {
      "text/plain": "<Figure size 1200x400 with 3 Axes>",
      "image/png": "[encoded data removed]"
     },
     "metadata": {},
     "output_type": "display_data"
    }
   ],
   "source": [
    "import seaborn as sns\n",
    "import matplotlib.pyplot as plt\n",
    "\n",
    "fig, (ax1, ax2, ax3) = plt.subplots(1, 3, figsize=(12, 4))\n",
    "\n",
    "sns.histplot(LST_NO_CHANGE, ax=ax1)\n",
    "sns.histplot(LST_NEW_CLST, ax=ax3)\n",
    "sns.histplot(LST_NEW_SP, ax=ax2)\n",
    "\n"
   ],
   "metadata": {
    "collapsed": false,
    "ExecuteTime": {
     "end_time": "2023-06-18T23:37:59.658866Z",
     "start_time": "2023-06-18T23:37:58.830835Z"
    }
   }
  },
  {
   "cell_type": "code",
   "execution_count": 57,
   "outputs": [
    {
     "name": "stdout",
     "output_type": "stream",
     "text": [
      "[19/06/2023 09:48:00] - 2.3MiB = /srv/home/uqamussi/projects/gunc-chimeras/output/external/gtdb.r207.sp_clusters.h5 -> /tmp/gunc-cache/srv/home/uqamussi/projects/gunc-chimeras/output/external/gtdb.r207.sp_clusters.h5\n"
     ]
    },
    {
     "data": {
      "text/plain": "                                        rep_genome  \\\nspecies                                              \ns__0-14-0-10-38-17 sp002774085  GB_GCA_002774085.1   \ns__0-14-0-20-30-16 sp002779075  GB_GCA_002779075.1   \ns__0-14-0-20-30-16 sp903916665  GB_GCA_903916665.1   \ns__0-14-0-20-34-12 sp002779065  GB_GCA_002779065.1   \ns__0-14-0-20-40-13 sp002774285  GB_GCA_002774285.1   \n\n                                                                         taxonomy  \\\nspecies                                                                             \ns__0-14-0-10-38-17 sp002774085  d__Bacteria;p__Patescibacteria;c__Microgenomat...   \ns__0-14-0-20-30-16 sp002779075  d__Archaea;p__Iainarchaeota;c__Iainarchaeia;o_...   \ns__0-14-0-20-30-16 sp903916665  d__Archaea;p__Iainarchaeota;c__Iainarchaeia;o_...   \ns__0-14-0-20-34-12 sp002779065  d__Archaea;p__Iainarchaeota;c__Iainarchaeia;o_...   \ns__0-14-0-20-40-13 sp002774285  d__Bacteria;p__Patescibacteria;c__WWE3;o__0-14...   \n\n                                ani_radius  ani_mean  ani_min  af_mean  \\\nspecies                                                                  \ns__0-14-0-10-38-17 sp002774085        95.0       NaN      NaN      NaN   \ns__0-14-0-20-30-16 sp002779075        95.0       NaN      NaN      NaN   \ns__0-14-0-20-30-16 sp903916665        95.0       NaN      NaN      NaN   \ns__0-14-0-20-34-12 sp002779065        95.0       NaN      NaN      NaN   \ns__0-14-0-20-40-13 sp002774285        95.0       NaN      NaN      NaN   \n\n                                af_min  n_genomes  \nspecies                                            \ns__0-14-0-10-38-17 sp002774085     NaN          1  \ns__0-14-0-20-30-16 sp002779075     NaN          1  \ns__0-14-0-20-30-16 sp903916665     NaN          1  \ns__0-14-0-20-34-12 sp002779065     NaN          1  \ns__0-14-0-20-40-13 sp002774285     NaN          1  ",
      "text/html": "<div>\n<style scoped>\n    .dataframe tbody tr th:only-of-type {\n        vertical-align: middle;\n    }\n\n    .dataframe tbody tr th {\n        vertical-align: top;\n    }\n\n    .dataframe thead th {\n        text-align: right;\n    }\n</style>\n<table border=\"1\" class=\"dataframe\">\n  <thead>\n    <tr style=\"text-align: right;\">\n      <th></th>\n      <th>rep_genome</th>\n      <th>taxonomy</th>\n      <th>ani_radius</th>\n      <th>ani_mean</th>\n      <th>ani_min</th>\n      <th>af_mean</th>\n      <th>af_min</th>\n      <th>n_genomes</th>\n    </tr>\n    <tr>\n      <th>species</th>\n      <th></th>\n      <th></th>\n      <th></th>\n      <th></th>\n      <th></th>\n      <th></th>\n      <th></th>\n      <th></th>\n    </tr>\n  </thead>\n  <tbody>\n    <tr>\n      <th>s__0-14-0-10-38-17 sp002774085</th>\n      <td>GB_GCA_002774085.1</td>\n      <td>d__Bacteria;p__Patescibacteria;c__Microgenomat...</td>\n      <td>95.0</td>\n      <td>NaN</td>\n      <td>NaN</td>\n      <td>NaN</td>\n      <td>NaN</td>\n      <td>1</td>\n    </tr>\n    <tr>\n      <th>s__0-14-0-20-30-16 sp002779075</th>\n      <td>GB_GCA_002779075.1</td>\n      <td>d__Archaea;p__Iainarchaeota;c__Iainarchaeia;o_...</td>\n      <td>95.0</td>\n      <td>NaN</td>\n      <td>NaN</td>\n      <td>NaN</td>\n      <td>NaN</td>\n      <td>1</td>\n    </tr>\n    <tr>\n      <th>s__0-14-0-20-30-16 sp903916665</th>\n      <td>GB_GCA_903916665.1</td>\n      <td>d__Archaea;p__Iainarchaeota;c__Iainarchaeia;o_...</td>\n      <td>95.0</td>\n      <td>NaN</td>\n      <td>NaN</td>\n      <td>NaN</td>\n      <td>NaN</td>\n      <td>1</td>\n    </tr>\n    <tr>\n      <th>s__0-14-0-20-34-12 sp002779065</th>\n      <td>GB_GCA_002779065.1</td>\n      <td>d__Archaea;p__Iainarchaeota;c__Iainarchaeia;o_...</td>\n      <td>95.0</td>\n      <td>NaN</td>\n      <td>NaN</td>\n      <td>NaN</td>\n      <td>NaN</td>\n      <td>1</td>\n    </tr>\n    <tr>\n      <th>s__0-14-0-20-40-13 sp002774285</th>\n      <td>GB_GCA_002774285.1</td>\n      <td>d__Bacteria;p__Patescibacteria;c__WWE3;o__0-14...</td>\n      <td>95.0</td>\n      <td>NaN</td>\n      <td>NaN</td>\n      <td>NaN</td>\n      <td>NaN</td>\n      <td>1</td>\n    </tr>\n  </tbody>\n</table>\n</div>"
     },
     "execution_count": 57,
     "metadata": {},
     "output_type": "execute_result"
    }
   ],
   "source": [
    "from workflow.external.gtdb_sp_clusters import GtdbSpClustersR207\n",
    "\n",
    "# What is the radius of the existing species clusters?\n",
    "DF_SP_CLUST = GtdbSpClustersR207().output().maybe_read_cached()\n",
    "DF_SP_CLUST.head()"
   ],
   "metadata": {
    "collapsed": false,
    "ExecuteTime": {
     "end_time": "2023-06-18T23:48:02.046611Z",
     "start_time": "2023-06-18T23:48:00.350421Z"
    }
   }
  },
  {
   "cell_type": "code",
   "execution_count": 62,
   "outputs": [],
   "source": [
    "def get_gid_to_radius():\n",
    "    out= dict()\n",
    "    for row in DF_SP_CLUST.itertuples():\n",
    "        out[row.rep_genome[3:]] = row.ani_radius\n",
    "    return out\n",
    "\n",
    "\n",
    "D_GID_TO_RADIUS = get_gid_to_radius()"
   ],
   "metadata": {
    "collapsed": false,
    "ExecuteTime": {
     "end_time": "2023-06-18T23:56:43.074355Z",
     "start_time": "2023-06-18T23:56:43.055394Z"
    }
   }
  },
  {
   "cell_type": "code",
   "execution_count": 69,
   "outputs": [
    {
     "name": "stdout",
     "output_type": "stream",
     "text": [
      "--------------------------------------------------------------------------------\n",
      "no change (30,249)\n",
      "Green: u=95.1 +/- 0.2\n",
      "Blue: u=95.1 +/- 0.2\n",
      "--------------------------------------------------------------------------------\n",
      "--------------------------------------------------------------------------------\n",
      "new sp cluster (27)\n",
      "Green: u=95.0 +/- 0.1\n",
      "Blue: u=95.0 +/- 0.1\n",
      "--------------------------------------------------------------------------------\n",
      "--------------------------------------------------------------------------------\n",
      "changed species (45)\n",
      "Green: u=95.3 +/- 0.6\n",
      "Blue: u=95.4 +/- 0.6\n",
      "--------------------------------------------------------------------------------\n"
     ]
    }
   ],
   "source": [
    "# Find the average distance between the existing rep, and the new rep\n",
    "\n",
    "def calculate_for_genome_set_radii(genomes, name):\n",
    "    out_green, out_blue = list(), list()\n",
    "    for genome in genomes:\n",
    "        cur_rep_green_long = D_GID_TO_REP[genome]\n",
    "        cur_rep_green_short = cur_rep_green_long[3:]\n",
    "        radius_green = D_GID_TO_RADIUS[cur_rep_green_short]\n",
    "\n",
    "        out_green.append(radius_green)\n",
    "\n",
    "        if cur_rep_green_short not in D_REP_TO_CLOSEST:\n",
    "            continue\n",
    "        else:\n",
    "            cur_blue_short = D_REP_TO_CLOSEST[cur_rep_green_short][0]\n",
    "            radius_blue = D_GID_TO_RADIUS[cur_blue_short]\n",
    "            out_blue.append(radius_blue)\n",
    "\n",
    "    print('-' * 80)\n",
    "    print(f'{name} ({len(genomes):,})')\n",
    "    print(f'Green: u={np.mean(out_green):.1f} +/- {np.std(out_green):.1f}')\n",
    "    print(f'Blue: u={np.mean(out_blue):.1f} +/- {np.std(out_blue):.1f}')\n",
    "    print('-' * 80)\n",
    "    return\n",
    "\n",
    "\n",
    "calculate_for_genome_set_radii(ANI_NO_CHANGE, 'no change')\n",
    "calculate_for_genome_set_radii(ANI_NEW_SP, 'new sp cluster')\n",
    "calculate_for_genome_set_radii(ANI_NEW_CLST, 'changed species')"
   ],
   "metadata": {
    "collapsed": false,
    "ExecuteTime": {
     "end_time": "2023-06-18T23:59:48.703629Z",
     "start_time": "2023-06-18T23:59:48.656083Z"
    }
   }
  },
  {
   "cell_type": "code",
   "execution_count": 58,
   "outputs": [
    {
     "ename": "NameError",
     "evalue": "name 'LST_NO_CHANGE_RAD' is not defined",
     "output_type": "error",
     "traceback": [
      "\u001B[0;31m---------------------------------------------------------------------------\u001B[0m",
      "\u001B[0;31mNameError\u001B[0m                                 Traceback (most recent call last)",
      "Cell \u001B[0;32mIn[58], line 1\u001B[0m\n\u001B[0;32m----> 1\u001B[0m \u001B[38;5;28mprint\u001B[39m(\u001B[38;5;124mf\u001B[39m\u001B[38;5;124m'\u001B[39m\u001B[38;5;124mNo change (\u001B[39m\u001B[38;5;132;01m{\u001B[39;00m\u001B[38;5;28mlen\u001B[39m(LST_NO_CHANGE_RAD)\u001B[38;5;132;01m:\u001B[39;00m\u001B[38;5;124m,\u001B[39m\u001B[38;5;132;01m}\u001B[39;00m\u001B[38;5;124m): u=\u001B[39m\u001B[38;5;132;01m{\u001B[39;00m\u001B[38;5;241m100\u001B[39m\u001B[38;5;241m-\u001B[39mnp\u001B[38;5;241m.\u001B[39mmean(LST_NO_CHANGE_RAD)\u001B[38;5;132;01m:\u001B[39;00m\u001B[38;5;124m.2f\u001B[39m\u001B[38;5;132;01m}\u001B[39;00m\u001B[38;5;124m +/- \u001B[39m\u001B[38;5;132;01m{\u001B[39;00mnp\u001B[38;5;241m.\u001B[39mstd(LST_NO_CHANGE_RAD)\u001B[38;5;132;01m:\u001B[39;00m\u001B[38;5;124m.2f\u001B[39m\u001B[38;5;132;01m}\u001B[39;00m\u001B[38;5;124m'\u001B[39m)\n\u001B[1;32m      2\u001B[0m \u001B[38;5;28mprint\u001B[39m(\u001B[38;5;124mf\u001B[39m\u001B[38;5;124m'\u001B[39m\u001B[38;5;124mNew species cluster (\u001B[39m\u001B[38;5;132;01m{\u001B[39;00m\u001B[38;5;28mlen\u001B[39m(LST_NEW_SP_RAD)\u001B[38;5;132;01m:\u001B[39;00m\u001B[38;5;124m,\u001B[39m\u001B[38;5;132;01m}\u001B[39;00m\u001B[38;5;124m): u=\u001B[39m\u001B[38;5;132;01m{\u001B[39;00m\u001B[38;5;241m100\u001B[39m\u001B[38;5;241m-\u001B[39mnp\u001B[38;5;241m.\u001B[39mmean(LST_NEW_SP_RAD)\u001B[38;5;132;01m:\u001B[39;00m\u001B[38;5;124m.2f\u001B[39m\u001B[38;5;132;01m}\u001B[39;00m\u001B[38;5;124m +/- \u001B[39m\u001B[38;5;132;01m{\u001B[39;00mnp\u001B[38;5;241m.\u001B[39mstd(LST_NEW_SP_RAD)\u001B[38;5;132;01m:\u001B[39;00m\u001B[38;5;124m.2f\u001B[39m\u001B[38;5;132;01m}\u001B[39;00m\u001B[38;5;124m'\u001B[39m)\n\u001B[1;32m      3\u001B[0m \u001B[38;5;28mprint\u001B[39m(\u001B[38;5;124mf\u001B[39m\u001B[38;5;124m'\u001B[39m\u001B[38;5;124mchanged species (\u001B[39m\u001B[38;5;132;01m{\u001B[39;00m\u001B[38;5;28mlen\u001B[39m(LST_NEW_CLST_RAD)\u001B[38;5;132;01m:\u001B[39;00m\u001B[38;5;124m,\u001B[39m\u001B[38;5;132;01m}\u001B[39;00m\u001B[38;5;124m): u=\u001B[39m\u001B[38;5;132;01m{\u001B[39;00m\u001B[38;5;241m100\u001B[39m\u001B[38;5;241m-\u001B[39mnp\u001B[38;5;241m.\u001B[39mmean(LST_NEW_CLST_RAD)\u001B[38;5;132;01m:\u001B[39;00m\u001B[38;5;124m.2f\u001B[39m\u001B[38;5;132;01m}\u001B[39;00m\u001B[38;5;124m +/- \u001B[39m\u001B[38;5;132;01m{\u001B[39;00mnp\u001B[38;5;241m.\u001B[39mstd(LST_NEW_CLST_RAD)\u001B[38;5;132;01m:\u001B[39;00m\u001B[38;5;124m.2f\u001B[39m\u001B[38;5;132;01m}\u001B[39;00m\u001B[38;5;124m'\u001B[39m)\n",
      "\u001B[0;31mNameError\u001B[0m: name 'LST_NO_CHANGE_RAD' is not defined"
     ]
    }
   ],
   "source": [
    "# Get the average distance from the cleaned genome to its existing rep and then to the new rep\n",
    "\n"
   ],
   "metadata": {
    "collapsed": false,
    "ExecuteTime": {
     "end_time": "2023-06-18T23:50:22.057081Z",
     "start_time": "2023-06-18T23:50:21.994349Z"
    }
   }
  }
 ],
 "metadata": {
  "kernelspec": {
   "display_name": "Python 3",
   "language": "python",
   "name": "python3"
  },
  "language_info": {
   "codemirror_mode": {
    "name": "ipython",
    "version": 2
   },
   "file_extension": ".py",
   "mimetype": "text/x-python",
   "name": "python",
   "nbconvert_exporter": "python",
   "pygments_lexer": "ipython2",
   "version": "2.7.6"
  }
 },
 "nbformat": 4,
 "nbformat_minor": 0
}
