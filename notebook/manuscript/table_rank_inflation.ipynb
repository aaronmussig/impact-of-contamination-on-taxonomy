{
 "cells": [
  {
   "cell_type": "code",
   "execution_count": 4,
   "metadata": {
    "collapsed": true,
    "ExecuteTime": {
     "end_time": "2023-06-19T02:49:24.930598Z",
     "start_time": "2023-06-19T02:49:24.897086Z"
    }
   },
   "outputs": [],
   "source": [
    "import sys\n",
    "\n",
    "\n",
    "sys.path.append(\"/Users/aaron/phd/impact-of-contamination-on-taxonomy\")"
   ]
  },
  {
   "cell_type": "code",
   "execution_count": 5,
   "outputs": [
    {
     "name": "stdout",
     "output_type": "stream",
     "text": [
      "DEBUG = True (Aarons-MacBook-Pro.local)\n"
     ]
    }
   ],
   "source": [
    "from workflow.external.gtdb_metadata import GtdbMetadataR207\n",
    "from workflow.gunc_helper.aggregate_max_css_level_merged import AggregateMaxCssLevelMerged\n",
    "import pandas as pd\n",
    "from collections import defaultdict\n",
    "\n",
    "from workflow.util.taxonomy import calculate_taxonomic_novelty"
   ],
   "metadata": {
    "collapsed": false,
    "ExecuteTime": {
     "end_time": "2023-06-19T02:49:25.533734Z",
     "start_time": "2023-06-19T02:49:24.899632Z"
    }
   }
  },
  {
   "cell_type": "code",
   "execution_count": 6,
   "outputs": [
    {
     "data": {
      "text/plain": "                 ambiguous_bases  checkm_completeness  checkm_contamination  \\\ngid                                                                           \nGCA_000006155.2             1916                93.12                   0.0   \nGCA_000007325.1                1                99.95                   0.0   \nGCA_000007385.1                0                99.82                   0.0   \nGCA_000008085.1                0                73.13                   0.0   \nGCA_000008885.1                0               100.00                   0.0   \n\n                 checkm_marker_count             checkm_marker_lineage  \\\ngid                                                                      \nGCA_000006155.2                 1171              g__Bacillus (UID902)   \nGCA_000007325.1                  149             k__Bacteria (UID2329)   \nGCA_000007385.1                  481  c__Gammaproteobacteria (UID4202)   \nGCA_000008085.1                  149                 k__Archaea (UID2)   \nGCA_000008885.1                  134             k__Bacteria (UID2495)   \n\n                 checkm_marker_set_count  checkm_strain_heterogeneity  \\\ngid                                                                     \nGCA_000006155.2                      324                          0.0   \nGCA_000007325.1                       89                          0.0   \nGCA_000007385.1                      276                          0.0   \nGCA_000008085.1                      107                          0.0   \nGCA_000008885.1                       80                          0.0   \n\n                 coding_bases  coding_density  contig_count  ...  \\\ngid                                                          ...   \nGCA_000006155.2       4305660       80.178992           426  ...   \nGCA_000007325.1       1973459       90.754610             1  ...   \nGCA_000007385.1       4190634       84.805944             1  ...   \nGCA_000008085.1        462902       94.299480             1  ...   \nGCA_000008885.1        617456       87.831079             2  ...   \n\n                 gtdb_type_species_of_genus  \\\ngid                                           \nGCA_000006155.2                           f   \nGCA_000007325.1                           t   \nGCA_000007385.1                           f   \nGCA_000008085.1                           t   \nGCA_000008885.1                           f   \n\n                                                     ncbi_taxonomy  \\\ngid                                                                  \nGCA_000006155.2  d__Bacteria;p__Firmicutes;c__Bacilli;o__Bacill...   \nGCA_000007325.1  d__Bacteria;p__Fusobacteria;c__Fusobacteriia;o...   \nGCA_000007385.1  d__Bacteria;p__Proteobacteria;c__Gammaproteoba...   \nGCA_000008085.1  d__Archaea;p__Nanoarchaeota;c__;o__Nanoarchaea...   \nGCA_000008885.1  d__Bacteria;p__Proteobacteria;c__Gammaproteoba...   \n\n                                          ncbi_taxonomy_unfiltered  \\\ngid                                                                  \nGCA_000006155.2  d__Bacteria;x__Terrabacteria group;p__Firmicut...   \nGCA_000007325.1  d__Bacteria;p__Fusobacteria;c__Fusobacteriia;o...   \nGCA_000007385.1  d__Bacteria;p__Proteobacteria;c__Gammaproteoba...   \nGCA_000008085.1  d__Archaea;x__DPANN group;p__Nanoarchaeota;o__...   \nGCA_000008885.1  d__Bacteria;p__Proteobacteria;c__Gammaproteoba...   \n\n                      domain             phylum                   class  \\\ngid                                                                       \nGCA_000006155.2  d__Bacteria      p__Firmicutes              c__Bacilli   \nGCA_000007325.1  d__Bacteria  p__Fusobacteriota        c__Fusobacteriia   \nGCA_000007385.1  d__Bacteria  p__Proteobacteria  c__Gammaproteobacteria   \nGCA_000008085.1   d__Archaea   p__Nanoarchaeota         c__Nanoarchaeia   \nGCA_000008885.1  d__Bacteria  p__Proteobacteria  c__Gammaproteobacteria   \n\n                                 order                   family  \\\ngid                                                               \nGCA_000006155.2          o__Bacillales         f__Bacillaceae_G   \nGCA_000007325.1     o__Fusobacteriales      f__Fusobacteriaceae   \nGCA_000007385.1     o__Xanthomonadales      f__Xanthomonadaceae   \nGCA_000008085.1      o__Nanoarchaeales       f__Nanoarchaeaceae   \nGCA_000008885.1  o__Enterobacterales_A  f__Enterobacteriaceae_A   \n\n                             genus                          species  \ngid                                                                  \nGCA_000006155.2      g__Bacillus_A          s__Bacillus_A anthracis  \nGCA_000007325.1   g__Fusobacterium       s__Fusobacterium nucleatum  \nGCA_000007385.1     g__Xanthomonas            s__Xanthomonas oryzae  \nGCA_000008085.1    g__Nanoarchaeum         s__Nanoarchaeum equitans  \nGCA_000008885.1  g__Wigglesworthia  s__Wigglesworthia glossinidia_A  \n\n[5 rows x 28 columns]",
      "text/html": "<div>\n<style scoped>\n    .dataframe tbody tr th:only-of-type {\n        vertical-align: middle;\n    }\n\n    .dataframe tbody tr th {\n        vertical-align: top;\n    }\n\n    .dataframe thead th {\n        text-align: right;\n    }\n</style>\n<table border=\"1\" class=\"dataframe\">\n  <thead>\n    <tr style=\"text-align: right;\">\n      <th></th>\n      <th>ambiguous_bases</th>\n      <th>checkm_completeness</th>\n      <th>checkm_contamination</th>\n      <th>checkm_marker_count</th>\n      <th>checkm_marker_lineage</th>\n      <th>checkm_marker_set_count</th>\n      <th>checkm_strain_heterogeneity</th>\n      <th>coding_bases</th>\n      <th>coding_density</th>\n      <th>contig_count</th>\n      <th>...</th>\n      <th>gtdb_type_species_of_genus</th>\n      <th>ncbi_taxonomy</th>\n      <th>ncbi_taxonomy_unfiltered</th>\n      <th>domain</th>\n      <th>phylum</th>\n      <th>class</th>\n      <th>order</th>\n      <th>family</th>\n      <th>genus</th>\n      <th>species</th>\n    </tr>\n    <tr>\n      <th>gid</th>\n      <th></th>\n      <th></th>\n      <th></th>\n      <th></th>\n      <th></th>\n      <th></th>\n      <th></th>\n      <th></th>\n      <th></th>\n      <th></th>\n      <th></th>\n      <th></th>\n      <th></th>\n      <th></th>\n      <th></th>\n      <th></th>\n      <th></th>\n      <th></th>\n      <th></th>\n      <th></th>\n      <th></th>\n    </tr>\n  </thead>\n  <tbody>\n    <tr>\n      <th>GCA_000006155.2</th>\n      <td>1916</td>\n      <td>93.12</td>\n      <td>0.0</td>\n      <td>1171</td>\n      <td>g__Bacillus (UID902)</td>\n      <td>324</td>\n      <td>0.0</td>\n      <td>4305660</td>\n      <td>80.178992</td>\n      <td>426</td>\n      <td>...</td>\n      <td>f</td>\n      <td>d__Bacteria;p__Firmicutes;c__Bacilli;o__Bacill...</td>\n      <td>d__Bacteria;x__Terrabacteria group;p__Firmicut...</td>\n      <td>d__Bacteria</td>\n      <td>p__Firmicutes</td>\n      <td>c__Bacilli</td>\n      <td>o__Bacillales</td>\n      <td>f__Bacillaceae_G</td>\n      <td>g__Bacillus_A</td>\n      <td>s__Bacillus_A anthracis</td>\n    </tr>\n    <tr>\n      <th>GCA_000007325.1</th>\n      <td>1</td>\n      <td>99.95</td>\n      <td>0.0</td>\n      <td>149</td>\n      <td>k__Bacteria (UID2329)</td>\n      <td>89</td>\n      <td>0.0</td>\n      <td>1973459</td>\n      <td>90.754610</td>\n      <td>1</td>\n      <td>...</td>\n      <td>t</td>\n      <td>d__Bacteria;p__Fusobacteria;c__Fusobacteriia;o...</td>\n      <td>d__Bacteria;p__Fusobacteria;c__Fusobacteriia;o...</td>\n      <td>d__Bacteria</td>\n      <td>p__Fusobacteriota</td>\n      <td>c__Fusobacteriia</td>\n      <td>o__Fusobacteriales</td>\n      <td>f__Fusobacteriaceae</td>\n      <td>g__Fusobacterium</td>\n      <td>s__Fusobacterium nucleatum</td>\n    </tr>\n    <tr>\n      <th>GCA_000007385.1</th>\n      <td>0</td>\n      <td>99.82</td>\n      <td>0.0</td>\n      <td>481</td>\n      <td>c__Gammaproteobacteria (UID4202)</td>\n      <td>276</td>\n      <td>0.0</td>\n      <td>4190634</td>\n      <td>84.805944</td>\n      <td>1</td>\n      <td>...</td>\n      <td>f</td>\n      <td>d__Bacteria;p__Proteobacteria;c__Gammaproteoba...</td>\n      <td>d__Bacteria;p__Proteobacteria;c__Gammaproteoba...</td>\n      <td>d__Bacteria</td>\n      <td>p__Proteobacteria</td>\n      <td>c__Gammaproteobacteria</td>\n      <td>o__Xanthomonadales</td>\n      <td>f__Xanthomonadaceae</td>\n      <td>g__Xanthomonas</td>\n      <td>s__Xanthomonas oryzae</td>\n    </tr>\n    <tr>\n      <th>GCA_000008085.1</th>\n      <td>0</td>\n      <td>73.13</td>\n      <td>0.0</td>\n      <td>149</td>\n      <td>k__Archaea (UID2)</td>\n      <td>107</td>\n      <td>0.0</td>\n      <td>462902</td>\n      <td>94.299480</td>\n      <td>1</td>\n      <td>...</td>\n      <td>t</td>\n      <td>d__Archaea;p__Nanoarchaeota;c__;o__Nanoarchaea...</td>\n      <td>d__Archaea;x__DPANN group;p__Nanoarchaeota;o__...</td>\n      <td>d__Archaea</td>\n      <td>p__Nanoarchaeota</td>\n      <td>c__Nanoarchaeia</td>\n      <td>o__Nanoarchaeales</td>\n      <td>f__Nanoarchaeaceae</td>\n      <td>g__Nanoarchaeum</td>\n      <td>s__Nanoarchaeum equitans</td>\n    </tr>\n    <tr>\n      <th>GCA_000008885.1</th>\n      <td>0</td>\n      <td>100.00</td>\n      <td>0.0</td>\n      <td>134</td>\n      <td>k__Bacteria (UID2495)</td>\n      <td>80</td>\n      <td>0.0</td>\n      <td>617456</td>\n      <td>87.831079</td>\n      <td>2</td>\n      <td>...</td>\n      <td>f</td>\n      <td>d__Bacteria;p__Proteobacteria;c__Gammaproteoba...</td>\n      <td>d__Bacteria;p__Proteobacteria;c__Gammaproteoba...</td>\n      <td>d__Bacteria</td>\n      <td>p__Proteobacteria</td>\n      <td>c__Gammaproteobacteria</td>\n      <td>o__Enterobacterales_A</td>\n      <td>f__Enterobacteriaceae_A</td>\n      <td>g__Wigglesworthia</td>\n      <td>s__Wigglesworthia glossinidia_A</td>\n    </tr>\n  </tbody>\n</table>\n<p>5 rows × 28 columns</p>\n</div>"
     },
     "execution_count": 6,
     "metadata": {},
     "output_type": "execute_result"
    }
   ],
   "source": [
    "\n",
    "DF_META = GtdbMetadataR207().output().read_cached()\n",
    "DF_META.head()"
   ],
   "metadata": {
    "collapsed": false,
    "ExecuteTime": {
     "end_time": "2023-06-19T02:49:31.866747Z",
     "start_time": "2023-06-19T02:49:25.534087Z"
    }
   }
  },
  {
   "cell_type": "code",
   "execution_count": 7,
   "outputs": [
    {
     "data": {
      "text/plain": "                 n_genes_called  n_genes_mapped  n_contigs taxonomic_level  \\\ngid                                                                          \nGCA_000143435.1            2189            2110          4           genus   \nGCA_000153745.1            2202            2165          2          family   \nGCA_000155005.1            6879            6313         84           genus   \nGCA_000161815.1            4499            4335          8           genus   \nGCA_000166735.2            3414            3247        793           genus   \n\n                 proportion_genes_retained_in_major_clades  \\\ngid                                                          \nGCA_000143435.1                                       0.89   \nGCA_000153745.1                                       0.92   \nGCA_000155005.1                                       0.87   \nGCA_000161815.1                                       0.80   \nGCA_000166735.2                                       0.94   \n\n                 genes_retained_index  clade_separation_score  \\\ngid                                                             \nGCA_000143435.1                  0.86                    0.55   \nGCA_000153745.1                  0.90                    0.49   \nGCA_000155005.1                  0.79                    0.79   \nGCA_000161815.1                  0.77                    0.50   \nGCA_000166735.2                  0.90                    0.57   \n\n                 contamination_portion  n_effective_surplus_clades  \\\ngid                                                                  \nGCA_000143435.1                   0.03                        0.06   \nGCA_000153745.1                   0.06                        0.12   \nGCA_000155005.1                   0.10                        0.22   \nGCA_000161815.1                   0.19                        0.50   \nGCA_000166735.2                   0.02                        0.05   \n\n                 mean_hit_identity  reference_representation_score  pass.GUNC  \\\ngid                                                                             \nGCA_000143435.1               0.95                            0.82      False   \nGCA_000153745.1               0.67                            0.61      False   \nGCA_000155005.1               0.97                            0.77      False   \nGCA_000161815.1               0.95                            0.74      False   \nGCA_000166735.2               0.93                            0.83      False   \n\n                     source  \ngid                          \nGCA_000143435.1        gtdb  \nGCA_000153745.1  progenomes  \nGCA_000155005.1        gtdb  \nGCA_000161815.1  progenomes  \nGCA_000166735.2  progenomes  ",
      "text/html": "<div>\n<style scoped>\n    .dataframe tbody tr th:only-of-type {\n        vertical-align: middle;\n    }\n\n    .dataframe tbody tr th {\n        vertical-align: top;\n    }\n\n    .dataframe thead th {\n        text-align: right;\n    }\n</style>\n<table border=\"1\" class=\"dataframe\">\n  <thead>\n    <tr style=\"text-align: right;\">\n      <th></th>\n      <th>n_genes_called</th>\n      <th>n_genes_mapped</th>\n      <th>n_contigs</th>\n      <th>taxonomic_level</th>\n      <th>proportion_genes_retained_in_major_clades</th>\n      <th>genes_retained_index</th>\n      <th>clade_separation_score</th>\n      <th>contamination_portion</th>\n      <th>n_effective_surplus_clades</th>\n      <th>mean_hit_identity</th>\n      <th>reference_representation_score</th>\n      <th>pass.GUNC</th>\n      <th>source</th>\n    </tr>\n    <tr>\n      <th>gid</th>\n      <th></th>\n      <th></th>\n      <th></th>\n      <th></th>\n      <th></th>\n      <th></th>\n      <th></th>\n      <th></th>\n      <th></th>\n      <th></th>\n      <th></th>\n      <th></th>\n      <th></th>\n    </tr>\n  </thead>\n  <tbody>\n    <tr>\n      <th>GCA_000143435.1</th>\n      <td>2189</td>\n      <td>2110</td>\n      <td>4</td>\n      <td>genus</td>\n      <td>0.89</td>\n      <td>0.86</td>\n      <td>0.55</td>\n      <td>0.03</td>\n      <td>0.06</td>\n      <td>0.95</td>\n      <td>0.82</td>\n      <td>False</td>\n      <td>gtdb</td>\n    </tr>\n    <tr>\n      <th>GCA_000153745.1</th>\n      <td>2202</td>\n      <td>2165</td>\n      <td>2</td>\n      <td>family</td>\n      <td>0.92</td>\n      <td>0.90</td>\n      <td>0.49</td>\n      <td>0.06</td>\n      <td>0.12</td>\n      <td>0.67</td>\n      <td>0.61</td>\n      <td>False</td>\n      <td>progenomes</td>\n    </tr>\n    <tr>\n      <th>GCA_000155005.1</th>\n      <td>6879</td>\n      <td>6313</td>\n      <td>84</td>\n      <td>genus</td>\n      <td>0.87</td>\n      <td>0.79</td>\n      <td>0.79</td>\n      <td>0.10</td>\n      <td>0.22</td>\n      <td>0.97</td>\n      <td>0.77</td>\n      <td>False</td>\n      <td>gtdb</td>\n    </tr>\n    <tr>\n      <th>GCA_000161815.1</th>\n      <td>4499</td>\n      <td>4335</td>\n      <td>8</td>\n      <td>genus</td>\n      <td>0.80</td>\n      <td>0.77</td>\n      <td>0.50</td>\n      <td>0.19</td>\n      <td>0.50</td>\n      <td>0.95</td>\n      <td>0.74</td>\n      <td>False</td>\n      <td>progenomes</td>\n    </tr>\n    <tr>\n      <th>GCA_000166735.2</th>\n      <td>3414</td>\n      <td>3247</td>\n      <td>793</td>\n      <td>genus</td>\n      <td>0.94</td>\n      <td>0.90</td>\n      <td>0.57</td>\n      <td>0.02</td>\n      <td>0.05</td>\n      <td>0.93</td>\n      <td>0.83</td>\n      <td>False</td>\n      <td>progenomes</td>\n    </tr>\n  </tbody>\n</table>\n</div>"
     },
     "execution_count": 7,
     "metadata": {},
     "output_type": "execute_result"
    }
   ],
   "source": [
    "DF_CSS = AggregateMaxCssLevelMerged().output().read_cached()\n",
    "DF_CSS.head()"
   ],
   "metadata": {
    "collapsed": false,
    "ExecuteTime": {
     "end_time": "2023-06-19T02:49:32.058336Z",
     "start_time": "2023-06-19T02:49:31.870132Z"
    }
   }
  },
  {
   "cell_type": "code",
   "execution_count": 8,
   "outputs": [],
   "source": [
    "FAIL_GIDS = set(DF_CSS.index)"
   ],
   "metadata": {
    "collapsed": false,
    "ExecuteTime": {
     "end_time": "2023-06-19T02:49:32.058550Z",
     "start_time": "2023-06-19T02:49:31.955862Z"
    }
   }
  },
  {
   "cell_type": "code",
   "execution_count": 9,
   "outputs": [],
   "source": [
    "D_GID_TO_TAX = DF_META['gtdb_taxonomy'].to_dict()"
   ],
   "metadata": {
    "collapsed": false,
    "ExecuteTime": {
     "end_time": "2023-06-19T02:49:32.247392Z",
     "start_time": "2023-06-19T02:49:31.981208Z"
    }
   }
  },
  {
   "cell_type": "code",
   "execution_count": 10,
   "outputs": [],
   "source": [
    "\n",
    "def generate_sp_gids():\n",
    "    out = defaultdict(set)\n",
    "    for gid, row in DF_META.iterrows():\n",
    "        out[row['species']].add(gid)\n",
    "    return out\n",
    "\n",
    "D_SP_TO_GIDS = generate_sp_gids()"
   ],
   "metadata": {
    "collapsed": false,
    "ExecuteTime": {
     "end_time": "2023-06-19T02:49:47.180175Z",
     "start_time": "2023-06-19T02:49:32.198582Z"
    }
   }
  },
  {
   "cell_type": "code",
   "execution_count": 11,
   "outputs": [],
   "source": [
    "\n",
    "def generate_rank_gids():\n",
    "    out = defaultdict(set)\n",
    "    ranks = ('domain', 'phylum', 'class', 'order', 'family', 'genus', 'species')\n",
    "    for gid, row in DF_META.iterrows():\n",
    "        for rank in ranks:\n",
    "            out[row[rank]].add(gid)\n",
    "    return out\n",
    "\n",
    "D_RANK_TO_GIDS = generate_rank_gids()"
   ],
   "metadata": {
    "collapsed": false,
    "ExecuteTime": {
     "end_time": "2023-06-19T02:50:06.582908Z",
     "start_time": "2023-06-19T02:49:47.180395Z"
    }
   }
  },
  {
   "cell_type": "code",
   "execution_count": 12,
   "outputs": [
    {
     "data": {
      "text/plain": "                           species  n_gids     set\n0          s__Bacillus_A anthracis       1  subset\n1       s__Fusobacterium nucleatum       0    none\n2            s__Xanthomonas oryzae       5  subset\n3         s__Nanoarchaeum equitans       0    none\n4  s__Wigglesworthia glossinidia_A       0    none",
      "text/html": "<div>\n<style scoped>\n    .dataframe tbody tr th:only-of-type {\n        vertical-align: middle;\n    }\n\n    .dataframe tbody tr th {\n        vertical-align: top;\n    }\n\n    .dataframe thead th {\n        text-align: right;\n    }\n</style>\n<table border=\"1\" class=\"dataframe\">\n  <thead>\n    <tr style=\"text-align: right;\">\n      <th></th>\n      <th>species</th>\n      <th>n_gids</th>\n      <th>set</th>\n    </tr>\n  </thead>\n  <tbody>\n    <tr>\n      <th>0</th>\n      <td>s__Bacillus_A anthracis</td>\n      <td>1</td>\n      <td>subset</td>\n    </tr>\n    <tr>\n      <th>1</th>\n      <td>s__Fusobacterium nucleatum</td>\n      <td>0</td>\n      <td>none</td>\n    </tr>\n    <tr>\n      <th>2</th>\n      <td>s__Xanthomonas oryzae</td>\n      <td>5</td>\n      <td>subset</td>\n    </tr>\n    <tr>\n      <th>3</th>\n      <td>s__Nanoarchaeum equitans</td>\n      <td>0</td>\n      <td>none</td>\n    </tr>\n    <tr>\n      <th>4</th>\n      <td>s__Wigglesworthia glossinidia_A</td>\n      <td>0</td>\n      <td>none</td>\n    </tr>\n  </tbody>\n</table>\n</div>"
     },
     "execution_count": 12,
     "metadata": {},
     "output_type": "execute_result"
    }
   ],
   "source": [
    "\n",
    "def generate_n_sp_with_all_failed():\n",
    "    out = list()\n",
    "    for sp, gids in D_SP_TO_GIDS.items():\n",
    "        n_fail = len(gids.intersection(FAIL_GIDS))\n",
    "        if n_fail == len(gids):\n",
    "            out.append({\n",
    "                'species': sp,\n",
    "                'n_gids': n_fail,\n",
    "                'set': 'all_fail'\n",
    "            })\n",
    "        elif n_fail > 0:\n",
    "            out.append({\n",
    "                'species': sp,\n",
    "                'n_gids': n_fail,\n",
    "                'set': 'subset'\n",
    "            })\n",
    "        else:\n",
    "            out.append({\n",
    "                'species': sp,\n",
    "                'n_gids': 0,\n",
    "                'set': 'none'\n",
    "            })\n",
    "\n",
    "\n",
    "    return pd.DataFrame(out)\n",
    "\n",
    "DF_SP_FAILED = generate_n_sp_with_all_failed()\n",
    "DF_SP_FAILED.head()"
   ],
   "metadata": {
    "collapsed": false,
    "ExecuteTime": {
     "end_time": "2023-06-19T02:50:06.705195Z",
     "start_time": "2023-06-19T02:50:06.595239Z"
    }
   }
  },
  {
   "cell_type": "code",
   "execution_count": 13,
   "outputs": [
    {
     "data": {
      "text/plain": "                           species  n_gids  n_fail  pct_fail\n0          s__Bacillus_A anthracis     417       1  0.239808\n1       s__Fusobacterium nucleatum      13       0  0.000000\n2            s__Xanthomonas oryzae     364       5  1.373626\n3         s__Nanoarchaeum equitans       1       0  0.000000\n4  s__Wigglesworthia glossinidia_A       1       0  0.000000",
      "text/html": "<div>\n<style scoped>\n    .dataframe tbody tr th:only-of-type {\n        vertical-align: middle;\n    }\n\n    .dataframe tbody tr th {\n        vertical-align: top;\n    }\n\n    .dataframe thead th {\n        text-align: right;\n    }\n</style>\n<table border=\"1\" class=\"dataframe\">\n  <thead>\n    <tr style=\"text-align: right;\">\n      <th></th>\n      <th>species</th>\n      <th>n_gids</th>\n      <th>n_fail</th>\n      <th>pct_fail</th>\n    </tr>\n  </thead>\n  <tbody>\n    <tr>\n      <th>0</th>\n      <td>s__Bacillus_A anthracis</td>\n      <td>417</td>\n      <td>1</td>\n      <td>0.239808</td>\n    </tr>\n    <tr>\n      <th>1</th>\n      <td>s__Fusobacterium nucleatum</td>\n      <td>13</td>\n      <td>0</td>\n      <td>0.000000</td>\n    </tr>\n    <tr>\n      <th>2</th>\n      <td>s__Xanthomonas oryzae</td>\n      <td>364</td>\n      <td>5</td>\n      <td>1.373626</td>\n    </tr>\n    <tr>\n      <th>3</th>\n      <td>s__Nanoarchaeum equitans</td>\n      <td>1</td>\n      <td>0</td>\n      <td>0.000000</td>\n    </tr>\n    <tr>\n      <th>4</th>\n      <td>s__Wigglesworthia glossinidia_A</td>\n      <td>1</td>\n      <td>0</td>\n      <td>0.000000</td>\n    </tr>\n  </tbody>\n</table>\n</div>"
     },
     "execution_count": 13,
     "metadata": {},
     "output_type": "execute_result"
    }
   ],
   "source": [
    "def generate_df_with_counts():\n",
    "    out = list()\n",
    "    for sp, gids in D_SP_TO_GIDS.items():\n",
    "        n_fail = len(gids.intersection(FAIL_GIDS))\n",
    "        out.append({\n",
    "            'species': sp,\n",
    "            'n_gids': len(gids),\n",
    "            'n_fail': n_fail,\n",
    "            'pct_fail': n_fail / len(gids) * 100\n",
    "        })\n",
    "    return pd.DataFrame(out)\n",
    "\n",
    "DF_SP_COUNTS = generate_df_with_counts()\n",
    "DF_SP_COUNTS.head()"
   ],
   "metadata": {
    "collapsed": false,
    "ExecuteTime": {
     "end_time": "2023-06-19T02:50:06.848879Z",
     "start_time": "2023-06-19T02:50:06.752817Z"
    }
   }
  },
  {
   "cell_type": "code",
   "execution_count": 14,
   "outputs": [],
   "source": [
    "def calc_for_pct(pct, domain):\n",
    "\n",
    "    # Obtain all species in the particular domain\n",
    "    if domain is None:\n",
    "        sp_in_domain = set(DF_META['species'].unique())\n",
    "        df_domain = DF_META\n",
    "    else:\n",
    "        sp_in_domain = set(DF_META[DF_META['domain'] == domain]['species'].unique())\n",
    "        df_domain = DF_META[DF_META['domain'] == domain]\n",
    "\n",
    "\n",
    "    # Obtain the species that fit the filtering criteria\n",
    "    species_that_meet_pct = {x.species for x in DF_SP_COUNTS.itertuples() if x.pct_fail >= pct}\n",
    "    species_to_search = sp_in_domain.intersection(species_that_meet_pct)\n",
    "\n",
    "    # Obtain all genomes that should be excluded from the search\n",
    "    gids_to_exclude = set()\n",
    "    for species in species_to_search:\n",
    "        gids_in_sp = D_SP_TO_GIDS[species]\n",
    "        gids_to_exclude.update(gids_in_sp)\n",
    "\n",
    "    # Find the highest rank that has at least one genome that isn't removed\n",
    "    result = set()\n",
    "    for species in species_to_search:\n",
    "        gids_in_sp = D_SP_TO_GIDS[species]\n",
    "        tax_string = D_GID_TO_TAX[list(gids_in_sp)[0]].split(';')\n",
    "\n",
    "        for taxon in reversed(tax_string):\n",
    "            gids_in_taxon = D_RANK_TO_GIDS[taxon]\n",
    "            n_keep = len(gids_in_taxon.difference(gids_to_exclude))\n",
    "            if n_keep == 0:\n",
    "                result.add(taxon)  # completely lost\n",
    "            else:\n",
    "                break  # stop searching\n",
    "\n",
    "    d_prefix_to_name = {\n",
    "        'd': 'domain',\n",
    "        'p': 'phylum',\n",
    "        'c': 'class',\n",
    "        'o': 'order',\n",
    "        'f': 'family',\n",
    "        'g': 'genus',\n",
    "        's': 'species'\n",
    "    }\n",
    "\n",
    "    n_rank_lost = defaultdict(lambda: 0)\n",
    "    for taxon in result:\n",
    "        n_rank_lost[d_prefix_to_name[taxon[0]]] += 1\n",
    "\n",
    "    print(n_rank_lost)\n",
    "\n",
    "    # Calculate the baseline taxonomic novelty\n",
    "    # d_gid_to_tax_novelty, d_tax_novelty_to_gid = calculate_taxonomic_novelty(d_gid_to_tax)\n",
    "    ranks = ('phylum', 'class', 'order', 'family', 'genus', 'species')\n",
    "    d_rank_to_count = defaultdict(lambda: 0)\n",
    "    for rank in ranks:\n",
    "        count_in_rank = len(df_domain[rank].unique())\n",
    "        d_rank_to_count[rank] = count_in_rank\n",
    "\n",
    "    # Calculate the inflation\n",
    "    print('')\n",
    "    print(f'{\"Taxonomic Inflation for Domain:\":>30} {domain} {pct}%')\n",
    "    print(f'{\"Rank\":>8} {\"Before\":>8} {\"After\":>8} {\"%\":>4}')\n",
    "    for rank in ranks:\n",
    "        n_baseline = d_rank_to_count[rank]\n",
    "        n_lost = n_rank_lost.get(rank, 0)\n",
    "\n",
    "        v1 = n_baseline\n",
    "        v2 = n_baseline - n_lost\n",
    "        if v1 == 0:\n",
    "            pct_change = 0\n",
    "        else:\n",
    "            pct_change = (v2-v1)/abs(v2) * 100\n",
    "        cur_n_gids = f'{v1:,}'\n",
    "        cur_delta = f'{v2:,}'\n",
    "        cur_pct_change = f'{pct_change:.1f}'\n",
    "        print(f'{rank:>8} {cur_n_gids:>8} {cur_delta:>8} = {cur_pct_change:>4}')\n",
    "    return\n"
   ],
   "metadata": {
    "collapsed": false,
    "ExecuteTime": {
     "end_time": "2023-06-19T02:50:06.858418Z",
     "start_time": "2023-06-19T02:50:06.849329Z"
    }
   }
  },
  {
   "cell_type": "code",
   "execution_count": 15,
   "outputs": [
    {
     "name": "stdout",
     "output_type": "stream",
     "text": [
      "defaultdict(<function calc_for_pct.<locals>.<lambda> at 0x7f9cebc1a0d0>, {'species': 257, 'genus': 34, 'family': 4, 'order': 1})\n",
      "\n",
      "Taxonomic Inflation for Domain: d__Archaea 100%\n",
      "    Rank   Before    After    %\n",
      "  phylum       20       20 =  0.0\n",
      "   class       53       53 =  0.0\n",
      "   order      133      132 = -0.8\n",
      "  family      457      453 = -0.9\n",
      "   genus    1,344    1,310 = -2.6\n",
      " species    3,412    3,155 = -8.1\n",
      "defaultdict(<function calc_for_pct.<locals>.<lambda> at 0x7f9cebc1a0d0>, {'species': 433, 'family': 9, 'genus': 79, 'order': 2})\n",
      "\n",
      "Taxonomic Inflation for Domain: d__Archaea 50%\n",
      "    Rank   Before    After    %\n",
      "  phylum       20       20 =  0.0\n",
      "   class       53       53 =  0.0\n",
      "   order      133      131 = -1.5\n",
      "  family      457      448 = -2.0\n",
      "   genus    1,344    1,265 = -6.2\n",
      " species    3,412    2,979 = -14.5\n",
      "defaultdict(<function calc_for_pct.<locals>.<lambda> at 0x7f9d288ae940>, {'species': 3701, 'genus': 532, 'order': 7, 'family': 43, 'class': 1})\n",
      "\n",
      "Taxonomic Inflation for Domain: d__Bacteria 100%\n",
      "    Rank   Before    After    %\n",
      "  phylum      169      169 =  0.0\n",
      "   class      428      427 = -0.2\n",
      "   order    1,460    1,453 = -0.5\n",
      "  family    3,650    3,607 = -1.2\n",
      "   genus   15,342   14,810 = -3.6\n",
      " species   62,291   58,590 = -6.3\n",
      "defaultdict(<function calc_for_pct.<locals>.<lambda> at 0x7f9d288ae940>, {'species': 5918, 'genus': 904, 'family': 88, 'order': 20, 'class': 1})\n",
      "\n",
      "Taxonomic Inflation for Domain: d__Bacteria 50%\n",
      "    Rank   Before    After    %\n",
      "  phylum      169      169 =  0.0\n",
      "   class      428      427 = -0.2\n",
      "   order    1,460    1,440 = -1.4\n",
      "  family    3,650    3,562 = -2.5\n",
      "   genus   15,342   14,438 = -6.3\n",
      " species   62,291   56,373 = -10.5\n",
      "defaultdict(<function calc_for_pct.<locals>.<lambda> at 0x7f9bf0c02ee0>, {'species': 3958, 'genus': 566, 'order': 8, 'family': 47, 'class': 1})\n",
      "\n",
      "Taxonomic Inflation for Domain: None 100%\n",
      "    Rank   Before    After    %\n",
      "  phylum      189      189 =  0.0\n",
      "   class      481      480 = -0.2\n",
      "   order    1,593    1,585 = -0.5\n",
      "  family    4,107    4,060 = -1.2\n",
      "   genus   16,686   16,120 = -3.5\n",
      " species   65,703   61,745 = -6.4\n",
      "defaultdict(<function calc_for_pct.<locals>.<lambda> at 0x7f9bf0c02f70>, {'species': 6351, 'genus': 983, 'family': 97, 'order': 22, 'class': 1})\n",
      "\n",
      "Taxonomic Inflation for Domain: None 50%\n",
      "    Rank   Before    After    %\n",
      "  phylum      189      189 =  0.0\n",
      "   class      481      480 = -0.2\n",
      "   order    1,593    1,571 = -1.4\n",
      "  family    4,107    4,010 = -2.4\n",
      "   genus   16,686   15,703 = -6.3\n",
      " species   65,703   59,352 = -10.7\n"
     ]
    }
   ],
   "source": [
    "calc_for_pct(100, 'd__Archaea')\n",
    "calc_for_pct(50, 'd__Archaea')\n",
    "calc_for_pct(100, 'd__Bacteria')\n",
    "calc_for_pct(50, 'd__Bacteria')\n",
    "calc_for_pct(100, None)\n",
    "calc_for_pct(50, None)"
   ],
   "metadata": {
    "collapsed": false,
    "ExecuteTime": {
     "end_time": "2023-06-19T02:50:10.203270Z",
     "start_time": "2023-06-19T02:50:06.880054Z"
    }
   }
  },
  {
   "cell_type": "code",
   "execution_count": 16,
   "outputs": [
    {
     "name": "stdout",
     "output_type": "stream",
     "text": [
      "106\n"
     ]
    }
   ],
   "source": [
    "ANI_NEW_SP = {'GCA_001509115.1', 'GCA_001695755.1', 'GCA_002728285.1', 'GCA_002731855.1', 'GCA_008668585.1', 'GCA_008668795.1', 'GCA_009493725.1', 'GCA_011523145.1', 'GCA_016707075.1', 'GCA_017394825.1', 'GCA_017465765.1', 'GCA_017515185.1', 'GCA_018056875.1', 'GCA_018239885.1', 'GCA_018363345.1', 'GCA_900759525.1', 'GCA_900761055.1', 'GCA_900765305.1', 'GCA_900765645.1', 'GCA_902528895.1', 'GCA_902593295.1', 'GCA_903846615.1', 'GCA_903931905.1', 'GCA_905200745.1', 'GCA_905214645.1', 'GCF_000698005.1', 'GCF_002929465.1'}\n",
    "\n",
    "ANI_NEW_CLST = {'GCA_002291775.1', 'GCA_002703565.1', 'GCA_003487585.1', 'GCA_007096555.1', 'GCA_011523095.1', 'GCA_013213925.1', 'GCA_016939315.1', 'GCA_018370815.1', 'GCA_018383955.1', 'GCA_900548685.1', 'GCA_900549575.1', 'GCA_900756095.1', 'GCA_900760075.1', 'GCA_902363945.1', 'GCA_902388545.1', 'GCA_902539685.1', 'GCA_902568005.1', 'GCA_902573475.1', 'GCA_902619155.1', 'GCA_905193315.1', 'GCA_905208535.1', 'GCA_905212495.1', 'GCA_905214135.1', 'GCA_905214255.1', 'GCA_905215365.1', 'GCF_000964075.1', 'GCF_001812365.1', 'GCF_001815585.1', 'GCF_002035805.1', 'GCF_002835625.1', 'GCF_002912425.1', 'GCF_002913635.1', 'GCF_003462845.1', 'GCF_003495765.1', 'GCF_008269775.1', 'GCF_009493905.1', 'GCF_009494015.1', 'GCF_009649595.1', 'GCF_014284905.1', 'GCF_015667745.1', 'GCF_016806285.1', 'GCF_016806405.1', 'GCF_017151305.1', 'GCF_018499505.1', 'GCF_902845755.1'}\n",
    "\n",
    "REP_EXCLUDE = {'GCA_001819395.1', 'GCA_002427105.1', 'GCA_002782005.1', 'GCA_002788135.1', 'GCA_007120155.1', 'GCA_009724975.1', 'GCA_011524575.1', 'GCA_012510895.1', 'GCA_012512335.1', 'GCA_012518535.1', 'GCA_012522165.1', 'GCA_012838915.1', 'GCA_012964215.1', 'GCA_013335435.1', 'GCA_013360865.1', 'GCA_014380705.1', 'GCA_014879635.1', 'GCA_016203935.1', 'GCA_016204155.1', 'GCA_016841555.1', 'GCA_017512705.1', 'GCA_017525015.1', 'GCA_018899995.1', 'GCA_018901555.1', 'GCA_903873725.1', 'GCA_903883985.1', 'GCF_000317125.1', 'GCF_000471645.3', 'GCF_003144315.1', 'GCF_005222705.1', 'GCF_009795845.1', 'GCF_013096935.1', 'GCF_016584105.1', 'GCF_016584115.1'}\n",
    "\n",
    "\n",
    "ALL_EXCLUDE = ANI_NEW_SP | ANI_NEW_CLST | REP_EXCLUDE\n",
    "print(len(ALL_EXCLUDE))"
   ],
   "metadata": {
    "collapsed": false,
    "ExecuteTime": {
     "end_time": "2023-06-19T02:50:10.214801Z",
     "start_time": "2023-06-19T02:50:10.210732Z"
    }
   }
  },
  {
   "cell_type": "code",
   "execution_count": 17,
   "outputs": [],
   "source": [
    "def calc_for_pct_actual(domain):\n",
    "\n",
    "    pct = 100\n",
    "\n",
    "    # Obtain all species in the particular domain\n",
    "    if domain is None:\n",
    "        sp_in_domain = set(DF_META['species'].unique())\n",
    "        df_domain = DF_META\n",
    "    else:\n",
    "        sp_in_domain = set(DF_META[DF_META['domain'] == domain]['species'].unique())\n",
    "        df_domain = DF_META[DF_META['domain'] == domain]\n",
    "\n",
    "    # Obtain all genomes that should be excluded from the search\n",
    "    gids_to_exclude = ALL_EXCLUDE\n",
    "\n",
    "    # Find the highest rank that has at least one genome that isn't removed\n",
    "    result = set()\n",
    "    for species, gids_in_sp in D_SP_TO_GIDS.items():\n",
    "        if species not in sp_in_domain:\n",
    "            continue\n",
    "\n",
    "        tax_string = D_GID_TO_TAX[list(gids_in_sp)[0]].split(';')\n",
    "\n",
    "        for taxon in reversed(tax_string):\n",
    "            gids_in_taxon = D_RANK_TO_GIDS[taxon]\n",
    "            n_keep = len(gids_in_taxon.difference(gids_to_exclude))\n",
    "            if n_keep == 0:\n",
    "                result.add(taxon)  # completely lost\n",
    "            else:\n",
    "                break  # stop searching\n",
    "\n",
    "    d_prefix_to_name = {\n",
    "        'd': 'domain',\n",
    "        'p': 'phylum',\n",
    "        'c': 'class',\n",
    "        'o': 'order',\n",
    "        'f': 'family',\n",
    "        'g': 'genus',\n",
    "        's': 'species'\n",
    "    }\n",
    "\n",
    "    n_rank_lost = defaultdict(lambda: 0)\n",
    "    for taxon in result:\n",
    "        n_rank_lost[d_prefix_to_name[taxon[0]]] += 1\n",
    "\n",
    "    print(n_rank_lost)\n",
    "\n",
    "    # Calculate the baseline taxonomic novelty\n",
    "    # d_gid_to_tax_novelty, d_tax_novelty_to_gid = calculate_taxonomic_novelty(d_gid_to_tax)\n",
    "    ranks = ('phylum', 'class', 'order', 'family', 'genus', 'species')\n",
    "    d_rank_to_count = defaultdict(lambda: 0)\n",
    "    for rank in ranks:\n",
    "        count_in_rank = len(df_domain[rank].unique())\n",
    "        d_rank_to_count[rank] = count_in_rank\n",
    "\n",
    "    # Calculate the inflation\n",
    "    print('')\n",
    "    print(f'{\"Taxonomic Inflation for Domain:\":>30} {domain} {pct}%')\n",
    "    print(f'{\"Rank\":>8} {\"Before\":>8} {\"After\":>8} {\"%\":>4}')\n",
    "    for rank in ranks:\n",
    "        n_baseline = d_rank_to_count[rank]\n",
    "        n_lost = n_rank_lost.get(rank, 0)\n",
    "\n",
    "        v1 = n_baseline\n",
    "        v2 = n_baseline - n_lost\n",
    "        if v1 == 0:\n",
    "            pct_change = 0\n",
    "        else:\n",
    "            pct_change = (v2-v1)/abs(v2) * 100\n",
    "        cur_n_gids = f'{v1:,}'\n",
    "        cur_delta = f'{v2:,}'\n",
    "        cur_pct_change = f'{pct_change:.1f}'\n",
    "        print(f'{rank:>8} {cur_n_gids:>8} {cur_delta:>8} = {cur_pct_change:>4}')\n",
    "    return\n"
   ],
   "metadata": {
    "collapsed": false,
    "ExecuteTime": {
     "end_time": "2023-06-19T02:50:10.242118Z",
     "start_time": "2023-06-19T02:50:10.214995Z"
    }
   }
  },
  {
   "cell_type": "code",
   "execution_count": 20,
   "outputs": [
    {
     "name": "stdout",
     "output_type": "stream",
     "text": [
      "defaultdict(<function calc_for_pct_actual.<locals>.<lambda> at 0x7f9d096eb040>, {'species': 24, 'genus': 6, 'family': 1, 'order': 1})\n",
      "\n",
      "Taxonomic Inflation for Domain: d__Bacteria 100%\n",
      "    Rank   Before    After    %\n",
      "  phylum      169      169 =  0.0\n",
      "   class      428      428 =  0.0\n",
      "   order    1,460    1,459 = -0.1\n",
      "  family    3,650    3,649 = -0.0\n",
      "   genus   15,342   15,336 = -0.0\n",
      " species   62,291   62,267 = -0.0\n"
     ]
    }
   ],
   "source": [
    "calc_for_pct_actual('d__Bacteria')"
   ],
   "metadata": {
    "collapsed": false
   }
  }
 ],
 "metadata": {
  "kernelspec": {
   "display_name": "Python 3",
   "language": "python",
   "name": "python3"
  },
  "language_info": {
   "codemirror_mode": {
    "name": "ipython",
    "version": 2
   },
   "file_extension": ".py",
   "mimetype": "text/x-python",
   "name": "python",
   "nbconvert_exporter": "python",
   "pygments_lexer": "ipython2",
   "version": "2.7.6"
  }
 },
 "nbformat": 4,
 "nbformat_minor": 0
}
