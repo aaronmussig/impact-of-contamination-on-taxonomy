{
 "cells": [
  {
   "cell_type": "code",
   "execution_count": 40,
   "outputs": [],
   "source": [
    "from workflow.external.gtdb_metadata import GtdbMetadataR207\n",
    "from workflow.gunc.aggregate_max_css_level_merged import AggregateMaxCssLevelMerged\n",
    "import pandas as pd\n",
    "import seaborn as sns\n",
    "from scipy.stats import mannwhitneyu, ttest_ind, ttest_1samp, ranksums, ks_2samp\n",
    "import matplotlib.pyplot as plt"
   ],
   "metadata": {
    "collapsed": false
   }
  },
  {
   "cell_type": "code",
   "execution_count": 25,
   "outputs": [
    {
     "name": "stdout",
     "output_type": "stream",
     "text": [
      "(317542, 28)\n"
     ]
    },
    {
     "data": {
      "text/plain": "                 ambiguous_bases  checkm_completeness  checkm_contamination  \\\ngid                                                                           \nGCA_000006155.2             1916                93.12                   0.0   \nGCA_000007325.1                1                99.95                   0.0   \nGCA_000007385.1                0                99.82                   0.0   \nGCA_000008085.1                0                73.13                   0.0   \nGCA_000008885.1                0               100.00                   0.0   \n\n                 checkm_marker_count             checkm_marker_lineage  \\\ngid                                                                      \nGCA_000006155.2                 1171              g__Bacillus (UID902)   \nGCA_000007325.1                  149             k__Bacteria (UID2329)   \nGCA_000007385.1                  481  c__Gammaproteobacteria (UID4202)   \nGCA_000008085.1                  149                 k__Archaea (UID2)   \nGCA_000008885.1                  134             k__Bacteria (UID2495)   \n\n                 checkm_marker_set_count  checkm_strain_heterogeneity  \\\ngid                                                                     \nGCA_000006155.2                      324                          0.0   \nGCA_000007325.1                       89                          0.0   \nGCA_000007385.1                      276                          0.0   \nGCA_000008085.1                      107                          0.0   \nGCA_000008885.1                       80                          0.0   \n\n                 coding_bases  coding_density  contig_count  ...  \\\ngid                                                          ...   \nGCA_000006155.2       4305660       80.178992           426  ...   \nGCA_000007325.1       1973459       90.754610             1  ...   \nGCA_000007385.1       4190634       84.805944             1  ...   \nGCA_000008085.1        462902       94.299480             1  ...   \nGCA_000008885.1        617456       87.831079             2  ...   \n\n                 gtdb_type_species_of_genus  \\\ngid                                           \nGCA_000006155.2                           f   \nGCA_000007325.1                           t   \nGCA_000007385.1                           f   \nGCA_000008085.1                           t   \nGCA_000008885.1                           f   \n\n                                                     ncbi_taxonomy  \\\ngid                                                                  \nGCA_000006155.2  d__Bacteria;p__Firmicutes;c__Bacilli;o__Bacill...   \nGCA_000007325.1  d__Bacteria;p__Fusobacteria;c__Fusobacteriia;o...   \nGCA_000007385.1  d__Bacteria;p__Proteobacteria;c__Gammaproteoba...   \nGCA_000008085.1  d__Archaea;p__Nanoarchaeota;c__;o__Nanoarchaea...   \nGCA_000008885.1  d__Bacteria;p__Proteobacteria;c__Gammaproteoba...   \n\n                                          ncbi_taxonomy_unfiltered  \\\ngid                                                                  \nGCA_000006155.2  d__Bacteria;x__Terrabacteria group;p__Firmicut...   \nGCA_000007325.1  d__Bacteria;p__Fusobacteria;c__Fusobacteriia;o...   \nGCA_000007385.1  d__Bacteria;p__Proteobacteria;c__Gammaproteoba...   \nGCA_000008085.1  d__Archaea;x__DPANN group;p__Nanoarchaeota;o__...   \nGCA_000008885.1  d__Bacteria;p__Proteobacteria;c__Gammaproteoba...   \n\n                      domain             phylum                   class  \\\ngid                                                                       \nGCA_000006155.2  d__Bacteria      p__Firmicutes              c__Bacilli   \nGCA_000007325.1  d__Bacteria  p__Fusobacteriota        c__Fusobacteriia   \nGCA_000007385.1  d__Bacteria  p__Proteobacteria  c__Gammaproteobacteria   \nGCA_000008085.1   d__Archaea   p__Nanoarchaeota         c__Nanoarchaeia   \nGCA_000008885.1  d__Bacteria  p__Proteobacteria  c__Gammaproteobacteria   \n\n                                 order                   family  \\\ngid                                                               \nGCA_000006155.2          o__Bacillales         f__Bacillaceae_G   \nGCA_000007325.1     o__Fusobacteriales      f__Fusobacteriaceae   \nGCA_000007385.1     o__Xanthomonadales      f__Xanthomonadaceae   \nGCA_000008085.1      o__Nanoarchaeales       f__Nanoarchaeaceae   \nGCA_000008885.1  o__Enterobacterales_A  f__Enterobacteriaceae_A   \n\n                             genus                          species  \ngid                                                                  \nGCA_000006155.2      g__Bacillus_A          s__Bacillus_A anthracis  \nGCA_000007325.1   g__Fusobacterium       s__Fusobacterium nucleatum  \nGCA_000007385.1     g__Xanthomonas            s__Xanthomonas oryzae  \nGCA_000008085.1    g__Nanoarchaeum         s__Nanoarchaeum equitans  \nGCA_000008885.1  g__Wigglesworthia  s__Wigglesworthia glossinidia_A  \n\n[5 rows x 28 columns]",
      "text/html": "<div>\n<style scoped>\n    .dataframe tbody tr th:only-of-type {\n        vertical-align: middle;\n    }\n\n    .dataframe tbody tr th {\n        vertical-align: top;\n    }\n\n    .dataframe thead th {\n        text-align: right;\n    }\n</style>\n<table border=\"1\" class=\"dataframe\">\n  <thead>\n    <tr style=\"text-align: right;\">\n      <th></th>\n      <th>ambiguous_bases</th>\n      <th>checkm_completeness</th>\n      <th>checkm_contamination</th>\n      <th>checkm_marker_count</th>\n      <th>checkm_marker_lineage</th>\n      <th>checkm_marker_set_count</th>\n      <th>checkm_strain_heterogeneity</th>\n      <th>coding_bases</th>\n      <th>coding_density</th>\n      <th>contig_count</th>\n      <th>...</th>\n      <th>gtdb_type_species_of_genus</th>\n      <th>ncbi_taxonomy</th>\n      <th>ncbi_taxonomy_unfiltered</th>\n      <th>domain</th>\n      <th>phylum</th>\n      <th>class</th>\n      <th>order</th>\n      <th>family</th>\n      <th>genus</th>\n      <th>species</th>\n    </tr>\n    <tr>\n      <th>gid</th>\n      <th></th>\n      <th></th>\n      <th></th>\n      <th></th>\n      <th></th>\n      <th></th>\n      <th></th>\n      <th></th>\n      <th></th>\n      <th></th>\n      <th></th>\n      <th></th>\n      <th></th>\n      <th></th>\n      <th></th>\n      <th></th>\n      <th></th>\n      <th></th>\n      <th></th>\n      <th></th>\n      <th></th>\n    </tr>\n  </thead>\n  <tbody>\n    <tr>\n      <th>GCA_000006155.2</th>\n      <td>1916</td>\n      <td>93.12</td>\n      <td>0.0</td>\n      <td>1171</td>\n      <td>g__Bacillus (UID902)</td>\n      <td>324</td>\n      <td>0.0</td>\n      <td>4305660</td>\n      <td>80.178992</td>\n      <td>426</td>\n      <td>...</td>\n      <td>f</td>\n      <td>d__Bacteria;p__Firmicutes;c__Bacilli;o__Bacill...</td>\n      <td>d__Bacteria;x__Terrabacteria group;p__Firmicut...</td>\n      <td>d__Bacteria</td>\n      <td>p__Firmicutes</td>\n      <td>c__Bacilli</td>\n      <td>o__Bacillales</td>\n      <td>f__Bacillaceae_G</td>\n      <td>g__Bacillus_A</td>\n      <td>s__Bacillus_A anthracis</td>\n    </tr>\n    <tr>\n      <th>GCA_000007325.1</th>\n      <td>1</td>\n      <td>99.95</td>\n      <td>0.0</td>\n      <td>149</td>\n      <td>k__Bacteria (UID2329)</td>\n      <td>89</td>\n      <td>0.0</td>\n      <td>1973459</td>\n      <td>90.754610</td>\n      <td>1</td>\n      <td>...</td>\n      <td>t</td>\n      <td>d__Bacteria;p__Fusobacteria;c__Fusobacteriia;o...</td>\n      <td>d__Bacteria;p__Fusobacteria;c__Fusobacteriia;o...</td>\n      <td>d__Bacteria</td>\n      <td>p__Fusobacteriota</td>\n      <td>c__Fusobacteriia</td>\n      <td>o__Fusobacteriales</td>\n      <td>f__Fusobacteriaceae</td>\n      <td>g__Fusobacterium</td>\n      <td>s__Fusobacterium nucleatum</td>\n    </tr>\n    <tr>\n      <th>GCA_000007385.1</th>\n      <td>0</td>\n      <td>99.82</td>\n      <td>0.0</td>\n      <td>481</td>\n      <td>c__Gammaproteobacteria (UID4202)</td>\n      <td>276</td>\n      <td>0.0</td>\n      <td>4190634</td>\n      <td>84.805944</td>\n      <td>1</td>\n      <td>...</td>\n      <td>f</td>\n      <td>d__Bacteria;p__Proteobacteria;c__Gammaproteoba...</td>\n      <td>d__Bacteria;p__Proteobacteria;c__Gammaproteoba...</td>\n      <td>d__Bacteria</td>\n      <td>p__Proteobacteria</td>\n      <td>c__Gammaproteobacteria</td>\n      <td>o__Xanthomonadales</td>\n      <td>f__Xanthomonadaceae</td>\n      <td>g__Xanthomonas</td>\n      <td>s__Xanthomonas oryzae</td>\n    </tr>\n    <tr>\n      <th>GCA_000008085.1</th>\n      <td>0</td>\n      <td>73.13</td>\n      <td>0.0</td>\n      <td>149</td>\n      <td>k__Archaea (UID2)</td>\n      <td>107</td>\n      <td>0.0</td>\n      <td>462902</td>\n      <td>94.299480</td>\n      <td>1</td>\n      <td>...</td>\n      <td>t</td>\n      <td>d__Archaea;p__Nanoarchaeota;c__;o__Nanoarchaea...</td>\n      <td>d__Archaea;x__DPANN group;p__Nanoarchaeota;o__...</td>\n      <td>d__Archaea</td>\n      <td>p__Nanoarchaeota</td>\n      <td>c__Nanoarchaeia</td>\n      <td>o__Nanoarchaeales</td>\n      <td>f__Nanoarchaeaceae</td>\n      <td>g__Nanoarchaeum</td>\n      <td>s__Nanoarchaeum equitans</td>\n    </tr>\n    <tr>\n      <th>GCA_000008885.1</th>\n      <td>0</td>\n      <td>100.00</td>\n      <td>0.0</td>\n      <td>134</td>\n      <td>k__Bacteria (UID2495)</td>\n      <td>80</td>\n      <td>0.0</td>\n      <td>617456</td>\n      <td>87.831079</td>\n      <td>2</td>\n      <td>...</td>\n      <td>f</td>\n      <td>d__Bacteria;p__Proteobacteria;c__Gammaproteoba...</td>\n      <td>d__Bacteria;p__Proteobacteria;c__Gammaproteoba...</td>\n      <td>d__Bacteria</td>\n      <td>p__Proteobacteria</td>\n      <td>c__Gammaproteobacteria</td>\n      <td>o__Enterobacterales_A</td>\n      <td>f__Enterobacteriaceae_A</td>\n      <td>g__Wigglesworthia</td>\n      <td>s__Wigglesworthia glossinidia_A</td>\n    </tr>\n  </tbody>\n</table>\n<p>5 rows × 28 columns</p>\n</div>"
     },
     "execution_count": 25,
     "metadata": {},
     "output_type": "execute_result"
    }
   ],
   "source": [
    "DF_META = GtdbMetadataR207().output().read_cached()\n",
    "print(DF_META.shape)\n",
    "DF_META.head()"
   ],
   "metadata": {
    "collapsed": false
   }
  },
  {
   "cell_type": "code",
   "execution_count": 26,
   "outputs": [
    {
     "name": "stdout",
     "output_type": "stream",
     "text": [
      "(35723, 13)\n"
     ]
    },
    {
     "data": {
      "text/plain": "                 n_genes_called  n_genes_mapped  n_contigs taxonomic_level  \\\ngid                                                                          \nGCA_000143435.1            2189            2110          4           genus   \nGCA_000153745.1            2202            2165          2          family   \nGCA_000155005.1            6879            6313         84           genus   \nGCA_000161815.1            4499            4335          8           genus   \nGCA_000166735.2            3414            3247        793           genus   \n\n                 proportion_genes_retained_in_major_clades  \\\ngid                                                          \nGCA_000143435.1                                       0.89   \nGCA_000153745.1                                       0.92   \nGCA_000155005.1                                       0.87   \nGCA_000161815.1                                       0.80   \nGCA_000166735.2                                       0.94   \n\n                 genes_retained_index  clade_separation_score  \\\ngid                                                             \nGCA_000143435.1                  0.86                    0.55   \nGCA_000153745.1                  0.90                    0.49   \nGCA_000155005.1                  0.79                    0.79   \nGCA_000161815.1                  0.77                    0.50   \nGCA_000166735.2                  0.90                    0.57   \n\n                 contamination_portion  n_effective_surplus_clades  \\\ngid                                                                  \nGCA_000143435.1                   0.03                        0.06   \nGCA_000153745.1                   0.06                        0.12   \nGCA_000155005.1                   0.10                        0.22   \nGCA_000161815.1                   0.19                        0.50   \nGCA_000166735.2                   0.02                        0.05   \n\n                 mean_hit_identity  reference_representation_score  pass.GUNC  \\\ngid                                                                             \nGCA_000143435.1               0.95                            0.82      False   \nGCA_000153745.1               0.67                            0.61      False   \nGCA_000155005.1               0.97                            0.77      False   \nGCA_000161815.1               0.95                            0.74      False   \nGCA_000166735.2               0.93                            0.83      False   \n\n                     source  \ngid                          \nGCA_000143435.1        gtdb  \nGCA_000153745.1  progenomes  \nGCA_000155005.1        gtdb  \nGCA_000161815.1  progenomes  \nGCA_000166735.2  progenomes  ",
      "text/html": "<div>\n<style scoped>\n    .dataframe tbody tr th:only-of-type {\n        vertical-align: middle;\n    }\n\n    .dataframe tbody tr th {\n        vertical-align: top;\n    }\n\n    .dataframe thead th {\n        text-align: right;\n    }\n</style>\n<table border=\"1\" class=\"dataframe\">\n  <thead>\n    <tr style=\"text-align: right;\">\n      <th></th>\n      <th>n_genes_called</th>\n      <th>n_genes_mapped</th>\n      <th>n_contigs</th>\n      <th>taxonomic_level</th>\n      <th>proportion_genes_retained_in_major_clades</th>\n      <th>genes_retained_index</th>\n      <th>clade_separation_score</th>\n      <th>contamination_portion</th>\n      <th>n_effective_surplus_clades</th>\n      <th>mean_hit_identity</th>\n      <th>reference_representation_score</th>\n      <th>pass.GUNC</th>\n      <th>source</th>\n    </tr>\n    <tr>\n      <th>gid</th>\n      <th></th>\n      <th></th>\n      <th></th>\n      <th></th>\n      <th></th>\n      <th></th>\n      <th></th>\n      <th></th>\n      <th></th>\n      <th></th>\n      <th></th>\n      <th></th>\n      <th></th>\n    </tr>\n  </thead>\n  <tbody>\n    <tr>\n      <th>GCA_000143435.1</th>\n      <td>2189</td>\n      <td>2110</td>\n      <td>4</td>\n      <td>genus</td>\n      <td>0.89</td>\n      <td>0.86</td>\n      <td>0.55</td>\n      <td>0.03</td>\n      <td>0.06</td>\n      <td>0.95</td>\n      <td>0.82</td>\n      <td>False</td>\n      <td>gtdb</td>\n    </tr>\n    <tr>\n      <th>GCA_000153745.1</th>\n      <td>2202</td>\n      <td>2165</td>\n      <td>2</td>\n      <td>family</td>\n      <td>0.92</td>\n      <td>0.90</td>\n      <td>0.49</td>\n      <td>0.06</td>\n      <td>0.12</td>\n      <td>0.67</td>\n      <td>0.61</td>\n      <td>False</td>\n      <td>progenomes</td>\n    </tr>\n    <tr>\n      <th>GCA_000155005.1</th>\n      <td>6879</td>\n      <td>6313</td>\n      <td>84</td>\n      <td>genus</td>\n      <td>0.87</td>\n      <td>0.79</td>\n      <td>0.79</td>\n      <td>0.10</td>\n      <td>0.22</td>\n      <td>0.97</td>\n      <td>0.77</td>\n      <td>False</td>\n      <td>gtdb</td>\n    </tr>\n    <tr>\n      <th>GCA_000161815.1</th>\n      <td>4499</td>\n      <td>4335</td>\n      <td>8</td>\n      <td>genus</td>\n      <td>0.80</td>\n      <td>0.77</td>\n      <td>0.50</td>\n      <td>0.19</td>\n      <td>0.50</td>\n      <td>0.95</td>\n      <td>0.74</td>\n      <td>False</td>\n      <td>progenomes</td>\n    </tr>\n    <tr>\n      <th>GCA_000166735.2</th>\n      <td>3414</td>\n      <td>3247</td>\n      <td>793</td>\n      <td>genus</td>\n      <td>0.94</td>\n      <td>0.90</td>\n      <td>0.57</td>\n      <td>0.02</td>\n      <td>0.05</td>\n      <td>0.93</td>\n      <td>0.83</td>\n      <td>False</td>\n      <td>progenomes</td>\n    </tr>\n  </tbody>\n</table>\n</div>"
     },
     "execution_count": 26,
     "metadata": {},
     "output_type": "execute_result"
    }
   ],
   "source": [
    "DF_CSS = AggregateMaxCssLevelMerged().output().read_cached()\n",
    "print(DF_CSS.shape)\n",
    "DF_CSS.head()"
   ],
   "metadata": {
    "collapsed": false
   }
  },
  {
   "cell_type": "code",
   "execution_count": 27,
   "outputs": [
    {
     "name": "stdout",
     "output_type": "stream",
     "text": [
      "(317542, 41)\n"
     ]
    },
    {
     "data": {
      "text/plain": "                 ambiguous_bases  checkm_completeness  checkm_contamination  \\\ngid                                                                           \nGCA_000006155.2             1916                93.12                   0.0   \nGCA_000007325.1                1                99.95                   0.0   \nGCA_000007385.1                0                99.82                   0.0   \nGCA_000008085.1                0                73.13                   0.0   \nGCA_000008885.1                0               100.00                   0.0   \n\n                 checkm_marker_count             checkm_marker_lineage  \\\ngid                                                                      \nGCA_000006155.2                 1171              g__Bacillus (UID902)   \nGCA_000007325.1                  149             k__Bacteria (UID2329)   \nGCA_000007385.1                  481  c__Gammaproteobacteria (UID4202)   \nGCA_000008085.1                  149                 k__Archaea (UID2)   \nGCA_000008885.1                  134             k__Bacteria (UID2495)   \n\n                 checkm_marker_set_count  checkm_strain_heterogeneity  \\\ngid                                                                     \nGCA_000006155.2                      324                          0.0   \nGCA_000007325.1                       89                          0.0   \nGCA_000007385.1                      276                          0.0   \nGCA_000008085.1                      107                          0.0   \nGCA_000008885.1                       80                          0.0   \n\n                 coding_bases  coding_density  contig_count  ...  \\\ngid                                                          ...   \nGCA_000006155.2       4305660       80.178992           426  ...   \nGCA_000007325.1       1973459       90.754610             1  ...   \nGCA_000007385.1       4190634       84.805944             1  ...   \nGCA_000008085.1        462902       94.299480             1  ...   \nGCA_000008885.1        617456       87.831079             2  ...   \n\n                 taxonomic_level  proportion_genes_retained_in_major_clades  \\\ngid                                                                           \nGCA_000006155.2              NaN                                        NaN   \nGCA_000007325.1              NaN                                        NaN   \nGCA_000007385.1              NaN                                        NaN   \nGCA_000008085.1              NaN                                        NaN   \nGCA_000008885.1              NaN                                        NaN   \n\n                 genes_retained_index clade_separation_score  \\\ngid                                                            \nGCA_000006155.2                   NaN                    NaN   \nGCA_000007325.1                   NaN                    NaN   \nGCA_000007385.1                   NaN                    NaN   \nGCA_000008085.1                   NaN                    NaN   \nGCA_000008885.1                   NaN                    NaN   \n\n                contamination_portion n_effective_surplus_clades  \\\ngid                                                                \nGCA_000006155.2                   NaN                        NaN   \nGCA_000007325.1                   NaN                        NaN   \nGCA_000007385.1                   NaN                        NaN   \nGCA_000008085.1                   NaN                        NaN   \nGCA_000008885.1                   NaN                        NaN   \n\n                mean_hit_identity reference_representation_score pass.GUNC  \\\ngid                                                                          \nGCA_000006155.2               NaN                            NaN       NaN   \nGCA_000007325.1               NaN                            NaN       NaN   \nGCA_000007385.1               NaN                            NaN       NaN   \nGCA_000008085.1               NaN                            NaN       NaN   \nGCA_000008885.1               NaN                            NaN       NaN   \n\n                source  \ngid                     \nGCA_000006155.2    NaN  \nGCA_000007325.1    NaN  \nGCA_000007385.1    NaN  \nGCA_000008085.1    NaN  \nGCA_000008885.1    NaN  \n\n[5 rows x 41 columns]",
      "text/html": "<div>\n<style scoped>\n    .dataframe tbody tr th:only-of-type {\n        vertical-align: middle;\n    }\n\n    .dataframe tbody tr th {\n        vertical-align: top;\n    }\n\n    .dataframe thead th {\n        text-align: right;\n    }\n</style>\n<table border=\"1\" class=\"dataframe\">\n  <thead>\n    <tr style=\"text-align: right;\">\n      <th></th>\n      <th>ambiguous_bases</th>\n      <th>checkm_completeness</th>\n      <th>checkm_contamination</th>\n      <th>checkm_marker_count</th>\n      <th>checkm_marker_lineage</th>\n      <th>checkm_marker_set_count</th>\n      <th>checkm_strain_heterogeneity</th>\n      <th>coding_bases</th>\n      <th>coding_density</th>\n      <th>contig_count</th>\n      <th>...</th>\n      <th>taxonomic_level</th>\n      <th>proportion_genes_retained_in_major_clades</th>\n      <th>genes_retained_index</th>\n      <th>clade_separation_score</th>\n      <th>contamination_portion</th>\n      <th>n_effective_surplus_clades</th>\n      <th>mean_hit_identity</th>\n      <th>reference_representation_score</th>\n      <th>pass.GUNC</th>\n      <th>source</th>\n    </tr>\n    <tr>\n      <th>gid</th>\n      <th></th>\n      <th></th>\n      <th></th>\n      <th></th>\n      <th></th>\n      <th></th>\n      <th></th>\n      <th></th>\n      <th></th>\n      <th></th>\n      <th></th>\n      <th></th>\n      <th></th>\n      <th></th>\n      <th></th>\n      <th></th>\n      <th></th>\n      <th></th>\n      <th></th>\n      <th></th>\n      <th></th>\n    </tr>\n  </thead>\n  <tbody>\n    <tr>\n      <th>GCA_000006155.2</th>\n      <td>1916</td>\n      <td>93.12</td>\n      <td>0.0</td>\n      <td>1171</td>\n      <td>g__Bacillus (UID902)</td>\n      <td>324</td>\n      <td>0.0</td>\n      <td>4305660</td>\n      <td>80.178992</td>\n      <td>426</td>\n      <td>...</td>\n      <td>NaN</td>\n      <td>NaN</td>\n      <td>NaN</td>\n      <td>NaN</td>\n      <td>NaN</td>\n      <td>NaN</td>\n      <td>NaN</td>\n      <td>NaN</td>\n      <td>NaN</td>\n      <td>NaN</td>\n    </tr>\n    <tr>\n      <th>GCA_000007325.1</th>\n      <td>1</td>\n      <td>99.95</td>\n      <td>0.0</td>\n      <td>149</td>\n      <td>k__Bacteria (UID2329)</td>\n      <td>89</td>\n      <td>0.0</td>\n      <td>1973459</td>\n      <td>90.754610</td>\n      <td>1</td>\n      <td>...</td>\n      <td>NaN</td>\n      <td>NaN</td>\n      <td>NaN</td>\n      <td>NaN</td>\n      <td>NaN</td>\n      <td>NaN</td>\n      <td>NaN</td>\n      <td>NaN</td>\n      <td>NaN</td>\n      <td>NaN</td>\n    </tr>\n    <tr>\n      <th>GCA_000007385.1</th>\n      <td>0</td>\n      <td>99.82</td>\n      <td>0.0</td>\n      <td>481</td>\n      <td>c__Gammaproteobacteria (UID4202)</td>\n      <td>276</td>\n      <td>0.0</td>\n      <td>4190634</td>\n      <td>84.805944</td>\n      <td>1</td>\n      <td>...</td>\n      <td>NaN</td>\n      <td>NaN</td>\n      <td>NaN</td>\n      <td>NaN</td>\n      <td>NaN</td>\n      <td>NaN</td>\n      <td>NaN</td>\n      <td>NaN</td>\n      <td>NaN</td>\n      <td>NaN</td>\n    </tr>\n    <tr>\n      <th>GCA_000008085.1</th>\n      <td>0</td>\n      <td>73.13</td>\n      <td>0.0</td>\n      <td>149</td>\n      <td>k__Archaea (UID2)</td>\n      <td>107</td>\n      <td>0.0</td>\n      <td>462902</td>\n      <td>94.299480</td>\n      <td>1</td>\n      <td>...</td>\n      <td>NaN</td>\n      <td>NaN</td>\n      <td>NaN</td>\n      <td>NaN</td>\n      <td>NaN</td>\n      <td>NaN</td>\n      <td>NaN</td>\n      <td>NaN</td>\n      <td>NaN</td>\n      <td>NaN</td>\n    </tr>\n    <tr>\n      <th>GCA_000008885.1</th>\n      <td>0</td>\n      <td>100.00</td>\n      <td>0.0</td>\n      <td>134</td>\n      <td>k__Bacteria (UID2495)</td>\n      <td>80</td>\n      <td>0.0</td>\n      <td>617456</td>\n      <td>87.831079</td>\n      <td>2</td>\n      <td>...</td>\n      <td>NaN</td>\n      <td>NaN</td>\n      <td>NaN</td>\n      <td>NaN</td>\n      <td>NaN</td>\n      <td>NaN</td>\n      <td>NaN</td>\n      <td>NaN</td>\n      <td>NaN</td>\n      <td>NaN</td>\n    </tr>\n  </tbody>\n</table>\n<p>5 rows × 41 columns</p>\n</div>"
     },
     "execution_count": 27,
     "metadata": {},
     "output_type": "execute_result"
    }
   ],
   "source": [
    "DF_MERGED = DF_META.merge(DF_CSS, left_index=True, right_index=True, how='left')\n",
    "print(DF_MERGED.shape)\n",
    "DF_MERGED.head()"
   ],
   "metadata": {
    "collapsed": false
   }
  },
  {
   "cell_type": "code",
   "execution_count": 44,
   "outputs": [
    {
     "name": "stdout",
     "output_type": "stream",
     "text": [
      "281820\n",
      "35723\n",
      "KstestResult(statistic=0.32205679568780343, pvalue=0.0)\n"
     ]
    }
   ],
   "source": [
    "def plot():\n",
    "    # DF_MERGED[DF_MERGED['pass.GUNC'] != False]['pass.GUNC'] = True\n",
    "\n",
    "    DF_MERGED['pass_GUNC'] = DF_MERGED['pass.GUNC'].apply(lambda x: x != False)\n",
    "\n",
    "    df_fail = DF_MERGED[DF_MERGED['pass_GUNC'] == False]\n",
    "    df_pass = DF_MERGED[DF_MERGED['pass_GUNC'] == True]\n",
    "\n",
    "    df_fail_contig_counts = df_fail['contig_count'].values\n",
    "    df_pass_contig_counts = df_pass['contig_count'].values\n",
    "\n",
    "    print(len(df_pass_contig_counts))\n",
    "    print(len(df_fail_contig_counts))\n",
    "\n",
    "\n",
    "\n",
    "    x = ks_2samp(df_fail_contig_counts, df_pass_contig_counts)\n",
    "    print(x)\n",
    "    return\n",
    "\n",
    "\n",
    "\n",
    "    fig, ax = plt.subplots(figsize=(8, 8))\n",
    "    # sns.histplot(x=df_pass['contig_count'], stat='percent', ax=ax, label='Pass', bins=20)\n",
    "    # sns.histplot(x=df_fail['contig_count'], stat='percent', ax=ax, label='Fail', color='red', bins=20)\n",
    "    sns.histplot(data=DF_MERGED, bins=500, x='contig_count', stat='percent', ax=ax, hue='pass_GUNC', common_norm=False, multiple='layer')\n",
    "    plt.xlim((0, 1200))\n",
    "    plt.rcParams.update({'font.size': 18})\n",
    "    plt.rcParams['svg.fonttype'] = 'none'\n",
    "    plt.savefig('/tmp/n_contigs.svg')\n",
    "\n",
    "    return\n",
    "plot()"
   ],
   "metadata": {
    "collapsed": false
   }
  }
 ],
 "metadata": {
  "kernelspec": {
   "display_name": "Python 3",
   "language": "python",
   "name": "python3"
  },
  "language_info": {
   "codemirror_mode": {
    "name": "ipython",
    "version": 2
   },
   "file_extension": ".py",
   "mimetype": "text/x-python",
   "name": "python",
   "nbconvert_exporter": "python",
   "pygments_lexer": "ipython2",
   "version": "2.7.6"
  }
 },
 "nbformat": 4,
 "nbformat_minor": 0
}
