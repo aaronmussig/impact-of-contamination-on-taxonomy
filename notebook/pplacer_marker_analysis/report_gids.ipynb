{
 "cells": [
  {
   "cell_type": "code",
   "execution_count": 1,
   "outputs": [],
   "source": [
    "from workflow.pplacer_marker_analysis.c_analyse_pplacer_results import PplacerMarkerAnalysisAnalysePplacerResults\n",
    "import pandas as pd\n"
   ],
   "metadata": {
    "collapsed": false
   }
  },
  {
   "cell_type": "code",
   "execution_count": 2,
   "outputs": [],
   "source": [
    "def report_on_results(df):\n",
    "    gids_correct = set()\n",
    "    gids_not_correct = set()\n",
    "    gids_no_markers = set()\n",
    "    gids_changed_domain = set()\n",
    "    gids_same_msa = set()\n",
    "\n",
    "    out = list()\n",
    "\n",
    "\n",
    "    for row in df.itertuples():\n",
    "\n",
    "        if row.correct is True:\n",
    "            gids_correct.add(row.gid)\n",
    "        else:\n",
    "            if row.result == 'no_markers':\n",
    "                gids_no_markers.add(row.gid)\n",
    "            elif row.result == 'changed_domain':\n",
    "                gids_changed_domain.add(row.gid)\n",
    "                out.append(row)\n",
    "            elif row.result == 'same_msa':\n",
    "                gids_same_msa.add(row.gid)\n",
    "            elif row.result == 'run':\n",
    "                gids_not_correct.add(row.gid)\n",
    "                out.append(row)\n",
    "            else:\n",
    "                print(row)\n",
    "                raise Exception('!')\n",
    "\n",
    "    print(f'No markers: {len(gids_no_markers):,}')\n",
    "    print(f'Changed domain: {len(gids_changed_domain):,}')\n",
    "    print(f'sum correct: {len(gids_correct) + len(gids_same_msa):,}')\n",
    "    print(f'Incongruent: {len(gids_not_correct):,}')\n",
    "    print()\n",
    "    print(f'Number of genomes correct: {len(gids_correct):,}')\n",
    "    print(f'SAME MSA: {len(gids_same_msa):,}')\n",
    "\n",
    "    print(sorted(gids_not_correct))\n",
    "\n",
    "    return pd.DataFrame(out)\n",
    "\n",
    "\n"
   ],
   "metadata": {
    "collapsed": false
   }
  },
  {
   "cell_type": "code",
   "execution_count": 5,
   "outputs": [
    {
     "data": {
      "text/plain": "               gid       domain      result  pct_removed  \\\n0  GCA_000143435.1  d__Bacteria    same_msa    14.417093   \n1  GCA_000155005.1          NaN  no_markers    97.511761   \n2  GCA_000161815.1  d__Bacteria         run    74.765370   \n3  GCA_000168235.2  d__Bacteria         run    53.793875   \n4  GCA_000168835.1  d__Bacteria         run    31.722654   \n\n                                             contigs  \\\n0                   CP002036.1;CP002037.1;CP002035.1   \n1  DS571088.1;DS571063.1;DS571100.1;DS571079.1;DS...   \n2  GG703516.1;GG703520.1;GG703519.1;GG703515.1;GG...   \n3  AAOS02000098.1;AAOS02000012.1;AAOS02000058.1;A...   \n4  AAUB01000028.1;AAUB01000252.1;AAUB01000014.1;A...   \n\n                                    original_markers  \\\n0  TIGR00593;TIGR00061;TIGR01032;TIGR00456;TIGR00...   \n1  TIGR00061;TIGR01032;TIGR00456;PF03726.15;TIGR0...   \n2  TIGR00593;TIGR00061;TIGR01032;TIGR00456;PF0372...   \n3  TIGR00593;TIGR00061;TIGR01032;TIGR00456;PF0372...   \n4  TIGR00436;TIGR02397;TIGR00092;TIGR01510;TIGR02...   \n\n                                         new_markers  \\\n0  TIGR00593;TIGR00061;TIGR01032;TIGR00456;TIGR00...   \n1                                                NaN   \n2  TIGR00436;TIGR00593;TIGR02191;TIGR00090;TIGR00...   \n3  TIGR00436;TIGR02397;TIGR02191;TIGR01039;TIGR00...   \n4  TIGR02397;TIGR00092;TIGR01510;TIGR02191;TIGR02...   \n\n                                                 tax correct  \n0                                                NaN     NaN  \n1                                                NaN     NaN  \n2  d__Bacteria;p__Proteobacteria;c__Alphaproteoba...    True  \n3  d__Bacteria;p__Proteobacteria;c__Gammaproteoba...    True  \n4  d__Bacteria;p__Proteobacteria;c__Gammaproteoba...    True  ",
      "text/html": "<div>\n<style scoped>\n    .dataframe tbody tr th:only-of-type {\n        vertical-align: middle;\n    }\n\n    .dataframe tbody tr th {\n        vertical-align: top;\n    }\n\n    .dataframe thead th {\n        text-align: right;\n    }\n</style>\n<table border=\"1\" class=\"dataframe\">\n  <thead>\n    <tr style=\"text-align: right;\">\n      <th></th>\n      <th>gid</th>\n      <th>domain</th>\n      <th>result</th>\n      <th>pct_removed</th>\n      <th>contigs</th>\n      <th>original_markers</th>\n      <th>new_markers</th>\n      <th>tax</th>\n      <th>correct</th>\n    </tr>\n  </thead>\n  <tbody>\n    <tr>\n      <th>0</th>\n      <td>GCA_000143435.1</td>\n      <td>d__Bacteria</td>\n      <td>same_msa</td>\n      <td>14.417093</td>\n      <td>CP002036.1;CP002037.1;CP002035.1</td>\n      <td>TIGR00593;TIGR00061;TIGR01032;TIGR00456;TIGR00...</td>\n      <td>TIGR00593;TIGR00061;TIGR01032;TIGR00456;TIGR00...</td>\n      <td>NaN</td>\n      <td>NaN</td>\n    </tr>\n    <tr>\n      <th>1</th>\n      <td>GCA_000155005.1</td>\n      <td>NaN</td>\n      <td>no_markers</td>\n      <td>97.511761</td>\n      <td>DS571088.1;DS571063.1;DS571100.1;DS571079.1;DS...</td>\n      <td>TIGR00061;TIGR01032;TIGR00456;PF03726.15;TIGR0...</td>\n      <td>NaN</td>\n      <td>NaN</td>\n      <td>NaN</td>\n    </tr>\n    <tr>\n      <th>2</th>\n      <td>GCA_000161815.1</td>\n      <td>d__Bacteria</td>\n      <td>run</td>\n      <td>74.765370</td>\n      <td>GG703516.1;GG703520.1;GG703519.1;GG703515.1;GG...</td>\n      <td>TIGR00593;TIGR00061;TIGR01032;TIGR00456;PF0372...</td>\n      <td>TIGR00436;TIGR00593;TIGR02191;TIGR00090;TIGR00...</td>\n      <td>d__Bacteria;p__Proteobacteria;c__Alphaproteoba...</td>\n      <td>True</td>\n    </tr>\n    <tr>\n      <th>3</th>\n      <td>GCA_000168235.2</td>\n      <td>d__Bacteria</td>\n      <td>run</td>\n      <td>53.793875</td>\n      <td>AAOS02000098.1;AAOS02000012.1;AAOS02000058.1;A...</td>\n      <td>TIGR00593;TIGR00061;TIGR01032;TIGR00456;PF0372...</td>\n      <td>TIGR00436;TIGR02397;TIGR02191;TIGR01039;TIGR00...</td>\n      <td>d__Bacteria;p__Proteobacteria;c__Gammaproteoba...</td>\n      <td>True</td>\n    </tr>\n    <tr>\n      <th>4</th>\n      <td>GCA_000168835.1</td>\n      <td>d__Bacteria</td>\n      <td>run</td>\n      <td>31.722654</td>\n      <td>AAUB01000028.1;AAUB01000252.1;AAUB01000014.1;A...</td>\n      <td>TIGR00436;TIGR02397;TIGR00092;TIGR01510;TIGR02...</td>\n      <td>TIGR02397;TIGR00092;TIGR01510;TIGR02191;TIGR02...</td>\n      <td>d__Bacteria;p__Proteobacteria;c__Gammaproteoba...</td>\n      <td>True</td>\n    </tr>\n  </tbody>\n</table>\n</div>"
     },
     "execution_count": 5,
     "metadata": {},
     "output_type": "execute_result"
    }
   ],
   "source": [
    "df =  PplacerMarkerAnalysisAnalysePplacerResults(target_pct=50, domain='bac', congruence=100).output().read_cached()\n",
    "df.head()"
   ],
   "metadata": {
    "collapsed": false
   }
  },
  {
   "cell_type": "code",
   "execution_count": 11,
   "outputs": [
    {
     "data": {
      "text/plain": "                  gid       domain    result  pct_removed  \\\n9455  GCA_905214645.1  d__Bacteria  same_msa    11.474911   \n\n                                                contigs  \\\n9455  CAJMNG010000013.1;CAJMNG010000634.1;CAJMNG0100...   \n\n                                       original_markers  \\\n9455  TIGR03625;TIGR03654;TIGR00092;TIGR01510;TIGR02...   \n\n                                            new_markers  tax correct  \n9455  TIGR03625;TIGR03654;TIGR00092;TIGR01510;TIGR02...  NaN     NaN  ",
      "text/html": "<div>\n<style scoped>\n    .dataframe tbody tr th:only-of-type {\n        vertical-align: middle;\n    }\n\n    .dataframe tbody tr th {\n        vertical-align: top;\n    }\n\n    .dataframe thead th {\n        text-align: right;\n    }\n</style>\n<table border=\"1\" class=\"dataframe\">\n  <thead>\n    <tr style=\"text-align: right;\">\n      <th></th>\n      <th>gid</th>\n      <th>domain</th>\n      <th>result</th>\n      <th>pct_removed</th>\n      <th>contigs</th>\n      <th>original_markers</th>\n      <th>new_markers</th>\n      <th>tax</th>\n      <th>correct</th>\n    </tr>\n  </thead>\n  <tbody>\n    <tr>\n      <th>9455</th>\n      <td>GCA_905214645.1</td>\n      <td>d__Bacteria</td>\n      <td>same_msa</td>\n      <td>11.474911</td>\n      <td>CAJMNG010000013.1;CAJMNG010000634.1;CAJMNG0100...</td>\n      <td>TIGR03625;TIGR03654;TIGR00092;TIGR01510;TIGR02...</td>\n      <td>TIGR03625;TIGR03654;TIGR00092;TIGR01510;TIGR02...</td>\n      <td>NaN</td>\n      <td>NaN</td>\n    </tr>\n  </tbody>\n</table>\n</div>"
     },
     "execution_count": 11,
     "metadata": {},
     "output_type": "execute_result"
    }
   ],
   "source": [
    "df[df['gid'] == 'GCA_905214645.1']"
   ],
   "metadata": {
    "collapsed": false
   }
  },
  {
   "cell_type": "code",
   "execution_count": 4,
   "outputs": [
    {
     "name": "stdout",
     "output_type": "stream",
     "text": [
      "No markers: 5\n",
      "Changed domain: 6\n",
      "sum correct: 555\n",
      "Incongruent: 0\n",
      "\n",
      "Number of genomes correct: 555\n",
      "SAME MSA: 0\n",
      "[]\n"
     ]
    },
    {
     "data": {
      "text/plain": "   Index              gid       domain          result  pct_removed  \\\n0    144  GCA_002729355.1  d__Bacteria  changed_domain    52.233957   \n1    398  GCA_018651215.1  d__Bacteria  changed_domain    50.575168   \n2    405  GCA_018658425.1  d__Bacteria  changed_domain    37.107223   \n3    421  GCA_018674815.1  d__Bacteria  changed_domain    33.312115   \n4    519  GCF_000827835.1  d__Bacteria  changed_domain    87.937693   \n5    522  GCF_001485555.1  d__Bacteria  changed_domain    87.821151   \n\n                                             contigs  \\\n0  PBUA01000084.1;PBUA01000107.1;PBUA01000030.1;P...   \n1  JABIEK010000020.1;JABIEK010000251.1;JABIEK0100...   \n2  JABHVJ010000114.1;JABHVJ010000051.1;JABHVJ0100...   \n3  JABGZJ010000113.1;JABGZJ010000149.1;JABGZJ0100...   \n4  NZ_CP010532.1;NZ_CP010534.1;NZ_CP010531.1;NZ_C...   \n5  NZ_BCNA01000003.1;NZ_BCNA01000001.1;NZ_BCNA010...   \n\n                                    original_markers  \\\n0  TIGR01059;PF01015.19;TIGR00392;TIGR00456;PF003...   \n1  TIGR00134;TIGR01059;PF01015.19;PF01280.21;TIGR...   \n2  TIGR00134;TIGR01059;PF01280.21;TIGR01052;TIGR0...   \n3  TIGR00134;TIGR01059;PF01015.19;PF01280.21;TIGR...   \n4  TIGR00134;TIGR01059;PF01015.19;PF01280.21;TIGR...   \n5  TIGR00134;TIGR01059;PF01015.19;PF01280.21;TIGR...   \n\n                                         new_markers  tax  correct  \n0  TIGR00168;TIGR02350;TIGR00496;TIGR01146;TIGR03...  NaN      NaN  \n1  TIGR00755;TIGR02191;TIGR00663;TIGR00435;TIGR01302  NaN      NaN  \n2  TIGR02191;TIGR00414;TIGR00084;TIGR00435;TIGR00...  NaN      NaN  \n3                     TIGR02012;PF01025.20;TIGR00166  NaN      NaN  \n4                                          TIGR01302  NaN      NaN  \n5                                          TIGR01302  NaN      NaN  ",
      "text/html": "<div>\n<style scoped>\n    .dataframe tbody tr th:only-of-type {\n        vertical-align: middle;\n    }\n\n    .dataframe tbody tr th {\n        vertical-align: top;\n    }\n\n    .dataframe thead th {\n        text-align: right;\n    }\n</style>\n<table border=\"1\" class=\"dataframe\">\n  <thead>\n    <tr style=\"text-align: right;\">\n      <th></th>\n      <th>Index</th>\n      <th>gid</th>\n      <th>domain</th>\n      <th>result</th>\n      <th>pct_removed</th>\n      <th>contigs</th>\n      <th>original_markers</th>\n      <th>new_markers</th>\n      <th>tax</th>\n      <th>correct</th>\n    </tr>\n  </thead>\n  <tbody>\n    <tr>\n      <th>0</th>\n      <td>144</td>\n      <td>GCA_002729355.1</td>\n      <td>d__Bacteria</td>\n      <td>changed_domain</td>\n      <td>52.233957</td>\n      <td>PBUA01000084.1;PBUA01000107.1;PBUA01000030.1;P...</td>\n      <td>TIGR01059;PF01015.19;TIGR00392;TIGR00456;PF003...</td>\n      <td>TIGR00168;TIGR02350;TIGR00496;TIGR01146;TIGR03...</td>\n      <td>NaN</td>\n      <td>NaN</td>\n    </tr>\n    <tr>\n      <th>1</th>\n      <td>398</td>\n      <td>GCA_018651215.1</td>\n      <td>d__Bacteria</td>\n      <td>changed_domain</td>\n      <td>50.575168</td>\n      <td>JABIEK010000020.1;JABIEK010000251.1;JABIEK0100...</td>\n      <td>TIGR00134;TIGR01059;PF01015.19;PF01280.21;TIGR...</td>\n      <td>TIGR00755;TIGR02191;TIGR00663;TIGR00435;TIGR01302</td>\n      <td>NaN</td>\n      <td>NaN</td>\n    </tr>\n    <tr>\n      <th>2</th>\n      <td>405</td>\n      <td>GCA_018658425.1</td>\n      <td>d__Bacteria</td>\n      <td>changed_domain</td>\n      <td>37.107223</td>\n      <td>JABHVJ010000114.1;JABHVJ010000051.1;JABHVJ0100...</td>\n      <td>TIGR00134;TIGR01059;PF01280.21;TIGR01052;TIGR0...</td>\n      <td>TIGR02191;TIGR00414;TIGR00084;TIGR00435;TIGR00...</td>\n      <td>NaN</td>\n      <td>NaN</td>\n    </tr>\n    <tr>\n      <th>3</th>\n      <td>421</td>\n      <td>GCA_018674815.1</td>\n      <td>d__Bacteria</td>\n      <td>changed_domain</td>\n      <td>33.312115</td>\n      <td>JABGZJ010000113.1;JABGZJ010000149.1;JABGZJ0100...</td>\n      <td>TIGR00134;TIGR01059;PF01015.19;PF01280.21;TIGR...</td>\n      <td>TIGR02012;PF01025.20;TIGR00166</td>\n      <td>NaN</td>\n      <td>NaN</td>\n    </tr>\n    <tr>\n      <th>4</th>\n      <td>519</td>\n      <td>GCF_000827835.1</td>\n      <td>d__Bacteria</td>\n      <td>changed_domain</td>\n      <td>87.937693</td>\n      <td>NZ_CP010532.1;NZ_CP010534.1;NZ_CP010531.1;NZ_C...</td>\n      <td>TIGR00134;TIGR01059;PF01015.19;PF01280.21;TIGR...</td>\n      <td>TIGR01302</td>\n      <td>NaN</td>\n      <td>NaN</td>\n    </tr>\n    <tr>\n      <th>5</th>\n      <td>522</td>\n      <td>GCF_001485555.1</td>\n      <td>d__Bacteria</td>\n      <td>changed_domain</td>\n      <td>87.821151</td>\n      <td>NZ_BCNA01000003.1;NZ_BCNA01000001.1;NZ_BCNA010...</td>\n      <td>TIGR00134;TIGR01059;PF01015.19;PF01280.21;TIGR...</td>\n      <td>TIGR01302</td>\n      <td>NaN</td>\n      <td>NaN</td>\n    </tr>\n  </tbody>\n</table>\n</div>"
     },
     "execution_count": 4,
     "metadata": {},
     "output_type": "execute_result"
    }
   ],
   "source": [
    "incongruent_df = report_on_results(df)\n",
    "incongruent_df"
   ],
   "metadata": {
    "collapsed": false
   }
  }
 ],
 "metadata": {
  "kernelspec": {
   "display_name": "Python 3",
   "language": "python",
   "name": "python3"
  },
  "language_info": {
   "codemirror_mode": {
    "name": "ipython",
    "version": 2
   },
   "file_extension": ".py",
   "mimetype": "text/x-python",
   "name": "python",
   "nbconvert_exporter": "python",
   "pygments_lexer": "ipython2",
   "version": "2.7.6"
  }
 },
 "nbformat": 4,
 "nbformat_minor": 0
}
