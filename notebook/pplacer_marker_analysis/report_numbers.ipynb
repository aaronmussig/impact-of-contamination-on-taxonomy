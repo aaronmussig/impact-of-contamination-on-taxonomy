{
 "cells": [
  {
   "cell_type": "code",
   "execution_count": null,
   "metadata": {
    "collapsed": true
   },
   "outputs": [],
   "source": []
  },
  {
   "cell_type": "code",
   "execution_count": 1,
   "outputs": [],
   "source": [
    "from workflow.pplacer_marker_analysis.c_analyse_pplacer_results import PplacerMarkerAnalysisAnalysePplacerResults\n",
    "import pandas as pd\n",
    "\n",
    "\n",
    "\n",
    "\n"
   ],
   "metadata": {
    "collapsed": false
   }
  },
  {
   "cell_type": "code",
   "execution_count": 15,
   "outputs": [],
   "source": [
    "def report_on_results(df):\n",
    "\n",
    "\n",
    "    gids_correct = set()\n",
    "    gids_not_correct = set()\n",
    "    gids_no_markers = set()\n",
    "    gids_changed_domain = set()\n",
    "    gids_same_msa = set()\n",
    "\n",
    "    out = dict()\n",
    "\n",
    "\n",
    "    for row in df.itertuples():\n",
    "\n",
    "        if row.correct is True:\n",
    "            gids_correct.add(row.gid)\n",
    "        else:\n",
    "            if row.result == 'no_markers':\n",
    "                gids_no_markers.add(row.gid)\n",
    "            elif row.result == 'changed_domain':\n",
    "                gids_changed_domain.add(row.gid)\n",
    "            elif row.result == 'same_msa':\n",
    "                gids_same_msa.add(row.gid)\n",
    "            elif row.result == 'run':\n",
    "                gids_not_correct.add(row.gid)\n",
    "            else:\n",
    "                print(row)\n",
    "                raise Exception('!')\n",
    "\n",
    "    print(f'No markers: {len(gids_no_markers):,}')\n",
    "    print(f'Changed domain: {len(gids_changed_domain):,}')\n",
    "    print(f'sum correct: {len(gids_correct) + len(gids_same_msa):,}')\n",
    "    print(f'Incongruent: {len(gids_not_correct):,}')\n",
    "    print()\n",
    "    print(f'Number of genomes correct: {len(gids_correct):,}')\n",
    "    print(f'SAME MSA: {len(gids_same_msa):,}')\n",
    "\n",
    "\n"
   ],
   "metadata": {
    "collapsed": false
   }
  },
  {
   "cell_type": "code",
   "execution_count": 16,
   "outputs": [
    {
     "name": "stdout",
     "output_type": "stream",
     "text": [
      "0\n",
      "No markers: 1,189\n",
      "Changed domain: 2\n",
      "sum correct: 29,031\n",
      "Incongruent: 99\n",
      "\n",
      "Number of genomes correct: 26,887\n",
      "SAME MSA: 2,144\n",
      "\n",
      "1\n",
      "No markers: 1,148\n",
      "Changed domain: 4\n",
      "sum correct: 29,053\n",
      "Incongruent: 116\n",
      "\n",
      "Number of genomes correct: 26,998\n",
      "SAME MSA: 2,055\n",
      "\n",
      "2\n",
      "No markers: 1,128\n",
      "Changed domain: 0\n",
      "sum correct: 29,076\n",
      "Incongruent: 117\n",
      "\n",
      "Number of genomes correct: 27,058\n",
      "SAME MSA: 2,018\n",
      "\n",
      "3\n",
      "No markers: 1,080\n",
      "Changed domain: 4\n",
      "sum correct: 29,117\n",
      "Incongruent: 120\n",
      "\n",
      "Number of genomes correct: 27,030\n",
      "SAME MSA: 2,087\n",
      "\n",
      "4\n",
      "No markers: 1,185\n",
      "Changed domain: 0\n",
      "sum correct: 29,024\n",
      "Incongruent: 112\n",
      "\n",
      "Number of genomes correct: 26,917\n",
      "SAME MSA: 2,107\n",
      "\n",
      "5\n",
      "No markers: 1,173\n",
      "Changed domain: 2\n",
      "sum correct: 29,022\n",
      "Incongruent: 124\n",
      "\n",
      "Number of genomes correct: 26,920\n",
      "SAME MSA: 2,102\n",
      "\n",
      "6\n",
      "No markers: 1,194\n",
      "Changed domain: 1\n",
      "sum correct: 29,007\n",
      "Incongruent: 119\n",
      "\n",
      "Number of genomes correct: 26,928\n",
      "SAME MSA: 2,079\n",
      "\n",
      "7\n",
      "No markers: 1,128\n",
      "Changed domain: 0\n",
      "sum correct: 29,083\n",
      "Incongruent: 110\n",
      "\n",
      "Number of genomes correct: 27,015\n",
      "SAME MSA: 2,068\n",
      "\n",
      "8\n",
      "No markers: 1,199\n",
      "Changed domain: 0\n",
      "sum correct: 29,005\n",
      "Incongruent: 117\n",
      "\n",
      "Number of genomes correct: 26,982\n",
      "SAME MSA: 2,023\n",
      "\n",
      "9\n",
      "No markers: 1,177\n",
      "Changed domain: 1\n",
      "sum correct: 29,030\n",
      "Incongruent: 113\n",
      "\n",
      "Number of genomes correct: 26,944\n",
      "SAME MSA: 2,086\n",
      "\n"
     ]
    }
   ],
   "source": [
    "\n",
    "for i in range(10):\n",
    "    print(i)\n",
    "    df =  PplacerMarkerAnalysisAnalysePplacerResults(target_pct=50, domain='bac', random=True, batch_id=i).output().read_cached()\n",
    "    report_on_results(df)\n",
    "    print()\n"
   ],
   "metadata": {
    "collapsed": false
   }
  },
  {
   "cell_type": "code",
   "execution_count": 12,
   "outputs": [
    {
     "name": "stdout",
     "output_type": "stream",
     "text": [
      "30321\n",
      "Number of genomes with no markers: 201\n",
      "Gids that changed domain: 0\n",
      "Number of genomes correct: 29,108\n",
      "SAME MSA: 1,009\n",
      "Incongruent: 3\n",
      "sum correct: 30,117\n"
     ]
    }
   ],
   "source": [
    "\n",
    "df =  PplacerMarkerAnalysisAnalysePplacerResults(target_pct=50, domain='bac', random=False, congruence=100).output().read_cached()\n",
    "\n",
    "print(len(df))\n",
    "report_on_results(df)\n"
   ],
   "metadata": {
    "collapsed": false
   }
  }
 ],
 "metadata": {
  "kernelspec": {
   "display_name": "Python 3",
   "language": "python",
   "name": "python3"
  },
  "language_info": {
   "codemirror_mode": {
    "name": "ipython",
    "version": 2
   },
   "file_extension": ".py",
   "mimetype": "text/x-python",
   "name": "python",
   "nbconvert_exporter": "python",
   "pygments_lexer": "ipython2",
   "version": "2.7.6"
  }
 },
 "nbformat": 4,
 "nbformat_minor": 0
}
