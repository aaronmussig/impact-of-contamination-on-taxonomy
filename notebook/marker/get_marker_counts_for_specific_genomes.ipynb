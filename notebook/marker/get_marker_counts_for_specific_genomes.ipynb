{
 "cells": [
  {
   "cell_type": "code",
   "execution_count": 1,
   "metadata": {
    "collapsed": true,
    "pycharm": {
     "name": "#%%\n"
    }
   },
   "outputs": [],
   "source": [
    "from workflow.marker.calculate_cnt_of_markers_failed import CalculateCntOfMarkersFailed\n"
   ]
  },
  {
   "cell_type": "code",
   "execution_count": 3,
   "outputs": [
    {
     "data": {
      "text/plain": "                 PF00380.20  PF00410.20  PF00466.21  PF00687.22  PF00827.18  \\\ngid                                                                           \nGCA_000007325.1           1           1           1           1           0   \nGCA_000008085.1           1           1           1           1           1   \nGCA_000008885.1           1           1           1           1           0   \nGCA_000009845.1           1           1           1           1           0   \nGCA_000010085.1           1           1           1           1           0   \n...                     ...         ...         ...         ...         ...   \nGCF_910592675.1           1           1           1           1           0   \nGCF_910593725.1           1           1           1           1           0   \nGCF_910593785.1           1           1           1           1           0   \nGCF_910593845.1           1           1           1           1           0   \nGCF_910594985.1           1           1           1           1           0   \n\n                 PF00900.21  PF01000.27  PF01015.19  PF01025.20  PF01090.20  \\\ngid                                                                           \nGCA_000007325.1           0           1           0           1           0   \nGCA_000008085.1           1           1           1           0           1   \nGCA_000008885.1           0           1           0           1           0   \nGCA_000009845.1           0           1           0           1           0   \nGCA_000010085.1           0           1           0           1           0   \n...                     ...         ...         ...         ...         ...   \nGCF_910592675.1           0           1           0           1           0   \nGCF_910593725.1           0           1           0           1           0   \nGCF_910593785.1           0           1           0           1           0   \nGCF_910593845.1           0           1           0           1           0   \nGCF_910594985.1           0           1           0           1           0   \n\n                 ...  TIGR03670  TIGR03671  TIGR03672  TIGR03673  TIGR03674  \\\ngid              ...                                                          \nGCA_000007325.1  ...          0          0          0          0          0   \nGCA_000008085.1  ...          1          1          1          1          1   \nGCA_000008885.1  ...          0          0          0          0          0   \nGCA_000009845.1  ...          0          0          0          0          0   \nGCA_000010085.1  ...          0          0          0          0          0   \n...              ...        ...        ...        ...        ...        ...   \nGCF_910592675.1  ...          0          0          0          0          0   \nGCF_910593725.1  ...          0          0          0          0          0   \nGCF_910593785.1  ...          0          0          0          0          0   \nGCF_910593845.1  ...          0          0          0          0          0   \nGCF_910594985.1  ...          0          0          0          0          0   \n\n                 TIGR03676  TIGR03680  TIGR03723  TIGR03725  TIGR03953  \ngid                                                                     \nGCA_000007325.1          0          0          1          1          1  \nGCA_000008085.1          1          1          0          0          0  \nGCA_000008885.1          0          0          1          0          1  \nGCA_000009845.1          0          0          1          1          1  \nGCA_000010085.1          0          0          1          1          1  \n...                    ...        ...        ...        ...        ...  \nGCF_910592675.1          0          0          1          1          1  \nGCF_910593725.1          0          0          1          1          1  \nGCF_910593785.1          0          0          1          1          1  \nGCF_910593845.1          0          0          1          1          1  \nGCF_910594985.1          0          0          1          1          1  \n\n[96590 rows x 168 columns]",
      "text/html": "<div>\n<style scoped>\n    .dataframe tbody tr th:only-of-type {\n        vertical-align: middle;\n    }\n\n    .dataframe tbody tr th {\n        vertical-align: top;\n    }\n\n    .dataframe thead th {\n        text-align: right;\n    }\n</style>\n<table border=\"1\" class=\"dataframe\">\n  <thead>\n    <tr style=\"text-align: right;\">\n      <th></th>\n      <th>PF00380.20</th>\n      <th>PF00410.20</th>\n      <th>PF00466.21</th>\n      <th>PF00687.22</th>\n      <th>PF00827.18</th>\n      <th>PF00900.21</th>\n      <th>PF01000.27</th>\n      <th>PF01015.19</th>\n      <th>PF01025.20</th>\n      <th>PF01090.20</th>\n      <th>...</th>\n      <th>TIGR03670</th>\n      <th>TIGR03671</th>\n      <th>TIGR03672</th>\n      <th>TIGR03673</th>\n      <th>TIGR03674</th>\n      <th>TIGR03676</th>\n      <th>TIGR03680</th>\n      <th>TIGR03723</th>\n      <th>TIGR03725</th>\n      <th>TIGR03953</th>\n    </tr>\n    <tr>\n      <th>gid</th>\n      <th></th>\n      <th></th>\n      <th></th>\n      <th></th>\n      <th></th>\n      <th></th>\n      <th></th>\n      <th></th>\n      <th></th>\n      <th></th>\n      <th></th>\n      <th></th>\n      <th></th>\n      <th></th>\n      <th></th>\n      <th></th>\n      <th></th>\n      <th></th>\n      <th></th>\n      <th></th>\n      <th></th>\n    </tr>\n  </thead>\n  <tbody>\n    <tr>\n      <th>GCA_000007325.1</th>\n      <td>1</td>\n      <td>1</td>\n      <td>1</td>\n      <td>1</td>\n      <td>0</td>\n      <td>0</td>\n      <td>1</td>\n      <td>0</td>\n      <td>1</td>\n      <td>0</td>\n      <td>...</td>\n      <td>0</td>\n      <td>0</td>\n      <td>0</td>\n      <td>0</td>\n      <td>0</td>\n      <td>0</td>\n      <td>0</td>\n      <td>1</td>\n      <td>1</td>\n      <td>1</td>\n    </tr>\n    <tr>\n      <th>GCA_000008085.1</th>\n      <td>1</td>\n      <td>1</td>\n      <td>1</td>\n      <td>1</td>\n      <td>1</td>\n      <td>1</td>\n      <td>1</td>\n      <td>1</td>\n      <td>0</td>\n      <td>1</td>\n      <td>...</td>\n      <td>1</td>\n      <td>1</td>\n      <td>1</td>\n      <td>1</td>\n      <td>1</td>\n      <td>1</td>\n      <td>1</td>\n      <td>0</td>\n      <td>0</td>\n      <td>0</td>\n    </tr>\n    <tr>\n      <th>GCA_000008885.1</th>\n      <td>1</td>\n      <td>1</td>\n      <td>1</td>\n      <td>1</td>\n      <td>0</td>\n      <td>0</td>\n      <td>1</td>\n      <td>0</td>\n      <td>1</td>\n      <td>0</td>\n      <td>...</td>\n      <td>0</td>\n      <td>0</td>\n      <td>0</td>\n      <td>0</td>\n      <td>0</td>\n      <td>0</td>\n      <td>0</td>\n      <td>1</td>\n      <td>0</td>\n      <td>1</td>\n    </tr>\n    <tr>\n      <th>GCA_000009845.1</th>\n      <td>1</td>\n      <td>1</td>\n      <td>1</td>\n      <td>1</td>\n      <td>0</td>\n      <td>0</td>\n      <td>1</td>\n      <td>0</td>\n      <td>1</td>\n      <td>0</td>\n      <td>...</td>\n      <td>0</td>\n      <td>0</td>\n      <td>0</td>\n      <td>0</td>\n      <td>0</td>\n      <td>0</td>\n      <td>0</td>\n      <td>1</td>\n      <td>1</td>\n      <td>1</td>\n    </tr>\n    <tr>\n      <th>GCA_000010085.1</th>\n      <td>1</td>\n      <td>1</td>\n      <td>1</td>\n      <td>1</td>\n      <td>0</td>\n      <td>0</td>\n      <td>1</td>\n      <td>0</td>\n      <td>1</td>\n      <td>0</td>\n      <td>...</td>\n      <td>0</td>\n      <td>0</td>\n      <td>0</td>\n      <td>0</td>\n      <td>0</td>\n      <td>0</td>\n      <td>0</td>\n      <td>1</td>\n      <td>1</td>\n      <td>1</td>\n    </tr>\n    <tr>\n      <th>...</th>\n      <td>...</td>\n      <td>...</td>\n      <td>...</td>\n      <td>...</td>\n      <td>...</td>\n      <td>...</td>\n      <td>...</td>\n      <td>...</td>\n      <td>...</td>\n      <td>...</td>\n      <td>...</td>\n      <td>...</td>\n      <td>...</td>\n      <td>...</td>\n      <td>...</td>\n      <td>...</td>\n      <td>...</td>\n      <td>...</td>\n      <td>...</td>\n      <td>...</td>\n      <td>...</td>\n    </tr>\n    <tr>\n      <th>GCF_910592675.1</th>\n      <td>1</td>\n      <td>1</td>\n      <td>1</td>\n      <td>1</td>\n      <td>0</td>\n      <td>0</td>\n      <td>1</td>\n      <td>0</td>\n      <td>1</td>\n      <td>0</td>\n      <td>...</td>\n      <td>0</td>\n      <td>0</td>\n      <td>0</td>\n      <td>0</td>\n      <td>0</td>\n      <td>0</td>\n      <td>0</td>\n      <td>1</td>\n      <td>1</td>\n      <td>1</td>\n    </tr>\n    <tr>\n      <th>GCF_910593725.1</th>\n      <td>1</td>\n      <td>1</td>\n      <td>1</td>\n      <td>1</td>\n      <td>0</td>\n      <td>0</td>\n      <td>1</td>\n      <td>0</td>\n      <td>1</td>\n      <td>0</td>\n      <td>...</td>\n      <td>0</td>\n      <td>0</td>\n      <td>0</td>\n      <td>0</td>\n      <td>0</td>\n      <td>0</td>\n      <td>0</td>\n      <td>1</td>\n      <td>1</td>\n      <td>1</td>\n    </tr>\n    <tr>\n      <th>GCF_910593785.1</th>\n      <td>1</td>\n      <td>1</td>\n      <td>1</td>\n      <td>1</td>\n      <td>0</td>\n      <td>0</td>\n      <td>1</td>\n      <td>0</td>\n      <td>1</td>\n      <td>0</td>\n      <td>...</td>\n      <td>0</td>\n      <td>0</td>\n      <td>0</td>\n      <td>0</td>\n      <td>0</td>\n      <td>0</td>\n      <td>0</td>\n      <td>1</td>\n      <td>1</td>\n      <td>1</td>\n    </tr>\n    <tr>\n      <th>GCF_910593845.1</th>\n      <td>1</td>\n      <td>1</td>\n      <td>1</td>\n      <td>1</td>\n      <td>0</td>\n      <td>0</td>\n      <td>1</td>\n      <td>0</td>\n      <td>1</td>\n      <td>0</td>\n      <td>...</td>\n      <td>0</td>\n      <td>0</td>\n      <td>0</td>\n      <td>0</td>\n      <td>0</td>\n      <td>0</td>\n      <td>0</td>\n      <td>1</td>\n      <td>1</td>\n      <td>1</td>\n    </tr>\n    <tr>\n      <th>GCF_910594985.1</th>\n      <td>1</td>\n      <td>1</td>\n      <td>1</td>\n      <td>1</td>\n      <td>0</td>\n      <td>0</td>\n      <td>1</td>\n      <td>0</td>\n      <td>1</td>\n      <td>0</td>\n      <td>...</td>\n      <td>0</td>\n      <td>0</td>\n      <td>0</td>\n      <td>0</td>\n      <td>0</td>\n      <td>0</td>\n      <td>0</td>\n      <td>1</td>\n      <td>1</td>\n      <td>1</td>\n    </tr>\n  </tbody>\n</table>\n<p>96590 rows × 168 columns</p>\n</div>"
     },
     "execution_count": 3,
     "metadata": {},
     "output_type": "execute_result"
    }
   ],
   "source": [
    "\n",
    "DF_COUNTS = CalculateCntOfMarkersFailed().output().read_cached()\n",
    "DF_COUNTS"
   ],
   "metadata": {
    "collapsed": false,
    "pycharm": {
     "name": "#%%\n"
    }
   }
  },
  {
   "cell_type": "code",
   "execution_count": 8,
   "outputs": [
    {
     "data": {
      "text/plain": "gid         GCA_002170165.1  GCA_014381465.1  GCA_002724505.1\nPF00380.20                1                1                1\nPF00410.20                1                1                0\nPF00466.21                2                1                1\nPF00687.22                2                1                1\nPF00827.18                0                0                0\n...                     ...              ...              ...\nTIGR03676                 0                0                0\nTIGR03680                 0                0                0\nTIGR03723                 1                1                0\nTIGR03725                 0                1                1\nTIGR03953                 1                1                0\n\n[168 rows x 3 columns]",
      "text/html": "<div>\n<style scoped>\n    .dataframe tbody tr th:only-of-type {\n        vertical-align: middle;\n    }\n\n    .dataframe tbody tr th {\n        vertical-align: top;\n    }\n\n    .dataframe thead th {\n        text-align: right;\n    }\n</style>\n<table border=\"1\" class=\"dataframe\">\n  <thead>\n    <tr style=\"text-align: right;\">\n      <th>gid</th>\n      <th>GCA_002170165.1</th>\n      <th>GCA_014381465.1</th>\n      <th>GCA_002724505.1</th>\n    </tr>\n  </thead>\n  <tbody>\n    <tr>\n      <th>PF00380.20</th>\n      <td>1</td>\n      <td>1</td>\n      <td>1</td>\n    </tr>\n    <tr>\n      <th>PF00410.20</th>\n      <td>1</td>\n      <td>1</td>\n      <td>0</td>\n    </tr>\n    <tr>\n      <th>PF00466.21</th>\n      <td>2</td>\n      <td>1</td>\n      <td>1</td>\n    </tr>\n    <tr>\n      <th>PF00687.22</th>\n      <td>2</td>\n      <td>1</td>\n      <td>1</td>\n    </tr>\n    <tr>\n      <th>PF00827.18</th>\n      <td>0</td>\n      <td>0</td>\n      <td>0</td>\n    </tr>\n    <tr>\n      <th>...</th>\n      <td>...</td>\n      <td>...</td>\n      <td>...</td>\n    </tr>\n    <tr>\n      <th>TIGR03676</th>\n      <td>0</td>\n      <td>0</td>\n      <td>0</td>\n    </tr>\n    <tr>\n      <th>TIGR03680</th>\n      <td>0</td>\n      <td>0</td>\n      <td>0</td>\n    </tr>\n    <tr>\n      <th>TIGR03723</th>\n      <td>1</td>\n      <td>1</td>\n      <td>0</td>\n    </tr>\n    <tr>\n      <th>TIGR03725</th>\n      <td>0</td>\n      <td>1</td>\n      <td>1</td>\n    </tr>\n    <tr>\n      <th>TIGR03953</th>\n      <td>1</td>\n      <td>1</td>\n      <td>0</td>\n    </tr>\n  </tbody>\n</table>\n<p>168 rows × 3 columns</p>\n</div>"
     },
     "execution_count": 8,
     "metadata": {},
     "output_type": "execute_result"
    }
   ],
   "source": [
    "DF_COUNTS.loc[['GCA_002170165.1', 'GCA_014381465.1', 'GCA_002724505.1']].T"
   ],
   "metadata": {
    "collapsed": false,
    "pycharm": {
     "name": "#%%\n"
    }
   }
  }
 ],
 "metadata": {
  "kernelspec": {
   "display_name": "Python 3",
   "language": "python",
   "name": "python3"
  },
  "language_info": {
   "codemirror_mode": {
    "name": "ipython",
    "version": 2
   },
   "file_extension": ".py",
   "mimetype": "text/x-python",
   "name": "python",
   "nbconvert_exporter": "python",
   "pygments_lexer": "ipython2",
   "version": "2.7.6"
  }
 },
 "nbformat": 4,
 "nbformat_minor": 0
}