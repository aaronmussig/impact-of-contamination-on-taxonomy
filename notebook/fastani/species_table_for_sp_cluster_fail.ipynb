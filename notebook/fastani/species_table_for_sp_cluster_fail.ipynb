{
 "cells": [
  {
   "cell_type": "code",
   "execution_count": 1,
   "outputs": [],
   "source": [
    "from collections import defaultdict, Counter\n",
    "\n",
    "from workflow.config import PCT_VALUES\n",
    "from workflow.fastani.remove_gunc_failed_contigs_by_contamination_sp_cluster import RemoveGuncFailedContigsByContaminationSpCluster\n",
    "from workflow.gunc.aggregate_max_css_level_merged import AggregateMaxCssLevelMerged\n",
    "import seaborn as sns\n",
    "import matplotlib.pyplot as plt\n",
    "import pandas as pd\n",
    "\n",
    "from workflow.external.gtdb_metadata import GtdbMetadataR207"
   ],
   "metadata": {
    "collapsed": false,
    "pycharm": {
     "name": "#%%\n"
    }
   }
  },
  {
   "cell_type": "code",
   "execution_count": 2,
   "outputs": [
    {
     "data": {
      "text/plain": "                 ambiguous_bases  checkm_completeness  checkm_contamination  \\\ngid                                                                           \nGCA_000006155.2             1916                93.12                   0.0   \nGCA_000007325.1                1                99.95                   0.0   \nGCA_000007385.1                0                99.82                   0.0   \nGCA_000008085.1                0                73.13                   0.0   \nGCA_000008885.1                0               100.00                   0.0   \n\n                 checkm_marker_count             checkm_marker_lineage  \\\ngid                                                                      \nGCA_000006155.2                 1171              g__Bacillus (UID902)   \nGCA_000007325.1                  149             k__Bacteria (UID2329)   \nGCA_000007385.1                  481  c__Gammaproteobacteria (UID4202)   \nGCA_000008085.1                  149                 k__Archaea (UID2)   \nGCA_000008885.1                  134             k__Bacteria (UID2495)   \n\n                 checkm_marker_set_count  checkm_strain_heterogeneity  \\\ngid                                                                     \nGCA_000006155.2                      324                          0.0   \nGCA_000007325.1                       89                          0.0   \nGCA_000007385.1                      276                          0.0   \nGCA_000008085.1                      107                          0.0   \nGCA_000008885.1                       80                          0.0   \n\n                 coding_bases  coding_density  contig_count  ...  \\\ngid                                                          ...   \nGCA_000006155.2       4305660       80.178992           426  ...   \nGCA_000007325.1       1973459       90.754610             1  ...   \nGCA_000007385.1       4190634       84.805944             1  ...   \nGCA_000008085.1        462902       94.299480             1  ...   \nGCA_000008885.1        617456       87.831079             2  ...   \n\n                 gtdb_type_species_of_genus  \\\ngid                                           \nGCA_000006155.2                           f   \nGCA_000007325.1                           t   \nGCA_000007385.1                           f   \nGCA_000008085.1                           t   \nGCA_000008885.1                           f   \n\n                                                     ncbi_taxonomy  \\\ngid                                                                  \nGCA_000006155.2  d__Bacteria;p__Firmicutes;c__Bacilli;o__Bacill...   \nGCA_000007325.1  d__Bacteria;p__Fusobacteria;c__Fusobacteriia;o...   \nGCA_000007385.1  d__Bacteria;p__Proteobacteria;c__Gammaproteoba...   \nGCA_000008085.1  d__Archaea;p__Nanoarchaeota;c__;o__Nanoarchaea...   \nGCA_000008885.1  d__Bacteria;p__Proteobacteria;c__Gammaproteoba...   \n\n                                          ncbi_taxonomy_unfiltered  \\\ngid                                                                  \nGCA_000006155.2  d__Bacteria;x__Terrabacteria group;p__Firmicut...   \nGCA_000007325.1  d__Bacteria;p__Fusobacteria;c__Fusobacteriia;o...   \nGCA_000007385.1  d__Bacteria;p__Proteobacteria;c__Gammaproteoba...   \nGCA_000008085.1  d__Archaea;x__DPANN group;p__Nanoarchaeota;o__...   \nGCA_000008885.1  d__Bacteria;p__Proteobacteria;c__Gammaproteoba...   \n\n                      domain             phylum                   class  \\\ngid                                                                       \nGCA_000006155.2  d__Bacteria      p__Firmicutes              c__Bacilli   \nGCA_000007325.1  d__Bacteria  p__Fusobacteriota        c__Fusobacteriia   \nGCA_000007385.1  d__Bacteria  p__Proteobacteria  c__Gammaproteobacteria   \nGCA_000008085.1   d__Archaea   p__Nanoarchaeota         c__Nanoarchaeia   \nGCA_000008885.1  d__Bacteria  p__Proteobacteria  c__Gammaproteobacteria   \n\n                                 order                   family  \\\ngid                                                               \nGCA_000006155.2          o__Bacillales         f__Bacillaceae_G   \nGCA_000007325.1     o__Fusobacteriales      f__Fusobacteriaceae   \nGCA_000007385.1     o__Xanthomonadales      f__Xanthomonadaceae   \nGCA_000008085.1      o__Nanoarchaeales       f__Nanoarchaeaceae   \nGCA_000008885.1  o__Enterobacterales_A  f__Enterobacteriaceae_A   \n\n                             genus                          species  \ngid                                                                  \nGCA_000006155.2      g__Bacillus_A          s__Bacillus_A anthracis  \nGCA_000007325.1   g__Fusobacterium       s__Fusobacterium nucleatum  \nGCA_000007385.1     g__Xanthomonas            s__Xanthomonas oryzae  \nGCA_000008085.1    g__Nanoarchaeum         s__Nanoarchaeum equitans  \nGCA_000008885.1  g__Wigglesworthia  s__Wigglesworthia glossinidia_A  \n\n[5 rows x 28 columns]",
      "text/html": "<div>\n<style scoped>\n    .dataframe tbody tr th:only-of-type {\n        vertical-align: middle;\n    }\n\n    .dataframe tbody tr th {\n        vertical-align: top;\n    }\n\n    .dataframe thead th {\n        text-align: right;\n    }\n</style>\n<table border=\"1\" class=\"dataframe\">\n  <thead>\n    <tr style=\"text-align: right;\">\n      <th></th>\n      <th>ambiguous_bases</th>\n      <th>checkm_completeness</th>\n      <th>checkm_contamination</th>\n      <th>checkm_marker_count</th>\n      <th>checkm_marker_lineage</th>\n      <th>checkm_marker_set_count</th>\n      <th>checkm_strain_heterogeneity</th>\n      <th>coding_bases</th>\n      <th>coding_density</th>\n      <th>contig_count</th>\n      <th>...</th>\n      <th>gtdb_type_species_of_genus</th>\n      <th>ncbi_taxonomy</th>\n      <th>ncbi_taxonomy_unfiltered</th>\n      <th>domain</th>\n      <th>phylum</th>\n      <th>class</th>\n      <th>order</th>\n      <th>family</th>\n      <th>genus</th>\n      <th>species</th>\n    </tr>\n    <tr>\n      <th>gid</th>\n      <th></th>\n      <th></th>\n      <th></th>\n      <th></th>\n      <th></th>\n      <th></th>\n      <th></th>\n      <th></th>\n      <th></th>\n      <th></th>\n      <th></th>\n      <th></th>\n      <th></th>\n      <th></th>\n      <th></th>\n      <th></th>\n      <th></th>\n      <th></th>\n      <th></th>\n      <th></th>\n      <th></th>\n    </tr>\n  </thead>\n  <tbody>\n    <tr>\n      <th>GCA_000006155.2</th>\n      <td>1916</td>\n      <td>93.12</td>\n      <td>0.0</td>\n      <td>1171</td>\n      <td>g__Bacillus (UID902)</td>\n      <td>324</td>\n      <td>0.0</td>\n      <td>4305660</td>\n      <td>80.178992</td>\n      <td>426</td>\n      <td>...</td>\n      <td>f</td>\n      <td>d__Bacteria;p__Firmicutes;c__Bacilli;o__Bacill...</td>\n      <td>d__Bacteria;x__Terrabacteria group;p__Firmicut...</td>\n      <td>d__Bacteria</td>\n      <td>p__Firmicutes</td>\n      <td>c__Bacilli</td>\n      <td>o__Bacillales</td>\n      <td>f__Bacillaceae_G</td>\n      <td>g__Bacillus_A</td>\n      <td>s__Bacillus_A anthracis</td>\n    </tr>\n    <tr>\n      <th>GCA_000007325.1</th>\n      <td>1</td>\n      <td>99.95</td>\n      <td>0.0</td>\n      <td>149</td>\n      <td>k__Bacteria (UID2329)</td>\n      <td>89</td>\n      <td>0.0</td>\n      <td>1973459</td>\n      <td>90.754610</td>\n      <td>1</td>\n      <td>...</td>\n      <td>t</td>\n      <td>d__Bacteria;p__Fusobacteria;c__Fusobacteriia;o...</td>\n      <td>d__Bacteria;p__Fusobacteria;c__Fusobacteriia;o...</td>\n      <td>d__Bacteria</td>\n      <td>p__Fusobacteriota</td>\n      <td>c__Fusobacteriia</td>\n      <td>o__Fusobacteriales</td>\n      <td>f__Fusobacteriaceae</td>\n      <td>g__Fusobacterium</td>\n      <td>s__Fusobacterium nucleatum</td>\n    </tr>\n    <tr>\n      <th>GCA_000007385.1</th>\n      <td>0</td>\n      <td>99.82</td>\n      <td>0.0</td>\n      <td>481</td>\n      <td>c__Gammaproteobacteria (UID4202)</td>\n      <td>276</td>\n      <td>0.0</td>\n      <td>4190634</td>\n      <td>84.805944</td>\n      <td>1</td>\n      <td>...</td>\n      <td>f</td>\n      <td>d__Bacteria;p__Proteobacteria;c__Gammaproteoba...</td>\n      <td>d__Bacteria;p__Proteobacteria;c__Gammaproteoba...</td>\n      <td>d__Bacteria</td>\n      <td>p__Proteobacteria</td>\n      <td>c__Gammaproteobacteria</td>\n      <td>o__Xanthomonadales</td>\n      <td>f__Xanthomonadaceae</td>\n      <td>g__Xanthomonas</td>\n      <td>s__Xanthomonas oryzae</td>\n    </tr>\n    <tr>\n      <th>GCA_000008085.1</th>\n      <td>0</td>\n      <td>73.13</td>\n      <td>0.0</td>\n      <td>149</td>\n      <td>k__Archaea (UID2)</td>\n      <td>107</td>\n      <td>0.0</td>\n      <td>462902</td>\n      <td>94.299480</td>\n      <td>1</td>\n      <td>...</td>\n      <td>t</td>\n      <td>d__Archaea;p__Nanoarchaeota;c__;o__Nanoarchaea...</td>\n      <td>d__Archaea;x__DPANN group;p__Nanoarchaeota;o__...</td>\n      <td>d__Archaea</td>\n      <td>p__Nanoarchaeota</td>\n      <td>c__Nanoarchaeia</td>\n      <td>o__Nanoarchaeales</td>\n      <td>f__Nanoarchaeaceae</td>\n      <td>g__Nanoarchaeum</td>\n      <td>s__Nanoarchaeum equitans</td>\n    </tr>\n    <tr>\n      <th>GCA_000008885.1</th>\n      <td>0</td>\n      <td>100.00</td>\n      <td>0.0</td>\n      <td>134</td>\n      <td>k__Bacteria (UID2495)</td>\n      <td>80</td>\n      <td>0.0</td>\n      <td>617456</td>\n      <td>87.831079</td>\n      <td>2</td>\n      <td>...</td>\n      <td>f</td>\n      <td>d__Bacteria;p__Proteobacteria;c__Gammaproteoba...</td>\n      <td>d__Bacteria;p__Proteobacteria;c__Gammaproteoba...</td>\n      <td>d__Bacteria</td>\n      <td>p__Proteobacteria</td>\n      <td>c__Gammaproteobacteria</td>\n      <td>o__Enterobacterales_A</td>\n      <td>f__Enterobacteriaceae_A</td>\n      <td>g__Wigglesworthia</td>\n      <td>s__Wigglesworthia glossinidia_A</td>\n    </tr>\n  </tbody>\n</table>\n<p>5 rows × 28 columns</p>\n</div>"
     },
     "execution_count": 2,
     "metadata": {},
     "output_type": "execute_result"
    }
   ],
   "source": [
    "DF_META = GtdbMetadataR207().output().read_cached()\n",
    "DF_META.head()"
   ],
   "metadata": {
    "collapsed": false,
    "pycharm": {
     "name": "#%%\n"
    }
   }
  },
  {
   "cell_type": "code",
   "execution_count": 3,
   "outputs": [
    {
     "name": "stdout",
     "output_type": "stream",
     "text": [
      "(578539, 5)\n",
      "35,723 failed gids\n"
     ]
    },
    {
     "data": {
      "text/plain": "                          new_sp_rep      ani        af    type  same\ngid             pct                                                  \nGCA_000143435.1 1    GCF_001435955.1  97.3270  0.875591  sp_rep  True\n                5    GCF_001435955.1  97.3270  0.875591  sp_rep  True\n                15   GCF_001435955.1  97.6349  0.829228  sp_rep  True\nGCA_000153745.1 5                NaN      NaN       NaN  no_ani  True\nGCA_000155005.1 1    GCF_003697165.2  96.5203  0.827668  sp_rep  True",
      "text/html": "<div>\n<style scoped>\n    .dataframe tbody tr th:only-of-type {\n        vertical-align: middle;\n    }\n\n    .dataframe tbody tr th {\n        vertical-align: top;\n    }\n\n    .dataframe thead th {\n        text-align: right;\n    }\n</style>\n<table border=\"1\" class=\"dataframe\">\n  <thead>\n    <tr style=\"text-align: right;\">\n      <th></th>\n      <th></th>\n      <th>new_sp_rep</th>\n      <th>ani</th>\n      <th>af</th>\n      <th>type</th>\n      <th>same</th>\n    </tr>\n    <tr>\n      <th>gid</th>\n      <th>pct</th>\n      <th></th>\n      <th></th>\n      <th></th>\n      <th></th>\n      <th></th>\n    </tr>\n  </thead>\n  <tbody>\n    <tr>\n      <th rowspan=\"3\" valign=\"top\">GCA_000143435.1</th>\n      <th>1</th>\n      <td>GCF_001435955.1</td>\n      <td>97.3270</td>\n      <td>0.875591</td>\n      <td>sp_rep</td>\n      <td>True</td>\n    </tr>\n    <tr>\n      <th>5</th>\n      <td>GCF_001435955.1</td>\n      <td>97.3270</td>\n      <td>0.875591</td>\n      <td>sp_rep</td>\n      <td>True</td>\n    </tr>\n    <tr>\n      <th>15</th>\n      <td>GCF_001435955.1</td>\n      <td>97.6349</td>\n      <td>0.829228</td>\n      <td>sp_rep</td>\n      <td>True</td>\n    </tr>\n    <tr>\n      <th>GCA_000153745.1</th>\n      <th>5</th>\n      <td>NaN</td>\n      <td>NaN</td>\n      <td>NaN</td>\n      <td>no_ani</td>\n      <td>True</td>\n    </tr>\n    <tr>\n      <th>GCA_000155005.1</th>\n      <th>1</th>\n      <td>GCF_003697165.2</td>\n      <td>96.5203</td>\n      <td>0.827668</td>\n      <td>sp_rep</td>\n      <td>True</td>\n    </tr>\n  </tbody>\n</table>\n</div>"
     },
     "execution_count": 3,
     "metadata": {},
     "output_type": "execute_result"
    }
   ],
   "source": [
    "DF = RemoveGuncFailedContigsByContaminationSpCluster().output().read_cached()\n",
    "print(DF.shape)\n",
    "\n",
    "UNQ_GIDS = set(DF.index.get_level_values(0))\n",
    "\n",
    "print(f'{len(UNQ_GIDS):,} failed gids')\n",
    "DF.head()"
   ],
   "metadata": {
    "collapsed": false,
    "pycharm": {
     "name": "#%%\n"
    }
   }
  },
  {
   "cell_type": "code",
   "execution_count": 22,
   "outputs": [
    {
     "name": "stdout",
     "output_type": "stream",
     "text": [
      "defaultdict(<class 'list'>, {1: [('rep_is_in_new_sp_cluster', 'GCA_000761495.1'), ('rep_is_in_new_sp_cluster', 'GCA_007713455.1'), ('rep_is_in_new_sp_cluster', 'GCA_018363915.1'), ('rep_is_in_new_sp_cluster', 'GCA_900548495.1'), ('rep_is_in_new_sp_cluster', 'GCA_900555225.1'), ('rep_is_in_new_sp_cluster', 'GCA_900757715.1'), ('rep_is_in_new_sp_cluster', 'GCA_900759445.1'), ('rep_is_in_new_sp_cluster', 'GCF_000438455.1'), ('rep_is_in_new_sp_cluster', 'GCF_000935215.1'), ('rep_is_in_new_sp_cluster', 'GCF_001544135.1'), ('rep_is_in_new_sp_cluster', 'GCF_001571065.1'), ('rep_is_in_new_sp_cluster', 'GCF_002156525.1'), ('rep_is_in_new_sp_cluster', 'GCF_002216875.1'), ('rep_is_in_new_sp_cluster', 'GCF_002989035.1'), ('rep_is_in_new_sp_cluster', 'GCF_003064105.1'), ('rep_is_in_new_sp_cluster', 'GCF_003935375.1'), ('rep_is_in_new_sp_cluster', 'GCF_011045835.1'), ('rep_is_in_new_sp_cluster', 'GCF_014764705.1'), ('rep_is_in_new_sp_cluster', 'GCF_016860525.1')], 5: [('rep_is_in_new_sp_cluster', 'GCA_000761495.1'), ('rep_is_in_new_sp_cluster', 'GCA_002712565.1'), ('rep_is_in_new_sp_cluster', 'GCA_002720285.1'), ('rep_is_in_new_sp_cluster', 'GCA_003086435.1'), ('rep_is_in_new_sp_cluster', 'GCA_007713455.1'), ('rep_is_in_new_sp_cluster', 'GCA_016780245.1'), ('rep_is_in_new_sp_cluster', 'GCA_018363915.1'), ('rep_is_in_new_sp_cluster', 'GCA_900548495.1'), ('rep_is_in_new_sp_cluster', 'GCA_900555355.1'), ('rep_is_in_new_sp_cluster', 'GCA_900751995.1'), ('rep_is_in_new_sp_cluster', 'GCA_900757715.1'), ('rep_is_in_new_sp_cluster', 'GCA_900759445.1'), ('non_rep_changed_sp_cluster', 'GCA_902388545.1'), ('rep_is_in_new_sp_cluster', 'GCA_902399855.1'), ('rep_is_in_new_sp_cluster', 'GCF_000008685.2'), ('rep_is_in_new_sp_cluster', 'GCF_000146185.1'), ('rep_is_in_new_sp_cluster', 'GCF_000181875.2'), ('rep_is_in_new_sp_cluster', 'GCF_000438455.1'), ('rep_is_in_new_sp_cluster', 'GCF_000935215.1'), ('non_rep_changed_sp_cluster', 'GCF_000964075.1'), ('rep_is_in_new_sp_cluster', 'GCF_001544135.1'), ('rep_is_in_new_sp_cluster', 'GCF_002216875.1'), ('non_rep_changed_sp_cluster', 'GCF_002913635.1'), ('rep_is_in_new_sp_cluster', 'GCF_002989035.1'), ('rep_is_in_new_sp_cluster', 'GCF_003052605.1'), ('rep_is_in_new_sp_cluster', 'GCF_003935375.1'), ('non_rep_changed_sp_cluster', 'GCF_003935605.1'), ('rep_is_in_new_sp_cluster', 'GCF_011045835.1'), ('non_rep_changed_sp_cluster', 'GCF_015667745.1'), ('rep_is_in_new_sp_cluster', 'GCF_016860525.1')], 10: [('rep_is_in_new_sp_cluster', 'GCA_000761495.1'), ('rep_is_in_new_sp_cluster', 'GCA_002720285.1'), ('rep_is_in_new_sp_cluster', 'GCA_003086435.1'), ('rep_is_in_new_sp_cluster', 'GCA_003519645.1'), ('rep_is_in_new_sp_cluster', 'GCA_007713455.1'), ('rep_is_in_new_sp_cluster', 'GCA_011620145.1'), ('non_rep_formed_new_cluster', 'GCA_012521055.1'), ('rep_is_in_new_sp_cluster', 'GCA_014871545.1'), ('rep_is_in_new_sp_cluster', 'GCA_016302095.1'), ('rep_is_in_new_sp_cluster', 'GCA_016780245.1'), ('non_rep_formed_new_cluster', 'GCA_017515185.1'), ('rep_is_in_new_sp_cluster', 'GCA_018067325.1'), ('rep_is_in_new_sp_cluster', 'GCA_018363915.1'), ('rep_is_in_new_sp_cluster', 'GCA_018365895.1'), ('rep_is_in_new_sp_cluster', 'GCA_018372555.1'), ('rep_is_in_new_sp_cluster', 'GCA_018375265.1'), ('rep_is_in_new_sp_cluster', 'GCA_900317105.1'), ('rep_is_in_new_sp_cluster', 'GCA_900548495.1'), ('rep_is_in_new_sp_cluster', 'GCA_900551635.1'), ('rep_is_in_new_sp_cluster', 'GCA_900555225.1'), ('rep_is_in_new_sp_cluster', 'GCA_900555355.1'), ('rep_is_in_new_sp_cluster', 'GCA_900751995.1'), ('rep_is_in_new_sp_cluster', 'GCA_900754385.1'), ('rep_is_in_new_sp_cluster', 'GCA_900757265.1'), ('rep_is_in_new_sp_cluster', 'GCA_900757715.1'), ('rep_is_in_new_sp_cluster', 'GCA_900759445.1'), ('non_rep_changed_sp_cluster', 'GCA_902388545.1'), ('rep_is_in_new_sp_cluster', 'GCA_902399855.1'), ('non_rep_changed_sp_cluster', 'GCA_905371425.1'), ('rep_is_in_new_sp_cluster', 'GCF_000008685.2'), ('rep_is_in_new_sp_cluster', 'GCF_000023965.1'), ('rep_is_in_new_sp_cluster', 'GCF_000230735.2'), ('non_rep_formed_new_cluster', 'GCF_000293035.1'), ('rep_is_in_new_sp_cluster', 'GCF_000438455.1'), ('rep_is_in_new_sp_cluster', 'GCF_000935215.1'), ('non_rep_changed_sp_cluster', 'GCF_000964075.1'), ('rep_is_in_new_sp_cluster', 'GCF_001544135.1'), ('rep_is_in_new_sp_cluster', 'GCF_001553955.1'), ('rep_is_in_new_sp_cluster', 'GCF_001571065.1'), ('rep_is_in_new_sp_cluster', 'GCF_001720585.1'), ('non_rep_changed_sp_cluster', 'GCF_001812365.1'), ('non_rep_changed_sp_cluster', 'GCF_001815585.1'), ('non_rep_changed_sp_cluster', 'GCF_002026585.1'), ('rep_is_in_new_sp_cluster', 'GCF_002156525.1'), ('non_rep_changed_sp_cluster', 'GCF_002912425.1'), ('non_rep_changed_sp_cluster', 'GCF_002913635.1'), ('rep_is_in_new_sp_cluster', 'GCF_002989035.1'), ('rep_is_in_new_sp_cluster', 'GCF_003052605.1'), ('rep_is_in_new_sp_cluster', 'GCF_003064105.1'), ('rep_is_in_new_sp_cluster', 'GCF_003935375.1'), ('non_rep_changed_sp_cluster', 'GCF_003935605.1'), ('non_rep_changed_sp_cluster', 'GCF_009717625.1'), ('rep_is_in_new_sp_cluster', 'GCF_014764705.1'), ('non_rep_changed_sp_cluster', 'GCF_016806285.1'), ('rep_is_in_new_sp_cluster', 'GCF_016860525.1')], 15: [('rep_is_in_new_sp_cluster', 'GCA_000761495.1'), ('non_rep_changed_sp_cluster', 'GCA_002291775.1'), ('rep_is_in_new_sp_cluster', 'GCA_002683515.1'), ('non_rep_formed_new_cluster', 'GCA_002712205.1'), ('rep_is_in_new_sp_cluster', 'GCA_002720285.1'), ('rep_is_in_new_sp_cluster', 'GCA_002728075.1'), ('rep_is_in_new_sp_cluster', 'GCA_003086435.1'), ('non_rep_formed_new_cluster', 'GCA_003150195.1'), ('non_rep_changed_sp_cluster', 'GCA_003487585.1'), ('rep_is_in_new_sp_cluster', 'GCA_003519645.1'), ('rep_is_in_new_sp_cluster', 'GCA_003520315.1'), ('rep_is_in_new_sp_cluster', 'GCA_007713455.1'), ('non_rep_formed_new_cluster', 'GCA_008668795.1'), ('rep_is_in_new_sp_cluster', 'GCA_009391605.1'), ('rep_is_in_new_sp_cluster', 'GCA_011620145.1'), ('rep_is_in_new_sp_cluster', 'GCA_014871545.1'), ('rep_is_in_new_sp_cluster', 'GCA_016302095.1'), ('rep_is_in_new_sp_cluster', 'GCA_016780245.1'), ('non_rep_formed_new_cluster', 'GCA_017515185.1'), ('rep_is_in_new_sp_cluster', 'GCA_018067325.1'), ('rep_is_in_new_sp_cluster', 'GCA_018363915.1'), ('rep_is_in_new_sp_cluster', 'GCA_018365895.1'), ('rep_is_in_new_sp_cluster', 'GCA_018371055.1'), ('rep_is_in_new_sp_cluster', 'GCA_018372555.1'), ('rep_is_in_new_sp_cluster', 'GCA_018375265.1'), ('rep_is_in_new_sp_cluster', 'GCA_018433265.1'), ('rep_is_in_new_sp_cluster', 'GCA_900317105.1'), ('rep_is_in_new_sp_cluster', 'GCA_900548495.1'), ('non_rep_formed_new_cluster', 'GCA_900548685.1'), ('rep_is_in_new_sp_cluster', 'GCA_900551635.1'), ('rep_is_in_new_sp_cluster', 'GCA_900555225.1'), ('rep_is_in_new_sp_cluster', 'GCA_900555355.1'), ('rep_is_in_new_sp_cluster', 'GCA_900557355.1'), ('rep_is_in_new_sp_cluster', 'GCA_900751995.1'), ('rep_is_in_new_sp_cluster', 'GCA_900752345.1'), ('rep_is_in_new_sp_cluster', 'GCA_900754385.1'), ('rep_is_in_new_sp_cluster', 'GCA_900757265.1'), ('rep_is_in_new_sp_cluster', 'GCA_900757715.1'), ('rep_is_in_new_sp_cluster', 'GCA_900759445.1'), ('non_rep_formed_new_cluster', 'GCA_900761055.1'), ('non_rep_changed_sp_cluster', 'GCA_902388545.1'), ('rep_is_in_new_sp_cluster', 'GCA_902560025.1'), ('rep_is_in_new_sp_cluster', 'GCA_902566725.1'), ('non_rep_formed_new_cluster', 'GCA_902593295.1'), ('rep_is_in_new_sp_cluster', 'GCA_905213265.1'), ('non_rep_changed_sp_cluster', 'GCA_905215365.1'), ('non_rep_changed_sp_cluster', 'GCA_905371425.1'), ('rep_is_in_new_sp_cluster', 'GCF_000008685.2'), ('rep_is_in_new_sp_cluster', 'GCF_000181875.2'), ('rep_is_in_new_sp_cluster', 'GCF_000230735.2'), ('rep_is_in_new_sp_cluster', 'GCF_000438455.1'), ('rep_is_in_new_sp_cluster', 'GCF_000935215.1'), ('non_rep_changed_sp_cluster', 'GCF_000964075.1'), ('rep_is_in_new_sp_cluster', 'GCF_001544135.1'), ('rep_is_in_new_sp_cluster', 'GCF_001552295.1'), ('rep_is_in_new_sp_cluster', 'GCF_001571065.1'), ('rep_is_in_new_sp_cluster', 'GCF_001720585.1'), ('non_rep_changed_sp_cluster', 'GCF_001812365.1'), ('non_rep_changed_sp_cluster', 'GCF_001815585.1'), ('non_rep_changed_sp_cluster', 'GCF_002026585.1'), ('rep_is_in_new_sp_cluster', 'GCF_002156525.1'), ('rep_is_in_new_sp_cluster', 'GCF_002192695.1'), ('non_rep_changed_sp_cluster', 'GCF_002912425.1'), ('non_rep_changed_sp_cluster', 'GCF_002913635.1'), ('non_rep_changed_sp_cluster', 'GCF_002913825.1'), ('non_rep_changed_sp_cluster', 'GCF_002984585.1'), ('rep_is_in_new_sp_cluster', 'GCF_002989035.1'), ('rep_is_in_new_sp_cluster', 'GCF_003052605.1'), ('rep_is_in_new_sp_cluster', 'GCF_003064105.1'), ('non_rep_changed_sp_cluster', 'GCF_003935605.1'), ('non_rep_changed_sp_cluster', 'GCF_008270385.1'), ('rep_is_in_new_sp_cluster', 'GCF_014201775.1'), ('rep_is_in_new_sp_cluster', 'GCF_014205895.1'), ('rep_is_in_new_sp_cluster', 'GCF_014764705.1'), ('non_rep_changed_sp_cluster', 'GCF_016806285.1'), ('rep_is_in_new_sp_cluster', 'GCF_016860525.1'), ('non_rep_changed_sp_cluster', 'GCF_902845755.1')], 20: [('rep_is_in_new_sp_cluster', 'GCA_000761495.1'), ('non_rep_changed_sp_cluster', 'GCA_002291775.1'), ('rep_is_in_new_sp_cluster', 'GCA_002683515.1'), ('non_rep_formed_new_cluster', 'GCA_002712205.1'), ('rep_is_in_new_sp_cluster', 'GCA_002720285.1'), ('rep_is_in_new_sp_cluster', 'GCA_002728075.1'), ('rep_is_in_new_sp_cluster', 'GCA_003086435.1'), ('rep_is_in_new_sp_cluster', 'GCA_003233295.1'), ('non_rep_changed_sp_cluster', 'GCA_003487585.1'), ('rep_is_in_new_sp_cluster', 'GCA_003519645.1'), ('rep_is_in_new_sp_cluster', 'GCA_003520315.1'), ('rep_is_in_new_sp_cluster', 'GCA_003987695.1'), ('rep_is_in_new_sp_cluster', 'GCA_007713455.1'), ('non_rep_formed_new_cluster', 'GCA_008668585.1'), ('non_rep_formed_new_cluster', 'GCA_008668795.1'), ('rep_is_in_new_sp_cluster', 'GCA_009391605.1'), ('rep_is_in_new_sp_cluster', 'GCA_009936885.1'), ('rep_is_in_new_sp_cluster', 'GCA_011620145.1'), ('rep_is_in_new_sp_cluster', 'GCA_014871545.1'), ('rep_is_in_new_sp_cluster', 'GCA_016302095.1'), ('rep_is_in_new_sp_cluster', 'GCA_016780245.1'), ('rep_is_in_new_sp_cluster', 'GCA_016882185.1'), ('non_rep_formed_new_cluster', 'GCA_017515185.1'), ('rep_is_in_new_sp_cluster', 'GCA_018067325.1'), ('rep_is_in_new_sp_cluster', 'GCA_018363915.1'), ('rep_is_in_new_sp_cluster', 'GCA_018365895.1'), ('rep_is_in_new_sp_cluster', 'GCA_018371055.1'), ('rep_is_in_new_sp_cluster', 'GCA_018372555.1'), ('rep_is_in_new_sp_cluster', 'GCA_018375265.1'), ('rep_is_in_new_sp_cluster', 'GCA_018433265.1'), ('rep_is_in_new_sp_cluster', 'GCA_900317105.1'), ('rep_is_in_new_sp_cluster', 'GCA_900548495.1'), ('non_rep_formed_new_cluster', 'GCA_900548685.1'), ('rep_is_in_new_sp_cluster', 'GCA_900551635.1'), ('rep_is_in_new_sp_cluster', 'GCA_900555225.1'), ('rep_is_in_new_sp_cluster', 'GCA_900555355.1'), ('rep_is_in_new_sp_cluster', 'GCA_900557355.1'), ('rep_is_in_new_sp_cluster', 'GCA_900751995.1'), ('rep_is_in_new_sp_cluster', 'GCA_900752345.1'), ('rep_is_in_new_sp_cluster', 'GCA_900754385.1'), ('rep_is_in_new_sp_cluster', 'GCA_900755005.1'), ('rep_is_in_new_sp_cluster', 'GCA_900757265.1'), ('rep_is_in_new_sp_cluster', 'GCA_900757715.1'), ('rep_is_in_new_sp_cluster', 'GCA_900759445.1'), ('non_rep_formed_new_cluster', 'GCA_900761055.1'), ('non_rep_changed_sp_cluster', 'GCA_902388545.1'), ('rep_is_in_new_sp_cluster', 'GCA_902399855.1'), ('rep_is_in_new_sp_cluster', 'GCA_902560025.1'), ('rep_is_in_new_sp_cluster', 'GCA_902615045.1'), ('non_rep_changed_sp_cluster', 'GCA_902619155.1'), ('rep_is_in_new_sp_cluster', 'GCA_903920215.1'), ('non_rep_changed_sp_cluster', 'GCA_905194905.1'), ('rep_is_in_new_sp_cluster', 'GCA_905197385.1'), ('non_rep_changed_sp_cluster', 'GCA_905212025.1'), ('rep_is_in_new_sp_cluster', 'GCA_905213265.1'), ('rep_is_in_new_sp_cluster', 'GCA_905214105.1'), ('non_rep_changed_sp_cluster', 'GCA_905215365.1'), ('rep_is_in_new_sp_cluster', 'GCA_905478895.1'), ('rep_is_in_new_sp_cluster', 'GCF_000008685.2'), ('rep_is_in_new_sp_cluster', 'GCF_000170955.2'), ('rep_is_in_new_sp_cluster', 'GCF_000181875.2'), ('rep_is_in_new_sp_cluster', 'GCF_000438455.1'), ('rep_is_in_new_sp_cluster', 'GCF_000935215.1'), ('non_rep_changed_sp_cluster', 'GCF_000964075.1'), ('rep_is_in_new_sp_cluster', 'GCF_001544135.1'), ('rep_is_in_new_sp_cluster', 'GCF_001552295.1'), ('rep_is_in_new_sp_cluster', 'GCF_001571065.1'), ('rep_is_in_new_sp_cluster', 'GCF_001720585.1'), ('non_rep_changed_sp_cluster', 'GCF_001812365.1'), ('non_rep_changed_sp_cluster', 'GCF_001815585.1'), ('rep_is_in_new_sp_cluster', 'GCF_001945665.1'), ('non_rep_changed_sp_cluster', 'GCF_002026585.1'), ('non_rep_changed_sp_cluster', 'GCF_002035805.1'), ('rep_is_in_new_sp_cluster', 'GCF_002156525.1'), ('rep_is_in_new_sp_cluster', 'GCF_002192695.1'), ('non_rep_changed_sp_cluster', 'GCF_002912425.1'), ('non_rep_changed_sp_cluster', 'GCF_002913635.1'), ('rep_is_in_new_sp_cluster', 'GCF_002989035.1'), ('rep_is_in_new_sp_cluster', 'GCF_003052605.1'), ('rep_is_in_new_sp_cluster', 'GCF_003064105.1'), ('rep_is_in_new_sp_cluster', 'GCF_003935375.1'), ('non_rep_changed_sp_cluster', 'GCF_003935605.1'), ('rep_is_in_new_sp_cluster', 'GCF_009469595.1'), ('rep_is_in_new_sp_cluster', 'GCF_014201775.1'), ('rep_is_in_new_sp_cluster', 'GCF_014764705.1'), ('non_rep_changed_sp_cluster', 'GCF_016806285.1'), ('non_rep_changed_sp_cluster', 'GCF_016806405.1'), ('non_rep_changed_sp_cluster', 'GCF_017151305.1'), ('non_rep_changed_sp_cluster', 'GCF_018499505.1'), ('non_rep_changed_sp_cluster', 'GCF_902845755.1')], 30: [('rep_is_in_new_sp_cluster', 'GCA_000761495.1'), ('non_rep_changed_sp_cluster', 'GCA_002291775.1'), ('rep_is_in_new_sp_cluster', 'GCA_002683515.1'), ('rep_is_in_new_sp_cluster', 'GCA_002685315.1'), ('rep_is_in_new_sp_cluster', 'GCA_002690085.1'), ('rep_is_in_new_sp_cluster', 'GCA_002703065.1'), ('rep_is_in_new_sp_cluster', 'GCA_002720285.1'), ('rep_is_in_new_sp_cluster', 'GCA_002728075.1'), ('rep_is_in_new_sp_cluster', 'GCA_003086435.1'), ('non_rep_changed_sp_cluster', 'GCA_003487585.1'), ('rep_is_in_new_sp_cluster', 'GCA_003519645.1'), ('rep_is_in_new_sp_cluster', 'GCA_003520315.1'), ('non_rep_changed_sp_cluster', 'GCA_003525825.1'), ('non_rep_changed_sp_cluster', 'GCA_003530955.1'), ('rep_is_in_new_sp_cluster', 'GCA_003987695.1'), ('non_rep_formed_new_cluster', 'GCA_008668585.1'), ('non_rep_formed_new_cluster', 'GCA_008668795.1'), ('rep_is_in_new_sp_cluster', 'GCA_009391605.1'), ('rep_is_in_new_sp_cluster', 'GCA_009936885.1'), ('rep_is_in_new_sp_cluster', 'GCA_011620145.1'), ('rep_is_in_new_sp_cluster', 'GCA_012964215.1'), ('rep_is_in_new_sp_cluster', 'GCA_014871545.1'), ('rep_is_in_new_sp_cluster', 'GCA_014871605.1'), ('rep_is_in_new_sp_cluster', 'GCA_015232335.1'), ('rep_is_in_new_sp_cluster', 'GCA_015264885.1'), ('rep_is_in_new_sp_cluster', 'GCA_016302095.1'), ('rep_is_in_new_sp_cluster', 'GCA_016780245.1'), ('rep_is_in_new_sp_cluster', 'GCA_016882185.1'), ('non_rep_formed_new_cluster', 'GCA_017515185.1'), ('rep_is_in_new_sp_cluster', 'GCA_018054125.1'), ('rep_is_in_new_sp_cluster', 'GCA_018067325.1'), ('rep_is_in_new_sp_cluster', 'GCA_018363915.1'), ('rep_is_in_new_sp_cluster', 'GCA_018365895.1'), ('rep_is_in_new_sp_cluster', 'GCA_018371055.1'), ('rep_is_in_new_sp_cluster', 'GCA_018372555.1'), ('rep_is_in_new_sp_cluster', 'GCA_018375265.1'), ('rep_is_in_new_sp_cluster', 'GCA_018433265.1'), ('rep_is_in_new_sp_cluster', 'GCA_900317105.1'), ('rep_is_in_new_sp_cluster', 'GCA_900548495.1'), ('rep_is_in_new_sp_cluster', 'GCA_900551635.1'), ('rep_is_in_new_sp_cluster', 'GCA_900555225.1'), ('rep_is_in_new_sp_cluster', 'GCA_900555355.1'), ('rep_is_in_new_sp_cluster', 'GCA_900557355.1'), ('non_rep_changed_sp_cluster', 'GCA_900751965.1'), ('rep_is_in_new_sp_cluster', 'GCA_900751995.1'), ('rep_is_in_new_sp_cluster', 'GCA_900752345.1'), ('rep_is_in_new_sp_cluster', 'GCA_900754385.1'), ('rep_is_in_new_sp_cluster', 'GCA_900755005.1'), ('non_rep_changed_sp_cluster', 'GCA_900756095.1'), ('rep_is_in_new_sp_cluster', 'GCA_900757265.1'), ('rep_is_in_new_sp_cluster', 'GCA_900757715.1'), ('rep_is_in_new_sp_cluster', 'GCA_900759445.1'), ('non_rep_formed_new_cluster', 'GCA_900761055.1'), ('non_rep_formed_new_cluster', 'GCA_900763945.1'), ('non_rep_formed_new_cluster', 'GCA_900765645.1'), ('non_rep_changed_sp_cluster', 'GCA_902388545.1'), ('rep_is_in_new_sp_cluster', 'GCA_902399855.1'), ('non_rep_formed_new_cluster', 'GCA_902539685.1'), ('rep_is_in_new_sp_cluster', 'GCA_902560025.1'), ('non_rep_changed_sp_cluster', 'GCA_902573475.1'), ('rep_is_in_new_sp_cluster', 'GCA_902615045.1'), ('non_rep_changed_sp_cluster', 'GCA_902619155.1'), ('rep_is_in_new_sp_cluster', 'GCA_903920215.1'), ('non_rep_changed_sp_cluster', 'GCA_905194905.1'), ('rep_is_in_new_sp_cluster', 'GCA_905197385.1'), ('non_rep_changed_sp_cluster', 'GCA_905208535.1'), ('non_rep_changed_sp_cluster', 'GCA_905212025.1'), ('rep_is_in_new_sp_cluster', 'GCA_905213265.1'), ('rep_is_in_new_sp_cluster', 'GCA_905214525.1'), ('rep_is_in_new_sp_cluster', 'GCA_905216205.1'), ('rep_is_in_new_sp_cluster', 'GCA_905478895.1'), ('rep_is_in_new_sp_cluster', 'GCF_000008685.2'), ('rep_is_in_new_sp_cluster', 'GCF_000170955.2'), ('rep_is_in_new_sp_cluster', 'GCF_000222305.1'), ('rep_is_in_new_sp_cluster', 'GCF_000438455.1'), ('rep_is_in_new_sp_cluster', 'GCF_000935215.1'), ('non_rep_changed_sp_cluster', 'GCF_000964075.1'), ('rep_is_in_new_sp_cluster', 'GCF_000964425.1'), ('rep_is_in_new_sp_cluster', 'GCF_001544135.1'), ('rep_is_in_new_sp_cluster', 'GCF_001552295.1'), ('rep_is_in_new_sp_cluster', 'GCF_001571065.1'), ('rep_is_in_new_sp_cluster', 'GCF_001713415.1'), ('rep_is_in_new_sp_cluster', 'GCF_001720585.1'), ('non_rep_changed_sp_cluster', 'GCF_001812365.1'), ('non_rep_changed_sp_cluster', 'GCF_001815585.1'), ('rep_is_in_new_sp_cluster', 'GCF_001945665.1'), ('non_rep_changed_sp_cluster', 'GCF_002035805.1'), ('rep_is_in_new_sp_cluster', 'GCF_002156525.1'), ('rep_is_in_new_sp_cluster', 'GCF_002192695.1'), ('non_rep_changed_sp_cluster', 'GCF_002912425.1'), ('non_rep_changed_sp_cluster', 'GCF_002913635.1'), ('rep_is_in_new_sp_cluster', 'GCF_002989035.1'), ('rep_is_in_new_sp_cluster', 'GCF_003052605.1'), ('rep_is_in_new_sp_cluster', 'GCF_003064105.1'), ('non_rep_changed_sp_cluster', 'GCF_003463445.1'), ('non_rep_changed_sp_cluster', 'GCF_003495765.1'), ('rep_is_in_new_sp_cluster', 'GCF_003697915.1'), ('non_rep_formed_new_cluster', 'GCF_003935605.1'), ('rep_is_in_new_sp_cluster', 'GCF_009469595.1'), ('non_rep_changed_sp_cluster', 'GCF_009493905.1'), ('non_rep_changed_sp_cluster', 'GCF_009493935.1'), ('non_rep_changed_sp_cluster', 'GCF_009493995.1'), ('non_rep_changed_sp_cluster', 'GCF_009717625.1'), ('rep_is_in_new_sp_cluster', 'GCF_014201775.1'), ('rep_is_in_new_sp_cluster', 'GCF_014205885.1'), ('rep_is_in_new_sp_cluster', 'GCF_014764705.1'), ('non_rep_changed_sp_cluster', 'GCF_015667745.1'), ('non_rep_changed_sp_cluster', 'GCF_016806285.1'), ('non_rep_changed_sp_cluster', 'GCF_016806405.1'), ('rep_is_in_new_sp_cluster', 'GCF_016899775.1'), ('non_rep_changed_sp_cluster', 'GCF_017151305.1'), ('non_rep_changed_sp_cluster', 'GCF_018499505.1'), ('non_rep_formed_new_cluster', 'GCF_018617535.1'), ('non_rep_formed_new_cluster', 'GCF_018617555.1'), ('non_rep_changed_sp_cluster', 'GCF_902845755.1')], 40: [('rep_is_in_new_sp_cluster', 'GCA_000761495.1'), ('non_rep_changed_sp_cluster', 'GCA_002291775.1'), ('rep_is_in_new_sp_cluster', 'GCA_002633275.1'), ('rep_is_in_new_sp_cluster', 'GCA_002683515.1'), ('rep_is_in_new_sp_cluster', 'GCA_002685315.1'), ('rep_is_in_new_sp_cluster', 'GCA_002703065.1'), ('rep_is_in_new_sp_cluster', 'GCA_002712565.1'), ('rep_is_in_new_sp_cluster', 'GCA_002720285.1'), ('rep_is_in_new_sp_cluster', 'GCA_002725495.1'), ('rep_is_in_new_sp_cluster', 'GCA_002728075.1'), ('rep_is_in_new_sp_cluster', 'GCA_003086435.1'), ('non_rep_changed_sp_cluster', 'GCA_003487585.1'), ('rep_is_in_new_sp_cluster', 'GCA_003519645.1'), ('rep_is_in_new_sp_cluster', 'GCA_003520315.1'), ('non_rep_changed_sp_cluster', 'GCA_003525825.1'), ('rep_is_in_new_sp_cluster', 'GCA_003535775.1'), ('non_rep_formed_new_cluster', 'GCA_003567155.1'), ('rep_is_in_new_sp_cluster', 'GCA_003987695.1'), ('rep_is_in_new_sp_cluster', 'GCA_004124465.1'), ('non_rep_changed_sp_cluster', 'GCA_007096555.1'), ('rep_is_in_new_sp_cluster', 'GCA_007713455.1'), ('non_rep_formed_new_cluster', 'GCA_008668585.1'), ('non_rep_formed_new_cluster', 'GCA_008668795.1'), ('rep_is_in_new_sp_cluster', 'GCA_009391605.1'), ('rep_is_in_new_sp_cluster', 'GCA_009392775.1'), ('non_rep_formed_new_cluster', 'GCA_009619015.1'), ('rep_is_in_new_sp_cluster', 'GCA_009936885.1'), ('rep_is_in_new_sp_cluster', 'GCA_011620145.1'), ('rep_is_in_new_sp_cluster', 'GCA_012964215.1'), ('rep_is_in_new_sp_cluster', 'GCA_013151565.1'), ('rep_is_in_new_sp_cluster', 'GCA_014871545.1'), ('rep_is_in_new_sp_cluster', 'GCA_014871605.1'), ('non_rep_formed_new_cluster', 'GCA_014894375.1'), ('rep_is_in_new_sp_cluster', 'GCA_015232335.1'), ('non_rep_formed_new_cluster', 'GCA_015257755.1'), ('rep_is_in_new_sp_cluster', 'GCA_015264885.1'), ('rep_is_in_new_sp_cluster', 'GCA_016302095.1'), ('non_rep_formed_new_cluster', 'GCA_016707075.1'), ('rep_is_in_new_sp_cluster', 'GCA_016777745.1'), ('rep_is_in_new_sp_cluster', 'GCA_016780245.1'), ('rep_is_in_new_sp_cluster', 'GCA_016882185.1'), ('non_rep_changed_sp_cluster', 'GCA_016939315.1'), ('non_rep_formed_new_cluster', 'GCA_017465765.1'), ('non_rep_formed_new_cluster', 'GCA_017515185.1'), ('non_rep_changed_sp_cluster', 'GCA_018056875.1'), ('rep_is_in_new_sp_cluster', 'GCA_018067325.1'), ('non_rep_formed_new_cluster', 'GCA_018239885.1'), ('rep_is_in_new_sp_cluster', 'GCA_018240785.1'), ('non_rep_formed_new_cluster', 'GCA_018363345.1'), ('rep_is_in_new_sp_cluster', 'GCA_018363915.1'), ('rep_is_in_new_sp_cluster', 'GCA_018365895.1'), ('rep_is_in_new_sp_cluster', 'GCA_018371055.1'), ('rep_is_in_new_sp_cluster', 'GCA_018375265.1'), ('rep_is_in_new_sp_cluster', 'GCA_018433265.1'), ('rep_is_in_new_sp_cluster', 'GCA_900548495.1'), ('non_rep_formed_new_cluster', 'GCA_900548685.1'), ('rep_is_in_new_sp_cluster', 'GCA_900551635.1'), ('rep_is_in_new_sp_cluster', 'GCA_900555225.1'), ('rep_is_in_new_sp_cluster', 'GCA_900555355.1'), ('non_rep_formed_new_cluster', 'GCA_900555595.1'), ('rep_is_in_new_sp_cluster', 'GCA_900557255.1'), ('rep_is_in_new_sp_cluster', 'GCA_900557355.1'), ('non_rep_changed_sp_cluster', 'GCA_900751965.1'), ('rep_is_in_new_sp_cluster', 'GCA_900751995.1'), ('rep_is_in_new_sp_cluster', 'GCA_900752345.1'), ('rep_is_in_new_sp_cluster', 'GCA_900754385.1'), ('rep_is_in_new_sp_cluster', 'GCA_900755005.1'), ('non_rep_changed_sp_cluster', 'GCA_900756095.1'), ('rep_is_in_new_sp_cluster', 'GCA_900757265.1'), ('rep_is_in_new_sp_cluster', 'GCA_900757715.1'), ('rep_is_in_new_sp_cluster', 'GCA_900759445.1'), ('non_rep_formed_new_cluster', 'GCA_900761055.1'), ('rep_is_in_new_sp_cluster', 'GCA_900761085.1'), ('non_rep_formed_new_cluster', 'GCA_900761595.1'), ('non_rep_formed_new_cluster', 'GCA_900763945.1'), ('non_rep_formed_new_cluster', 'GCA_900765645.1'), ('non_rep_changed_sp_cluster', 'GCA_902388545.1'), ('rep_is_in_new_sp_cluster', 'GCA_902399855.1'), ('non_rep_formed_new_cluster', 'GCA_902528895.1'), ('non_rep_formed_new_cluster', 'GCA_902539685.1'), ('rep_is_in_new_sp_cluster', 'GCA_902546615.1'), ('rep_is_in_new_sp_cluster', 'GCA_902560025.1'), ('non_rep_changed_sp_cluster', 'GCA_902568005.1'), ('non_rep_changed_sp_cluster', 'GCA_902573475.1'), ('non_rep_formed_new_cluster', 'GCA_902593295.1'), ('non_rep_changed_sp_cluster', 'GCA_902619155.1'), ('rep_is_in_new_sp_cluster', 'GCA_903920215.1'), ('rep_is_in_new_sp_cluster', 'GCA_905197385.1'), ('non_rep_formed_new_cluster', 'GCA_905200745.1'), ('non_rep_changed_sp_cluster', 'GCA_905208535.1'), ('non_rep_changed_sp_cluster', 'GCA_905212025.1'), ('rep_is_in_new_sp_cluster', 'GCA_905213265.1'), ('rep_is_in_new_sp_cluster', 'GCA_905214525.1'), ('non_rep_formed_new_cluster', 'GCA_905214645.1'), ('rep_is_in_new_sp_cluster', 'GCA_905216205.1'), ('rep_is_in_new_sp_cluster', 'GCA_905478895.1'), ('rep_is_in_new_sp_cluster', 'GCF_000008685.2'), ('rep_is_in_new_sp_cluster', 'GCF_000181875.2'), ('rep_is_in_new_sp_cluster', 'GCF_000222305.1'), ('rep_is_in_new_sp_cluster', 'GCF_000438455.1'), ('non_rep_formed_new_cluster', 'GCF_000698005.1'), ('rep_is_in_new_sp_cluster', 'GCF_000761245.1'), ('rep_is_in_new_sp_cluster', 'GCF_000935215.1'), ('non_rep_changed_sp_cluster', 'GCF_000964075.1'), ('rep_is_in_new_sp_cluster', 'GCF_001544135.1'), ('rep_is_in_new_sp_cluster', 'GCF_001552295.1'), ('rep_is_in_new_sp_cluster', 'GCF_001571065.1'), ('rep_is_in_new_sp_cluster', 'GCF_001720585.1'), ('non_rep_changed_sp_cluster', 'GCF_001812365.1'), ('non_rep_formed_new_cluster', 'GCF_001814445.1'), ('non_rep_changed_sp_cluster', 'GCF_001815585.1'), ('rep_is_in_new_sp_cluster', 'GCF_001945665.1'), ('non_rep_changed_sp_cluster', 'GCF_002035805.1'), ('rep_is_in_new_sp_cluster', 'GCF_002156525.1'), ('rep_is_in_new_sp_cluster', 'GCF_002192695.1'), ('non_rep_formed_new_cluster', 'GCF_002883995.1'), ('non_rep_changed_sp_cluster', 'GCF_002912425.1'), ('non_rep_changed_sp_cluster', 'GCF_002913635.1'), ('non_rep_changed_sp_cluster', 'GCF_002984585.1'), ('rep_is_in_new_sp_cluster', 'GCF_002989035.1'), ('rep_is_in_new_sp_cluster', 'GCF_003052605.1'), ('rep_is_in_new_sp_cluster', 'GCF_003064105.1'), ('non_rep_changed_sp_cluster', 'GCF_003463445.1'), ('rep_is_in_new_sp_cluster', 'GCF_003697915.1'), ('rep_is_in_new_sp_cluster', 'GCF_003935375.1'), ('non_rep_formed_new_cluster', 'GCF_003935605.1'), ('rep_is_in_new_sp_cluster', 'GCF_009469595.1'), ('non_rep_changed_sp_cluster', 'GCF_009493935.1'), ('non_rep_changed_sp_cluster', 'GCF_009494015.1'), ('non_rep_changed_sp_cluster', 'GCF_009717625.1'), ('non_rep_formed_new_cluster', 'GCF_011753235.1'), ('non_rep_changed_sp_cluster', 'GCF_013417155.1'), ('rep_is_in_new_sp_cluster', 'GCF_014764705.1'), ('non_rep_changed_sp_cluster', 'GCF_015667745.1'), ('non_rep_changed_sp_cluster', 'GCF_016806285.1'), ('non_rep_changed_sp_cluster', 'GCF_016806405.1'), ('rep_is_in_new_sp_cluster', 'GCF_016899775.1'), ('non_rep_changed_sp_cluster', 'GCF_018499505.1'), ('non_rep_changed_sp_cluster', 'GCF_902845755.1')], 50: [('rep_is_in_new_sp_cluster', 'GCA_000761495.1'), ('non_rep_formed_new_cluster', 'GCA_001509115.1'), ('rep_is_in_new_sp_cluster', 'GCA_001543395.1'), ('non_rep_changed_sp_cluster', 'GCA_002291775.1'), ('non_rep_changed_sp_cluster', 'GCA_002497195.1'), ('rep_is_in_new_sp_cluster', 'GCA_002633275.1'), ('rep_is_in_new_sp_cluster', 'GCA_002683515.1'), ('rep_is_in_new_sp_cluster', 'GCA_002685315.1'), ('rep_is_in_new_sp_cluster', 'GCA_002690085.1'), ('non_rep_changed_sp_cluster', 'GCA_002703565.1'), ('rep_is_in_new_sp_cluster', 'GCA_002712565.1'), ('rep_is_in_new_sp_cluster', 'GCA_002720285.1'), ('non_rep_formed_new_cluster', 'GCA_002722235.1'), ('rep_is_in_new_sp_cluster', 'GCA_002725495.1'), ('rep_is_in_new_sp_cluster', 'GCA_002728075.1'), ('non_rep_formed_new_cluster', 'GCA_002731855.1'), ('rep_is_in_new_sp_cluster', 'GCA_003086435.1'), ('rep_is_in_new_sp_cluster', 'GCA_003233295.1'), ('non_rep_changed_sp_cluster', 'GCA_003487585.1'), ('rep_is_in_new_sp_cluster', 'GCA_003519645.1'), ('rep_is_in_new_sp_cluster', 'GCA_003520315.1'), ('non_rep_changed_sp_cluster', 'GCA_003525825.1'), ('non_rep_changed_sp_cluster', 'GCA_003530955.1'), ('rep_is_in_new_sp_cluster', 'GCA_003535775.1'), ('rep_is_in_new_sp_cluster', 'GCA_003987695.1'), ('rep_is_in_new_sp_cluster', 'GCA_004124465.1'), ('non_rep_changed_sp_cluster', 'GCA_007096555.1'), ('rep_is_in_new_sp_cluster', 'GCA_007713455.1'), ('non_rep_formed_new_cluster', 'GCA_008668585.1'), ('non_rep_formed_new_cluster', 'GCA_008668795.1'), ('rep_is_in_new_sp_cluster', 'GCA_009391605.1'), ('rep_is_in_new_sp_cluster', 'GCA_009392775.1'), ('non_rep_formed_new_cluster', 'GCA_009493725.1'), ('non_rep_formed_new_cluster', 'GCA_009619015.1'), ('rep_is_in_new_sp_cluster', 'GCA_009936885.1'), ('non_rep_changed_sp_cluster', 'GCA_011523095.1'), ('non_rep_formed_new_cluster', 'GCA_011523145.1'), ('rep_is_in_new_sp_cluster', 'GCA_011620145.1'), ('rep_is_in_new_sp_cluster', 'GCA_012961165.1'), ('rep_is_in_new_sp_cluster', 'GCA_012964215.1'), ('non_rep_formed_new_cluster', 'GCA_013213925.1'), ('rep_is_in_new_sp_cluster', 'GCA_014871545.1'), ('rep_is_in_new_sp_cluster', 'GCA_014871605.1'), ('rep_is_in_new_sp_cluster', 'GCA_015232335.1'), ('non_rep_formed_new_cluster', 'GCA_015257755.1'), ('rep_is_in_new_sp_cluster', 'GCA_015264885.1'), ('rep_is_in_new_sp_cluster', 'GCA_016302095.1'), ('rep_is_in_new_sp_cluster', 'GCA_016777265.1'), ('rep_is_in_new_sp_cluster', 'GCA_016777745.1'), ('rep_is_in_new_sp_cluster', 'GCA_016882185.1'), ('non_rep_changed_sp_cluster', 'GCA_016939315.1'), ('non_rep_formed_new_cluster', 'GCA_017394825.1'), ('non_rep_formed_new_cluster', 'GCA_017465765.1'), ('non_rep_formed_new_cluster', 'GCA_017515185.1'), ('non_rep_formed_new_cluster', 'GCA_017852475.1'), ('rep_is_in_new_sp_cluster', 'GCA_017857425.1'), ('rep_is_in_new_sp_cluster', 'GCA_017940955.1'), ('non_rep_formed_new_cluster', 'GCA_018056875.1'), ('rep_is_in_new_sp_cluster', 'GCA_018067325.1'), ('non_rep_formed_new_cluster', 'GCA_018239885.1'), ('rep_is_in_new_sp_cluster', 'GCA_018240785.1'), ('rep_is_in_new_sp_cluster', 'GCA_018363915.1'), ('rep_is_in_new_sp_cluster', 'GCA_018365895.1'), ('non_rep_changed_sp_cluster', 'GCA_018370815.1'), ('rep_is_in_new_sp_cluster', 'GCA_018371055.1'), ('rep_is_in_new_sp_cluster', 'GCA_018372555.1'), ('non_rep_changed_sp_cluster', 'GCA_018372635.1'), ('rep_is_in_new_sp_cluster', 'GCA_018375265.1'), ('rep_is_in_new_sp_cluster', 'GCA_018378775.1'), ('non_rep_changed_sp_cluster', 'GCA_018383955.1'), ('rep_is_in_new_sp_cluster', 'GCA_018433265.1'), ('non_rep_formed_new_cluster', 'GCA_018662785.1'), ('rep_is_in_new_sp_cluster', 'GCA_018894445.1'), ('rep_is_in_new_sp_cluster', 'GCA_900548495.1'), ('rep_is_in_new_sp_cluster', 'GCA_900551635.1'), ('rep_is_in_new_sp_cluster', 'GCA_900555155.1'), ('rep_is_in_new_sp_cluster', 'GCA_900555225.1'), ('rep_is_in_new_sp_cluster', 'GCA_900555355.1'), ('non_rep_formed_new_cluster', 'GCA_900555595.1'), ('rep_is_in_new_sp_cluster', 'GCA_900557255.1'), ('rep_is_in_new_sp_cluster', 'GCA_900751995.1'), ('rep_is_in_new_sp_cluster', 'GCA_900752345.1'), ('rep_is_in_new_sp_cluster', 'GCA_900754275.1'), ('rep_is_in_new_sp_cluster', 'GCA_900754385.1'), ('rep_is_in_new_sp_cluster', 'GCA_900755005.1'), ('non_rep_changed_sp_cluster', 'GCA_900756095.1'), ('rep_is_in_new_sp_cluster', 'GCA_900756605.1'), ('rep_is_in_new_sp_cluster', 'GCA_900757205.1'), ('rep_is_in_new_sp_cluster', 'GCA_900757265.1'), ('rep_is_in_new_sp_cluster', 'GCA_900757715.1'), ('non_rep_formed_new_cluster', 'GCA_900759145.1'), ('rep_is_in_new_sp_cluster', 'GCA_900759445.1'), ('non_rep_formed_new_cluster', 'GCA_900759525.1'), ('non_rep_formed_new_cluster', 'GCA_900760075.1'), ('non_rep_formed_new_cluster', 'GCA_900761055.1'), ('rep_is_in_new_sp_cluster', 'GCA_900761085.1'), ('non_rep_formed_new_cluster', 'GCA_900761595.1'), ('non_rep_formed_new_cluster', 'GCA_900763945.1'), ('non_rep_formed_new_cluster', 'GCA_900765305.1'), ('non_rep_changed_sp_cluster', 'GCA_902363945.1'), ('non_rep_changed_sp_cluster', 'GCA_902388545.1'), ('non_rep_formed_new_cluster', 'GCA_902528895.1'), ('non_rep_changed_sp_cluster', 'GCA_902539685.1'), ('rep_is_in_new_sp_cluster', 'GCA_902546615.1'), ('rep_is_in_new_sp_cluster', 'GCA_902560025.1'), ('non_rep_formed_new_cluster', 'GCA_902560595.1'), ('non_rep_changed_sp_cluster', 'GCA_902568005.1'), ('non_rep_changed_sp_cluster', 'GCA_902573475.1'), ('non_rep_formed_new_cluster', 'GCA_902593295.1'), ('rep_is_in_new_sp_cluster', 'GCA_902615045.1'), ('rep_is_in_new_sp_cluster', 'GCA_902617465.1'), ('non_rep_changed_sp_cluster', 'GCA_902619155.1'), ('non_rep_formed_new_cluster', 'GCA_903846615.1'), ('rep_is_in_new_sp_cluster', 'GCA_903920215.1'), ('non_rep_formed_new_cluster', 'GCA_903931905.1'), ('rep_is_in_new_sp_cluster', 'GCA_905197385.1'), ('non_rep_formed_new_cluster', 'GCA_905200745.1'), ('non_rep_formed_new_cluster', 'GCA_905201125.1'), ('non_rep_formed_new_cluster', 'GCA_905208535.1'), ('non_rep_changed_sp_cluster', 'GCA_905212025.1'), ('non_rep_changed_sp_cluster', 'GCA_905212495.1'), ('rep_is_in_new_sp_cluster', 'GCA_905213265.1'), ('rep_is_in_new_sp_cluster', 'GCA_905214105.1'), ('rep_is_in_new_sp_cluster', 'GCA_905214525.1'), ('non_rep_formed_new_cluster', 'GCA_905214645.1'), ('non_rep_changed_sp_cluster', 'GCA_905215365.1'), ('rep_is_in_new_sp_cluster', 'GCA_905216205.1'), ('rep_is_in_new_sp_cluster', 'GCA_905478895.1'), ('rep_is_in_new_sp_cluster', 'GCF_000008685.2'), ('rep_is_in_new_sp_cluster', 'GCF_000181875.2'), ('rep_is_in_new_sp_cluster', 'GCF_000188175.1'), ('rep_is_in_new_sp_cluster', 'GCF_000438455.1'), ('non_rep_formed_new_cluster', 'GCF_000698005.1'), ('rep_is_in_new_sp_cluster', 'GCF_000761245.1'), ('rep_is_in_new_sp_cluster', 'GCF_000935215.1'), ('non_rep_changed_sp_cluster', 'GCF_000964075.1'), ('rep_is_in_new_sp_cluster', 'GCF_001544135.1'), ('rep_is_in_new_sp_cluster', 'GCF_001552295.1'), ('rep_is_in_new_sp_cluster', 'GCF_001571065.1'), ('rep_is_in_new_sp_cluster', 'GCF_001720585.1'), ('non_rep_changed_sp_cluster', 'GCF_001812365.1'), ('non_rep_changed_sp_cluster', 'GCF_001815585.1'), ('rep_is_in_new_sp_cluster', 'GCF_001870785.1'), ('non_rep_changed_sp_cluster', 'GCF_002026585.1'), ('non_rep_changed_sp_cluster', 'GCF_002035805.1'), ('rep_is_in_new_sp_cluster', 'GCF_002156525.1'), ('rep_is_in_new_sp_cluster', 'GCF_002192695.1'), ('non_rep_formed_new_cluster', 'GCF_002883995.1'), ('non_rep_changed_sp_cluster', 'GCF_002912425.1'), ('non_rep_changed_sp_cluster', 'GCF_002913635.1'), ('non_rep_changed_sp_cluster', 'GCF_002985665.1'), ('rep_is_in_new_sp_cluster', 'GCF_002989035.1'), ('rep_is_in_new_sp_cluster', 'GCF_003052605.1'), ('rep_is_in_new_sp_cluster', 'GCF_003064105.1'), ('rep_is_in_new_sp_cluster', 'GCF_003284925.1'), ('non_rep_changed_sp_cluster', 'GCF_003462845.1'), ('non_rep_changed_sp_cluster', 'GCF_003463445.1'), ('rep_is_in_new_sp_cluster', 'GCF_003697915.1'), ('rep_is_in_new_sp_cluster', 'GCF_003935375.1'), ('non_rep_changed_sp_cluster', 'GCF_003935605.1'), ('rep_is_in_new_sp_cluster', 'GCF_005144475.1'), ('rep_is_in_new_sp_cluster', 'GCF_007559425.1'), ('rep_is_in_new_sp_cluster', 'GCF_009469595.1'), ('non_rep_changed_sp_cluster', 'GCF_009494015.1'), ('non_rep_changed_sp_cluster', 'GCF_009649595.1'), ('non_rep_changed_sp_cluster', 'GCF_009717625.1'), ('non_rep_changed_sp_cluster', 'GCF_014284905.1'), ('rep_is_in_new_sp_cluster', 'GCF_014764705.1'), ('non_rep_formed_new_cluster', 'GCF_015643835.1'), ('non_rep_changed_sp_cluster', 'GCF_015667745.1'), ('non_rep_changed_sp_cluster', 'GCF_016806285.1'), ('non_rep_changed_sp_cluster', 'GCF_016806405.1'), ('rep_is_in_new_sp_cluster', 'GCF_016899775.1'), ('non_rep_changed_sp_cluster', 'GCF_017151305.1'), ('non_rep_changed_sp_cluster', 'GCF_017151375.1'), ('non_rep_changed_sp_cluster', 'GCF_018499505.1'), ('non_rep_formed_new_cluster', 'GCF_900509435.1'), ('non_rep_changed_sp_cluster', 'GCF_902845755.1')]})\n"
     ]
    }
   ],
   "source": [
    "def gen_data():\n",
    "\n",
    "    # Some were originally run with more pct values, but just reduce to the analysis set\n",
    "    df_changed = DF[DF['same'] == False]\n",
    "    df_changed = df_changed.reset_index()\n",
    "    df_changed = df_changed[df_changed['pct'].isin(PCT_VALUES)]\n",
    "\n",
    "    d_pct_to_changes = defaultdict(list)\n",
    "\n",
    "    for cur_pct in PCT_VALUES:\n",
    "        df_subset = df_changed[df_changed['pct'] == cur_pct]\n",
    "        df_subset = df_subset.sort_values(by=['gid', 'pct'], ascending=[True, False])\n",
    "\n",
    "        for _, row in df_subset.iterrows():\n",
    "            gid = row['gid']\n",
    "\n",
    "            meta_row = DF_META.loc[gid]\n",
    "            is_rep = meta_row['gtdb_representative'] == 't'\n",
    "\n",
    "            if is_rep:\n",
    "                change_type = 'rep_is_in_new_sp_cluster'\n",
    "            else:\n",
    "                if row['type'] == 'no_af' or row['type'] == 'no_ani':\n",
    "                    change_type = 'non_rep_formed_new_cluster'\n",
    "                else:\n",
    "                    change_type = 'non_rep_changed_sp_cluster'\n",
    "\n",
    "            d_pct_to_changes[cur_pct].append((change_type, gid))\n",
    "\n",
    "    return d_pct_to_changes\n",
    "\n",
    "data = gen_data()\n",
    "\n",
    "print(data)"
   ],
   "metadata": {
    "collapsed": false,
    "pycharm": {
     "name": "#%%\n"
    }
   }
  },
  {
   "cell_type": "code",
   "execution_count": 32,
   "outputs": [
    {
     "name": "stdout",
     "output_type": "stream",
     "text": [
      "317542\n",
      "               gid                       species  n_in_species  \\\n",
      "0  GCA_000761495.1  s__Acinetobacter idrijaensis             6   \n",
      "1  GCA_007713455.1  s__Pseudomonas_A sp007713455             1   \n",
      "2  GCA_018363915.1   s__Anaerococcus vaginalis_C             2   \n",
      "3  GCA_900548495.1    s__Collinsella sp900548495             1   \n",
      "4  GCA_900555225.1    s__Collinsella sp900555225             1   \n",
      "\n",
      "                      pct_1                     pct_5  \\\n",
      "0  rep_is_in_new_sp_cluster  rep_is_in_new_sp_cluster   \n",
      "1  rep_is_in_new_sp_cluster  rep_is_in_new_sp_cluster   \n",
      "2  rep_is_in_new_sp_cluster  rep_is_in_new_sp_cluster   \n",
      "3  rep_is_in_new_sp_cluster  rep_is_in_new_sp_cluster   \n",
      "4  rep_is_in_new_sp_cluster                       NaN   \n",
      "\n",
      "                     pct_10                    pct_15  \\\n",
      "0  rep_is_in_new_sp_cluster  rep_is_in_new_sp_cluster   \n",
      "1  rep_is_in_new_sp_cluster  rep_is_in_new_sp_cluster   \n",
      "2  rep_is_in_new_sp_cluster  rep_is_in_new_sp_cluster   \n",
      "3  rep_is_in_new_sp_cluster  rep_is_in_new_sp_cluster   \n",
      "4  rep_is_in_new_sp_cluster  rep_is_in_new_sp_cluster   \n",
      "\n",
      "                     pct_20                    pct_30  \\\n",
      "0  rep_is_in_new_sp_cluster  rep_is_in_new_sp_cluster   \n",
      "1  rep_is_in_new_sp_cluster                       NaN   \n",
      "2  rep_is_in_new_sp_cluster  rep_is_in_new_sp_cluster   \n",
      "3  rep_is_in_new_sp_cluster  rep_is_in_new_sp_cluster   \n",
      "4  rep_is_in_new_sp_cluster  rep_is_in_new_sp_cluster   \n",
      "\n",
      "                     pct_40                    pct_50  \n",
      "0  rep_is_in_new_sp_cluster  rep_is_in_new_sp_cluster  \n",
      "1  rep_is_in_new_sp_cluster  rep_is_in_new_sp_cluster  \n",
      "2  rep_is_in_new_sp_cluster  rep_is_in_new_sp_cluster  \n",
      "3  rep_is_in_new_sp_cluster  rep_is_in_new_sp_cluster  \n",
      "4  rep_is_in_new_sp_cluster  rep_is_in_new_sp_cluster  \n",
      "n species: 206\n",
      "n placeholder: 134/206 (65.05%)\n",
      "1 n_place = 6/19 31.58%\n",
      "5 n_place = 12/30 40.00%\n",
      "10 n_place = 27/51 52.94%\n",
      "15 n_place = 40/72 55.56%\n",
      "20 n_place = 51/83 61.45%\n",
      "30 n_place = 68/105 64.76%\n",
      "40 n_place = 88/129 68.22%\n",
      "50 n_place = 117/164 71.34%\n"
     ]
    }
   ],
   "source": [
    "def make_plot():\n",
    "\n",
    "\n",
    "    rows = list()\n",
    "\n",
    "    print(len(DF_META))\n",
    "    d_sp_to_count = defaultdict(lambda: 0)\n",
    "    for sp in DF_META['species']:\n",
    "        d_sp_to_count[sp] += 1\n",
    "\n",
    "    set_placeholder_sp = set()\n",
    "    set_latin_sp = set()\n",
    "\n",
    "\n",
    "    d_sp_to_rows = defaultdict(lambda: defaultdict(list))\n",
    "    d_gid_to_d_pct_to_rows = defaultdict(lambda: defaultdict(list))\n",
    "    for pct, lst_changes in data.items():\n",
    "        for change_type, gid in lst_changes:\n",
    "            meta_row = DF_META.loc[gid]\n",
    "            species = meta_row['species']\n",
    "            taxonomy = meta_row['gtdb_taxonomy']\n",
    "\n",
    "            d_gid_to_d_pct_to_rows[gid][pct]= {\n",
    "                'gid': gid,\n",
    "                'type': change_type,\n",
    "                'tax': taxonomy\n",
    "            }\n",
    "\n",
    "    out = list()\n",
    "\n",
    "    d_pct_to_latin = defaultdict(set)\n",
    "    d_pct_to_placeholder = defaultdict(set)\n",
    "\n",
    "    for gid, d_pct in d_gid_to_d_pct_to_rows.items():\n",
    "        cur_sp = DF_META.loc[gid, 'species']\n",
    "\n",
    "        if ' sp' in cur_sp:\n",
    "            set_placeholder_sp.add(cur_sp)\n",
    "        else:\n",
    "            set_latin_sp.add(cur_sp)\n",
    "\n",
    "        cur_row = {\n",
    "            'gid': gid,\n",
    "            'species': cur_sp,\n",
    "            'n_in_species': d_sp_to_count[cur_sp]\n",
    "        }\n",
    "        for pct, row in d_pct.items():\n",
    "            cur_row[f'pct_{pct}'] = row['type']\n",
    "\n",
    "            if ' sp' in cur_sp:\n",
    "                d_pct_to_placeholder[pct].add(cur_sp)\n",
    "            else:\n",
    "                d_pct_to_latin[pct].add(cur_sp)\n",
    "\n",
    "        out.append(cur_row)\n",
    "\n",
    "\n",
    "\n",
    "\n",
    "    df = pd.DataFrame(out)\n",
    "    print(df.head())\n",
    "    df.to_csv('/tmp/sp.tsv', sep='\\t', index=False)\n",
    "\n",
    "    n_latin = len(set_latin_sp)\n",
    "    n_place = len(set_placeholder_sp)\n",
    "    n_species = len(set_latin_sp.union(set_placeholder_sp))\n",
    "\n",
    "    print(f'n species: {n_species}')\n",
    "    print(f'n placeholder: {n_place}/{n_species} ({n_place/n_species:.2%})')\n",
    "\n",
    "    for pct in PCT_VALUES:\n",
    "        n_latin = len(d_pct_to_latin[pct])\n",
    "        n_place = len(d_pct_to_placeholder[pct])\n",
    "        n_total = len(d_pct_to_latin[pct].union(d_pct_to_placeholder[pct]))\n",
    "        print(f'{pct} n_place = {n_place}/{n_total} {n_place/n_total:.2%}')\n",
    "\n",
    "    return\n",
    "\n",
    "make_plot()"
   ],
   "metadata": {
    "collapsed": false,
    "pycharm": {
     "name": "#%%\n"
    }
   }
  }
 ],
 "metadata": {
  "kernelspec": {
   "display_name": "Python 3",
   "language": "python",
   "name": "python3"
  },
  "language_info": {
   "codemirror_mode": {
    "name": "ipython",
    "version": 2
   },
   "file_extension": ".py",
   "mimetype": "text/x-python",
   "name": "python",
   "nbconvert_exporter": "python",
   "pygments_lexer": "ipython2",
   "version": "2.7.6"
  }
 },
 "nbformat": 4,
 "nbformat_minor": 0
}