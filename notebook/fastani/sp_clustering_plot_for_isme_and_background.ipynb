{
 "cells": [
  {
   "cell_type": "code",
   "execution_count": 1,
   "metadata": {
    "collapsed": true,
    "pycharm": {
     "name": "#%%\n"
    }
   },
   "outputs": [],
   "source": [
    "from tqdm import tqdm\n",
    "from workflow.fastani.remove_gunc_failed_contigs_by_contamination_sp_cluster import RemoveGuncFailedContigsByContaminationSpCluster\n",
    "from workflow.config import PCT_VALUES\n",
    "from workflow.external.gtdb_metadata import GtdbMetadataR207"
   ]
  },
  {
   "cell_type": "code",
   "execution_count": 2,
   "outputs": [
    {
     "name": "stdout",
     "output_type": "stream",
     "text": [
      "(578539, 5)\n",
      "35,723 failed gids\n"
     ]
    },
    {
     "data": {
      "text/plain": "                          new_sp_rep      ani        af    type  same\ngid             pct                                                  \nGCA_000143435.1 1    GCF_001435955.1  97.3270  0.875591  sp_rep  True\n                5    GCF_001435955.1  97.3270  0.875591  sp_rep  True\n                15   GCF_001435955.1  97.6349  0.829228  sp_rep  True\nGCA_000153745.1 5                NaN      NaN       NaN  no_ani  True\nGCA_000155005.1 1    GCF_003697165.2  96.5203  0.827668  sp_rep  True",
      "text/html": "<div>\n<style scoped>\n    .dataframe tbody tr th:only-of-type {\n        vertical-align: middle;\n    }\n\n    .dataframe tbody tr th {\n        vertical-align: top;\n    }\n\n    .dataframe thead th {\n        text-align: right;\n    }\n</style>\n<table border=\"1\" class=\"dataframe\">\n  <thead>\n    <tr style=\"text-align: right;\">\n      <th></th>\n      <th></th>\n      <th>new_sp_rep</th>\n      <th>ani</th>\n      <th>af</th>\n      <th>type</th>\n      <th>same</th>\n    </tr>\n    <tr>\n      <th>gid</th>\n      <th>pct</th>\n      <th></th>\n      <th></th>\n      <th></th>\n      <th></th>\n      <th></th>\n    </tr>\n  </thead>\n  <tbody>\n    <tr>\n      <th rowspan=\"3\" valign=\"top\">GCA_000143435.1</th>\n      <th>1</th>\n      <td>GCF_001435955.1</td>\n      <td>97.3270</td>\n      <td>0.875591</td>\n      <td>sp_rep</td>\n      <td>True</td>\n    </tr>\n    <tr>\n      <th>5</th>\n      <td>GCF_001435955.1</td>\n      <td>97.3270</td>\n      <td>0.875591</td>\n      <td>sp_rep</td>\n      <td>True</td>\n    </tr>\n    <tr>\n      <th>15</th>\n      <td>GCF_001435955.1</td>\n      <td>97.6349</td>\n      <td>0.829228</td>\n      <td>sp_rep</td>\n      <td>True</td>\n    </tr>\n    <tr>\n      <th>GCA_000153745.1</th>\n      <th>5</th>\n      <td>NaN</td>\n      <td>NaN</td>\n      <td>NaN</td>\n      <td>no_ani</td>\n      <td>True</td>\n    </tr>\n    <tr>\n      <th>GCA_000155005.1</th>\n      <th>1</th>\n      <td>GCF_003697165.2</td>\n      <td>96.5203</td>\n      <td>0.827668</td>\n      <td>sp_rep</td>\n      <td>True</td>\n    </tr>\n  </tbody>\n</table>\n</div>"
     },
     "execution_count": 2,
     "metadata": {},
     "output_type": "execute_result"
    }
   ],
   "source": [
    "DF = RemoveGuncFailedContigsByContaminationSpCluster().output().read_cached()\n",
    "print(DF.shape)\n",
    "\n",
    "UNQ_GIDS = set(DF.index.get_level_values(0))\n",
    "\n",
    "print(f'{len(UNQ_GIDS):,} failed gids')\n",
    "DF.head()"
   ],
   "metadata": {
    "collapsed": false,
    "pycharm": {
     "name": "#%%\n"
    }
   }
  },
  {
   "cell_type": "code",
   "execution_count": 3,
   "outputs": [
    {
     "data": {
      "text/plain": "                 ambiguous_bases  checkm_completeness  checkm_contamination  \\\ngid                                                                           \nGCA_000006155.2             1916                93.12                   0.0   \nGCA_000007325.1                1                99.95                   0.0   \nGCA_000007385.1                0                99.82                   0.0   \nGCA_000008085.1                0                73.13                   0.0   \nGCA_000008885.1                0               100.00                   0.0   \n\n                 checkm_marker_count             checkm_marker_lineage  \\\ngid                                                                      \nGCA_000006155.2                 1171              g__Bacillus (UID902)   \nGCA_000007325.1                  149             k__Bacteria (UID2329)   \nGCA_000007385.1                  481  c__Gammaproteobacteria (UID4202)   \nGCA_000008085.1                  149                 k__Archaea (UID2)   \nGCA_000008885.1                  134             k__Bacteria (UID2495)   \n\n                 checkm_marker_set_count  checkm_strain_heterogeneity  \\\ngid                                                                     \nGCA_000006155.2                      324                          0.0   \nGCA_000007325.1                       89                          0.0   \nGCA_000007385.1                      276                          0.0   \nGCA_000008085.1                      107                          0.0   \nGCA_000008885.1                       80                          0.0   \n\n                 coding_bases  coding_density  contig_count  ...  \\\ngid                                                          ...   \nGCA_000006155.2       4305660       80.178992           426  ...   \nGCA_000007325.1       1973459       90.754610             1  ...   \nGCA_000007385.1       4190634       84.805944             1  ...   \nGCA_000008085.1        462902       94.299480             1  ...   \nGCA_000008885.1        617456       87.831079             2  ...   \n\n                 gtdb_type_species_of_genus  \\\ngid                                           \nGCA_000006155.2                           f   \nGCA_000007325.1                           t   \nGCA_000007385.1                           f   \nGCA_000008085.1                           t   \nGCA_000008885.1                           f   \n\n                                                     ncbi_taxonomy  \\\ngid                                                                  \nGCA_000006155.2  d__Bacteria;p__Firmicutes;c__Bacilli;o__Bacill...   \nGCA_000007325.1  d__Bacteria;p__Fusobacteria;c__Fusobacteriia;o...   \nGCA_000007385.1  d__Bacteria;p__Proteobacteria;c__Gammaproteoba...   \nGCA_000008085.1  d__Archaea;p__Nanoarchaeota;c__;o__Nanoarchaea...   \nGCA_000008885.1  d__Bacteria;p__Proteobacteria;c__Gammaproteoba...   \n\n                                          ncbi_taxonomy_unfiltered  \\\ngid                                                                  \nGCA_000006155.2  d__Bacteria;x__Terrabacteria group;p__Firmicut...   \nGCA_000007325.1  d__Bacteria;p__Fusobacteria;c__Fusobacteriia;o...   \nGCA_000007385.1  d__Bacteria;p__Proteobacteria;c__Gammaproteoba...   \nGCA_000008085.1  d__Archaea;x__DPANN group;p__Nanoarchaeota;o__...   \nGCA_000008885.1  d__Bacteria;p__Proteobacteria;c__Gammaproteoba...   \n\n                      domain             phylum                   class  \\\ngid                                                                       \nGCA_000006155.2  d__Bacteria      p__Firmicutes              c__Bacilli   \nGCA_000007325.1  d__Bacteria  p__Fusobacteriota        c__Fusobacteriia   \nGCA_000007385.1  d__Bacteria  p__Proteobacteria  c__Gammaproteobacteria   \nGCA_000008085.1   d__Archaea   p__Nanoarchaeota         c__Nanoarchaeia   \nGCA_000008885.1  d__Bacteria  p__Proteobacteria  c__Gammaproteobacteria   \n\n                                 order                   family  \\\ngid                                                               \nGCA_000006155.2          o__Bacillales         f__Bacillaceae_G   \nGCA_000007325.1     o__Fusobacteriales      f__Fusobacteriaceae   \nGCA_000007385.1     o__Xanthomonadales      f__Xanthomonadaceae   \nGCA_000008085.1      o__Nanoarchaeales       f__Nanoarchaeaceae   \nGCA_000008885.1  o__Enterobacterales_A  f__Enterobacteriaceae_A   \n\n                             genus                          species  \ngid                                                                  \nGCA_000006155.2      g__Bacillus_A          s__Bacillus_A anthracis  \nGCA_000007325.1   g__Fusobacterium       s__Fusobacterium nucleatum  \nGCA_000007385.1     g__Xanthomonas            s__Xanthomonas oryzae  \nGCA_000008085.1    g__Nanoarchaeum         s__Nanoarchaeum equitans  \nGCA_000008885.1  g__Wigglesworthia  s__Wigglesworthia glossinidia_A  \n\n[5 rows x 28 columns]",
      "text/html": "<div>\n<style scoped>\n    .dataframe tbody tr th:only-of-type {\n        vertical-align: middle;\n    }\n\n    .dataframe tbody tr th {\n        vertical-align: top;\n    }\n\n    .dataframe thead th {\n        text-align: right;\n    }\n</style>\n<table border=\"1\" class=\"dataframe\">\n  <thead>\n    <tr style=\"text-align: right;\">\n      <th></th>\n      <th>ambiguous_bases</th>\n      <th>checkm_completeness</th>\n      <th>checkm_contamination</th>\n      <th>checkm_marker_count</th>\n      <th>checkm_marker_lineage</th>\n      <th>checkm_marker_set_count</th>\n      <th>checkm_strain_heterogeneity</th>\n      <th>coding_bases</th>\n      <th>coding_density</th>\n      <th>contig_count</th>\n      <th>...</th>\n      <th>gtdb_type_species_of_genus</th>\n      <th>ncbi_taxonomy</th>\n      <th>ncbi_taxonomy_unfiltered</th>\n      <th>domain</th>\n      <th>phylum</th>\n      <th>class</th>\n      <th>order</th>\n      <th>family</th>\n      <th>genus</th>\n      <th>species</th>\n    </tr>\n    <tr>\n      <th>gid</th>\n      <th></th>\n      <th></th>\n      <th></th>\n      <th></th>\n      <th></th>\n      <th></th>\n      <th></th>\n      <th></th>\n      <th></th>\n      <th></th>\n      <th></th>\n      <th></th>\n      <th></th>\n      <th></th>\n      <th></th>\n      <th></th>\n      <th></th>\n      <th></th>\n      <th></th>\n      <th></th>\n      <th></th>\n    </tr>\n  </thead>\n  <tbody>\n    <tr>\n      <th>GCA_000006155.2</th>\n      <td>1916</td>\n      <td>93.12</td>\n      <td>0.0</td>\n      <td>1171</td>\n      <td>g__Bacillus (UID902)</td>\n      <td>324</td>\n      <td>0.0</td>\n      <td>4305660</td>\n      <td>80.178992</td>\n      <td>426</td>\n      <td>...</td>\n      <td>f</td>\n      <td>d__Bacteria;p__Firmicutes;c__Bacilli;o__Bacill...</td>\n      <td>d__Bacteria;x__Terrabacteria group;p__Firmicut...</td>\n      <td>d__Bacteria</td>\n      <td>p__Firmicutes</td>\n      <td>c__Bacilli</td>\n      <td>o__Bacillales</td>\n      <td>f__Bacillaceae_G</td>\n      <td>g__Bacillus_A</td>\n      <td>s__Bacillus_A anthracis</td>\n    </tr>\n    <tr>\n      <th>GCA_000007325.1</th>\n      <td>1</td>\n      <td>99.95</td>\n      <td>0.0</td>\n      <td>149</td>\n      <td>k__Bacteria (UID2329)</td>\n      <td>89</td>\n      <td>0.0</td>\n      <td>1973459</td>\n      <td>90.754610</td>\n      <td>1</td>\n      <td>...</td>\n      <td>t</td>\n      <td>d__Bacteria;p__Fusobacteria;c__Fusobacteriia;o...</td>\n      <td>d__Bacteria;p__Fusobacteria;c__Fusobacteriia;o...</td>\n      <td>d__Bacteria</td>\n      <td>p__Fusobacteriota</td>\n      <td>c__Fusobacteriia</td>\n      <td>o__Fusobacteriales</td>\n      <td>f__Fusobacteriaceae</td>\n      <td>g__Fusobacterium</td>\n      <td>s__Fusobacterium nucleatum</td>\n    </tr>\n    <tr>\n      <th>GCA_000007385.1</th>\n      <td>0</td>\n      <td>99.82</td>\n      <td>0.0</td>\n      <td>481</td>\n      <td>c__Gammaproteobacteria (UID4202)</td>\n      <td>276</td>\n      <td>0.0</td>\n      <td>4190634</td>\n      <td>84.805944</td>\n      <td>1</td>\n      <td>...</td>\n      <td>f</td>\n      <td>d__Bacteria;p__Proteobacteria;c__Gammaproteoba...</td>\n      <td>d__Bacteria;p__Proteobacteria;c__Gammaproteoba...</td>\n      <td>d__Bacteria</td>\n      <td>p__Proteobacteria</td>\n      <td>c__Gammaproteobacteria</td>\n      <td>o__Xanthomonadales</td>\n      <td>f__Xanthomonadaceae</td>\n      <td>g__Xanthomonas</td>\n      <td>s__Xanthomonas oryzae</td>\n    </tr>\n    <tr>\n      <th>GCA_000008085.1</th>\n      <td>0</td>\n      <td>73.13</td>\n      <td>0.0</td>\n      <td>149</td>\n      <td>k__Archaea (UID2)</td>\n      <td>107</td>\n      <td>0.0</td>\n      <td>462902</td>\n      <td>94.299480</td>\n      <td>1</td>\n      <td>...</td>\n      <td>t</td>\n      <td>d__Archaea;p__Nanoarchaeota;c__;o__Nanoarchaea...</td>\n      <td>d__Archaea;x__DPANN group;p__Nanoarchaeota;o__...</td>\n      <td>d__Archaea</td>\n      <td>p__Nanoarchaeota</td>\n      <td>c__Nanoarchaeia</td>\n      <td>o__Nanoarchaeales</td>\n      <td>f__Nanoarchaeaceae</td>\n      <td>g__Nanoarchaeum</td>\n      <td>s__Nanoarchaeum equitans</td>\n    </tr>\n    <tr>\n      <th>GCA_000008885.1</th>\n      <td>0</td>\n      <td>100.00</td>\n      <td>0.0</td>\n      <td>134</td>\n      <td>k__Bacteria (UID2495)</td>\n      <td>80</td>\n      <td>0.0</td>\n      <td>617456</td>\n      <td>87.831079</td>\n      <td>2</td>\n      <td>...</td>\n      <td>f</td>\n      <td>d__Bacteria;p__Proteobacteria;c__Gammaproteoba...</td>\n      <td>d__Bacteria;p__Proteobacteria;c__Gammaproteoba...</td>\n      <td>d__Bacteria</td>\n      <td>p__Proteobacteria</td>\n      <td>c__Gammaproteobacteria</td>\n      <td>o__Enterobacterales_A</td>\n      <td>f__Enterobacteriaceae_A</td>\n      <td>g__Wigglesworthia</td>\n      <td>s__Wigglesworthia glossinidia_A</td>\n    </tr>\n  </tbody>\n</table>\n<p>5 rows × 28 columns</p>\n</div>"
     },
     "execution_count": 3,
     "metadata": {},
     "output_type": "execute_result"
    }
   ],
   "source": [
    "from workflow.external.gtdb_metadata import GtdbMetadataR207\n",
    "\n",
    "DF_META = GtdbMetadataR207().output().read_cached()\n",
    "DF_META.head()"
   ],
   "metadata": {
    "collapsed": false,
    "pycharm": {
     "name": "#%%\n"
    }
   }
  },
  {
   "cell_type": "code",
   "execution_count": 14,
   "outputs": [
    {
     "data": {
      "text/plain": "    pct                   change  count     source\n0     1  Species clusters merged    4.2  bootstrap\n7    10  Species clusters merged    3.9  bootstrap\n20   40  Species clusters merged    6.3  bootstrap\n17   30  Species clusters merged    6.4  bootstrap\n14   20  Species clusters merged    4.2  bootstrap",
      "text/html": "<div>\n<style scoped>\n    .dataframe tbody tr th:only-of-type {\n        vertical-align: middle;\n    }\n\n    .dataframe tbody tr th {\n        vertical-align: top;\n    }\n\n    .dataframe thead th {\n        text-align: right;\n    }\n</style>\n<table border=\"1\" class=\"dataframe\">\n  <thead>\n    <tr style=\"text-align: right;\">\n      <th></th>\n      <th>pct</th>\n      <th>change</th>\n      <th>count</th>\n      <th>source</th>\n    </tr>\n  </thead>\n  <tbody>\n    <tr>\n      <th>0</th>\n      <td>1</td>\n      <td>Species clusters merged</td>\n      <td>4.2</td>\n      <td>bootstrap</td>\n    </tr>\n    <tr>\n      <th>7</th>\n      <td>10</td>\n      <td>Species clusters merged</td>\n      <td>3.9</td>\n      <td>bootstrap</td>\n    </tr>\n    <tr>\n      <th>20</th>\n      <td>40</td>\n      <td>Species clusters merged</td>\n      <td>6.3</td>\n      <td>bootstrap</td>\n    </tr>\n    <tr>\n      <th>17</th>\n      <td>30</td>\n      <td>Species clusters merged</td>\n      <td>6.4</td>\n      <td>bootstrap</td>\n    </tr>\n    <tr>\n      <th>14</th>\n      <td>20</td>\n      <td>Species clusters merged</td>\n      <td>4.2</td>\n      <td>bootstrap</td>\n    </tr>\n  </tbody>\n</table>\n</div>"
     },
     "execution_count": 14,
     "metadata": {},
     "output_type": "execute_result"
    }
   ],
   "source": [
    "from workflow.bootstrap.remove_random_contigs_for_bootstrap_rep_analysis import RemoveRandomContigsForBootstrapRepAnalysis\n",
    "\n",
    "DF_BS = RemoveRandomContigsForBootstrapRepAnalysis().output().read_cached()\n",
    "DF_BS['source'] = 'bootstrap'\n",
    "DF_BS.head()"
   ],
   "metadata": {
    "collapsed": false,
    "pycharm": {
     "name": "#%%\n"
    }
   }
  },
  {
   "cell_type": "markdown",
   "source": [
    "types:\n",
    "no_af = no alignment fraction <0.5\n",
    "no_ani = novel species cluster\n",
    "sp_rep = found species representative within ANI radius\n"
   ],
   "metadata": {
    "collapsed": false,
    "pycharm": {
     "name": "#%% md\n"
    }
   }
  },
  {
   "cell_type": "code",
   "execution_count": 4,
   "outputs": [
    {
     "name": "stdout",
     "output_type": "stream",
     "text": [
      "145\n",
      "33\n"
     ]
    }
   ],
   "source": [
    "from collections import defaultdict\n",
    "\n",
    "\n",
    "def gen_data():\n",
    "\n",
    "    # Some were originally run with more pct values, but just reduce to the analysis set\n",
    "    df_changed = DF[DF['same'] == False]\n",
    "    df_changed = df_changed.reset_index()\n",
    "    df_changed = df_changed[df_changed['pct'].isin(PCT_VALUES)]\n",
    "\n",
    "    d_pct_to_changes = defaultdict(list)\n",
    "\n",
    "    for cur_pct in PCT_VALUES:\n",
    "        df_subset = df_changed[df_changed['pct'] == cur_pct]\n",
    "\n",
    "        for _, row in df_subset.iterrows():\n",
    "            gid = row['gid']\n",
    "\n",
    "            meta_row = DF_META.loc[gid]\n",
    "            is_rep = meta_row['gtdb_representative'] == 't'\n",
    "\n",
    "            if is_rep:\n",
    "                change_type = 'representative changed species'\n",
    "            else:\n",
    "                if row['type'] == 'no_af' or row['type'] == 'no_ani':\n",
    "                    change_type = 'novel_sp_cluster'\n",
    "                else:\n",
    "                    change_type = 'species changed'\n",
    "\n",
    "            d_pct_to_changes[cur_pct].append(change_type)\n",
    "\n",
    "    return d_pct_to_changes\n",
    "\n",
    "data = gen_data()\n"
   ],
   "metadata": {
    "collapsed": false,
    "pycharm": {
     "name": "#%%\n"
    }
   }
  },
  {
   "cell_type": "code",
   "execution_count": 61,
   "outputs": [
    {
     "name": "stdout",
     "output_type": "stream",
     "text": [
      "1 19\n",
      "5 30\n",
      "10 55\n",
      "15 77\n",
      "20 90\n",
      "30 115\n",
      "40 139\n",
      "50 178\n"
     ]
    },
    {
     "data": {
      "text/plain": "<Figure size 720x432 with 1 Axes>",
      "image/png": "[encoded data removed]"
     },
     "metadata": {},
     "output_type": "display_data"
    }
   ],
   "source": [
    "from collections import Counter\n",
    "import matplotlib.pyplot as plt\n",
    "import pandas as pd\n",
    "import seaborn as sns\n",
    "def make_plot():\n",
    "\n",
    "    rows = list()\n",
    "\n",
    "    for k, v in data.items():\n",
    "        print(k, len(v))\n",
    "        cnts = Counter(v)\n",
    "        rows.append({\n",
    "            'pct': k,\n",
    "            'change': 'Species clusters merged',\n",
    "            'count': cnts.get('representative changed species', 0),\n",
    "            'source': 'fail'\n",
    "        })\n",
    "        rows.append({\n",
    "            'pct': k,\n",
    "            'change': 'New species cluster formed',\n",
    "            'count': cnts.get('novel_sp_cluster', 0),\n",
    "            'source': 'fail'\n",
    "        })\n",
    "        rows.append({\n",
    "            'pct': k,\n",
    "            'change': 'Genome changed species',\n",
    "            'count': cnts.get('species changed', 0),\n",
    "            'source': 'fail'\n",
    "        })\n",
    "\n",
    "    df = pd.DataFrame(rows)\n",
    "\n",
    "\n",
    "    df_merged = pd.concat([df, DF_BS], ignore_index=True)\n",
    "    df_merged.sort_values(by=['pct'], inplace=True)\n",
    "\n",
    "    df_f_changed_sp = df_merged[(df_merged['source'] == 'fail') & (df_merged['change'] == 'Genome changed species')]\n",
    "    df_b_changed_sp = df_merged[(df_merged['source'] == 'bootstrap') & (df_merged['change'] == 'Genome changed species')]\n",
    "\n",
    "    df_f_merged_sp = df_merged[(df_merged['source'] == 'fail') & (df_merged['change'] == 'Species clusters merged')]\n",
    "    df_b_merged_sp = df_merged[(df_merged['source'] == 'bootstrap') & (df_merged['change'] == 'Species clusters merged')]\n",
    "\n",
    "\n",
    "    df_f_new = df_merged[(df_merged['source'] == 'fail') & (df_merged['change'] == 'New species cluster formed')]\n",
    "    df_b_new = df_merged[(df_merged['source'] == 'bootstrap') & (df_merged['change'] == 'New species cluster formed')]\n",
    "\n",
    "\n",
    "\n",
    "    fig, ax1 = plt.subplots(1, 1, figsize=(10, 6))\n",
    "    plt.rcParams.update({'font.size': 13})\n",
    "    plt.rcParams['svg.fonttype'] = 'none'\n",
    "\n",
    "    hue_order = ['Species clusters merged', 'New species cluster formed', 'Genome changed species']\n",
    "    sns.barplot(data=df_merged[df_merged['source'] == 'fail'], x='pct', y='count', hue='change',\n",
    "                hue_order=hue_order)\n",
    "    # sns.barplot(data=df_merged[df_merged['source'] == 'bootstrap'], x='pct', y='count', hue='change',\n",
    "    #             palette=\"Blues_d\", hue_order=hue_order)\n",
    "\n",
    "    # ax1.plot(df_f_changed_sp['pct'], df_f_changed_sp['count'], marker='o', label='Putatively contaminated')\n",
    "    # ax1.plot(df_b_changed_sp['pct'], df_b_changed_sp['count'], '--', marker='o', label='Background')\n",
    "    #\n",
    "    # ax1.plot(df_f_merged_sp['pct'], df_f_merged_sp['count'], marker='o', label='Putatively contaminated')\n",
    "    # ax1.plot(df_b_merged_sp['pct'], df_b_merged_sp['count'],  '--', marker='o', label='Background')\n",
    "    #\n",
    "    # ax1.plot(df_f_new['pct'], df_f_new['count'], marker='o', label='Putatively contaminated')\n",
    "    # ax1.plot(df_b_new['pct'], df_b_new['count'], '--', marker='o',   label='Background')\n",
    "    #\n",
    "    # ax1.set_xticks(PCT_VALUES)\n",
    "    #\n",
    "    # ax1.set_title('Species clusters merged')\n",
    "    #\n",
    "    # ax1.set_ylim(-2, 100)\n",
    "    #\n",
    "    # plt.legend()\n",
    "\n",
    "    plt.savefig('/tmp/new_breakdown.svg')\n",
    "\n",
    "\n",
    "    # fig, (ax1, ax2, ax3) = plt.subplots(1, 3, figsize=(21, 6))\n",
    "    # plt.rcParams.update({'font.size': 13})\n",
    "    # plt.rcParams['svg.fonttype'] = 'none'\n",
    "    #\n",
    "    # ax3.plot(df_f_changed_sp['pct'], df_f_changed_sp['count'], marker='o', label='Putatively contaminated')\n",
    "    # ax3.plot(df_b_changed_sp['pct'], df_b_changed_sp['count'], marker='o', label='Background')\n",
    "    #\n",
    "    # ax1.plot(df_f_merged_sp['pct'], df_f_merged_sp['count'], marker='o', label='Putatively contaminated')\n",
    "    # ax1.plot(df_b_merged_sp['pct'], df_b_merged_sp['count'], marker='o', label='Background')\n",
    "    #\n",
    "    # ax2.plot(df_f_new['pct'], df_f_new['count'], marker='o', label='Putatively contaminated')\n",
    "    # ax2.plot(df_b_new['pct'], df_b_new['count'], marker='o', label='Background')\n",
    "    #\n",
    "    # ax1.set_xticks(PCT_VALUES)\n",
    "    # ax2.set_xticks(PCT_VALUES)\n",
    "    # ax3.set_xticks(PCT_VALUES)\n",
    "    #\n",
    "    # ax1.set_title('Species clusters merged')\n",
    "    # ax2.set_title('New species cluster formed')\n",
    "    # ax3.set_title('Genome changed species')\n",
    "    #\n",
    "    # ax1.set_ylim(-2, 100)\n",
    "    # ax2.set_ylim(-2, 40)\n",
    "    # ax3.set_ylim(-2, 50)\n",
    "    #\n",
    "    # plt.legend()\n",
    "    #\n",
    "    # plt.savefig('/tmp/new_breakdown.svg')\n",
    "\n",
    "    return\n",
    "\n",
    "    # df = df[df['pct'] <= 10]\n",
    "    # df['value'] = df['value']\n",
    "\n",
    "\n",
    "    fig, ax = plt.subplots(figsize=(15, 10))\n",
    "\n",
    "    plt.rcParams['svg.fonttype'] = 'none'\n",
    "\n",
    "    ax.grid(True)\n",
    "    plt.rcParams.update({'font.size': 18})\n",
    "    sns.barplot(data=df, x='pct', y='value', hue='Type of change', ax=ax)\n",
    "    ax.set_ylabel('Number of putatively contaminated genomes affected')\n",
    "    ax.set_xlabel('% of genome removed')\n",
    "\n",
    "    ax.set_yticks(list(range(0, 110, 10)))\n",
    "\n",
    "    plt.title('Number of putatively contaminated genomes affected by percentage of genome removed')\n",
    "\n",
    "    plt.savefig('/tmp/sp_clustering_changes.svg')\n",
    "\n",
    "\n",
    "    # ax.set_xticks(list(range(120, 10)))\n",
    "    # ax.set_xticklabels(list(range(120, 10)))\n",
    "\n",
    "    return\n",
    "\n",
    "\n",
    "\n",
    "make_plot()"
   ],
   "metadata": {
    "collapsed": false,
    "pycharm": {
     "name": "#%%\n"
    }
   }
  }
 ],
 "metadata": {
  "kernelspec": {
   "display_name": "Python 3",
   "language": "python",
   "name": "python3"
  },
  "language_info": {
   "codemirror_mode": {
    "name": "ipython",
    "version": 2
   },
   "file_extension": ".py",
   "mimetype": "text/x-python",
   "name": "python",
   "nbconvert_exporter": "python",
   "pygments_lexer": "ipython2",
   "version": "2.7.6"
  }
 },
 "nbformat": 4,
 "nbformat_minor": 0
}