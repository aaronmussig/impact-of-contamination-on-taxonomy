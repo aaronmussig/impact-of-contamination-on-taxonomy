{
 "cells": [
  {
   "cell_type": "code",
   "execution_count": 1,
   "metadata": {
    "collapsed": true,
    "pycharm": {
     "name": "#%%\n"
    }
   },
   "outputs": [],
   "source": [
    "from tqdm import tqdm\n",
    "from workflow.fastani.remove_gunc_failed_contigs_by_contamination_sp_cluster import RemoveGuncFailedContigsByContaminationSpCluster\n",
    "from workflow.config import PCT_VALUES\n",
    "from workflow.external.gtdb_metadata import GtdbMetadataR207Full, GtdbMetadataR207\n",
    "from workflow.external.gtdb_sp_clusters import GtdbSpClustersR207\n",
    "import matplotlib.pyplot as plt\n",
    "import seaborn as sns\n",
    "from matplotlib import cm\n",
    "from workflow.fastani.run_fastani_on_interspecies_aggregate import RunFastAniOnInterspeciesAniAggregate\n"
   ]
  },
  {
   "cell_type": "code",
   "execution_count": 2,
   "outputs": [
    {
     "data": {
      "text/plain": "                                        rep_genome  \\\nspecies                                              \ns__0-14-0-10-38-17 sp002774085  GB_GCA_002774085.1   \ns__0-14-0-20-30-16 sp002779075  GB_GCA_002779075.1   \ns__0-14-0-20-30-16 sp903916665  GB_GCA_903916665.1   \ns__0-14-0-20-34-12 sp002779065  GB_GCA_002779065.1   \ns__0-14-0-20-40-13 sp002774285  GB_GCA_002774285.1   \n\n                                                                         taxonomy  \\\nspecies                                                                             \ns__0-14-0-10-38-17 sp002774085  d__Bacteria;p__Patescibacteria;c__Microgenomat...   \ns__0-14-0-20-30-16 sp002779075  d__Archaea;p__Iainarchaeota;c__Iainarchaeia;o_...   \ns__0-14-0-20-30-16 sp903916665  d__Archaea;p__Iainarchaeota;c__Iainarchaeia;o_...   \ns__0-14-0-20-34-12 sp002779065  d__Archaea;p__Iainarchaeota;c__Iainarchaeia;o_...   \ns__0-14-0-20-40-13 sp002774285  d__Bacteria;p__Patescibacteria;c__WWE3;o__0-14...   \n\n                                ani_radius  ani_mean  ani_min  af_mean  \\\nspecies                                                                  \ns__0-14-0-10-38-17 sp002774085        95.0       NaN      NaN      NaN   \ns__0-14-0-20-30-16 sp002779075        95.0       NaN      NaN      NaN   \ns__0-14-0-20-30-16 sp903916665        95.0       NaN      NaN      NaN   \ns__0-14-0-20-34-12 sp002779065        95.0       NaN      NaN      NaN   \ns__0-14-0-20-40-13 sp002774285        95.0       NaN      NaN      NaN   \n\n                                af_min  n_genomes  \nspecies                                            \ns__0-14-0-10-38-17 sp002774085     NaN          1  \ns__0-14-0-20-30-16 sp002779075     NaN          1  \ns__0-14-0-20-30-16 sp903916665     NaN          1  \ns__0-14-0-20-34-12 sp002779065     NaN          1  \ns__0-14-0-20-40-13 sp002774285     NaN          1  ",
      "text/html": "<div>\n<style scoped>\n    .dataframe tbody tr th:only-of-type {\n        vertical-align: middle;\n    }\n\n    .dataframe tbody tr th {\n        vertical-align: top;\n    }\n\n    .dataframe thead th {\n        text-align: right;\n    }\n</style>\n<table border=\"1\" class=\"dataframe\">\n  <thead>\n    <tr style=\"text-align: right;\">\n      <th></th>\n      <th>rep_genome</th>\n      <th>taxonomy</th>\n      <th>ani_radius</th>\n      <th>ani_mean</th>\n      <th>ani_min</th>\n      <th>af_mean</th>\n      <th>af_min</th>\n      <th>n_genomes</th>\n    </tr>\n    <tr>\n      <th>species</th>\n      <th></th>\n      <th></th>\n      <th></th>\n      <th></th>\n      <th></th>\n      <th></th>\n      <th></th>\n      <th></th>\n    </tr>\n  </thead>\n  <tbody>\n    <tr>\n      <th>s__0-14-0-10-38-17 sp002774085</th>\n      <td>GB_GCA_002774085.1</td>\n      <td>d__Bacteria;p__Patescibacteria;c__Microgenomat...</td>\n      <td>95.0</td>\n      <td>NaN</td>\n      <td>NaN</td>\n      <td>NaN</td>\n      <td>NaN</td>\n      <td>1</td>\n    </tr>\n    <tr>\n      <th>s__0-14-0-20-30-16 sp002779075</th>\n      <td>GB_GCA_002779075.1</td>\n      <td>d__Archaea;p__Iainarchaeota;c__Iainarchaeia;o_...</td>\n      <td>95.0</td>\n      <td>NaN</td>\n      <td>NaN</td>\n      <td>NaN</td>\n      <td>NaN</td>\n      <td>1</td>\n    </tr>\n    <tr>\n      <th>s__0-14-0-20-30-16 sp903916665</th>\n      <td>GB_GCA_903916665.1</td>\n      <td>d__Archaea;p__Iainarchaeota;c__Iainarchaeia;o_...</td>\n      <td>95.0</td>\n      <td>NaN</td>\n      <td>NaN</td>\n      <td>NaN</td>\n      <td>NaN</td>\n      <td>1</td>\n    </tr>\n    <tr>\n      <th>s__0-14-0-20-34-12 sp002779065</th>\n      <td>GB_GCA_002779065.1</td>\n      <td>d__Archaea;p__Iainarchaeota;c__Iainarchaeia;o_...</td>\n      <td>95.0</td>\n      <td>NaN</td>\n      <td>NaN</td>\n      <td>NaN</td>\n      <td>NaN</td>\n      <td>1</td>\n    </tr>\n    <tr>\n      <th>s__0-14-0-20-40-13 sp002774285</th>\n      <td>GB_GCA_002774285.1</td>\n      <td>d__Bacteria;p__Patescibacteria;c__WWE3;o__0-14...</td>\n      <td>95.0</td>\n      <td>NaN</td>\n      <td>NaN</td>\n      <td>NaN</td>\n      <td>NaN</td>\n      <td>1</td>\n    </tr>\n  </tbody>\n</table>\n</div>"
     },
     "execution_count": 2,
     "metadata": {},
     "output_type": "execute_result"
    }
   ],
   "source": [
    "DF_SP = GtdbSpClustersR207().output().read_cached()\n",
    "DF_SP.head()"
   ],
   "metadata": {
    "collapsed": false,
    "pycharm": {
     "name": "#%%\n"
    }
   }
  },
  {
   "cell_type": "code",
   "execution_count": 3,
   "outputs": [],
   "source": [
    "DF_ANI = RunFastAniOnInterspeciesAniAggregate().output().read_cached()"
   ],
   "metadata": {
    "collapsed": false,
    "pycharm": {
     "name": "#%%\n"
    }
   }
  },
  {
   "cell_type": "code",
   "execution_count": 4,
   "outputs": [
    {
     "data": {
      "text/plain": "           genus            query        reference       ani        af\n0  g__Mycoplasma  GCF_000012765.1  GCF_000012765.1  100.0000  1.000000\n1  g__Mycoplasma  GCA_000011445.1  GCF_000012765.1   91.0675  0.782738\n2  g__Mycoplasma  GCA_000011445.1  GCA_000011445.1  100.0000  0.992556\n3  g__Mycoplasma  GCF_000327395.1  GCF_000012765.1   88.3621  0.834416\n4  g__Mycoplasma  GCF_000327395.1  GCA_000011445.1   88.7725  0.824675",
      "text/html": "<div>\n<style scoped>\n    .dataframe tbody tr th:only-of-type {\n        vertical-align: middle;\n    }\n\n    .dataframe tbody tr th {\n        vertical-align: top;\n    }\n\n    .dataframe thead th {\n        text-align: right;\n    }\n</style>\n<table border=\"1\" class=\"dataframe\">\n  <thead>\n    <tr style=\"text-align: right;\">\n      <th></th>\n      <th>genus</th>\n      <th>query</th>\n      <th>reference</th>\n      <th>ani</th>\n      <th>af</th>\n    </tr>\n  </thead>\n  <tbody>\n    <tr>\n      <th>0</th>\n      <td>g__Mycoplasma</td>\n      <td>GCF_000012765.1</td>\n      <td>GCF_000012765.1</td>\n      <td>100.0000</td>\n      <td>1.000000</td>\n    </tr>\n    <tr>\n      <th>1</th>\n      <td>g__Mycoplasma</td>\n      <td>GCA_000011445.1</td>\n      <td>GCF_000012765.1</td>\n      <td>91.0675</td>\n      <td>0.782738</td>\n    </tr>\n    <tr>\n      <th>2</th>\n      <td>g__Mycoplasma</td>\n      <td>GCA_000011445.1</td>\n      <td>GCA_000011445.1</td>\n      <td>100.0000</td>\n      <td>0.992556</td>\n    </tr>\n    <tr>\n      <th>3</th>\n      <td>g__Mycoplasma</td>\n      <td>GCF_000327395.1</td>\n      <td>GCF_000012765.1</td>\n      <td>88.3621</td>\n      <td>0.834416</td>\n    </tr>\n    <tr>\n      <th>4</th>\n      <td>g__Mycoplasma</td>\n      <td>GCF_000327395.1</td>\n      <td>GCA_000011445.1</td>\n      <td>88.7725</td>\n      <td>0.824675</td>\n    </tr>\n  </tbody>\n</table>\n</div>"
     },
     "execution_count": 4,
     "metadata": {},
     "output_type": "execute_result"
    }
   ],
   "source": [
    "DF_ANI.head()"
   ],
   "metadata": {
    "collapsed": false,
    "pycharm": {
     "name": "#%%\n"
    }
   }
  },
  {
   "cell_type": "code",
   "execution_count": 5,
   "outputs": [],
   "source": [
    "DF_ANI = DF_ANI[(DF_ANI['query'] != DF_ANI['reference']) & (DF_ANI['af'] >= 0.5)]"
   ],
   "metadata": {
    "collapsed": false,
    "pycharm": {
     "name": "#%%\n"
    }
   }
  },
  {
   "cell_type": "code",
   "execution_count": 6,
   "outputs": [
    {
     "data": {
      "text/plain": "           genus            query        reference      ani        af\n1  g__Mycoplasma  GCA_000011445.1  GCF_000012765.1  91.0675  0.782738\n3  g__Mycoplasma  GCF_000327395.1  GCF_000012765.1  88.3621  0.834416\n4  g__Mycoplasma  GCF_000327395.1  GCA_000011445.1  88.7725  0.824675\n6  g__Mycoplasma  GCF_000224105.1  GCF_000012765.1  79.9475  0.527076\n7  g__Mycoplasma  GCF_000224105.1  GCA_000011445.1  79.4262  0.541516",
      "text/html": "<div>\n<style scoped>\n    .dataframe tbody tr th:only-of-type {\n        vertical-align: middle;\n    }\n\n    .dataframe tbody tr th {\n        vertical-align: top;\n    }\n\n    .dataframe thead th {\n        text-align: right;\n    }\n</style>\n<table border=\"1\" class=\"dataframe\">\n  <thead>\n    <tr style=\"text-align: right;\">\n      <th></th>\n      <th>genus</th>\n      <th>query</th>\n      <th>reference</th>\n      <th>ani</th>\n      <th>af</th>\n    </tr>\n  </thead>\n  <tbody>\n    <tr>\n      <th>1</th>\n      <td>g__Mycoplasma</td>\n      <td>GCA_000011445.1</td>\n      <td>GCF_000012765.1</td>\n      <td>91.0675</td>\n      <td>0.782738</td>\n    </tr>\n    <tr>\n      <th>3</th>\n      <td>g__Mycoplasma</td>\n      <td>GCF_000327395.1</td>\n      <td>GCF_000012765.1</td>\n      <td>88.3621</td>\n      <td>0.834416</td>\n    </tr>\n    <tr>\n      <th>4</th>\n      <td>g__Mycoplasma</td>\n      <td>GCF_000327395.1</td>\n      <td>GCA_000011445.1</td>\n      <td>88.7725</td>\n      <td>0.824675</td>\n    </tr>\n    <tr>\n      <th>6</th>\n      <td>g__Mycoplasma</td>\n      <td>GCF_000224105.1</td>\n      <td>GCF_000012765.1</td>\n      <td>79.9475</td>\n      <td>0.527076</td>\n    </tr>\n    <tr>\n      <th>7</th>\n      <td>g__Mycoplasma</td>\n      <td>GCF_000224105.1</td>\n      <td>GCA_000011445.1</td>\n      <td>79.4262</td>\n      <td>0.541516</td>\n    </tr>\n  </tbody>\n</table>\n</div>"
     },
     "execution_count": 6,
     "metadata": {},
     "output_type": "execute_result"
    }
   ],
   "source": [
    "DF_ANI.head()"
   ],
   "metadata": {
    "collapsed": false,
    "pycharm": {
     "name": "#%%\n"
    }
   }
  },
  {
   "cell_type": "code",
   "execution_count": 7,
   "outputs": [
    {
     "data": {
      "text/plain": "<Figure size 432x288 with 1 Axes>",
      "image/png": "[encoded data removed]"
     },
     "metadata": {
      "needs_background": "light"
     },
     "output_type": "display_data"
    }
   ],
   "source": [
    "\n",
    "plt.hist(DF_ANI['ani'], bins=list(range(75, 100)))\n",
    "plt.rcParams['svg.fonttype'] = 'none'\n",
    "plt.grid(True)\n",
    "plt.savefig('/tmp/cumani.svg')"
   ],
   "metadata": {
    "collapsed": false,
    "pycharm": {
     "name": "#%%\n"
    }
   }
  },
  {
   "cell_type": "code",
   "execution_count": 8,
   "outputs": [
    {
     "data": {
      "text/plain": "(76.4139, 97.08)"
     },
     "execution_count": 8,
     "metadata": {},
     "output_type": "execute_result"
    }
   ],
   "source": [
    "DF_ANI['ani'].min(), DF_ANI['ani'].max()"
   ],
   "metadata": {
    "collapsed": false,
    "pycharm": {
     "name": "#%%\n"
    }
   }
  },
  {
   "cell_type": "code",
   "execution_count": 9,
   "outputs": [],
   "source": [
    "from collections import defaultdict\n",
    "\n",
    "# What is the the % of interspeices ani > 90 in each genera?\n",
    "\n",
    "def get_data():\n",
    "    d_genus_above = defaultdict(lambda: 0)\n",
    "    d_genus_below = defaultdict(lambda: 0)\n",
    "    for genus, row in DF_ANI.iterrows():\n",
    "\n",
    "        if row['ani'] > 95:\n",
    "            d_genus_above[genus] += 1\n",
    "        else:\n",
    "            d_genus_below[genus] += 1\n",
    "\n",
    "    return d_genus_below, d_genus_above\n",
    "\n",
    "d_genus_below, d_genus_above = get_data()\n",
    "\n"
   ],
   "metadata": {
    "collapsed": false,
    "pycharm": {
     "name": "#%%\n"
    }
   }
  },
  {
   "cell_type": "code",
   "execution_count": 10,
   "outputs": [
    {
     "name": "stdout",
     "output_type": "stream",
     "text": [
      "273983\n"
     ]
    },
    {
     "data": {
      "text/plain": "(array([2.73616e+05, 7.20000e+01, 1.10000e+02, 7.70000e+01, 0.00000e+00,\n        5.50000e+01, 0.00000e+00, 0.00000e+00, 0.00000e+00, 5.30000e+01]),\n array([  0,  10,  20,  30,  40,  50,  60,  70,  80,  90, 100]),\n <BarContainer object of 10 artists>)"
     },
     "execution_count": 10,
     "metadata": {},
     "output_type": "execute_result"
    },
    {
     "data": {
      "text/plain": "<Figure size 432x288 with 1 Axes>",
      "image/png": "[encoded data removed]"
     },
     "metadata": {
      "needs_background": "light"
     },
     "output_type": "display_data"
    }
   ],
   "source": [
    "values = list()\n",
    "for genus in set(d_genus_below.keys()).union(set(d_genus_above.keys())):\n",
    "    n_total = d_genus_below.get(genus, 0) + d_genus_above.get(genus, 0)\n",
    "    pct = d_genus_above.get(genus, 0) / n_total * 100\n",
    "    values.append(pct)\n",
    "\n",
    "print(len(values))\n",
    "\n",
    "plt.hist(values, bins=range(0, 110, 10))"
   ],
   "metadata": {
    "collapsed": false,
    "pycharm": {
     "name": "#%%\n"
    }
   }
  },
  {
   "cell_type": "code",
   "execution_count": 16,
   "outputs": [
    {
     "name": "stdout",
     "output_type": "stream",
     "text": [
      "67644\n"
     ]
    },
    {
     "data": {
      "text/plain": "9.6"
     },
     "execution_count": 16,
     "metadata": {},
     "output_type": "execute_result"
    }
   ],
   "source": [
    "print(len(DF_ANI[DF_ANI['ani'] >= 93]))\n",
    "round(len(DF_ANI[DF_ANI['ani'] >= 93]) / len(DF_ANI) * 100, 2)"
   ],
   "metadata": {
    "collapsed": false,
    "pycharm": {
     "name": "#%%\n"
    }
   }
  }
 ],
 "metadata": {
  "kernelspec": {
   "display_name": "Python 3",
   "language": "python",
   "name": "python3"
  },
  "language_info": {
   "codemirror_mode": {
    "name": "ipython",
    "version": 2
   },
   "file_extension": ".py",
   "mimetype": "text/x-python",
   "name": "python",
   "nbconvert_exporter": "python",
   "pygments_lexer": "ipython2",
   "version": "2.7.6"
  }
 },
 "nbformat": 4,
 "nbformat_minor": 0
}