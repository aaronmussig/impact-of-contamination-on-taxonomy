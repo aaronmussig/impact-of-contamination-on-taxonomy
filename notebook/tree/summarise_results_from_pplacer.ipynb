{
 "cells": [
  {
   "cell_type": "code",
   "execution_count": 19,
   "metadata": {
    "collapsed": true,
    "pycharm": {
     "name": "#%%\n"
    }
   },
   "outputs": [],
   "source": [
    "from collections import defaultdict\n",
    "\n",
    "from workflow.external.gtdb_metadata import GtdbMetadataR207\n",
    "from workflow.tree.pplacer_non_reps_at_pct_arc_get_taxonomy import PplacerNonRepsAtPctArcGetTaxonomy\n",
    "from workflow.tree.pplacer_non_reps_at_pct_bac_get_taxonomy import PplacerNonRepsAtPctBacGetTaxonomy\n",
    "import pandas as pd"
   ]
  },
  {
   "cell_type": "code",
   "execution_count": 20,
   "outputs": [],
   "source": [
    "\n",
    "DF_META = GtdbMetadataR207().output().read_cached()"
   ],
   "metadata": {
    "collapsed": false,
    "pycharm": {
     "name": "#%%\n"
    }
   }
  },
  {
   "cell_type": "code",
   "execution_count": 21,
   "outputs": [
    {
     "data": {
      "text/plain": "{10: 'd__Bacteria;p__Spirochaetota;c__Spirochaetia;o__Sphaerochaetales;f__Sphaerochaetaceae;g__Sphaerochaeta;s__Sphaerochaeta sp002432715',\n 15: 'd__Bacteria;p__Spirochaetota;c__Spirochaetia;o__Sphaerochaetales;f__Sphaerochaetaceae;g__Sphaerochaeta;s__Sphaerochaeta sp002432715',\n 30: 'd__Bacteria;p__Spirochaetota;c__Spirochaetia;o__Sphaerochaetales;f__Sphaerochaetaceae;g__Sphaerochaeta;s__Sphaerochaeta sp002432715',\n 40: 'd__Bacteria;p__Spirochaetota;c__Spirochaetia;o__Sphaerochaetales;f__Sphaerochaetaceae;g__Sphaerochaeta;s__Sphaerochaeta sp002432715',\n 50: 'd__Bacteria;p__Spirochaetota;c__Spirochaetia;o__Sphaerochaetales;f__Sphaerochaetaceae;g__Sphaerochaeta;s__Sphaerochaeta sp002432715'}"
     },
     "execution_count": 21,
     "metadata": {},
     "output_type": "execute_result"
    }
   ],
   "source": [
    "def load_changes():\n",
    "    out = defaultdict(dict)\n",
    "    df_bac = PplacerNonRepsAtPctBacGetTaxonomy().output().read_cached()\n",
    "    df_arc = PplacerNonRepsAtPctArcGetTaxonomy().output().read_cached()\n",
    "    df_merged = pd.concat([df_bac, df_arc], ignore_index=True)\n",
    "\n",
    "    for row in df_merged.itertuples():\n",
    "        out[row.gid][row.pct] = row.tax\n",
    "    return out\n",
    "\n",
    "CHANGES = load_changes()\n",
    "CHANGES['GCA_001896735.1']"
   ],
   "metadata": {
    "collapsed": false,
    "pycharm": {
     "name": "#%%\n"
    }
   }
  },
  {
   "cell_type": "code",
   "execution_count": 28,
   "outputs": [
    {
     "name": "stdout",
     "output_type": "stream",
     "text": [
      "GCA_002170165.1 @ 50\n",
      "Expected: d__Bacteria;p__Bacteroidota;c__Bacteroidia;o__Flavobacteriales;f__BACL11;g__TMED123;s__TMED123 sp002170165\n",
      "Result  : d__Bacteria;p__Proteobacteria;c__Alphaproteobacteria;o__MPNO01;f__UBA2964;g__GCA-2724505;s__GCA-2724505 sp002724505\n",
      "\n",
      "GCA_002401495.1 @ 50\n",
      "Expected: d__Bacteria;p__Patescibacteria;c__Paceibacteria;o__UBA9983_A;f__UBA2100;g__UBA2100;s__UBA2100 sp002401495\n",
      "Result  : d__Bacteria;p__Proteobacteria;c__Alphaproteobacteria;o__Rhodospirillales;f__Thalassospiraceae;g__Thalassospira;s__Thalassospira sp001613795\n",
      "\n",
      "GCA_014385135.2 @ 1\n",
      "Expected: d__Bacteria;p__Firmicutes_A;c__Clostridia;o__Lachnospirales;f__Lachnospiraceae;g__Merdisoma;s__Merdisoma sp014290175\n",
      "Result  : d__Bacteria;p__Firmicutes_A;c__Clostridia;o__Oscillospirales;f__Acutalibacteraceae;g__Pseudoruminococcus_A;s__\n",
      "\n",
      "GCA_017515185.1 @ 30\n",
      "Expected: d__Bacteria;p__Actinobacteriota;c__Actinomycetia;o__Actinomycetales;f__Bifidobacteriaceae;g__RGIG7107;s__RGIG7107 sp017538895\n",
      "Result  : d__Bacteria;p__Firmicutes_A;c__Clostridia;o__Saccharofermentanales;f__Saccharofermentanaceae;g__Saccharofermentans;s__Saccharofermentans sp017509245\n",
      "\n",
      "GCA_017515185.1 @ 40\n",
      "Expected: d__Bacteria;p__Actinobacteriota;c__Actinomycetia;o__Actinomycetales;f__Bifidobacteriaceae;g__RGIG7107;s__RGIG7107 sp017538895\n",
      "Result  : d__Bacteria;p__Firmicutes_A;c__Clostridia;o__Saccharofermentanales;f__Saccharofermentanaceae;g__Saccharofermentans;s__Saccharofermentans sp017509245\n",
      "\n",
      "GCA_017515185.1 @ 50\n",
      "Expected: d__Bacteria;p__Actinobacteriota;c__Actinomycetia;o__Actinomycetales;f__Bifidobacteriaceae;g__RGIG7107;s__RGIG7107 sp017538895\n",
      "Result  : d__Bacteria;p__Firmicutes_A;c__Clostridia;o__Saccharofermentanales;f__Saccharofermentanaceae;g__Saccharofermentans;s__Saccharofermentans sp017509245\n",
      "\n",
      "GCA_900765805.1 @ 5\n",
      "Expected: d__Bacteria;p__Bacteroidota;c__Bacteroidia;o__Bacteroidales;f__Bacteroidaceae;g__Phocaeicola;s__Phocaeicola dorei\n",
      "Result  : d__Bacteria;p__Bacteroidota;c__Bacteroidia;o__Bacteroidales;f__Bacteroidaceae;g__Bacteroides;s__Bacteroides fragilis\n",
      "\n",
      "GCA_900765805.1 @ 10\n",
      "Expected: d__Bacteria;p__Bacteroidota;c__Bacteroidia;o__Bacteroidales;f__Bacteroidaceae;g__Phocaeicola;s__Phocaeicola dorei\n",
      "Result  : d__Bacteria;p__Bacteroidota;c__Bacteroidia;o__Bacteroidales;f__Bacteroidaceae;g__Bacteroides;s__Bacteroides fragilis\n",
      "\n",
      "GCA_900765805.1 @ 15\n",
      "Expected: d__Bacteria;p__Bacteroidota;c__Bacteroidia;o__Bacteroidales;f__Bacteroidaceae;g__Phocaeicola;s__Phocaeicola dorei\n",
      "Result  : d__Bacteria;p__Bacteroidota;c__Bacteroidia;o__Bacteroidales;f__Bacteroidaceae;g__Bacteroides;s__Bacteroides fragilis\n",
      "\n",
      "GCA_900765805.1 @ 20\n",
      "Expected: d__Bacteria;p__Bacteroidota;c__Bacteroidia;o__Bacteroidales;f__Bacteroidaceae;g__Phocaeicola;s__Phocaeicola dorei\n",
      "Result  : d__Bacteria;p__Bacteroidota;c__Bacteroidia;o__Bacteroidales;f__Bacteroidaceae;g__Bacteroides;s__Bacteroides fragilis\n",
      "\n",
      "GCA_900765805.1 @ 30\n",
      "Expected: d__Bacteria;p__Bacteroidota;c__Bacteroidia;o__Bacteroidales;f__Bacteroidaceae;g__Phocaeicola;s__Phocaeicola dorei\n",
      "Result  : d__Bacteria;p__Bacteroidota;c__Bacteroidia;o__Bacteroidales;f__Bacteroidaceae;g__Bacteroides;s__Bacteroides fragilis\n",
      "\n",
      "GCA_900765805.1 @ 40\n",
      "Expected: d__Bacteria;p__Bacteroidota;c__Bacteroidia;o__Bacteroidales;f__Bacteroidaceae;g__Phocaeicola;s__Phocaeicola dorei\n",
      "Result  : d__Bacteria;p__Bacteroidota;c__Bacteroidia;o__Bacteroidales;f__Bacteroidaceae;g__Bacteroides;s__Bacteroides fragilis\n",
      "\n",
      "GCA_900765805.1 @ 50\n",
      "Expected: d__Bacteria;p__Bacteroidota;c__Bacteroidia;o__Bacteroidales;f__Bacteroidaceae;g__Phocaeicola;s__Phocaeicola dorei\n",
      "Result  : d__Bacteria;p__Bacteroidota;c__Bacteroidia;o__Bacteroidales;f__Bacteroidaceae;g__Bacteroides;s__Bacteroides fragilis\n",
      "\n",
      "GCA_905214645.1 @ 40\n",
      "Expected: d__Bacteria;p__Bacteroidota;c__Bacteroidia;o__Bacteroidales;f__Bacteroidaceae;g__Bacteroides;s__Bacteroides intestinigallinarum\n",
      "Result  : d__Bacteria;p__Bacteroidota;c__Bacteroidia;o__Bacteroidales;f__Tannerellaceae;g__Parabacteroides;s__Parabacteroides merdae\n",
      "\n",
      "Gids that were affected:\n",
      "GCA_002170165.1\n",
      "GCA_002401495.1\n",
      "GCA_014385135.2\n",
      "GCA_017515185.1\n",
      "GCA_900765805.1\n",
      "GCA_905214645.1\n"
     ]
    }
   ],
   "source": [
    "def report_differences():\n",
    "\n",
    "    unq_gids = set()\n",
    "\n",
    "    for gid, d_pct_tax in sorted(CHANGES.items()):\n",
    "        expected_tax = DF_META.loc[gid]['gtdb_taxonomy'].split(';')\n",
    "        for pct, tax in sorted(d_pct_tax.items()):\n",
    "            cur_tax = tax.split(';')\n",
    "            if expected_tax[0:6] != cur_tax[0:6]:\n",
    "                print(f'{gid} @ {pct}')\n",
    "                print(f'Expected: {\";\".join(expected_tax)}')\n",
    "                print(f'Result  : {\";\".join(cur_tax)}')\n",
    "                print()\n",
    "                unq_gids.add(gid)\n",
    "\n",
    "    print('Gids that were affected:')\n",
    "    print('\\n'.join(sorted(unq_gids)))\n",
    "\n",
    "    return\n",
    "\n",
    "report_differences()"
   ],
   "metadata": {
    "collapsed": false,
    "pycharm": {
     "name": "#%%\n"
    }
   }
  }
 ],
 "metadata": {
  "kernelspec": {
   "display_name": "Python 3",
   "language": "python",
   "name": "python3"
  },
  "language_info": {
   "codemirror_mode": {
    "name": "ipython",
    "version": 2
   },
   "file_extension": ".py",
   "mimetype": "text/x-python",
   "name": "python",
   "nbconvert_exporter": "python",
   "pygments_lexer": "ipython2",
   "version": "2.7.6"
  }
 },
 "nbformat": 4,
 "nbformat_minor": 0
}