{
 "cells": [
  {
   "cell_type": "code",
   "execution_count": 13,
   "outputs": [],
   "source": [
    "import sys\n",
    "sys.path.append(\"/Users/aaron/phd/impact-of-contamination-on-taxonomy\")"
   ],
   "metadata": {
    "collapsed": false
   }
  },
  {
   "cell_type": "code",
   "execution_count": 14,
   "outputs": [],
   "source": [
    "from workflow.fastani_contig_split.random_d_report_results import FastAniContigSplitRandomReportResultsFastAni\n",
    "from collections import Counter"
   ],
   "metadata": {
    "collapsed": false
   }
  },
  {
   "cell_type": "code",
   "execution_count": 15,
   "outputs": [
    {
     "name": "stdout",
     "output_type": "stream",
     "text": [
      "[06/01/2023 14:26:04] - 15.3MiB = /srv/home/uqamussi/projects/gunc-chimeras/output/fastani_contig_split/random/r_1/results_report_k16_s5000__p50.tsv -> /tmp/gunc-cache/srv/home/uqamussi/projects/gunc-chimeras/output/fastani_contig_split/random/r_1/results_report_k16_s5000__p50.tsv\n"
     ]
    },
    {
     "data": {
      "text/plain": "               gid                                       expected_tax  \\\n0  GCA_000143435.1  d__Bacteria;p__Firmicutes;c__Bacilli;o__Lactob...   \n1  GCA_000153745.1  d__Bacteria;p__Proteobacteria;c__Alphaproteoba...   \n2  GCA_000155005.1  d__Bacteria;p__Proteobacteria;c__Gammaproteoba...   \n3  GCA_000161815.1  d__Bacteria;p__Proteobacteria;c__Alphaproteoba...   \n4  GCA_000166735.2  d__Bacteria;p__Firmicutes;c__Bacilli;o__Lactob...   \n\n                                            keep_tax  \\\n0  d__Bacteria;p__Firmicutes;c__Bacilli;o__Lactob...   \n1                                                NaN   \n2                                                NaN   \n3  d__Bacteria;p__Proteobacteria;c__Alphaproteoba...   \n4                                                NaN   \n\n                                            disc_tax keep_rank_agree  \\\n0  d__Bacteria;p__Firmicutes;c__Bacilli;o__Lactob...               s   \n1                                                NaN             NaN   \n2  d__Bacteria;p__Proteobacteria;c__Gammaproteoba...             NaN   \n3  d__Bacteria;p__Proteobacteria;c__Alphaproteoba...               s   \n4                                                NaN             NaN   \n\n  disc_rank_agree      keep_sp_rep      disc_sp_rep  keep_ani  disc_ani  \\\n0               s  GCF_001435955.1  GCF_001435955.1   97.1201   97.4980   \n1             NaN              NaN              NaN    0.0000    0.0000   \n2               s              NaN  GCF_003697165.2    0.0000   96.5249   \n3               s  GCF_001681715.1  GCF_001681715.1   97.1064   96.9964   \n4             NaN              NaN              NaN    0.0000    0.0000   \n\n   keep_af  disc_af keep_type disc_type  keep_same_as_207  disc_same_as_207  \\\n0   0.7887   0.7966    sp_rep    sp_rep              True              True   \n1   0.0000   0.0000    no_ani    no_ani              True              True   \n2   0.0000   0.7589     no_af    sp_rep             False              True   \n3   0.9141   0.8293    sp_rep    sp_rep              True              True   \n4   0.0000   0.0000    no_ani    no_ani              True              True   \n\n   keep_same_as_disc  \n0               True  \n1               True  \n2              False  \n3               True  \n4               True  ",
      "text/html": "<div>\n<style scoped>\n    .dataframe tbody tr th:only-of-type {\n        vertical-align: middle;\n    }\n\n    .dataframe tbody tr th {\n        vertical-align: top;\n    }\n\n    .dataframe thead th {\n        text-align: right;\n    }\n</style>\n<table border=\"1\" class=\"dataframe\">\n  <thead>\n    <tr style=\"text-align: right;\">\n      <th></th>\n      <th>gid</th>\n      <th>expected_tax</th>\n      <th>keep_tax</th>\n      <th>disc_tax</th>\n      <th>keep_rank_agree</th>\n      <th>disc_rank_agree</th>\n      <th>keep_sp_rep</th>\n      <th>disc_sp_rep</th>\n      <th>keep_ani</th>\n      <th>disc_ani</th>\n      <th>keep_af</th>\n      <th>disc_af</th>\n      <th>keep_type</th>\n      <th>disc_type</th>\n      <th>keep_same_as_207</th>\n      <th>disc_same_as_207</th>\n      <th>keep_same_as_disc</th>\n    </tr>\n  </thead>\n  <tbody>\n    <tr>\n      <th>0</th>\n      <td>GCA_000143435.1</td>\n      <td>d__Bacteria;p__Firmicutes;c__Bacilli;o__Lactob...</td>\n      <td>d__Bacteria;p__Firmicutes;c__Bacilli;o__Lactob...</td>\n      <td>d__Bacteria;p__Firmicutes;c__Bacilli;o__Lactob...</td>\n      <td>s</td>\n      <td>s</td>\n      <td>GCF_001435955.1</td>\n      <td>GCF_001435955.1</td>\n      <td>97.1201</td>\n      <td>97.4980</td>\n      <td>0.7887</td>\n      <td>0.7966</td>\n      <td>sp_rep</td>\n      <td>sp_rep</td>\n      <td>True</td>\n      <td>True</td>\n      <td>True</td>\n    </tr>\n    <tr>\n      <th>1</th>\n      <td>GCA_000153745.1</td>\n      <td>d__Bacteria;p__Proteobacteria;c__Alphaproteoba...</td>\n      <td>NaN</td>\n      <td>NaN</td>\n      <td>NaN</td>\n      <td>NaN</td>\n      <td>NaN</td>\n      <td>NaN</td>\n      <td>0.0000</td>\n      <td>0.0000</td>\n      <td>0.0000</td>\n      <td>0.0000</td>\n      <td>no_ani</td>\n      <td>no_ani</td>\n      <td>True</td>\n      <td>True</td>\n      <td>True</td>\n    </tr>\n    <tr>\n      <th>2</th>\n      <td>GCA_000155005.1</td>\n      <td>d__Bacteria;p__Proteobacteria;c__Gammaproteoba...</td>\n      <td>NaN</td>\n      <td>d__Bacteria;p__Proteobacteria;c__Gammaproteoba...</td>\n      <td>NaN</td>\n      <td>s</td>\n      <td>NaN</td>\n      <td>GCF_003697165.2</td>\n      <td>0.0000</td>\n      <td>96.5249</td>\n      <td>0.0000</td>\n      <td>0.7589</td>\n      <td>no_af</td>\n      <td>sp_rep</td>\n      <td>False</td>\n      <td>True</td>\n      <td>False</td>\n    </tr>\n    <tr>\n      <th>3</th>\n      <td>GCA_000161815.1</td>\n      <td>d__Bacteria;p__Proteobacteria;c__Alphaproteoba...</td>\n      <td>d__Bacteria;p__Proteobacteria;c__Alphaproteoba...</td>\n      <td>d__Bacteria;p__Proteobacteria;c__Alphaproteoba...</td>\n      <td>s</td>\n      <td>s</td>\n      <td>GCF_001681715.1</td>\n      <td>GCF_001681715.1</td>\n      <td>97.1064</td>\n      <td>96.9964</td>\n      <td>0.9141</td>\n      <td>0.8293</td>\n      <td>sp_rep</td>\n      <td>sp_rep</td>\n      <td>True</td>\n      <td>True</td>\n      <td>True</td>\n    </tr>\n    <tr>\n      <th>4</th>\n      <td>GCA_000166735.2</td>\n      <td>d__Bacteria;p__Firmicutes;c__Bacilli;o__Lactob...</td>\n      <td>NaN</td>\n      <td>NaN</td>\n      <td>NaN</td>\n      <td>NaN</td>\n      <td>NaN</td>\n      <td>NaN</td>\n      <td>0.0000</td>\n      <td>0.0000</td>\n      <td>0.0000</td>\n      <td>0.0000</td>\n      <td>no_ani</td>\n      <td>no_ani</td>\n      <td>True</td>\n      <td>True</td>\n      <td>True</td>\n    </tr>\n  </tbody>\n</table>\n</div>"
     },
     "execution_count": 15,
     "metadata": {},
     "output_type": "execute_result"
    }
   ],
   "source": [
    "\n",
    "DF_RESULTS = FastAniContigSplitRandomReportResultsFastAni(replicate_id=1).output().read_cached()\n",
    "\n",
    "\n",
    "# Subset the results to bacteria only\n",
    "DF_RESULTS = DF_RESULTS[DF_RESULTS['expected_tax'].apply(lambda x: x.startswith('d__Bacteria'))]\n",
    "\n",
    "DF_RESULTS.head()"
   ],
   "metadata": {
    "collapsed": false
   }
  },
  {
   "cell_type": "code",
   "execution_count": 16,
   "outputs": [
    {
     "name": "stdout",
     "output_type": "stream",
     "text": [
      "There are 34,577 (99.23%) keep halves that are identical to the expected R207 taxonomy.\n",
      "There are 269 (0.77%) keep halves that are different to the expected R207 taxonomy.\n",
      "Of those, there are 187 where the chimeric half has the expected R207 taxonomy (we picked the wrong half?)\n",
      "--------------------------------------------------------------------------------\n",
      "There are 34,594 (99.28%) chimeric halves that are identical to the expected R207 taxonomy.\n",
      "There are 252 (0.72%) chimeric halves that are different to the expected R207 taxonomy.\n",
      "--------------------------------------------------------------------------------\n",
      "There are 439 (1.26%) cases were either half has an incorrect taxonomic assignment\n",
      "--------------------------------------------------------------------------------\n",
      "There are 357 (1.02%) cases where one half was wrong, and the other half was correct.\n",
      "There are 82 cases where neither half is correct.\n",
      "--------------------------------------------------------------------------------\n",
      "There are 34,470 (98.92%) halves that are identical in assignment to each other.\n",
      "--------------------------------------------------------------------------------\n",
      "There are 34,407 (98.74%)  hits where both halves have the same taxonomy\n"
     ]
    }
   ],
   "source": [
    "# Report how many of the keep halves are the same as R207\n",
    "N_KEEP_SAME_R207 = len(DF_RESULTS[DF_RESULTS['keep_same_as_207'] == True])\n",
    "N_KEEP_DIFF_R207 = len(DF_RESULTS[DF_RESULTS['keep_same_as_207'] == False])\n",
    "N_KEEP_DIFF_R207_BUT_DISC_SAME =  len(DF_RESULTS[(DF_RESULTS['keep_same_as_207'] == False) & (DF_RESULTS['disc_same_as_207'] == True)])\n",
    "print(f'There are {N_KEEP_SAME_R207:,} ({N_KEEP_SAME_R207/len(DF_RESULTS):.2%}) keep halves that are identical to the expected R207 taxonomy.')\n",
    "print(f'There are {N_KEEP_DIFF_R207:,} ({N_KEEP_DIFF_R207/len(DF_RESULTS):.2%}) keep halves that are different to the expected R207 taxonomy.')\n",
    "print(f'Of those, there are {N_KEEP_DIFF_R207_BUT_DISC_SAME:,} where the chimeric half has the expected R207 taxonomy (we picked the wrong half?)')\n",
    "print('-' * 80)\n",
    "\n",
    "N_DISC_SAME_R207 = len(DF_RESULTS[DF_RESULTS['disc_same_as_207'] == True])\n",
    "N_DISC_DIFF_R207 = len(DF_RESULTS[DF_RESULTS['disc_same_as_207'] == False])\n",
    "print(f'There are {N_DISC_SAME_R207:,} ({N_DISC_SAME_R207/len(DF_RESULTS):.2%}) chimeric halves that are identical to the expected R207 taxonomy.')\n",
    "print(f'There are {N_DISC_DIFF_R207:,} ({N_DISC_DIFF_R207/len(DF_RESULTS):.2%}) chimeric halves that are different to the expected R207 taxonomy.')\n",
    "\n",
    "print('-' * 80)\n",
    "\n",
    "N_EITHER_DIFF = len(DF_RESULTS[(DF_RESULTS['keep_same_as_207'] == False) | (DF_RESULTS['disc_same_as_207'] == False)])\n",
    "print(f'There are {N_EITHER_DIFF:,} ({N_EITHER_DIFF/len(DF_RESULTS):.2%}) cases were either half has an incorrect taxonomic assignment')\n",
    "\n",
    "print('-' * 80)\n",
    "\n",
    "N_ONE_RIGHT_ONE_WRONG = len(DF_RESULTS[\n",
    "    ((DF_RESULTS['keep_same_as_207'] == True) & (DF_RESULTS['disc_same_as_207'] == False)) |\n",
    "     ((DF_RESULTS['keep_same_as_207'] == False) & (DF_RESULTS['disc_same_as_207'] == True))\n",
    "])\n",
    "print(f'There are {N_ONE_RIGHT_ONE_WRONG:,} ({N_ONE_RIGHT_ONE_WRONG/len(DF_RESULTS):.2%}) cases where one half was wrong, and the other half was correct.')\n",
    "\n",
    "N_NEITHER_CORRECT = len(DF_RESULTS[(DF_RESULTS['disc_same_as_207'] == False) & (DF_RESULTS['keep_same_as_207'] == False)])\n",
    "print(f'There are {N_NEITHER_CORRECT:,} cases where neither half is correct.')\n",
    "\n",
    "print('-' * 80)\n",
    "\n",
    "N_KEEP_EQ_DISC = len(DF_RESULTS[DF_RESULTS['keep_same_as_disc'] == True])\n",
    "print(f'There are {N_KEEP_EQ_DISC:,} ({N_KEEP_EQ_DISC/len(DF_RESULTS):.2%}) halves that are identical in assignment to each other.')\n",
    "\n",
    "\n",
    "print('-' * 80)\n",
    "N_BOTH_SAME = len(DF_RESULTS[(DF_RESULTS['keep_same_as_207'] == True) & (DF_RESULTS['disc_same_as_207'] == True)])\n",
    "print(f'There are {N_BOTH_SAME:,} ({N_BOTH_SAME/len(DF_RESULTS):.2%})  hits where both halves have the same taxonomy')\n"
   ],
   "metadata": {
    "collapsed": false
   }
  },
  {
   "cell_type": "code",
   "execution_count": 17,
   "outputs": [
    {
     "name": "stdout",
     "output_type": "stream",
     "text": [
      "The following ranks are the highest rank at which the keep set differ from the expected tax:\n",
      "Counter({nan: 175, 'g': 93, 'f': 1})\n",
      "--------------------------------------------------------------------------------\n",
      "The following ranks are the highest rank at which the chimeric set differ from the expected tax:\n",
      "Counter({nan: 176, 'g': 76})\n"
     ]
    }
   ],
   "source": [
    "CNT_KEEP_HIGHEST_AGREE_TAX = Counter(DF_RESULTS[DF_RESULTS['keep_same_as_207'] == False]['keep_rank_agree'])\n",
    "print('The following ranks are the highest rank at which the keep set differ from the expected tax:')\n",
    "print(CNT_KEEP_HIGHEST_AGREE_TAX)\n",
    "\n",
    "print('-' * 80)\n",
    "\n",
    "CNT_DISC_HIGHEST_AGREE_TAX = Counter(DF_RESULTS[DF_RESULTS['disc_same_as_207'] == False]['disc_rank_agree'])\n",
    "print('The following ranks are the highest rank at which the chimeric set differ from the expected tax:')\n",
    "print(CNT_DISC_HIGHEST_AGREE_TAX)\n",
    "\n",
    "# The discard set seems to be more skewed towards not finding a match."
   ],
   "metadata": {
    "collapsed": false
   }
  },
  {
   "cell_type": "code",
   "execution_count": 18,
   "outputs": [
    {
     "name": "stdout",
     "output_type": "stream",
     "text": [
      "There were 187 hits where the keep half was wrong, but the chimeric half was correct\n",
      "Of those, there were 79 cases where the keep tax actually had an assignment\n"
     ]
    },
    {
     "data": {
      "text/plain": "                   gid                                       expected_tax  \\\n2      GCA_000155005.1  d__Bacteria;p__Proteobacteria;c__Gammaproteoba...   \n190    GCA_000761495.1  d__Bacteria;p__Proteobacteria;c__Gammaproteoba...   \n333    GCA_001063255.1  d__Bacteria;p__Proteobacteria;c__Gammaproteoba...   \n622    GCA_001399545.1  d__Bacteria;p__Proteobacteria;c__Gammaproteoba...   \n624    GCA_001399595.1  d__Bacteria;p__Proteobacteria;c__Gammaproteoba...   \n...                ...                                                ...   \n34534  GCF_900445985.1  d__Bacteria;p__Proteobacteria;c__Alphaproteoba...   \n34955  GCF_900509435.1  d__Bacteria;p__Proteobacteria;c__Gammaproteoba...   \n35241  GCF_900978905.1  d__Bacteria;p__Proteobacteria;c__Gammaproteoba...   \n35572  GCF_902729445.1  d__Bacteria;p__Proteobacteria;c__Alphaproteoba...   \n35612  GCF_902845755.1  d__Bacteria;p__Campylobacterota;c__Campylobact...   \n\n                                                keep_tax  \\\n2                                                    NaN   \n190    d__Bacteria;p__Proteobacteria;c__Gammaproteoba...   \n333                                                  NaN   \n622                                                  NaN   \n624                                                  NaN   \n...                                                  ...   \n34534                                                NaN   \n34955                                                NaN   \n35241                                                NaN   \n35572                                                NaN   \n35612  d__Bacteria;p__Campylobacterota;c__Campylobact...   \n\n                                                disc_tax keep_rank_agree  \\\n2      d__Bacteria;p__Proteobacteria;c__Gammaproteoba...             NaN   \n190                                                  NaN               g   \n333    d__Bacteria;p__Proteobacteria;c__Gammaproteoba...             NaN   \n622    d__Bacteria;p__Proteobacteria;c__Gammaproteoba...             NaN   \n624    d__Bacteria;p__Proteobacteria;c__Gammaproteoba...             NaN   \n...                                                  ...             ...   \n34534  d__Bacteria;p__Proteobacteria;c__Alphaproteoba...             NaN   \n34955  d__Bacteria;p__Proteobacteria;c__Gammaproteoba...             NaN   \n35241  d__Bacteria;p__Proteobacteria;c__Gammaproteoba...             NaN   \n35572  d__Bacteria;p__Proteobacteria;c__Alphaproteoba...             NaN   \n35612  d__Bacteria;p__Campylobacterota;c__Campylobact...               g   \n\n      disc_rank_agree      keep_sp_rep      disc_sp_rep  keep_ani  disc_ani  \\\n2                   s              NaN  GCF_003697165.2    0.0000   96.5249   \n190               NaN  GCF_014769185.1              NaN   96.2694    0.0000   \n333                 s              NaN  GCA_003028315.1    0.0000   96.7600   \n622                 s              NaN  GCF_016806145.1    0.0000   95.7276   \n624                 s              NaN  GCF_016806145.1    0.0000   95.4624   \n...               ...              ...              ...       ...       ...   \n34534               s              NaN  GCF_017086445.1    0.0000   95.1800   \n34955               s              NaN  GCF_900978845.1    0.0000   95.6917   \n35241               s              NaN  GCF_900978845.1    0.0000   95.4564   \n35572               s              NaN  GCF_001650635.1    0.0000   95.3563   \n35612               s  GCF_900478295.1  GCF_003637685.1   95.5244   95.4725   \n\n       keep_af  disc_af keep_type disc_type  keep_same_as_207  \\\n2       0.0000   0.7589     no_af    sp_rep             False   \n190     0.8218   0.0000    sp_rep    no_ani             False   \n333     0.0000   0.9183    no_ani    sp_rep             False   \n622     0.0000   0.8461    no_ani    sp_rep             False   \n624     0.0000   0.8341    no_ani    sp_rep             False   \n...        ...      ...       ...       ...               ...   \n34534   0.0000   0.8746    no_ani    sp_rep             False   \n34955   0.0000   0.8191    no_ani    sp_rep             False   \n35241   0.0000   0.8650    no_ani    sp_rep             False   \n35572   0.0000   0.8567    no_ani    sp_rep             False   \n35612   0.8923   0.9425    sp_rep    sp_rep             False   \n\n       disc_same_as_207  keep_same_as_disc  \n2                  True              False  \n190                True              False  \n333                True              False  \n622                True              False  \n624                True              False  \n...                 ...                ...  \n34534              True              False  \n34955              True              False  \n35241              True              False  \n35572              True              False  \n35612              True              False  \n\n[187 rows x 17 columns]",
      "text/html": "<div>\n<style scoped>\n    .dataframe tbody tr th:only-of-type {\n        vertical-align: middle;\n    }\n\n    .dataframe tbody tr th {\n        vertical-align: top;\n    }\n\n    .dataframe thead th {\n        text-align: right;\n    }\n</style>\n<table border=\"1\" class=\"dataframe\">\n  <thead>\n    <tr style=\"text-align: right;\">\n      <th></th>\n      <th>gid</th>\n      <th>expected_tax</th>\n      <th>keep_tax</th>\n      <th>disc_tax</th>\n      <th>keep_rank_agree</th>\n      <th>disc_rank_agree</th>\n      <th>keep_sp_rep</th>\n      <th>disc_sp_rep</th>\n      <th>keep_ani</th>\n      <th>disc_ani</th>\n      <th>keep_af</th>\n      <th>disc_af</th>\n      <th>keep_type</th>\n      <th>disc_type</th>\n      <th>keep_same_as_207</th>\n      <th>disc_same_as_207</th>\n      <th>keep_same_as_disc</th>\n    </tr>\n  </thead>\n  <tbody>\n    <tr>\n      <th>2</th>\n      <td>GCA_000155005.1</td>\n      <td>d__Bacteria;p__Proteobacteria;c__Gammaproteoba...</td>\n      <td>NaN</td>\n      <td>d__Bacteria;p__Proteobacteria;c__Gammaproteoba...</td>\n      <td>NaN</td>\n      <td>s</td>\n      <td>NaN</td>\n      <td>GCF_003697165.2</td>\n      <td>0.0000</td>\n      <td>96.5249</td>\n      <td>0.0000</td>\n      <td>0.7589</td>\n      <td>no_af</td>\n      <td>sp_rep</td>\n      <td>False</td>\n      <td>True</td>\n      <td>False</td>\n    </tr>\n    <tr>\n      <th>190</th>\n      <td>GCA_000761495.1</td>\n      <td>d__Bacteria;p__Proteobacteria;c__Gammaproteoba...</td>\n      <td>d__Bacteria;p__Proteobacteria;c__Gammaproteoba...</td>\n      <td>NaN</td>\n      <td>g</td>\n      <td>NaN</td>\n      <td>GCF_014769185.1</td>\n      <td>NaN</td>\n      <td>96.2694</td>\n      <td>0.0000</td>\n      <td>0.8218</td>\n      <td>0.0000</td>\n      <td>sp_rep</td>\n      <td>no_ani</td>\n      <td>False</td>\n      <td>True</td>\n      <td>False</td>\n    </tr>\n    <tr>\n      <th>333</th>\n      <td>GCA_001063255.1</td>\n      <td>d__Bacteria;p__Proteobacteria;c__Gammaproteoba...</td>\n      <td>NaN</td>\n      <td>d__Bacteria;p__Proteobacteria;c__Gammaproteoba...</td>\n      <td>NaN</td>\n      <td>s</td>\n      <td>NaN</td>\n      <td>GCA_003028315.1</td>\n      <td>0.0000</td>\n      <td>96.7600</td>\n      <td>0.0000</td>\n      <td>0.9183</td>\n      <td>no_ani</td>\n      <td>sp_rep</td>\n      <td>False</td>\n      <td>True</td>\n      <td>False</td>\n    </tr>\n    <tr>\n      <th>622</th>\n      <td>GCA_001399545.1</td>\n      <td>d__Bacteria;p__Proteobacteria;c__Gammaproteoba...</td>\n      <td>NaN</td>\n      <td>d__Bacteria;p__Proteobacteria;c__Gammaproteoba...</td>\n      <td>NaN</td>\n      <td>s</td>\n      <td>NaN</td>\n      <td>GCF_016806145.1</td>\n      <td>0.0000</td>\n      <td>95.7276</td>\n      <td>0.0000</td>\n      <td>0.8461</td>\n      <td>no_ani</td>\n      <td>sp_rep</td>\n      <td>False</td>\n      <td>True</td>\n      <td>False</td>\n    </tr>\n    <tr>\n      <th>624</th>\n      <td>GCA_001399595.1</td>\n      <td>d__Bacteria;p__Proteobacteria;c__Gammaproteoba...</td>\n      <td>NaN</td>\n      <td>d__Bacteria;p__Proteobacteria;c__Gammaproteoba...</td>\n      <td>NaN</td>\n      <td>s</td>\n      <td>NaN</td>\n      <td>GCF_016806145.1</td>\n      <td>0.0000</td>\n      <td>95.4624</td>\n      <td>0.0000</td>\n      <td>0.8341</td>\n      <td>no_ani</td>\n      <td>sp_rep</td>\n      <td>False</td>\n      <td>True</td>\n      <td>False</td>\n    </tr>\n    <tr>\n      <th>...</th>\n      <td>...</td>\n      <td>...</td>\n      <td>...</td>\n      <td>...</td>\n      <td>...</td>\n      <td>...</td>\n      <td>...</td>\n      <td>...</td>\n      <td>...</td>\n      <td>...</td>\n      <td>...</td>\n      <td>...</td>\n      <td>...</td>\n      <td>...</td>\n      <td>...</td>\n      <td>...</td>\n      <td>...</td>\n    </tr>\n    <tr>\n      <th>34534</th>\n      <td>GCF_900445985.1</td>\n      <td>d__Bacteria;p__Proteobacteria;c__Alphaproteoba...</td>\n      <td>NaN</td>\n      <td>d__Bacteria;p__Proteobacteria;c__Alphaproteoba...</td>\n      <td>NaN</td>\n      <td>s</td>\n      <td>NaN</td>\n      <td>GCF_017086445.1</td>\n      <td>0.0000</td>\n      <td>95.1800</td>\n      <td>0.0000</td>\n      <td>0.8746</td>\n      <td>no_ani</td>\n      <td>sp_rep</td>\n      <td>False</td>\n      <td>True</td>\n      <td>False</td>\n    </tr>\n    <tr>\n      <th>34955</th>\n      <td>GCF_900509435.1</td>\n      <td>d__Bacteria;p__Proteobacteria;c__Gammaproteoba...</td>\n      <td>NaN</td>\n      <td>d__Bacteria;p__Proteobacteria;c__Gammaproteoba...</td>\n      <td>NaN</td>\n      <td>s</td>\n      <td>NaN</td>\n      <td>GCF_900978845.1</td>\n      <td>0.0000</td>\n      <td>95.6917</td>\n      <td>0.0000</td>\n      <td>0.8191</td>\n      <td>no_ani</td>\n      <td>sp_rep</td>\n      <td>False</td>\n      <td>True</td>\n      <td>False</td>\n    </tr>\n    <tr>\n      <th>35241</th>\n      <td>GCF_900978905.1</td>\n      <td>d__Bacteria;p__Proteobacteria;c__Gammaproteoba...</td>\n      <td>NaN</td>\n      <td>d__Bacteria;p__Proteobacteria;c__Gammaproteoba...</td>\n      <td>NaN</td>\n      <td>s</td>\n      <td>NaN</td>\n      <td>GCF_900978845.1</td>\n      <td>0.0000</td>\n      <td>95.4564</td>\n      <td>0.0000</td>\n      <td>0.8650</td>\n      <td>no_ani</td>\n      <td>sp_rep</td>\n      <td>False</td>\n      <td>True</td>\n      <td>False</td>\n    </tr>\n    <tr>\n      <th>35572</th>\n      <td>GCF_902729445.1</td>\n      <td>d__Bacteria;p__Proteobacteria;c__Alphaproteoba...</td>\n      <td>NaN</td>\n      <td>d__Bacteria;p__Proteobacteria;c__Alphaproteoba...</td>\n      <td>NaN</td>\n      <td>s</td>\n      <td>NaN</td>\n      <td>GCF_001650635.1</td>\n      <td>0.0000</td>\n      <td>95.3563</td>\n      <td>0.0000</td>\n      <td>0.8567</td>\n      <td>no_ani</td>\n      <td>sp_rep</td>\n      <td>False</td>\n      <td>True</td>\n      <td>False</td>\n    </tr>\n    <tr>\n      <th>35612</th>\n      <td>GCF_902845755.1</td>\n      <td>d__Bacteria;p__Campylobacterota;c__Campylobact...</td>\n      <td>d__Bacteria;p__Campylobacterota;c__Campylobact...</td>\n      <td>d__Bacteria;p__Campylobacterota;c__Campylobact...</td>\n      <td>g</td>\n      <td>s</td>\n      <td>GCF_900478295.1</td>\n      <td>GCF_003637685.1</td>\n      <td>95.5244</td>\n      <td>95.4725</td>\n      <td>0.8923</td>\n      <td>0.9425</td>\n      <td>sp_rep</td>\n      <td>sp_rep</td>\n      <td>False</td>\n      <td>True</td>\n      <td>False</td>\n    </tr>\n  </tbody>\n</table>\n<p>187 rows × 17 columns</p>\n</div>"
     },
     "execution_count": 18,
     "metadata": {},
     "output_type": "execute_result"
    }
   ],
   "source": [
    "# How many of the keep set had a chimeric half that yielded the correct taxonomy?\n",
    "DF_KEEP_DIFF_BUT_DISC_SAME = DF_RESULTS[(DF_RESULTS['keep_same_as_207'] == False) & (DF_RESULTS['disc_same_as_207'] == True)]\n",
    "N_KEEP_DIFF_BUT_DISC_SAME = len(DF_KEEP_DIFF_BUT_DISC_SAME)\n",
    "print(f'There were {N_KEEP_DIFF_BUT_DISC_SAME:,} hits where the keep half was wrong, but the chimeric half was correct')\n",
    "\n",
    "DF_DISAGREE_TAX = DF_KEEP_DIFF_BUT_DISC_SAME[DF_KEEP_DIFF_BUT_DISC_SAME['keep_tax'].apply(lambda x: len(x) > 7 if str(x) != 'nan' else False)]\n",
    "print(f'Of those, there were {len(DF_DISAGREE_TAX):,} cases where the keep tax actually had an assignment')\n",
    "\n",
    "DF_KEEP_DIFF_BUT_DISC_SAME"
   ],
   "metadata": {
    "collapsed": false
   }
  },
  {
   "cell_type": "code",
   "execution_count": 18,
   "outputs": [],
   "source": [],
   "metadata": {
    "collapsed": false
   }
  },
  {
   "cell_type": "code",
   "execution_count": 19,
   "outputs": [
    {
     "name": "stdout",
     "output_type": "stream",
     "text": [
      "There were 82 cases where neither half got the correct taxonomy\n"
     ]
    },
    {
     "data": {
      "text/plain": "                   gid                                       expected_tax  \\\n720    GCA_001603295.1  d__Bacteria;p__Proteobacteria;c__Alphaproteoba...   \n1485   GCA_002348105.1  d__Bacteria;p__Deferribacterota;c__Deferribact...   \n1801   GCA_002418505.1  d__Bacteria;p__Proteobacteria;c__Gammaproteoba...   \n1916   GCA_002450535.1  d__Bacteria;p__Marinisomatota;c__Marinisomatia...   \n1925   GCA_002452365.1  d__Bacteria;p__Desulfobacterota;c__Syntrophia;...   \n...                ...                                                ...   \n26981  GCF_009493995.1  d__Bacteria;p__Bacteroidota;c__Bacteroidia;o__...   \n29130  GCF_013417155.1  d__Bacteria;p__Proteobacteria;c__Gammaproteoba...   \n30594  GCF_015667745.1  d__Bacteria;p__Actinobacteriota;c__Coriobacter...   \n31385  GCF_016806285.1  d__Bacteria;p__Campylobacterota;c__Campylobact...   \n32668  GCF_018474335.1  d__Bacteria;p__Bacteroidota;c__Bacteroidia;o__...   \n\n                                                keep_tax  \\\n720                                                  NaN   \n1485                                                 NaN   \n1801   d__Bacteria;p__Proteobacteria;c__Gammaproteoba...   \n1916                                                 NaN   \n1925                                                 NaN   \n...                                                  ...   \n26981                                                NaN   \n29130  d__Bacteria;p__Proteobacteria;c__Gammaproteoba...   \n30594                                                NaN   \n31385  d__Bacteria;p__Campylobacterota;c__Campylobact...   \n32668                                                NaN   \n\n                                                disc_tax keep_rank_agree  \\\n720                                                  NaN             NaN   \n1485                                                 NaN             NaN   \n1801   d__Bacteria;p__Proteobacteria;c__Gammaproteoba...               g   \n1916                                                 NaN             NaN   \n1925   d__Bacteria;p__Desulfobacterota;c__Syntrophia;...             NaN   \n...                                                  ...             ...   \n26981  d__Bacteria;p__Bacteroidota;c__Bacteroidia;o__...             NaN   \n29130                                                NaN               g   \n30594  d__Bacteria;p__Actinobacteriota;c__Coriobacter...             NaN   \n31385  d__Bacteria;p__Campylobacterota;c__Campylobact...               g   \n32668                                                NaN             NaN   \n\n      disc_rank_agree      keep_sp_rep      disc_sp_rep  keep_ani  disc_ani  \\\n720               NaN              NaN              NaN    0.0000    0.0000   \n1485              NaN              NaN              NaN    0.0000    0.0000   \n1801                g  GCA_002364755.1  GCF_008710035.1   95.1165   95.0947   \n1916              NaN              NaN              NaN    0.0000    0.0000   \n1925                g              NaN  GCA_000747625.2    0.0000   95.0709   \n...               ...              ...              ...       ...       ...   \n26981               g              NaN  GCF_000157935.1    0.0000   95.8227   \n29130             NaN  GCF_000487975.1              NaN   96.2424    0.0000   \n30594               g              NaN  GCA_018382125.1    0.0000   95.3313   \n31385               g  GCF_900478295.1  GCF_003637665.1   95.5558   95.5284   \n32668             NaN              NaN              NaN    0.0000    0.0000   \n\n       keep_af  disc_af keep_type disc_type  keep_same_as_207  \\\n720     0.0000   0.0000    no_ani    no_ani             False   \n1485    0.0000   0.0000     no_af     no_af             False   \n1801    0.8535   0.8251    sp_rep    sp_rep             False   \n1916    0.0000   0.0000    no_ani    no_ani             False   \n1925    0.0000   0.6682    no_ani    sp_rep             False   \n...        ...      ...       ...       ...               ...   \n26981   0.0000   0.7224    no_ani    sp_rep             False   \n29130   0.8764   0.0000    sp_rep    no_ani             False   \n30594   0.0000   0.8768    no_ani    sp_rep             False   \n31385   0.9540   0.9142    sp_rep    sp_rep             False   \n32668   0.0000   0.0000    no_ani    no_ani             False   \n\n       disc_same_as_207  keep_same_as_disc  \n720               False               True  \n1485              False               True  \n1801              False              False  \n1916              False               True  \n1925              False              False  \n...                 ...                ...  \n26981             False              False  \n29130             False              False  \n30594             False              False  \n31385             False              False  \n32668             False               True  \n\n[82 rows x 17 columns]",
      "text/html": "<div>\n<style scoped>\n    .dataframe tbody tr th:only-of-type {\n        vertical-align: middle;\n    }\n\n    .dataframe tbody tr th {\n        vertical-align: top;\n    }\n\n    .dataframe thead th {\n        text-align: right;\n    }\n</style>\n<table border=\"1\" class=\"dataframe\">\n  <thead>\n    <tr style=\"text-align: right;\">\n      <th></th>\n      <th>gid</th>\n      <th>expected_tax</th>\n      <th>keep_tax</th>\n      <th>disc_tax</th>\n      <th>keep_rank_agree</th>\n      <th>disc_rank_agree</th>\n      <th>keep_sp_rep</th>\n      <th>disc_sp_rep</th>\n      <th>keep_ani</th>\n      <th>disc_ani</th>\n      <th>keep_af</th>\n      <th>disc_af</th>\n      <th>keep_type</th>\n      <th>disc_type</th>\n      <th>keep_same_as_207</th>\n      <th>disc_same_as_207</th>\n      <th>keep_same_as_disc</th>\n    </tr>\n  </thead>\n  <tbody>\n    <tr>\n      <th>720</th>\n      <td>GCA_001603295.1</td>\n      <td>d__Bacteria;p__Proteobacteria;c__Alphaproteoba...</td>\n      <td>NaN</td>\n      <td>NaN</td>\n      <td>NaN</td>\n      <td>NaN</td>\n      <td>NaN</td>\n      <td>NaN</td>\n      <td>0.0000</td>\n      <td>0.0000</td>\n      <td>0.0000</td>\n      <td>0.0000</td>\n      <td>no_ani</td>\n      <td>no_ani</td>\n      <td>False</td>\n      <td>False</td>\n      <td>True</td>\n    </tr>\n    <tr>\n      <th>1485</th>\n      <td>GCA_002348105.1</td>\n      <td>d__Bacteria;p__Deferribacterota;c__Deferribact...</td>\n      <td>NaN</td>\n      <td>NaN</td>\n      <td>NaN</td>\n      <td>NaN</td>\n      <td>NaN</td>\n      <td>NaN</td>\n      <td>0.0000</td>\n      <td>0.0000</td>\n      <td>0.0000</td>\n      <td>0.0000</td>\n      <td>no_af</td>\n      <td>no_af</td>\n      <td>False</td>\n      <td>False</td>\n      <td>True</td>\n    </tr>\n    <tr>\n      <th>1801</th>\n      <td>GCA_002418505.1</td>\n      <td>d__Bacteria;p__Proteobacteria;c__Gammaproteoba...</td>\n      <td>d__Bacteria;p__Proteobacteria;c__Gammaproteoba...</td>\n      <td>d__Bacteria;p__Proteobacteria;c__Gammaproteoba...</td>\n      <td>g</td>\n      <td>g</td>\n      <td>GCA_002364755.1</td>\n      <td>GCF_008710035.1</td>\n      <td>95.1165</td>\n      <td>95.0947</td>\n      <td>0.8535</td>\n      <td>0.8251</td>\n      <td>sp_rep</td>\n      <td>sp_rep</td>\n      <td>False</td>\n      <td>False</td>\n      <td>False</td>\n    </tr>\n    <tr>\n      <th>1916</th>\n      <td>GCA_002450535.1</td>\n      <td>d__Bacteria;p__Marinisomatota;c__Marinisomatia...</td>\n      <td>NaN</td>\n      <td>NaN</td>\n      <td>NaN</td>\n      <td>NaN</td>\n      <td>NaN</td>\n      <td>NaN</td>\n      <td>0.0000</td>\n      <td>0.0000</td>\n      <td>0.0000</td>\n      <td>0.0000</td>\n      <td>no_ani</td>\n      <td>no_ani</td>\n      <td>False</td>\n      <td>False</td>\n      <td>True</td>\n    </tr>\n    <tr>\n      <th>1925</th>\n      <td>GCA_002452365.1</td>\n      <td>d__Bacteria;p__Desulfobacterota;c__Syntrophia;...</td>\n      <td>NaN</td>\n      <td>d__Bacteria;p__Desulfobacterota;c__Syntrophia;...</td>\n      <td>NaN</td>\n      <td>g</td>\n      <td>NaN</td>\n      <td>GCA_000747625.2</td>\n      <td>0.0000</td>\n      <td>95.0709</td>\n      <td>0.0000</td>\n      <td>0.6682</td>\n      <td>no_ani</td>\n      <td>sp_rep</td>\n      <td>False</td>\n      <td>False</td>\n      <td>False</td>\n    </tr>\n    <tr>\n      <th>...</th>\n      <td>...</td>\n      <td>...</td>\n      <td>...</td>\n      <td>...</td>\n      <td>...</td>\n      <td>...</td>\n      <td>...</td>\n      <td>...</td>\n      <td>...</td>\n      <td>...</td>\n      <td>...</td>\n      <td>...</td>\n      <td>...</td>\n      <td>...</td>\n      <td>...</td>\n      <td>...</td>\n      <td>...</td>\n    </tr>\n    <tr>\n      <th>26981</th>\n      <td>GCF_009493995.1</td>\n      <td>d__Bacteria;p__Bacteroidota;c__Bacteroidia;o__...</td>\n      <td>NaN</td>\n      <td>d__Bacteria;p__Bacteroidota;c__Bacteroidia;o__...</td>\n      <td>NaN</td>\n      <td>g</td>\n      <td>NaN</td>\n      <td>GCF_000157935.1</td>\n      <td>0.0000</td>\n      <td>95.8227</td>\n      <td>0.0000</td>\n      <td>0.7224</td>\n      <td>no_ani</td>\n      <td>sp_rep</td>\n      <td>False</td>\n      <td>False</td>\n      <td>False</td>\n    </tr>\n    <tr>\n      <th>29130</th>\n      <td>GCF_013417155.1</td>\n      <td>d__Bacteria;p__Proteobacteria;c__Gammaproteoba...</td>\n      <td>d__Bacteria;p__Proteobacteria;c__Gammaproteoba...</td>\n      <td>NaN</td>\n      <td>g</td>\n      <td>NaN</td>\n      <td>GCF_000487975.1</td>\n      <td>NaN</td>\n      <td>96.2424</td>\n      <td>0.0000</td>\n      <td>0.8764</td>\n      <td>0.0000</td>\n      <td>sp_rep</td>\n      <td>no_ani</td>\n      <td>False</td>\n      <td>False</td>\n      <td>False</td>\n    </tr>\n    <tr>\n      <th>30594</th>\n      <td>GCF_015667745.1</td>\n      <td>d__Bacteria;p__Actinobacteriota;c__Coriobacter...</td>\n      <td>NaN</td>\n      <td>d__Bacteria;p__Actinobacteriota;c__Coriobacter...</td>\n      <td>NaN</td>\n      <td>g</td>\n      <td>NaN</td>\n      <td>GCA_018382125.1</td>\n      <td>0.0000</td>\n      <td>95.3313</td>\n      <td>0.0000</td>\n      <td>0.8768</td>\n      <td>no_ani</td>\n      <td>sp_rep</td>\n      <td>False</td>\n      <td>False</td>\n      <td>False</td>\n    </tr>\n    <tr>\n      <th>31385</th>\n      <td>GCF_016806285.1</td>\n      <td>d__Bacteria;p__Campylobacterota;c__Campylobact...</td>\n      <td>d__Bacteria;p__Campylobacterota;c__Campylobact...</td>\n      <td>d__Bacteria;p__Campylobacterota;c__Campylobact...</td>\n      <td>g</td>\n      <td>g</td>\n      <td>GCF_900478295.1</td>\n      <td>GCF_003637665.1</td>\n      <td>95.5558</td>\n      <td>95.5284</td>\n      <td>0.9540</td>\n      <td>0.9142</td>\n      <td>sp_rep</td>\n      <td>sp_rep</td>\n      <td>False</td>\n      <td>False</td>\n      <td>False</td>\n    </tr>\n    <tr>\n      <th>32668</th>\n      <td>GCF_018474335.1</td>\n      <td>d__Bacteria;p__Bacteroidota;c__Bacteroidia;o__...</td>\n      <td>NaN</td>\n      <td>NaN</td>\n      <td>NaN</td>\n      <td>NaN</td>\n      <td>NaN</td>\n      <td>NaN</td>\n      <td>0.0000</td>\n      <td>0.0000</td>\n      <td>0.0000</td>\n      <td>0.0000</td>\n      <td>no_ani</td>\n      <td>no_ani</td>\n      <td>False</td>\n      <td>False</td>\n      <td>True</td>\n    </tr>\n  </tbody>\n</table>\n<p>82 rows × 17 columns</p>\n</div>"
     },
     "execution_count": 19,
     "metadata": {},
     "output_type": "execute_result"
    }
   ],
   "source": [
    "DF_NONE_CORRECT = DF_RESULTS[(DF_RESULTS['keep_same_as_207'] == False) & (DF_RESULTS['disc_same_as_207'] == False)]\n",
    "print(f'There were {len(DF_NONE_CORRECT):,} cases where neither half got the correct taxonomy')\n",
    "\n",
    "DF_NONE_CORRECT"
   ],
   "metadata": {
    "collapsed": false
   }
  },
  {
   "cell_type": "code",
   "execution_count": 20,
   "outputs": [
    {
     "data": {
      "text/plain": "                   gid                                       expected_tax  \\\n2      GCA_000155005.1  d__Bacteria;p__Proteobacteria;c__Gammaproteoba...   \n150    GCA_000508605.1  d__Bacteria;p__Firmicutes;c__Bacilli;o__Lactob...   \n190    GCA_000761495.1  d__Bacteria;p__Proteobacteria;c__Gammaproteoba...   \n333    GCA_001063255.1  d__Bacteria;p__Proteobacteria;c__Gammaproteoba...   \n622    GCA_001399545.1  d__Bacteria;p__Proteobacteria;c__Gammaproteoba...   \n...                ...                                                ...   \n34955  GCF_900509435.1  d__Bacteria;p__Proteobacteria;c__Gammaproteoba...   \n35241  GCF_900978905.1  d__Bacteria;p__Proteobacteria;c__Gammaproteoba...   \n35572  GCF_902729445.1  d__Bacteria;p__Proteobacteria;c__Alphaproteoba...   \n35612  GCF_902845755.1  d__Bacteria;p__Campylobacterota;c__Campylobact...   \n35700  GCF_907163115.1  d__Bacteria;p__Proteobacteria;c__Gammaproteoba...   \n\n                                                keep_tax  \\\n2                                                    NaN   \n150    d__Bacteria;p__Firmicutes;c__Bacilli;o__Lactob...   \n190    d__Bacteria;p__Proteobacteria;c__Gammaproteoba...   \n333                                                  NaN   \n622                                                  NaN   \n...                                                  ...   \n34955                                                NaN   \n35241                                                NaN   \n35572                                                NaN   \n35612  d__Bacteria;p__Campylobacterota;c__Campylobact...   \n35700                                                NaN   \n\n                                                disc_tax keep_rank_agree  \\\n2      d__Bacteria;p__Proteobacteria;c__Gammaproteoba...             NaN   \n150                                                  NaN               s   \n190                                                  NaN               g   \n333    d__Bacteria;p__Proteobacteria;c__Gammaproteoba...             NaN   \n622    d__Bacteria;p__Proteobacteria;c__Gammaproteoba...             NaN   \n...                                                  ...             ...   \n34955  d__Bacteria;p__Proteobacteria;c__Gammaproteoba...             NaN   \n35241  d__Bacteria;p__Proteobacteria;c__Gammaproteoba...             NaN   \n35572  d__Bacteria;p__Proteobacteria;c__Alphaproteoba...             NaN   \n35612  d__Bacteria;p__Campylobacterota;c__Campylobact...               g   \n35700  d__Bacteria;p__Proteobacteria;c__Gammaproteoba...             NaN   \n\n      disc_rank_agree      keep_sp_rep      disc_sp_rep  keep_ani  disc_ani  \\\n2                   s              NaN  GCF_003697165.2    0.0000   96.5249   \n150               NaN  GCF_000148585.2              NaN   95.4109    0.0000   \n190               NaN  GCF_014769185.1              NaN   96.2694    0.0000   \n333                 s              NaN  GCA_003028315.1    0.0000   96.7600   \n622                 s              NaN  GCF_016806145.1    0.0000   95.7276   \n...               ...              ...              ...       ...       ...   \n34955               s              NaN  GCF_900978845.1    0.0000   95.6917   \n35241               s              NaN  GCF_900978845.1    0.0000   95.4564   \n35572               s              NaN  GCF_001650635.1    0.0000   95.3563   \n35612               s  GCF_900478295.1  GCF_003637685.1   95.5244   95.4725   \n35700               g              NaN  GCF_005844005.1    0.0000   95.1380   \n\n       keep_af  disc_af keep_type disc_type  keep_same_as_207  \\\n2       0.0000   0.7589     no_af    sp_rep             False   \n150     0.8559   0.0000    sp_rep    no_ani              True   \n190     0.8218   0.0000    sp_rep    no_ani             False   \n333     0.0000   0.9183    no_ani    sp_rep             False   \n622     0.0000   0.8461    no_ani    sp_rep             False   \n...        ...      ...       ...       ...               ...   \n34955   0.0000   0.8191    no_ani    sp_rep             False   \n35241   0.0000   0.8650    no_ani    sp_rep             False   \n35572   0.0000   0.8567    no_ani    sp_rep             False   \n35612   0.8923   0.9425    sp_rep    sp_rep             False   \n35700   0.0000   0.9131    no_ani    sp_rep              True   \n\n       disc_same_as_207  keep_same_as_disc  \n2                  True              False  \n150               False              False  \n190                True              False  \n333                True              False  \n622                True              False  \n...                 ...                ...  \n34955              True              False  \n35241              True              False  \n35572              True              False  \n35612              True              False  \n35700             False              False  \n\n[439 rows x 17 columns]",
      "text/html": "<div>\n<style scoped>\n    .dataframe tbody tr th:only-of-type {\n        vertical-align: middle;\n    }\n\n    .dataframe tbody tr th {\n        vertical-align: top;\n    }\n\n    .dataframe thead th {\n        text-align: right;\n    }\n</style>\n<table border=\"1\" class=\"dataframe\">\n  <thead>\n    <tr style=\"text-align: right;\">\n      <th></th>\n      <th>gid</th>\n      <th>expected_tax</th>\n      <th>keep_tax</th>\n      <th>disc_tax</th>\n      <th>keep_rank_agree</th>\n      <th>disc_rank_agree</th>\n      <th>keep_sp_rep</th>\n      <th>disc_sp_rep</th>\n      <th>keep_ani</th>\n      <th>disc_ani</th>\n      <th>keep_af</th>\n      <th>disc_af</th>\n      <th>keep_type</th>\n      <th>disc_type</th>\n      <th>keep_same_as_207</th>\n      <th>disc_same_as_207</th>\n      <th>keep_same_as_disc</th>\n    </tr>\n  </thead>\n  <tbody>\n    <tr>\n      <th>2</th>\n      <td>GCA_000155005.1</td>\n      <td>d__Bacteria;p__Proteobacteria;c__Gammaproteoba...</td>\n      <td>NaN</td>\n      <td>d__Bacteria;p__Proteobacteria;c__Gammaproteoba...</td>\n      <td>NaN</td>\n      <td>s</td>\n      <td>NaN</td>\n      <td>GCF_003697165.2</td>\n      <td>0.0000</td>\n      <td>96.5249</td>\n      <td>0.0000</td>\n      <td>0.7589</td>\n      <td>no_af</td>\n      <td>sp_rep</td>\n      <td>False</td>\n      <td>True</td>\n      <td>False</td>\n    </tr>\n    <tr>\n      <th>150</th>\n      <td>GCA_000508605.1</td>\n      <td>d__Bacteria;p__Firmicutes;c__Bacilli;o__Lactob...</td>\n      <td>d__Bacteria;p__Firmicutes;c__Bacilli;o__Lactob...</td>\n      <td>NaN</td>\n      <td>s</td>\n      <td>NaN</td>\n      <td>GCF_000148585.2</td>\n      <td>NaN</td>\n      <td>95.4109</td>\n      <td>0.0000</td>\n      <td>0.8559</td>\n      <td>0.0000</td>\n      <td>sp_rep</td>\n      <td>no_ani</td>\n      <td>True</td>\n      <td>False</td>\n      <td>False</td>\n    </tr>\n    <tr>\n      <th>190</th>\n      <td>GCA_000761495.1</td>\n      <td>d__Bacteria;p__Proteobacteria;c__Gammaproteoba...</td>\n      <td>d__Bacteria;p__Proteobacteria;c__Gammaproteoba...</td>\n      <td>NaN</td>\n      <td>g</td>\n      <td>NaN</td>\n      <td>GCF_014769185.1</td>\n      <td>NaN</td>\n      <td>96.2694</td>\n      <td>0.0000</td>\n      <td>0.8218</td>\n      <td>0.0000</td>\n      <td>sp_rep</td>\n      <td>no_ani</td>\n      <td>False</td>\n      <td>True</td>\n      <td>False</td>\n    </tr>\n    <tr>\n      <th>333</th>\n      <td>GCA_001063255.1</td>\n      <td>d__Bacteria;p__Proteobacteria;c__Gammaproteoba...</td>\n      <td>NaN</td>\n      <td>d__Bacteria;p__Proteobacteria;c__Gammaproteoba...</td>\n      <td>NaN</td>\n      <td>s</td>\n      <td>NaN</td>\n      <td>GCA_003028315.1</td>\n      <td>0.0000</td>\n      <td>96.7600</td>\n      <td>0.0000</td>\n      <td>0.9183</td>\n      <td>no_ani</td>\n      <td>sp_rep</td>\n      <td>False</td>\n      <td>True</td>\n      <td>False</td>\n    </tr>\n    <tr>\n      <th>622</th>\n      <td>GCA_001399545.1</td>\n      <td>d__Bacteria;p__Proteobacteria;c__Gammaproteoba...</td>\n      <td>NaN</td>\n      <td>d__Bacteria;p__Proteobacteria;c__Gammaproteoba...</td>\n      <td>NaN</td>\n      <td>s</td>\n      <td>NaN</td>\n      <td>GCF_016806145.1</td>\n      <td>0.0000</td>\n      <td>95.7276</td>\n      <td>0.0000</td>\n      <td>0.8461</td>\n      <td>no_ani</td>\n      <td>sp_rep</td>\n      <td>False</td>\n      <td>True</td>\n      <td>False</td>\n    </tr>\n    <tr>\n      <th>...</th>\n      <td>...</td>\n      <td>...</td>\n      <td>...</td>\n      <td>...</td>\n      <td>...</td>\n      <td>...</td>\n      <td>...</td>\n      <td>...</td>\n      <td>...</td>\n      <td>...</td>\n      <td>...</td>\n      <td>...</td>\n      <td>...</td>\n      <td>...</td>\n      <td>...</td>\n      <td>...</td>\n      <td>...</td>\n    </tr>\n    <tr>\n      <th>34955</th>\n      <td>GCF_900509435.1</td>\n      <td>d__Bacteria;p__Proteobacteria;c__Gammaproteoba...</td>\n      <td>NaN</td>\n      <td>d__Bacteria;p__Proteobacteria;c__Gammaproteoba...</td>\n      <td>NaN</td>\n      <td>s</td>\n      <td>NaN</td>\n      <td>GCF_900978845.1</td>\n      <td>0.0000</td>\n      <td>95.6917</td>\n      <td>0.0000</td>\n      <td>0.8191</td>\n      <td>no_ani</td>\n      <td>sp_rep</td>\n      <td>False</td>\n      <td>True</td>\n      <td>False</td>\n    </tr>\n    <tr>\n      <th>35241</th>\n      <td>GCF_900978905.1</td>\n      <td>d__Bacteria;p__Proteobacteria;c__Gammaproteoba...</td>\n      <td>NaN</td>\n      <td>d__Bacteria;p__Proteobacteria;c__Gammaproteoba...</td>\n      <td>NaN</td>\n      <td>s</td>\n      <td>NaN</td>\n      <td>GCF_900978845.1</td>\n      <td>0.0000</td>\n      <td>95.4564</td>\n      <td>0.0000</td>\n      <td>0.8650</td>\n      <td>no_ani</td>\n      <td>sp_rep</td>\n      <td>False</td>\n      <td>True</td>\n      <td>False</td>\n    </tr>\n    <tr>\n      <th>35572</th>\n      <td>GCF_902729445.1</td>\n      <td>d__Bacteria;p__Proteobacteria;c__Alphaproteoba...</td>\n      <td>NaN</td>\n      <td>d__Bacteria;p__Proteobacteria;c__Alphaproteoba...</td>\n      <td>NaN</td>\n      <td>s</td>\n      <td>NaN</td>\n      <td>GCF_001650635.1</td>\n      <td>0.0000</td>\n      <td>95.3563</td>\n      <td>0.0000</td>\n      <td>0.8567</td>\n      <td>no_ani</td>\n      <td>sp_rep</td>\n      <td>False</td>\n      <td>True</td>\n      <td>False</td>\n    </tr>\n    <tr>\n      <th>35612</th>\n      <td>GCF_902845755.1</td>\n      <td>d__Bacteria;p__Campylobacterota;c__Campylobact...</td>\n      <td>d__Bacteria;p__Campylobacterota;c__Campylobact...</td>\n      <td>d__Bacteria;p__Campylobacterota;c__Campylobact...</td>\n      <td>g</td>\n      <td>s</td>\n      <td>GCF_900478295.1</td>\n      <td>GCF_003637685.1</td>\n      <td>95.5244</td>\n      <td>95.4725</td>\n      <td>0.8923</td>\n      <td>0.9425</td>\n      <td>sp_rep</td>\n      <td>sp_rep</td>\n      <td>False</td>\n      <td>True</td>\n      <td>False</td>\n    </tr>\n    <tr>\n      <th>35700</th>\n      <td>GCF_907163115.1</td>\n      <td>d__Bacteria;p__Proteobacteria;c__Gammaproteoba...</td>\n      <td>NaN</td>\n      <td>d__Bacteria;p__Proteobacteria;c__Gammaproteoba...</td>\n      <td>NaN</td>\n      <td>g</td>\n      <td>NaN</td>\n      <td>GCF_005844005.1</td>\n      <td>0.0000</td>\n      <td>95.1380</td>\n      <td>0.0000</td>\n      <td>0.9131</td>\n      <td>no_ani</td>\n      <td>sp_rep</td>\n      <td>True</td>\n      <td>False</td>\n      <td>False</td>\n    </tr>\n  </tbody>\n</table>\n<p>439 rows × 17 columns</p>\n</div>"
     },
     "execution_count": 20,
     "metadata": {},
     "output_type": "execute_result"
    }
   ],
   "source": [
    "DF_TO_INVESTIGATE = DF_RESULTS[(DF_RESULTS['keep_same_as_207'] == False) | (DF_RESULTS['disc_same_as_207'] == False)]\n",
    "DF_TO_INVESTIGATE"
   ],
   "metadata": {
    "collapsed": false
   }
  },
  {
   "cell_type": "code",
   "execution_count": 21,
   "outputs": [
    {
     "data": {
      "text/plain": "                 gid                                      expected_rank  \\\n0    GCA_000155005.1  d__Bacteria;p__Proteobacteria;c__Gammaproteoba...   \n1    GCA_000508605.1  d__Bacteria;p__Firmicutes;c__Bacilli;o__Lactob...   \n2    GCA_000761495.1  d__Bacteria;p__Proteobacteria;c__Gammaproteoba...   \n3    GCA_001063255.1  d__Bacteria;p__Proteobacteria;c__Gammaproteoba...   \n4    GCA_001399545.1  d__Bacteria;p__Proteobacteria;c__Gammaproteoba...   \n..               ...                                                ...   \n434  GCF_900509435.1  d__Bacteria;p__Proteobacteria;c__Gammaproteoba...   \n435  GCF_900978905.1  d__Bacteria;p__Proteobacteria;c__Gammaproteoba...   \n436  GCF_902729445.1  d__Bacteria;p__Proteobacteria;c__Alphaproteoba...   \n437  GCF_902845755.1  d__Bacteria;p__Campylobacterota;c__Campylobact...   \n438  GCF_907163115.1  d__Bacteria;p__Proteobacteria;c__Gammaproteoba...   \n\n                       keep_tax                      chim_tax  \n0                         no_af                          same  \n1                          same                        no_ani  \n2    s__Acinetobacter lwoffii_D                        no_ani  \n3                        no_ani                          same  \n4                        no_ani                          same  \n..                          ...                           ...  \n434                      no_ani                          same  \n435                      no_ani                          same  \n436                      no_ani                          same  \n437      s__Helicobacter pylori                          same  \n438                      no_ani  s__Pseudomonas_A sp000765155  \n\n[439 rows x 4 columns]",
      "text/html": "<div>\n<style scoped>\n    .dataframe tbody tr th:only-of-type {\n        vertical-align: middle;\n    }\n\n    .dataframe tbody tr th {\n        vertical-align: top;\n    }\n\n    .dataframe thead th {\n        text-align: right;\n    }\n</style>\n<table border=\"1\" class=\"dataframe\">\n  <thead>\n    <tr style=\"text-align: right;\">\n      <th></th>\n      <th>gid</th>\n      <th>expected_rank</th>\n      <th>keep_tax</th>\n      <th>chim_tax</th>\n    </tr>\n  </thead>\n  <tbody>\n    <tr>\n      <th>0</th>\n      <td>GCA_000155005.1</td>\n      <td>d__Bacteria;p__Proteobacteria;c__Gammaproteoba...</td>\n      <td>no_af</td>\n      <td>same</td>\n    </tr>\n    <tr>\n      <th>1</th>\n      <td>GCA_000508605.1</td>\n      <td>d__Bacteria;p__Firmicutes;c__Bacilli;o__Lactob...</td>\n      <td>same</td>\n      <td>no_ani</td>\n    </tr>\n    <tr>\n      <th>2</th>\n      <td>GCA_000761495.1</td>\n      <td>d__Bacteria;p__Proteobacteria;c__Gammaproteoba...</td>\n      <td>s__Acinetobacter lwoffii_D</td>\n      <td>no_ani</td>\n    </tr>\n    <tr>\n      <th>3</th>\n      <td>GCA_001063255.1</td>\n      <td>d__Bacteria;p__Proteobacteria;c__Gammaproteoba...</td>\n      <td>no_ani</td>\n      <td>same</td>\n    </tr>\n    <tr>\n      <th>4</th>\n      <td>GCA_001399545.1</td>\n      <td>d__Bacteria;p__Proteobacteria;c__Gammaproteoba...</td>\n      <td>no_ani</td>\n      <td>same</td>\n    </tr>\n    <tr>\n      <th>...</th>\n      <td>...</td>\n      <td>...</td>\n      <td>...</td>\n      <td>...</td>\n    </tr>\n    <tr>\n      <th>434</th>\n      <td>GCF_900509435.1</td>\n      <td>d__Bacteria;p__Proteobacteria;c__Gammaproteoba...</td>\n      <td>no_ani</td>\n      <td>same</td>\n    </tr>\n    <tr>\n      <th>435</th>\n      <td>GCF_900978905.1</td>\n      <td>d__Bacteria;p__Proteobacteria;c__Gammaproteoba...</td>\n      <td>no_ani</td>\n      <td>same</td>\n    </tr>\n    <tr>\n      <th>436</th>\n      <td>GCF_902729445.1</td>\n      <td>d__Bacteria;p__Proteobacteria;c__Alphaproteoba...</td>\n      <td>no_ani</td>\n      <td>same</td>\n    </tr>\n    <tr>\n      <th>437</th>\n      <td>GCF_902845755.1</td>\n      <td>d__Bacteria;p__Campylobacterota;c__Campylobact...</td>\n      <td>s__Helicobacter pylori</td>\n      <td>same</td>\n    </tr>\n    <tr>\n      <th>438</th>\n      <td>GCF_907163115.1</td>\n      <td>d__Bacteria;p__Proteobacteria;c__Gammaproteoba...</td>\n      <td>no_ani</td>\n      <td>s__Pseudomonas_A sp000765155</td>\n    </tr>\n  </tbody>\n</table>\n<p>439 rows × 4 columns</p>\n</div>"
     },
     "execution_count": 21,
     "metadata": {},
     "output_type": "execute_result"
    }
   ],
   "source": [
    "import pandas as pd\n",
    "\n",
    "def get_tax_changes():\n",
    "    rows = list()\n",
    "    for row in DF_TO_INVESTIGATE.itertuples():\n",
    "\n",
    "        expected_tax_split = row.expected_tax.split(';')\n",
    "\n",
    "        cur_row = {\n",
    "            'gid': row.gid,\n",
    "            'expected_rank': row.expected_tax,\n",
    "            'keep_tax': row.keep_type,\n",
    "            'chim_tax': row.disc_type\n",
    "        }\n",
    "\n",
    "        if len(str(row.keep_tax)) > 10:\n",
    "            keep_tax_split = row.keep_tax.split(';')\n",
    "\n",
    "            # find the highest rank at which there is a disagreement\n",
    "            for i, (e, k) in enumerate(zip(expected_tax_split, keep_tax_split)):\n",
    "                if e != k:\n",
    "                    cur_row['keep_tax'] = ';'.join(keep_tax_split[i:])\n",
    "                    break\n",
    "            else:\n",
    "                cur_row['keep_tax'] = 'same'\n",
    "\n",
    "\n",
    "        if len(str(row.disc_tax)) > 10:\n",
    "            disc_tax_split = row.disc_tax.split(';')\n",
    "\n",
    "            # find the highest rank at which there is a disagreement\n",
    "            for i, (e, k) in enumerate(zip(expected_tax_split, disc_tax_split)):\n",
    "                if e != k:\n",
    "                    cur_row['chim_tax'] = ';'.join(disc_tax_split[i:])\n",
    "                    break\n",
    "            else:\n",
    "                cur_row['chim_tax'] = 'same'\n",
    "\n",
    "        rows.append(cur_row)\n",
    "\n",
    "    return pd.DataFrame(rows)\n",
    "\n",
    "DF_TAX_CHANGES = get_tax_changes()\n",
    "\n",
    "DF_TAX_CHANGES.to_csv('/tmp/sp_clustering_tax_changes.tsv', sep='\\t')\n",
    "\n",
    "DF_TAX_CHANGES"
   ],
   "metadata": {
    "collapsed": false
   }
  },
  {
   "cell_type": "code",
   "execution_count": 21,
   "outputs": [],
   "source": [],
   "metadata": {
    "collapsed": false
   }
  }
 ],
 "metadata": {
  "kernelspec": {
   "display_name": "Python 3",
   "language": "python",
   "name": "python3"
  },
  "language_info": {
   "codemirror_mode": {
    "name": "ipython",
    "version": 2
   },
   "file_extension": ".py",
   "mimetype": "text/x-python",
   "name": "python",
   "nbconvert_exporter": "python",
   "pygments_lexer": "ipython2",
   "version": "2.7.6"
  }
 },
 "nbformat": 4,
 "nbformat_minor": 0
}
