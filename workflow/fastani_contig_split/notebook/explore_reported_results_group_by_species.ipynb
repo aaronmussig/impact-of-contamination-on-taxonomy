{
 "cells": [
  {
   "cell_type": "code",
   "execution_count": 5,
   "outputs": [],
   "source": [
    "import sys\n",
    "sys.path.append(\"/Users/aaron/phd/impact-of-contamination-on-taxonomy\")"
   ],
   "metadata": {
    "collapsed": false
   }
  },
  {
   "cell_type": "code",
   "execution_count": 6,
   "outputs": [],
   "source": [
    "from workflow.fastani_contig_split.d_report_results import FastAniContigSplitReportResultsFastAni\n",
    "from collections import Counter\n",
    "from workflow.external.gtdb_metadata import GtdbMetadataR207\n",
    "from collections import defaultdict\n"
   ],
   "metadata": {
    "collapsed": false
   }
  },
  {
   "cell_type": "code",
   "execution_count": 19,
   "outputs": [
    {
     "data": {
      "text/plain": "               gid  ambiguous_bases  checkm_completeness  \\\n0  GCA_000143435.1             2503                99.48   \n1  GCA_000153745.1                0                94.58   \n2  GCA_000155005.1                0                98.81   \n3  GCA_000161815.1                0                99.08   \n4  GCA_000166735.2               33                95.81   \n\n   checkm_contamination  checkm_marker_count            checkm_marker_lineage  \\\n0                  0.52                  350      o__Lactobacillales (UID374)   \n1                  3.48                  615    f__Rhodobacteraceae (UID3356)   \n2                  8.44                 1171  f__Enterobacteriaceae (UID5124)   \n3                  0.18                  625    f__Rhodobacteraceae (UID3375)   \n4                  6.07                  443     f__Leuconostocaceae (UID486)   \n\n   checkm_marker_set_count  checkm_strain_heterogeneity  coding_bases  \\\n0                      191                         0.00       1846395   \n1                      329                         0.00       2113867   \n2                      335                        62.64       5486928   \n3                      283                         0.00       4116223   \n4                      178                        45.83       1936773   \n\n   coding_density  ...      disc_sp_rep  keep_ani  disc_ani  keep_af disc_af  \\\n0       86.436129  ...  GCF_001435955.1   97.3962   97.3042   0.8174  0.7677   \n1       92.035190  ...              NaN    0.0000    0.0000   0.0000  0.0000   \n2       72.322300  ...              NaN   96.5879    0.0000   0.7680  0.0000   \n3       87.783094  ...  GCF_001681715.1   97.1446   96.9094   0.9309  0.8098   \n4       84.277582  ...              NaN    0.0000    0.0000   0.0000  0.0000   \n\n  keep_type disc_type keep_same_as_207 disc_same_as_207 keep_same_as_disc  \n0    sp_rep    sp_rep             True             True              True  \n1    no_ani    no_ani             True             True              True  \n2    sp_rep     no_af             True            False             False  \n3    sp_rep    sp_rep             True             True              True  \n4    no_ani    no_ani             True             True              True  \n\n[5 rows x 45 columns]",
      "text/html": "<div>\n<style scoped>\n    .dataframe tbody tr th:only-of-type {\n        vertical-align: middle;\n    }\n\n    .dataframe tbody tr th {\n        vertical-align: top;\n    }\n\n    .dataframe thead th {\n        text-align: right;\n    }\n</style>\n<table border=\"1\" class=\"dataframe\">\n  <thead>\n    <tr style=\"text-align: right;\">\n      <th></th>\n      <th>gid</th>\n      <th>ambiguous_bases</th>\n      <th>checkm_completeness</th>\n      <th>checkm_contamination</th>\n      <th>checkm_marker_count</th>\n      <th>checkm_marker_lineage</th>\n      <th>checkm_marker_set_count</th>\n      <th>checkm_strain_heterogeneity</th>\n      <th>coding_bases</th>\n      <th>coding_density</th>\n      <th>...</th>\n      <th>disc_sp_rep</th>\n      <th>keep_ani</th>\n      <th>disc_ani</th>\n      <th>keep_af</th>\n      <th>disc_af</th>\n      <th>keep_type</th>\n      <th>disc_type</th>\n      <th>keep_same_as_207</th>\n      <th>disc_same_as_207</th>\n      <th>keep_same_as_disc</th>\n    </tr>\n  </thead>\n  <tbody>\n    <tr>\n      <th>0</th>\n      <td>GCA_000143435.1</td>\n      <td>2503</td>\n      <td>99.48</td>\n      <td>0.52</td>\n      <td>350</td>\n      <td>o__Lactobacillales (UID374)</td>\n      <td>191</td>\n      <td>0.00</td>\n      <td>1846395</td>\n      <td>86.436129</td>\n      <td>...</td>\n      <td>GCF_001435955.1</td>\n      <td>97.3962</td>\n      <td>97.3042</td>\n      <td>0.8174</td>\n      <td>0.7677</td>\n      <td>sp_rep</td>\n      <td>sp_rep</td>\n      <td>True</td>\n      <td>True</td>\n      <td>True</td>\n    </tr>\n    <tr>\n      <th>1</th>\n      <td>GCA_000153745.1</td>\n      <td>0</td>\n      <td>94.58</td>\n      <td>3.48</td>\n      <td>615</td>\n      <td>f__Rhodobacteraceae (UID3356)</td>\n      <td>329</td>\n      <td>0.00</td>\n      <td>2113867</td>\n      <td>92.035190</td>\n      <td>...</td>\n      <td>NaN</td>\n      <td>0.0000</td>\n      <td>0.0000</td>\n      <td>0.0000</td>\n      <td>0.0000</td>\n      <td>no_ani</td>\n      <td>no_ani</td>\n      <td>True</td>\n      <td>True</td>\n      <td>True</td>\n    </tr>\n    <tr>\n      <th>2</th>\n      <td>GCA_000155005.1</td>\n      <td>0</td>\n      <td>98.81</td>\n      <td>8.44</td>\n      <td>1171</td>\n      <td>f__Enterobacteriaceae (UID5124)</td>\n      <td>335</td>\n      <td>62.64</td>\n      <td>5486928</td>\n      <td>72.322300</td>\n      <td>...</td>\n      <td>NaN</td>\n      <td>96.5879</td>\n      <td>0.0000</td>\n      <td>0.7680</td>\n      <td>0.0000</td>\n      <td>sp_rep</td>\n      <td>no_af</td>\n      <td>True</td>\n      <td>False</td>\n      <td>False</td>\n    </tr>\n    <tr>\n      <th>3</th>\n      <td>GCA_000161815.1</td>\n      <td>0</td>\n      <td>99.08</td>\n      <td>0.18</td>\n      <td>625</td>\n      <td>f__Rhodobacteraceae (UID3375)</td>\n      <td>283</td>\n      <td>0.00</td>\n      <td>4116223</td>\n      <td>87.783094</td>\n      <td>...</td>\n      <td>GCF_001681715.1</td>\n      <td>97.1446</td>\n      <td>96.9094</td>\n      <td>0.9309</td>\n      <td>0.8098</td>\n      <td>sp_rep</td>\n      <td>sp_rep</td>\n      <td>True</td>\n      <td>True</td>\n      <td>True</td>\n    </tr>\n    <tr>\n      <th>4</th>\n      <td>GCA_000166735.2</td>\n      <td>33</td>\n      <td>95.81</td>\n      <td>6.07</td>\n      <td>443</td>\n      <td>f__Leuconostocaceae (UID486)</td>\n      <td>178</td>\n      <td>45.83</td>\n      <td>1936773</td>\n      <td>84.277582</td>\n      <td>...</td>\n      <td>NaN</td>\n      <td>0.0000</td>\n      <td>0.0000</td>\n      <td>0.0000</td>\n      <td>0.0000</td>\n      <td>no_ani</td>\n      <td>no_ani</td>\n      <td>True</td>\n      <td>True</td>\n      <td>True</td>\n    </tr>\n  </tbody>\n</table>\n<p>5 rows × 45 columns</p>\n</div>"
     },
     "execution_count": 19,
     "metadata": {},
     "output_type": "execute_result"
    }
   ],
   "source": [
    "def load_dataframe():\n",
    "    df_ani = FastAniContigSplitReportResultsFastAni().output().read_cached()\n",
    "    df_meta = GtdbMetadataR207().output().read_cached()\n",
    "\n",
    "    return df_meta.merge(df_ani, left_on='gid', right_on='gid', how='inner')\n",
    "\n",
    "DF_RESULTS = load_dataframe()\n",
    "DF_RESULTS.head()"
   ],
   "metadata": {
    "collapsed": false
   }
  },
  {
   "cell_type": "code",
   "execution_count": 40,
   "outputs": [
    {
     "data": {
      "text/plain": "                  gid  ambiguous_bases  checkm_completeness  \\\n7282  GCA_016203935.1                0                61.16   \n\n      checkm_contamination  checkm_marker_count  checkm_marker_lineage  \\\n7282                   0.0                  151  k__Bacteria (UID1452)   \n\n      checkm_marker_set_count  checkm_strain_heterogeneity  coding_bases  \\\n7282                      101                          0.0        881474   \n\n      coding_density  ...  disc_sp_rep  keep_ani  disc_ani  keep_af disc_af  \\\n7282       88.133387  ...          NaN       0.0       0.0      0.0     0.0   \n\n     keep_type disc_type keep_same_as_207 disc_same_as_207 keep_same_as_disc  \n7282     no_af     no_af             True             True              True  \n\n[1 rows x 45 columns]",
      "text/html": "<div>\n<style scoped>\n    .dataframe tbody tr th:only-of-type {\n        vertical-align: middle;\n    }\n\n    .dataframe tbody tr th {\n        vertical-align: top;\n    }\n\n    .dataframe thead th {\n        text-align: right;\n    }\n</style>\n<table border=\"1\" class=\"dataframe\">\n  <thead>\n    <tr style=\"text-align: right;\">\n      <th></th>\n      <th>gid</th>\n      <th>ambiguous_bases</th>\n      <th>checkm_completeness</th>\n      <th>checkm_contamination</th>\n      <th>checkm_marker_count</th>\n      <th>checkm_marker_lineage</th>\n      <th>checkm_marker_set_count</th>\n      <th>checkm_strain_heterogeneity</th>\n      <th>coding_bases</th>\n      <th>coding_density</th>\n      <th>...</th>\n      <th>disc_sp_rep</th>\n      <th>keep_ani</th>\n      <th>disc_ani</th>\n      <th>keep_af</th>\n      <th>disc_af</th>\n      <th>keep_type</th>\n      <th>disc_type</th>\n      <th>keep_same_as_207</th>\n      <th>disc_same_as_207</th>\n      <th>keep_same_as_disc</th>\n    </tr>\n  </thead>\n  <tbody>\n    <tr>\n      <th>7282</th>\n      <td>GCA_016203935.1</td>\n      <td>0</td>\n      <td>61.16</td>\n      <td>0.0</td>\n      <td>151</td>\n      <td>k__Bacteria (UID1452)</td>\n      <td>101</td>\n      <td>0.0</td>\n      <td>881474</td>\n      <td>88.133387</td>\n      <td>...</td>\n      <td>NaN</td>\n      <td>0.0</td>\n      <td>0.0</td>\n      <td>0.0</td>\n      <td>0.0</td>\n      <td>no_af</td>\n      <td>no_af</td>\n      <td>True</td>\n      <td>True</td>\n      <td>True</td>\n    </tr>\n  </tbody>\n</table>\n<p>1 rows × 45 columns</p>\n</div>"
     },
     "execution_count": 40,
     "metadata": {},
     "output_type": "execute_result"
    }
   ],
   "source": [
    "DF_RESULTS[DF_RESULTS['gid'] == 'GCA_016203935.1']"
   ],
   "metadata": {
    "collapsed": false
   }
  },
  {
   "cell_type": "code",
   "execution_count": 32,
   "outputs": [
    {
     "data": {
      "text/plain": "                                               taxonomy  \\\n0     d__Bacteria;p__Firmicutes;c__Bacilli;o__Lactob...   \n1     d__Bacteria;p__Proteobacteria;c__Alphaproteoba...   \n2     d__Bacteria;p__Proteobacteria;c__Gammaproteoba...   \n3     d__Bacteria;p__Proteobacteria;c__Alphaproteoba...   \n4     d__Bacteria;p__Firmicutes;c__Bacilli;o__Lactob...   \n...                                                 ...   \n9984  d__Bacteria;p__Firmicutes_A;c__Clostridia;o__O...   \n9985  d__Bacteria;p__Firmicutes_A;c__Clostridia;o__C...   \n9986  d__Bacteria;p__Firmicutes_A;c__Clostridia;o__C...   \n9987  d__Bacteria;p__Actinobacteriota;c__Actinomycet...   \n9988  d__Bacteria;p__Proteobacteria;c__Gammaproteoba...   \n\n                              species                          keep_tax  \\\n0     s__Ligilactobacillus salivarius                         same (95)   \n1          s__Amylibacter sp000153745              no_ani (1); same (1)   \n2                 s__Escherichia coli                       same (3721)   \n3              s__Epibacterium mobile             same (53); no_ani (1)   \n4                s__Leuconostoc inhae              no_ani (1); same (1)   \n...                               ...                               ...   \n9984             s__Faeciplasma avium                          same (1)   \n9985          s__Gallimonas caecicola                        no_ani (1)   \n9986   s__Parachristensenella avicola                        no_ani (1)   \n9987      s__Gulosibacter sp904848455                          same (1)   \n9988     s__Pseudomonas_A stutzeri_AL  s__Pseudomonas_A sp000765155 (1)   \n\n      keep_tax_all_same                            chim_tax  chim_tax_all_same  \n0                  True                           same (95)               True  \n1                 False                no_ani (1); same (1)              False  \n2                  True  same (3719); no_af (1); no_ani (1)              False  \n3                 False               same (53); no_ani (1)              False  \n4                 False                no_ani (1); same (1)              False  \n...                 ...                                 ...                ...  \n9984               True                            same (1)               True  \n9985              False                          no_ani (1)              False  \n9986              False                          no_ani (1)              False  \n9987               True                            same (1)               True  \n9988              False                          no_ani (1)              False  \n\n[9989 rows x 6 columns]",
      "text/html": "<div>\n<style scoped>\n    .dataframe tbody tr th:only-of-type {\n        vertical-align: middle;\n    }\n\n    .dataframe tbody tr th {\n        vertical-align: top;\n    }\n\n    .dataframe thead th {\n        text-align: right;\n    }\n</style>\n<table border=\"1\" class=\"dataframe\">\n  <thead>\n    <tr style=\"text-align: right;\">\n      <th></th>\n      <th>taxonomy</th>\n      <th>species</th>\n      <th>keep_tax</th>\n      <th>keep_tax_all_same</th>\n      <th>chim_tax</th>\n      <th>chim_tax_all_same</th>\n    </tr>\n  </thead>\n  <tbody>\n    <tr>\n      <th>0</th>\n      <td>d__Bacteria;p__Firmicutes;c__Bacilli;o__Lactob...</td>\n      <td>s__Ligilactobacillus salivarius</td>\n      <td>same (95)</td>\n      <td>True</td>\n      <td>same (95)</td>\n      <td>True</td>\n    </tr>\n    <tr>\n      <th>1</th>\n      <td>d__Bacteria;p__Proteobacteria;c__Alphaproteoba...</td>\n      <td>s__Amylibacter sp000153745</td>\n      <td>no_ani (1); same (1)</td>\n      <td>False</td>\n      <td>no_ani (1); same (1)</td>\n      <td>False</td>\n    </tr>\n    <tr>\n      <th>2</th>\n      <td>d__Bacteria;p__Proteobacteria;c__Gammaproteoba...</td>\n      <td>s__Escherichia coli</td>\n      <td>same (3721)</td>\n      <td>True</td>\n      <td>same (3719); no_af (1); no_ani (1)</td>\n      <td>False</td>\n    </tr>\n    <tr>\n      <th>3</th>\n      <td>d__Bacteria;p__Proteobacteria;c__Alphaproteoba...</td>\n      <td>s__Epibacterium mobile</td>\n      <td>same (53); no_ani (1)</td>\n      <td>False</td>\n      <td>same (53); no_ani (1)</td>\n      <td>False</td>\n    </tr>\n    <tr>\n      <th>4</th>\n      <td>d__Bacteria;p__Firmicutes;c__Bacilli;o__Lactob...</td>\n      <td>s__Leuconostoc inhae</td>\n      <td>no_ani (1); same (1)</td>\n      <td>False</td>\n      <td>no_ani (1); same (1)</td>\n      <td>False</td>\n    </tr>\n    <tr>\n      <th>...</th>\n      <td>...</td>\n      <td>...</td>\n      <td>...</td>\n      <td>...</td>\n      <td>...</td>\n      <td>...</td>\n    </tr>\n    <tr>\n      <th>9984</th>\n      <td>d__Bacteria;p__Firmicutes_A;c__Clostridia;o__O...</td>\n      <td>s__Faeciplasma avium</td>\n      <td>same (1)</td>\n      <td>True</td>\n      <td>same (1)</td>\n      <td>True</td>\n    </tr>\n    <tr>\n      <th>9985</th>\n      <td>d__Bacteria;p__Firmicutes_A;c__Clostridia;o__C...</td>\n      <td>s__Gallimonas caecicola</td>\n      <td>no_ani (1)</td>\n      <td>False</td>\n      <td>no_ani (1)</td>\n      <td>False</td>\n    </tr>\n    <tr>\n      <th>9986</th>\n      <td>d__Bacteria;p__Firmicutes_A;c__Clostridia;o__C...</td>\n      <td>s__Parachristensenella avicola</td>\n      <td>no_ani (1)</td>\n      <td>False</td>\n      <td>no_ani (1)</td>\n      <td>False</td>\n    </tr>\n    <tr>\n      <th>9987</th>\n      <td>d__Bacteria;p__Actinobacteriota;c__Actinomycet...</td>\n      <td>s__Gulosibacter sp904848455</td>\n      <td>same (1)</td>\n      <td>True</td>\n      <td>same (1)</td>\n      <td>True</td>\n    </tr>\n    <tr>\n      <th>9988</th>\n      <td>d__Bacteria;p__Proteobacteria;c__Gammaproteoba...</td>\n      <td>s__Pseudomonas_A stutzeri_AL</td>\n      <td>s__Pseudomonas_A sp000765155 (1)</td>\n      <td>False</td>\n      <td>no_ani (1)</td>\n      <td>False</td>\n    </tr>\n  </tbody>\n</table>\n<p>9989 rows × 6 columns</p>\n</div>"
     },
     "execution_count": 32,
     "metadata": {},
     "output_type": "execute_result"
    }
   ],
   "source": [
    "import pandas as pd\n",
    "\n",
    "def get_tax_changes():\n",
    "\n",
    "    data = defaultdict(lambda: {\n",
    "        'keep_tax': list(),\n",
    "        'chim_tax': list(),\n",
    "    })\n",
    "    for row in DF_RESULTS.itertuples():\n",
    "\n",
    "        expected_tax_split = row.expected_tax.split(';')\n",
    "\n",
    "        cur_row = {\n",
    "            'gid': row.gid,\n",
    "            'expected_rank': row.expected_tax,\n",
    "            'keep_tax': row.keep_type,\n",
    "            'chim_tax': row.disc_type\n",
    "        }\n",
    "\n",
    "        if len(str(row.keep_tax)) > 10:\n",
    "            keep_tax_split = row.keep_tax.split(';')\n",
    "\n",
    "            # find the highest rank at which there is a disagreement\n",
    "            for i, (e, k) in enumerate(zip(expected_tax_split, keep_tax_split)):\n",
    "                if e != k:\n",
    "                    cur_row['keep_tax'] = ';'.join(keep_tax_split[i:])\n",
    "                    break\n",
    "            else:\n",
    "                cur_row['keep_tax'] = 'same'\n",
    "\n",
    "\n",
    "        if len(str(row.disc_tax)) > 10:\n",
    "            disc_tax_split = row.disc_tax.split(';')\n",
    "\n",
    "            # find the highest rank at which there is a disagreement\n",
    "            for i, (e, k) in enumerate(zip(expected_tax_split, disc_tax_split)):\n",
    "                if e != k:\n",
    "                    cur_row['chim_tax'] = ';'.join(disc_tax_split[i:])\n",
    "                    break\n",
    "            else:\n",
    "                cur_row['chim_tax'] = 'same'\n",
    "\n",
    "        data[row.gtdb_taxonomy]['keep_tax'].append(cur_row['keep_tax'])\n",
    "        data[row.gtdb_taxonomy]['chim_tax'].append(cur_row['chim_tax'])\n",
    "\n",
    "\n",
    "    rows = list()\n",
    "    for tax, d_result in data.items():\n",
    "        sp = tax.split(';')[-1]\n",
    "        cur_row = {\n",
    "            'taxonomy': tax,\n",
    "            'species': sp\n",
    "        }\n",
    "        for k in ('keep_tax', 'chim_tax'):\n",
    "            cur_lst = list()\n",
    "            cur_cnts = Counter(d_result[k])\n",
    "            for tax, cnt in sorted(cur_cnts.items(), key=lambda x: x[1], reverse=True):\n",
    "                cur_lst.append(f'{tax} ({cnt})')\n",
    "            cur_row[k] = '; '.join(cur_lst)\n",
    "            if 'same' in cur_cnts and len(cur_cnts) == 1:\n",
    "                cur_row[f'{k}_all_same'] = True\n",
    "            else:\n",
    "                cur_row[f'{k}_all_same'] = False\n",
    "        rows.append(cur_row)\n",
    "\n",
    "\n",
    "    return pd.DataFrame(rows)\n",
    "\n",
    "DF_TAX_CHANGES = get_tax_changes()\n",
    "\n",
    "DF_TAX_CHANGES.to_csv('/tmp/sp_clustering_tax_changes_grp_by_species.tsv', sep='\\t', index=False)\n",
    "\n",
    "DF_TAX_CHANGES"
   ],
   "metadata": {
    "collapsed": false
   }
  },
  {
   "cell_type": "code",
   "execution_count": 10,
   "outputs": [],
   "source": [],
   "metadata": {
    "collapsed": false
   }
  }
 ],
 "metadata": {
  "kernelspec": {
   "display_name": "Python 3",
   "language": "python",
   "name": "python3"
  },
  "language_info": {
   "codemirror_mode": {
    "name": "ipython",
    "version": 2
   },
   "file_extension": ".py",
   "mimetype": "text/x-python",
   "name": "python",
   "nbconvert_exporter": "python",
   "pygments_lexer": "ipython2",
   "version": "2.7.6"
  }
 },
 "nbformat": 4,
 "nbformat_minor": 0
}
