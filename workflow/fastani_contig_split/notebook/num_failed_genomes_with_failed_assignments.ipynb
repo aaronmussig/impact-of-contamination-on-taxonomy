{
 "cells": [
  {
   "cell_type": "code",
   "execution_count": 1,
   "outputs": [],
   "source": [
    "import sys\n",
    "sys.path.append(\"/Users/aaron/phd/impact-of-contamination-on-taxonomy\")"
   ],
   "metadata": {
    "collapsed": false
   }
  },
  {
   "cell_type": "code",
   "execution_count": 2,
   "outputs": [],
   "source": [
    "from workflow.fastani_contig_split.d_report_results import FastAniContigSplitReportResultsFastAni\n",
    "from collections import Counter"
   ],
   "metadata": {
    "collapsed": false
   }
  },
  {
   "cell_type": "code",
   "execution_count": 3,
   "outputs": [
    {
     "data": {
      "text/plain": "               gid                                       expected_tax  \\\n0  GCA_000143435.1  d__Bacteria;p__Firmicutes;c__Bacilli;o__Lactob...   \n1  GCA_000153745.1  d__Bacteria;p__Proteobacteria;c__Alphaproteoba...   \n2  GCA_000155005.1  d__Bacteria;p__Proteobacteria;c__Gammaproteoba...   \n3  GCA_000161815.1  d__Bacteria;p__Proteobacteria;c__Alphaproteoba...   \n4  GCA_000166735.2  d__Bacteria;p__Firmicutes;c__Bacilli;o__Lactob...   \n\n                                            keep_tax  \\\n0  d__Bacteria;p__Firmicutes;c__Bacilli;o__Lactob...   \n1                                                NaN   \n2  d__Bacteria;p__Proteobacteria;c__Gammaproteoba...   \n3  d__Bacteria;p__Proteobacteria;c__Alphaproteoba...   \n4                                                NaN   \n\n                                            disc_tax keep_rank_agree  \\\n0  d__Bacteria;p__Firmicutes;c__Bacilli;o__Lactob...               s   \n1                                                NaN             NaN   \n2                                                NaN               s   \n3  d__Bacteria;p__Proteobacteria;c__Alphaproteoba...               s   \n4                                                NaN             NaN   \n\n  disc_rank_agree      keep_sp_rep      disc_sp_rep  keep_ani  disc_ani  \\\n0               s  GCF_001435955.1  GCF_001435955.1   97.3962   97.3042   \n1             NaN              NaN              NaN    0.0000    0.0000   \n2             NaN  GCF_003697165.2              NaN   96.5879    0.0000   \n3               s  GCF_001681715.1  GCF_001681715.1   97.1446   96.9094   \n4             NaN              NaN              NaN    0.0000    0.0000   \n\n   keep_af  disc_af keep_type disc_type  keep_same_as_207  disc_same_as_207  \\\n0   0.8174   0.7677    sp_rep    sp_rep              True              True   \n1   0.0000   0.0000    no_ani    no_ani              True              True   \n2   0.7680   0.0000    sp_rep     no_af              True             False   \n3   0.9309   0.8098    sp_rep    sp_rep              True              True   \n4   0.0000   0.0000    no_ani    no_ani              True              True   \n\n   keep_same_as_disc  \n0               True  \n1               True  \n2              False  \n3               True  \n4               True  ",
      "text/html": "<div>\n<style scoped>\n    .dataframe tbody tr th:only-of-type {\n        vertical-align: middle;\n    }\n\n    .dataframe tbody tr th {\n        vertical-align: top;\n    }\n\n    .dataframe thead th {\n        text-align: right;\n    }\n</style>\n<table border=\"1\" class=\"dataframe\">\n  <thead>\n    <tr style=\"text-align: right;\">\n      <th></th>\n      <th>gid</th>\n      <th>expected_tax</th>\n      <th>keep_tax</th>\n      <th>disc_tax</th>\n      <th>keep_rank_agree</th>\n      <th>disc_rank_agree</th>\n      <th>keep_sp_rep</th>\n      <th>disc_sp_rep</th>\n      <th>keep_ani</th>\n      <th>disc_ani</th>\n      <th>keep_af</th>\n      <th>disc_af</th>\n      <th>keep_type</th>\n      <th>disc_type</th>\n      <th>keep_same_as_207</th>\n      <th>disc_same_as_207</th>\n      <th>keep_same_as_disc</th>\n    </tr>\n  </thead>\n  <tbody>\n    <tr>\n      <th>0</th>\n      <td>GCA_000143435.1</td>\n      <td>d__Bacteria;p__Firmicutes;c__Bacilli;o__Lactob...</td>\n      <td>d__Bacteria;p__Firmicutes;c__Bacilli;o__Lactob...</td>\n      <td>d__Bacteria;p__Firmicutes;c__Bacilli;o__Lactob...</td>\n      <td>s</td>\n      <td>s</td>\n      <td>GCF_001435955.1</td>\n      <td>GCF_001435955.1</td>\n      <td>97.3962</td>\n      <td>97.3042</td>\n      <td>0.8174</td>\n      <td>0.7677</td>\n      <td>sp_rep</td>\n      <td>sp_rep</td>\n      <td>True</td>\n      <td>True</td>\n      <td>True</td>\n    </tr>\n    <tr>\n      <th>1</th>\n      <td>GCA_000153745.1</td>\n      <td>d__Bacteria;p__Proteobacteria;c__Alphaproteoba...</td>\n      <td>NaN</td>\n      <td>NaN</td>\n      <td>NaN</td>\n      <td>NaN</td>\n      <td>NaN</td>\n      <td>NaN</td>\n      <td>0.0000</td>\n      <td>0.0000</td>\n      <td>0.0000</td>\n      <td>0.0000</td>\n      <td>no_ani</td>\n      <td>no_ani</td>\n      <td>True</td>\n      <td>True</td>\n      <td>True</td>\n    </tr>\n    <tr>\n      <th>2</th>\n      <td>GCA_000155005.1</td>\n      <td>d__Bacteria;p__Proteobacteria;c__Gammaproteoba...</td>\n      <td>d__Bacteria;p__Proteobacteria;c__Gammaproteoba...</td>\n      <td>NaN</td>\n      <td>s</td>\n      <td>NaN</td>\n      <td>GCF_003697165.2</td>\n      <td>NaN</td>\n      <td>96.5879</td>\n      <td>0.0000</td>\n      <td>0.7680</td>\n      <td>0.0000</td>\n      <td>sp_rep</td>\n      <td>no_af</td>\n      <td>True</td>\n      <td>False</td>\n      <td>False</td>\n    </tr>\n    <tr>\n      <th>3</th>\n      <td>GCA_000161815.1</td>\n      <td>d__Bacteria;p__Proteobacteria;c__Alphaproteoba...</td>\n      <td>d__Bacteria;p__Proteobacteria;c__Alphaproteoba...</td>\n      <td>d__Bacteria;p__Proteobacteria;c__Alphaproteoba...</td>\n      <td>s</td>\n      <td>s</td>\n      <td>GCF_001681715.1</td>\n      <td>GCF_001681715.1</td>\n      <td>97.1446</td>\n      <td>96.9094</td>\n      <td>0.9309</td>\n      <td>0.8098</td>\n      <td>sp_rep</td>\n      <td>sp_rep</td>\n      <td>True</td>\n      <td>True</td>\n      <td>True</td>\n    </tr>\n    <tr>\n      <th>4</th>\n      <td>GCA_000166735.2</td>\n      <td>d__Bacteria;p__Firmicutes;c__Bacilli;o__Lactob...</td>\n      <td>NaN</td>\n      <td>NaN</td>\n      <td>NaN</td>\n      <td>NaN</td>\n      <td>NaN</td>\n      <td>NaN</td>\n      <td>0.0000</td>\n      <td>0.0000</td>\n      <td>0.0000</td>\n      <td>0.0000</td>\n      <td>no_ani</td>\n      <td>no_ani</td>\n      <td>True</td>\n      <td>True</td>\n      <td>True</td>\n    </tr>\n  </tbody>\n</table>\n</div>"
     },
     "execution_count": 3,
     "metadata": {},
     "output_type": "execute_result"
    }
   ],
   "source": [
    "DF_RESULTS = FastAniContigSplitReportResultsFastAni().output().read_cached()\n",
    "\n",
    "\n",
    "# Subset the results to bacteria only\n",
    "DF_RESULTS = DF_RESULTS[DF_RESULTS['expected_tax'].apply(lambda x: x.startswith('d__Bacteria'))]\n",
    "\n",
    "DF_RESULTS.head()"
   ],
   "metadata": {
    "collapsed": false
   }
  },
  {
   "cell_type": "code",
   "execution_count": null,
   "outputs": [],
   "source": [
    "from workflow.gunc_helper.aggregate_max_css_level_gunc import AggregateMaxCssLevelGtdbR95\n",
    "\n",
    "AggregateMaxCssLevelGtdbR95()"
   ],
   "metadata": {
    "collapsed": false
   }
  },
  {
   "cell_type": "code",
   "execution_count": 4,
   "outputs": [],
   "source": [
    "def get_gids_with_diff_sp_assignments():\n",
    "    keep_diff, disc_diff = set(), set()\n",
    "    for row in DF_RESULTS.itertuples():\n",
    "        if not row.keep_same_as_207:\n",
    "            keep_diff.add(row.gid)\n",
    "        if not row.disc_same_as_207:\n",
    "            disc_diff.add(row.gid)\n",
    "    return keep_diff, disc_diff\n",
    "\n",
    "S_GIDS_KEEP_DIFF_ASSIGN, S_GIDS_DISC_DIFF_ASSIGN = get_gids_with_diff_sp_assignments()"
   ],
   "metadata": {
    "collapsed": false
   }
  },
  {
   "cell_type": "code",
   "execution_count": 5,
   "outputs": [
    {
     "name": "stdout",
     "output_type": "stream",
     "text": [
      "[11/01/2023 11:36:41] - 1.9MiB = /srv/home/uqamussi/projects/gunc-chimeras/output/gunc_helper/gunc_merged_max_css_level.h5 -> /tmp/gunc-cache/srv/home/uqamussi/projects/gunc-chimeras/output/gunc_helper/gunc_merged_max_css_level.h5\n"
     ]
    },
    {
     "data": {
      "text/plain": "                 n_genes_called  n_genes_mapped  n_contigs taxonomic_level  \\\ngid                                                                          \nGCA_000143435.1            2189            2110          4           genus   \nGCA_000153745.1            2202            2165          2          family   \nGCA_000155005.1            6879            6313         84           genus   \nGCA_000161815.1            4499            4335          8           genus   \nGCA_000166735.2            3414            3247        793           genus   \n\n                 proportion_genes_retained_in_major_clades  \\\ngid                                                          \nGCA_000143435.1                                       0.89   \nGCA_000153745.1                                       0.92   \nGCA_000155005.1                                       0.87   \nGCA_000161815.1                                       0.80   \nGCA_000166735.2                                       0.94   \n\n                 genes_retained_index  clade_separation_score  \\\ngid                                                             \nGCA_000143435.1                  0.86                    0.55   \nGCA_000153745.1                  0.90                    0.49   \nGCA_000155005.1                  0.79                    0.79   \nGCA_000161815.1                  0.77                    0.50   \nGCA_000166735.2                  0.90                    0.57   \n\n                 contamination_portion  n_effective_surplus_clades  \\\ngid                                                                  \nGCA_000143435.1                   0.03                        0.06   \nGCA_000153745.1                   0.06                        0.12   \nGCA_000155005.1                   0.10                        0.22   \nGCA_000161815.1                   0.19                        0.50   \nGCA_000166735.2                   0.02                        0.05   \n\n                 mean_hit_identity  reference_representation_score  pass.GUNC  \\\ngid                                                                             \nGCA_000143435.1               0.95                            0.82      False   \nGCA_000153745.1               0.67                            0.61      False   \nGCA_000155005.1               0.97                            0.77      False   \nGCA_000161815.1               0.95                            0.74      False   \nGCA_000166735.2               0.93                            0.83      False   \n\n                     source  \ngid                          \nGCA_000143435.1        gtdb  \nGCA_000153745.1  progenomes  \nGCA_000155005.1        gtdb  \nGCA_000161815.1  progenomes  \nGCA_000166735.2  progenomes  ",
      "text/html": "<div>\n<style scoped>\n    .dataframe tbody tr th:only-of-type {\n        vertical-align: middle;\n    }\n\n    .dataframe tbody tr th {\n        vertical-align: top;\n    }\n\n    .dataframe thead th {\n        text-align: right;\n    }\n</style>\n<table border=\"1\" class=\"dataframe\">\n  <thead>\n    <tr style=\"text-align: right;\">\n      <th></th>\n      <th>n_genes_called</th>\n      <th>n_genes_mapped</th>\n      <th>n_contigs</th>\n      <th>taxonomic_level</th>\n      <th>proportion_genes_retained_in_major_clades</th>\n      <th>genes_retained_index</th>\n      <th>clade_separation_score</th>\n      <th>contamination_portion</th>\n      <th>n_effective_surplus_clades</th>\n      <th>mean_hit_identity</th>\n      <th>reference_representation_score</th>\n      <th>pass.GUNC</th>\n      <th>source</th>\n    </tr>\n    <tr>\n      <th>gid</th>\n      <th></th>\n      <th></th>\n      <th></th>\n      <th></th>\n      <th></th>\n      <th></th>\n      <th></th>\n      <th></th>\n      <th></th>\n      <th></th>\n      <th></th>\n      <th></th>\n      <th></th>\n    </tr>\n  </thead>\n  <tbody>\n    <tr>\n      <th>GCA_000143435.1</th>\n      <td>2189</td>\n      <td>2110</td>\n      <td>4</td>\n      <td>genus</td>\n      <td>0.89</td>\n      <td>0.86</td>\n      <td>0.55</td>\n      <td>0.03</td>\n      <td>0.06</td>\n      <td>0.95</td>\n      <td>0.82</td>\n      <td>False</td>\n      <td>gtdb</td>\n    </tr>\n    <tr>\n      <th>GCA_000153745.1</th>\n      <td>2202</td>\n      <td>2165</td>\n      <td>2</td>\n      <td>family</td>\n      <td>0.92</td>\n      <td>0.90</td>\n      <td>0.49</td>\n      <td>0.06</td>\n      <td>0.12</td>\n      <td>0.67</td>\n      <td>0.61</td>\n      <td>False</td>\n      <td>progenomes</td>\n    </tr>\n    <tr>\n      <th>GCA_000155005.1</th>\n      <td>6879</td>\n      <td>6313</td>\n      <td>84</td>\n      <td>genus</td>\n      <td>0.87</td>\n      <td>0.79</td>\n      <td>0.79</td>\n      <td>0.10</td>\n      <td>0.22</td>\n      <td>0.97</td>\n      <td>0.77</td>\n      <td>False</td>\n      <td>gtdb</td>\n    </tr>\n    <tr>\n      <th>GCA_000161815.1</th>\n      <td>4499</td>\n      <td>4335</td>\n      <td>8</td>\n      <td>genus</td>\n      <td>0.80</td>\n      <td>0.77</td>\n      <td>0.50</td>\n      <td>0.19</td>\n      <td>0.50</td>\n      <td>0.95</td>\n      <td>0.74</td>\n      <td>False</td>\n      <td>progenomes</td>\n    </tr>\n    <tr>\n      <th>GCA_000166735.2</th>\n      <td>3414</td>\n      <td>3247</td>\n      <td>793</td>\n      <td>genus</td>\n      <td>0.94</td>\n      <td>0.90</td>\n      <td>0.57</td>\n      <td>0.02</td>\n      <td>0.05</td>\n      <td>0.93</td>\n      <td>0.83</td>\n      <td>False</td>\n      <td>progenomes</td>\n    </tr>\n  </tbody>\n</table>\n</div>"
     },
     "execution_count": 5,
     "metadata": {},
     "output_type": "execute_result"
    }
   ],
   "source": [
    "from workflow.gunc_helper.aggregate_max_css_level_merged import AggregateMaxCssLevelMerged\n",
    "\n",
    "DF_CSS = AggregateMaxCssLevelMerged().output().read_cached()\n",
    "DF_CSS.head()"
   ],
   "metadata": {
    "collapsed": false
   }
  },
  {
   "cell_type": "code",
   "execution_count": 6,
   "outputs": [],
   "source": [
    "FAIL_GIDS = frozenset(DF_CSS.index)"
   ],
   "metadata": {
    "collapsed": false
   }
  },
  {
   "cell_type": "code",
   "execution_count": 7,
   "outputs": [
    {
     "data": {
      "text/plain": "                 ambiguous_bases  checkm_completeness  checkm_contamination  \\\ngid                                                                           \nGCA_000006155.2             1916                93.12                   0.0   \nGCA_000007325.1                1                99.95                   0.0   \nGCA_000007385.1                0                99.82                   0.0   \nGCA_000008085.1                0                73.13                   0.0   \nGCA_000008885.1                0               100.00                   0.0   \n\n                 checkm_marker_count             checkm_marker_lineage  \\\ngid                                                                      \nGCA_000006155.2                 1171              g__Bacillus (UID902)   \nGCA_000007325.1                  149             k__Bacteria (UID2329)   \nGCA_000007385.1                  481  c__Gammaproteobacteria (UID4202)   \nGCA_000008085.1                  149                 k__Archaea (UID2)   \nGCA_000008885.1                  134             k__Bacteria (UID2495)   \n\n                 checkm_marker_set_count  checkm_strain_heterogeneity  \\\ngid                                                                     \nGCA_000006155.2                      324                          0.0   \nGCA_000007325.1                       89                          0.0   \nGCA_000007385.1                      276                          0.0   \nGCA_000008085.1                      107                          0.0   \nGCA_000008885.1                       80                          0.0   \n\n                 coding_bases  coding_density  contig_count  ...  \\\ngid                                                          ...   \nGCA_000006155.2       4305660       80.178992           426  ...   \nGCA_000007325.1       1973459       90.754610             1  ...   \nGCA_000007385.1       4190634       84.805944             1  ...   \nGCA_000008085.1        462902       94.299480             1  ...   \nGCA_000008885.1        617456       87.831079             2  ...   \n\n                 gtdb_type_species_of_genus  \\\ngid                                           \nGCA_000006155.2                           f   \nGCA_000007325.1                           t   \nGCA_000007385.1                           f   \nGCA_000008085.1                           t   \nGCA_000008885.1                           f   \n\n                                                     ncbi_taxonomy  \\\ngid                                                                  \nGCA_000006155.2  d__Bacteria;p__Firmicutes;c__Bacilli;o__Bacill...   \nGCA_000007325.1  d__Bacteria;p__Fusobacteria;c__Fusobacteriia;o...   \nGCA_000007385.1  d__Bacteria;p__Proteobacteria;c__Gammaproteoba...   \nGCA_000008085.1  d__Archaea;p__Nanoarchaeota;c__;o__Nanoarchaea...   \nGCA_000008885.1  d__Bacteria;p__Proteobacteria;c__Gammaproteoba...   \n\n                                          ncbi_taxonomy_unfiltered  \\\ngid                                                                  \nGCA_000006155.2  d__Bacteria;x__Terrabacteria group;p__Firmicut...   \nGCA_000007325.1  d__Bacteria;p__Fusobacteria;c__Fusobacteriia;o...   \nGCA_000007385.1  d__Bacteria;p__Proteobacteria;c__Gammaproteoba...   \nGCA_000008085.1  d__Archaea;x__DPANN group;p__Nanoarchaeota;o__...   \nGCA_000008885.1  d__Bacteria;p__Proteobacteria;c__Gammaproteoba...   \n\n                      domain             phylum                   class  \\\ngid                                                                       \nGCA_000006155.2  d__Bacteria      p__Firmicutes              c__Bacilli   \nGCA_000007325.1  d__Bacteria  p__Fusobacteriota        c__Fusobacteriia   \nGCA_000007385.1  d__Bacteria  p__Proteobacteria  c__Gammaproteobacteria   \nGCA_000008085.1   d__Archaea   p__Nanoarchaeota         c__Nanoarchaeia   \nGCA_000008885.1  d__Bacteria  p__Proteobacteria  c__Gammaproteobacteria   \n\n                                 order                   family  \\\ngid                                                               \nGCA_000006155.2          o__Bacillales         f__Bacillaceae_G   \nGCA_000007325.1     o__Fusobacteriales      f__Fusobacteriaceae   \nGCA_000007385.1     o__Xanthomonadales      f__Xanthomonadaceae   \nGCA_000008085.1      o__Nanoarchaeales       f__Nanoarchaeaceae   \nGCA_000008885.1  o__Enterobacterales_A  f__Enterobacteriaceae_A   \n\n                             genus                          species  \ngid                                                                  \nGCA_000006155.2      g__Bacillus_A          s__Bacillus_A anthracis  \nGCA_000007325.1   g__Fusobacterium       s__Fusobacterium nucleatum  \nGCA_000007385.1     g__Xanthomonas            s__Xanthomonas oryzae  \nGCA_000008085.1    g__Nanoarchaeum         s__Nanoarchaeum equitans  \nGCA_000008885.1  g__Wigglesworthia  s__Wigglesworthia glossinidia_A  \n\n[5 rows x 28 columns]",
      "text/html": "<div>\n<style scoped>\n    .dataframe tbody tr th:only-of-type {\n        vertical-align: middle;\n    }\n\n    .dataframe tbody tr th {\n        vertical-align: top;\n    }\n\n    .dataframe thead th {\n        text-align: right;\n    }\n</style>\n<table border=\"1\" class=\"dataframe\">\n  <thead>\n    <tr style=\"text-align: right;\">\n      <th></th>\n      <th>ambiguous_bases</th>\n      <th>checkm_completeness</th>\n      <th>checkm_contamination</th>\n      <th>checkm_marker_count</th>\n      <th>checkm_marker_lineage</th>\n      <th>checkm_marker_set_count</th>\n      <th>checkm_strain_heterogeneity</th>\n      <th>coding_bases</th>\n      <th>coding_density</th>\n      <th>contig_count</th>\n      <th>...</th>\n      <th>gtdb_type_species_of_genus</th>\n      <th>ncbi_taxonomy</th>\n      <th>ncbi_taxonomy_unfiltered</th>\n      <th>domain</th>\n      <th>phylum</th>\n      <th>class</th>\n      <th>order</th>\n      <th>family</th>\n      <th>genus</th>\n      <th>species</th>\n    </tr>\n    <tr>\n      <th>gid</th>\n      <th></th>\n      <th></th>\n      <th></th>\n      <th></th>\n      <th></th>\n      <th></th>\n      <th></th>\n      <th></th>\n      <th></th>\n      <th></th>\n      <th></th>\n      <th></th>\n      <th></th>\n      <th></th>\n      <th></th>\n      <th></th>\n      <th></th>\n      <th></th>\n      <th></th>\n      <th></th>\n      <th></th>\n    </tr>\n  </thead>\n  <tbody>\n    <tr>\n      <th>GCA_000006155.2</th>\n      <td>1916</td>\n      <td>93.12</td>\n      <td>0.0</td>\n      <td>1171</td>\n      <td>g__Bacillus (UID902)</td>\n      <td>324</td>\n      <td>0.0</td>\n      <td>4305660</td>\n      <td>80.178992</td>\n      <td>426</td>\n      <td>...</td>\n      <td>f</td>\n      <td>d__Bacteria;p__Firmicutes;c__Bacilli;o__Bacill...</td>\n      <td>d__Bacteria;x__Terrabacteria group;p__Firmicut...</td>\n      <td>d__Bacteria</td>\n      <td>p__Firmicutes</td>\n      <td>c__Bacilli</td>\n      <td>o__Bacillales</td>\n      <td>f__Bacillaceae_G</td>\n      <td>g__Bacillus_A</td>\n      <td>s__Bacillus_A anthracis</td>\n    </tr>\n    <tr>\n      <th>GCA_000007325.1</th>\n      <td>1</td>\n      <td>99.95</td>\n      <td>0.0</td>\n      <td>149</td>\n      <td>k__Bacteria (UID2329)</td>\n      <td>89</td>\n      <td>0.0</td>\n      <td>1973459</td>\n      <td>90.754610</td>\n      <td>1</td>\n      <td>...</td>\n      <td>t</td>\n      <td>d__Bacteria;p__Fusobacteria;c__Fusobacteriia;o...</td>\n      <td>d__Bacteria;p__Fusobacteria;c__Fusobacteriia;o...</td>\n      <td>d__Bacteria</td>\n      <td>p__Fusobacteriota</td>\n      <td>c__Fusobacteriia</td>\n      <td>o__Fusobacteriales</td>\n      <td>f__Fusobacteriaceae</td>\n      <td>g__Fusobacterium</td>\n      <td>s__Fusobacterium nucleatum</td>\n    </tr>\n    <tr>\n      <th>GCA_000007385.1</th>\n      <td>0</td>\n      <td>99.82</td>\n      <td>0.0</td>\n      <td>481</td>\n      <td>c__Gammaproteobacteria (UID4202)</td>\n      <td>276</td>\n      <td>0.0</td>\n      <td>4190634</td>\n      <td>84.805944</td>\n      <td>1</td>\n      <td>...</td>\n      <td>f</td>\n      <td>d__Bacteria;p__Proteobacteria;c__Gammaproteoba...</td>\n      <td>d__Bacteria;p__Proteobacteria;c__Gammaproteoba...</td>\n      <td>d__Bacteria</td>\n      <td>p__Proteobacteria</td>\n      <td>c__Gammaproteobacteria</td>\n      <td>o__Xanthomonadales</td>\n      <td>f__Xanthomonadaceae</td>\n      <td>g__Xanthomonas</td>\n      <td>s__Xanthomonas oryzae</td>\n    </tr>\n    <tr>\n      <th>GCA_000008085.1</th>\n      <td>0</td>\n      <td>73.13</td>\n      <td>0.0</td>\n      <td>149</td>\n      <td>k__Archaea (UID2)</td>\n      <td>107</td>\n      <td>0.0</td>\n      <td>462902</td>\n      <td>94.299480</td>\n      <td>1</td>\n      <td>...</td>\n      <td>t</td>\n      <td>d__Archaea;p__Nanoarchaeota;c__;o__Nanoarchaea...</td>\n      <td>d__Archaea;x__DPANN group;p__Nanoarchaeota;o__...</td>\n      <td>d__Archaea</td>\n      <td>p__Nanoarchaeota</td>\n      <td>c__Nanoarchaeia</td>\n      <td>o__Nanoarchaeales</td>\n      <td>f__Nanoarchaeaceae</td>\n      <td>g__Nanoarchaeum</td>\n      <td>s__Nanoarchaeum equitans</td>\n    </tr>\n    <tr>\n      <th>GCA_000008885.1</th>\n      <td>0</td>\n      <td>100.00</td>\n      <td>0.0</td>\n      <td>134</td>\n      <td>k__Bacteria (UID2495)</td>\n      <td>80</td>\n      <td>0.0</td>\n      <td>617456</td>\n      <td>87.831079</td>\n      <td>2</td>\n      <td>...</td>\n      <td>f</td>\n      <td>d__Bacteria;p__Proteobacteria;c__Gammaproteoba...</td>\n      <td>d__Bacteria;p__Proteobacteria;c__Gammaproteoba...</td>\n      <td>d__Bacteria</td>\n      <td>p__Proteobacteria</td>\n      <td>c__Gammaproteobacteria</td>\n      <td>o__Enterobacterales_A</td>\n      <td>f__Enterobacteriaceae_A</td>\n      <td>g__Wigglesworthia</td>\n      <td>s__Wigglesworthia glossinidia_A</td>\n    </tr>\n  </tbody>\n</table>\n<p>5 rows × 28 columns</p>\n</div>"
     },
     "execution_count": 7,
     "metadata": {},
     "output_type": "execute_result"
    }
   ],
   "source": [
    "from workflow.external.gtdb_metadata import GtdbMetadataR207\n",
    "\n",
    "DF_META = GtdbMetadataR207().output().read_cached()\n",
    "DF_META.head()"
   ],
   "metadata": {
    "collapsed": false
   }
  },
  {
   "cell_type": "code",
   "execution_count": 8,
   "outputs": [],
   "source": [
    "from collections import defaultdict\n",
    "\n",
    "\n",
    "def get_species_to_gids():\n",
    "    out = defaultdict(set)\n",
    "    for row in DF_META.itertuples():\n",
    "        if row.domain == 'd__Bacteria':\n",
    "            out[row.species].add(row.Index)\n",
    "    return out\n",
    "\n",
    "D_SPECIES_TO_GID = get_species_to_gids()"
   ],
   "metadata": {
    "collapsed": false
   }
  },
  {
   "cell_type": "code",
   "execution_count": 11,
   "outputs": [
    {
     "data": {
      "text/plain": "                           species  n_genomes_in_sp  n_failed_genomes_in_sp  \\\n0          s__Bacillus_A anthracis              417                       1   \n1       s__Fusobacterium nucleatum               13                       0   \n2            s__Xanthomonas oryzae              364                       5   \n3  s__Wigglesworthia glossinidia_A                1                       0   \n4       s__Phytoplasma sp000009845               11                       0   \n\n   n_pass_genomes_in_sp  \\\n0                   416   \n1                    13   \n2                   359   \n3                     1   \n4                    11   \n\n   n_failed_genomes_with_diff_sp_assignment_on_keep_half  \\\n0                                                  0       \n1                                                  0       \n2                                                  0       \n3                                                  0       \n4                                                  0       \n\n   n_failed_genomes_with_diff_sp_assignment_on_chimeric_half  \\\n0                                                  0           \n1                                                  0           \n2                                                  0           \n3                                                  0           \n4                                                  0           \n\n  failed_genomes_with_diff_sp_assignment_on_keep_half  \\\n0                                                       \n1                                                       \n2                                                       \n3                                                       \n4                                                       \n\n  failed_genomes_with_diff_sp_assignment_on_chimeric_half  \n0                                                          \n1                                                          \n2                                                          \n3                                                          \n4                                                          ",
      "text/html": "<div>\n<style scoped>\n    .dataframe tbody tr th:only-of-type {\n        vertical-align: middle;\n    }\n\n    .dataframe tbody tr th {\n        vertical-align: top;\n    }\n\n    .dataframe thead th {\n        text-align: right;\n    }\n</style>\n<table border=\"1\" class=\"dataframe\">\n  <thead>\n    <tr style=\"text-align: right;\">\n      <th></th>\n      <th>species</th>\n      <th>n_genomes_in_sp</th>\n      <th>n_failed_genomes_in_sp</th>\n      <th>n_pass_genomes_in_sp</th>\n      <th>n_failed_genomes_with_diff_sp_assignment_on_keep_half</th>\n      <th>n_failed_genomes_with_diff_sp_assignment_on_chimeric_half</th>\n      <th>failed_genomes_with_diff_sp_assignment_on_keep_half</th>\n      <th>failed_genomes_with_diff_sp_assignment_on_chimeric_half</th>\n    </tr>\n  </thead>\n  <tbody>\n    <tr>\n      <th>0</th>\n      <td>s__Bacillus_A anthracis</td>\n      <td>417</td>\n      <td>1</td>\n      <td>416</td>\n      <td>0</td>\n      <td>0</td>\n      <td></td>\n      <td></td>\n    </tr>\n    <tr>\n      <th>1</th>\n      <td>s__Fusobacterium nucleatum</td>\n      <td>13</td>\n      <td>0</td>\n      <td>13</td>\n      <td>0</td>\n      <td>0</td>\n      <td></td>\n      <td></td>\n    </tr>\n    <tr>\n      <th>2</th>\n      <td>s__Xanthomonas oryzae</td>\n      <td>364</td>\n      <td>5</td>\n      <td>359</td>\n      <td>0</td>\n      <td>0</td>\n      <td></td>\n      <td></td>\n    </tr>\n    <tr>\n      <th>3</th>\n      <td>s__Wigglesworthia glossinidia_A</td>\n      <td>1</td>\n      <td>0</td>\n      <td>1</td>\n      <td>0</td>\n      <td>0</td>\n      <td></td>\n      <td></td>\n    </tr>\n    <tr>\n      <th>4</th>\n      <td>s__Phytoplasma sp000009845</td>\n      <td>11</td>\n      <td>0</td>\n      <td>11</td>\n      <td>0</td>\n      <td>0</td>\n      <td></td>\n      <td></td>\n    </tr>\n  </tbody>\n</table>\n</div>"
     },
     "execution_count": 11,
     "metadata": {},
     "output_type": "execute_result"
    }
   ],
   "source": [
    "# Get the number of genomes (pass/fail) in each species\n",
    "import pandas as pd\n",
    "\n",
    "def get_n_genomes_in_each_species_pass_fail():\n",
    "    rows = list()\n",
    "    for species, gids in D_SPECIES_TO_GID.items():\n",
    "        rows.append({\n",
    "            'species': species,\n",
    "            'n_genomes_in_sp': len(gids),\n",
    "            'n_failed_genomes_in_sp': len(gids.intersection(FAIL_GIDS)),\n",
    "            'n_pass_genomes_in_sp': len(gids - FAIL_GIDS),\n",
    "            'n_failed_genomes_with_diff_sp_assignment_on_keep_half': len(gids.intersection(S_GIDS_KEEP_DIFF_ASSIGN)),\n",
    "            'n_failed_genomes_with_diff_sp_assignment_on_chimeric_half':  len(gids.intersection(S_GIDS_DISC_DIFF_ASSIGN)),\n",
    "            'failed_genomes_with_diff_sp_assignment_on_keep_half': ','.join(sorted(gids.intersection(S_GIDS_KEEP_DIFF_ASSIGN))),\n",
    "            'failed_genomes_with_diff_sp_assignment_on_chimeric_half': ','.join(sorted(gids.intersection(S_GIDS_DISC_DIFF_ASSIGN)))\n",
    "        })\n",
    "\n",
    "    return pd.DataFrame(rows)\n",
    "\n",
    "D_SP_TO_PASS_FAIL = get_n_genomes_in_each_species_pass_fail()\n",
    "D_SP_TO_PASS_FAIL.head()\n"
   ],
   "metadata": {
    "collapsed": false
   }
  },
  {
   "cell_type": "code",
   "execution_count": 10,
   "outputs": [
    {
     "data": {
      "text/plain": "1091"
     },
     "execution_count": 10,
     "metadata": {},
     "output_type": "execute_result"
    }
   ],
   "source": [
    "D_SP_TO_PASS_FAIL.to_csv('/tmp/species_clustering_results.tsv', sep='\\t', index=False)"
   ],
   "metadata": {
    "collapsed": false
   }
  }
 ],
 "metadata": {
  "kernelspec": {
   "display_name": "Python 3",
   "language": "python",
   "name": "python3"
  },
  "language_info": {
   "codemirror_mode": {
    "name": "ipython",
    "version": 2
   },
   "file_extension": ".py",
   "mimetype": "text/x-python",
   "name": "python",
   "nbconvert_exporter": "python",
   "pygments_lexer": "ipython2",
   "version": "2.7.6"
  }
 },
 "nbformat": 4,
 "nbformat_minor": 0
}
